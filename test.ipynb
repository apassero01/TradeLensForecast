{
 "cells": [
  {
   "cell_type": "code",
   "execution_count": 21,
   "id": "f5d3672f",
   "metadata": {},
   "outputs": [
    {
     "name": "stdout",
     "output_type": "stream",
     "text": [
      "Django configured successfully!\n"
     ]
    }
   ],
   "source": [
    "# First cell - Django setup\n",
    "import os\n",
    "import sys\n",
    "import django\n",
    "from pathlib import Path\n",
    "\n",
    "# Add project root to Python path\n",
    "project_root = Path.cwd()  # Assuming your notebook is in the project root\n",
    "sys.path.insert(0, str(project_root))\n",
    "\n",
    "# Set Django settings module\n",
    "os.environ.setdefault('DJANGO_SETTINGS_MODULE', 'TradeLens.settings')\n",
    "\n",
    "# Allow Django async unsafe operations (needed for Jupyter notebooks)\n",
    "os.environ.setdefault('DJANGO_ALLOW_ASYNC_UNSAFE', 'true')\n",
    "\n",
    "# Configure Django\n",
    "django.setup()\n",
    "\n",
    "print(\"Django configured successfully!\")"
   ]
  },
  {
   "cell_type": "code",
   "execution_count": 22,
   "id": "initial_id",
   "metadata": {
    "collapsed": true,
    "jupyter": {
     "is_executing": true
    }
   },
   "outputs": [],
   "source": [
    "from shared_utils.entities.service.EntityService import  EntityService\n"
   ]
  },
  {
   "cell_type": "code",
   "execution_count": 23,
   "id": "d57c3751",
   "metadata": {},
   "outputs": [],
   "source": [
    "from shared_utils.entities.EntityModel import EntityModel\n",
    "\n",
    "all_models = EntityModel.objects.all()"
   ]
  },
  {
   "cell_type": "code",
   "execution_count": 24,
   "id": "eb287d8e",
   "metadata": {},
   "outputs": [
    {
     "data": {
      "text/plain": [
       "471"
      ]
     },
     "execution_count": 24,
     "metadata": {},
     "output_type": "execute_result"
    }
   ],
   "source": [
    "len(all_models)"
   ]
  },
  {
   "cell_type": "code",
   "execution_count": 25,
   "id": "b02f5088",
   "metadata": {},
   "outputs": [
    {
     "name": "stdout",
     "output_type": "stream",
     "text": [
      "Libraries imported successfully!\n"
     ]
    }
   ],
   "source": [
    "# Import required libraries for PCA and plotting\n",
    "import numpy as np\n",
    "import pandas as pd\n",
    "import matplotlib.pyplot as plt\n",
    "import seaborn as sns\n",
    "from sklearn.decomposition import PCA\n",
    "from sklearn.preprocessing import StandardScaler\n",
    "import warnings\n",
    "warnings.filterwarnings('ignore')\n",
    "\n",
    "print(\"Libraries imported successfully!\")\n"
   ]
  },
  {
   "cell_type": "code",
   "execution_count": 26,
   "id": "c17b96e0",
   "metadata": {},
   "outputs": [
    {
     "name": "stdout",
     "output_type": "stream",
     "text": [
      "Extracting embeddings and entity types for ALL entities...\n",
      "=== ENTITY PLOTTING SUMMARY ===\n",
      "Total models in database: 471\n",
      "Models with valid embeddings: 339\n",
      "Models without embeddings: 132\n",
      "✓ Each of the 339 entities will be plotted as ONE point on the scatter plot\n",
      "✓ Embedding dimensions per entity: 384\n",
      "\n",
      "=== ENTITY TYPE BREAKDOWN ===\n",
      "  : 1 entities (will show as 1 points of the same color)\n",
      "  api_model: 2 entities (will show as 2 points of the same color)\n",
      "  document: 135 entities (will show as 135 points of the same color)\n",
      "  meal_plan: 3 entities (will show as 3 points of the same color)\n",
      "  recipe: 6 entities (will show as 6 points of the same color)\n",
      "  training_session: 1 entities (will show as 1 points of the same color)\n",
      "  view: 191 entities (will show as 191 points of the same color)\n",
      "\n",
      "Total points that will appear on plot: 339\n"
     ]
    }
   ],
   "source": [
    "# Extract embeddings and entity types - ONE POINT PER ENTITY\n",
    "embeddings = []\n",
    "entity_types = []\n",
    "entity_ids = []\n",
    "valid_models = []\n",
    "\n",
    "print(\"Extracting embeddings and entity types for ALL entities...\")\n",
    "\n",
    "for model in all_models:\n",
    "    if model.embedding is not None:\n",
    "        embeddings.append(model.embedding)\n",
    "        entity_types.append(model.entity_type)\n",
    "        entity_ids.append(str(model.entity_id))\n",
    "        valid_models.append(model)\n",
    "\n",
    "# Convert to numpy arrays\n",
    "embeddings_array = np.array(embeddings)\n",
    "entity_types_array = np.array(entity_types)\n",
    "\n",
    "print(f\"=== ENTITY PLOTTING SUMMARY ===\")\n",
    "print(f\"Total models in database: {len(all_models)}\")\n",
    "print(f\"Models with valid embeddings: {len(embeddings)}\")\n",
    "print(f\"Models without embeddings: {len(all_models) - len(embeddings)}\")\n",
    "print(f\"✓ Each of the {len(embeddings)} entities will be plotted as ONE point on the scatter plot\")\n",
    "print(f\"✓ Embedding dimensions per entity: {embeddings_array.shape[1]}\")\n",
    "\n",
    "print(f\"\\n=== ENTITY TYPE BREAKDOWN ===\")\n",
    "unique, counts = np.unique(entity_types_array, return_counts=True)\n",
    "for entity_type, count in zip(unique, counts):\n",
    "    print(f\"  {entity_type}: {count} entities (will show as {count} points of the same color)\")\n",
    "    \n",
    "print(f\"\\nTotal points that will appear on plot: {len(embeddings)}\")\n"
   ]
  },
  {
   "cell_type": "code",
   "execution_count": 27,
   "id": "3f4cfdf6",
   "metadata": {},
   "outputs": [
    {
     "name": "stdout",
     "output_type": "stream",
     "text": [
      "Performing PCA...\n",
      "PCA completed!\n",
      "Explained variance ratio: [0.5891085  0.25858453]\n",
      "Total explained variance: 0.8477\n",
      "Reduced embeddings shape: (339, 2)\n",
      "✓ Created plotting DataFrame with 339 rows\n",
      "✓ Each row represents ONE entity that will be plotted as ONE point\n",
      "✓ DataFrame shape: (339, 4)\n",
      "✓ Ready to plot 339 entities on scatter plot\n"
     ]
    }
   ],
   "source": [
    "# Perform PCA to reduce dimensionality to 2D for visualization\n",
    "print(\"Performing PCA...\")\n",
    "\n",
    "# Standardize the embeddings (recommended for PCA)\n",
    "scaler = StandardScaler()\n",
    "embeddings_scaled = scaler.fit_transform(embeddings_array)\n",
    "\n",
    "# Apply PCA to reduce to 2 dimensions\n",
    "pca = PCA(n_components=2)\n",
    "embeddings_2d = pca.fit_transform(embeddings_scaled)\n",
    "\n",
    "print(f\"PCA completed!\")\n",
    "print(f\"Explained variance ratio: {pca.explained_variance_ratio_}\")\n",
    "print(f\"Total explained variance: {sum(pca.explained_variance_ratio_):.4f}\")\n",
    "print(f\"Reduced embeddings shape: {embeddings_2d.shape}\")\n",
    "\n",
    "# Create a DataFrame for plotting - ONE ROW PER ENTITY\n",
    "df_plot = pd.DataFrame({\n",
    "    'PC1': embeddings_2d[:, 0],\n",
    "    'PC2': embeddings_2d[:, 1],\n",
    "    'entity_type': entity_types_array,\n",
    "    'entity_id': entity_ids\n",
    "})\n",
    "\n",
    "print(f\"✓ Created plotting DataFrame with {len(df_plot)} rows\")\n",
    "print(f\"✓ Each row represents ONE entity that will be plotted as ONE point\")\n",
    "print(f\"✓ DataFrame shape: {df_plot.shape}\")\n",
    "print(f\"✓ Ready to plot {len(df_plot)} entities on scatter plot\")\n"
   ]
  },
  {
   "cell_type": "code",
   "execution_count": 28,
   "id": "db37997d",
   "metadata": {},
   "outputs": [
    {
     "name": "stdout",
     "output_type": "stream",
     "text": [
      "Creating scatter plot with 339 points (one per entity)...\n"
     ]
    },
    {
     "data": {
      "image/png": "[encoded data removed]",
      "text/plain": [
       "<Figure size 1200x800 with 1 Axes>"
      ]
     },
     "metadata": {},
     "output_type": "display_data"
    },
    {
     "name": "stdout",
     "output_type": "stream",
     "text": [
      "✓ Scatter plot completed!\n",
      "✓ Total points plotted: 339 (= number of entities with embeddings)\n",
      "✓ Entity types shown: 7\n",
      "✓ Each point represents exactly ONE entity, colored by its entity_type\n",
      "   - document: 135 points\n",
      "   - view: 191 points\n",
      "   - training_session: 1 points\n",
      "   - recipe: 6 points\n",
      "   - api_model: 2 points\n",
      "   - meal_plan: 3 points\n",
      "   - : 1 points\n"
     ]
    }
   ],
   "source": [
    "# Create scatter plot - ONE POINT PER ENTITY, COLORED BY ENTITY TYPE\n",
    "plt.figure(figsize=(12, 8))\n",
    "\n",
    "print(f\"Creating scatter plot with {len(df_plot)} points (one per entity)...\")\n",
    "\n",
    "# Use seaborn for better color handling and aesthetics\n",
    "# Each point represents exactly ONE entity, colored by its entity_type\n",
    "sns.scatterplot(data=df_plot, x='PC1', y='PC2', hue='entity_type', alpha=0.7, s=50)\n",
    "\n",
    "plt.title(f'PCA Visualization: {len(df_plot)} Entities Plotted by Type', fontsize=16, fontweight='bold')\n",
    "plt.xlabel(f'First Principal Component (Explained Variance: {pca.explained_variance_ratio_[0]:.3f})', fontsize=12)\n",
    "plt.ylabel(f'Second Principal Component (Explained Variance: {pca.explained_variance_ratio_[1]:.3f})', fontsize=12)\n",
    "\n",
    "# Improve legend\n",
    "plt.legend(bbox_to_anchor=(1.05, 1), loc='upper left', title='Entity Type', title_fontsize=12)\n",
    "\n",
    "# Adjust layout to prevent legend cutoff\n",
    "plt.tight_layout()\n",
    "\n",
    "# Add grid for better readability\n",
    "plt.grid(True, alpha=0.3)\n",
    "\n",
    "# Show the plot\n",
    "plt.show()\n",
    "\n",
    "print(f\"✓ Scatter plot completed!\")\n",
    "print(f\"✓ Total points plotted: {len(df_plot)} (= number of entities with embeddings)\")\n",
    "print(f\"✓ Entity types shown: {len(df_plot['entity_type'].unique())}\")\n",
    "print(f\"✓ Each point represents exactly ONE entity, colored by its entity_type\")\n",
    "\n",
    "# Verify our plotting\n",
    "for entity_type in df_plot['entity_type'].unique():\n",
    "    count = len(df_plot[df_plot['entity_type'] == entity_type])\n",
    "    print(f\"   - {entity_type}: {count} points\")\n"
   ]
  },
  {
   "cell_type": "code",
   "execution_count": 29,
   "id": "ebbef19e",
   "metadata": {},
   "outputs": [
    {
     "name": "stdout",
     "output_type": "stream",
     "text": [
      "=== FINAL PLOTTING VERIFICATION ===\n",
      "✓ Database entities: 471\n",
      "✓ Entities with embeddings: 339\n",
      "✓ Points plotted on scatter plot: 339\n",
      "✓ CONFIRMATION: Each entity = 1 point on graph\n",
      "\n",
      "=== PCA TECHNICAL DETAILS ===\n",
      "Original embedding dimensions: 384\n",
      "Reduced to: 2 dimensions for visualization\n",
      "Total variance explained: 84.8%\n",
      "PC1 explains: 58.9% of variance\n",
      "PC2 explains: 25.9% of variance\n",
      "\n",
      "=== ENTITY TYPE DISTRIBUTION ON PLOT ===\n",
      "view: 191 entities = 191 points (56.3% of plot)\n",
      "document: 135 entities = 135 points (39.8% of plot)\n",
      "recipe: 6 entities = 6 points (1.8% of plot)\n",
      "meal_plan: 3 entities = 3 points (0.9% of plot)\n",
      "api_model: 2 entities = 2 points (0.6% of plot)\n",
      "training_session: 1 entities = 1 points (0.3% of plot)\n",
      ": 1 entities = 1 points (0.3% of plot)\n",
      "\n",
      "=== WHAT YOU'RE SEEING ===\n",
      "• Total scatter plot points: 339\n",
      "• Each point = 1 entity from your database\n",
      "• Point color = entity's type\n",
      "• Point position = entity's embedding reduced to 2D via PCA\n",
      "• Entities of same type will have same color\n",
      "• Close points = similar embeddings = semantically similar entities\n"
     ]
    }
   ],
   "source": [
    "# Final Analysis Summary\n",
    "print(\"=== FINAL PLOTTING VERIFICATION ===\")\n",
    "print(f\"✓ Database entities: {len(all_models)}\")\n",
    "print(f\"✓ Entities with embeddings: {len(embeddings_array)}\")\n",
    "print(f\"✓ Points plotted on scatter plot: {len(df_plot)}\")\n",
    "print(f\"✓ CONFIRMATION: Each entity = 1 point on graph\")\n",
    "\n",
    "print(\"\\n=== PCA TECHNICAL DETAILS ===\")\n",
    "print(f\"Original embedding dimensions: {embeddings_array.shape[1]}\")\n",
    "print(f\"Reduced to: 2 dimensions for visualization\")\n",
    "print(f\"Total variance explained: {sum(pca.explained_variance_ratio_):.1%}\")\n",
    "print(f\"PC1 explains: {pca.explained_variance_ratio_[0]:.1%} of variance\")\n",
    "print(f\"PC2 explains: {pca.explained_variance_ratio_[1]:.1%} of variance\")\n",
    "\n",
    "print(\"\\n=== ENTITY TYPE DISTRIBUTION ON PLOT ===\")\n",
    "entity_counts = df_plot['entity_type'].value_counts()\n",
    "total_entities = len(df_plot)\n",
    "for entity_type, count in entity_counts.items():\n",
    "    percentage = (count / total_entities) * 100\n",
    "    print(f\"{entity_type}: {count} entities = {count} points ({percentage:.1f}% of plot)\")\n",
    "\n",
    "print(f\"\\n=== WHAT YOU'RE SEEING ===\")\n",
    "print(f\"• Total scatter plot points: {total_entities}\")\n",
    "print(f\"• Each point = 1 entity from your database\")\n",
    "print(f\"• Point color = entity's type\")\n",
    "print(f\"• Point position = entity's embedding reduced to 2D via PCA\")\n",
    "print(f\"• Entities of same type will have same color\")\n",
    "print(f\"• Close points = similar embeddings = semantically similar entities\")\n"
   ]
  },
  {
   "cell_type": "code",
   "execution_count": 30,
   "id": "f83c0d06",
   "metadata": {},
   "outputs": [
    {
     "name": "stdout",
     "output_type": "stream",
     "text": [
      "✓ UMAP available\n",
      "✓ Interactive Plotly available\n",
      "✓ t-SNE available\n",
      "\n",
      "=== VISUALIZATION CAPABILITIES ===\n",
      "UMAP: ✓\n",
      "t-SNE: ✓\n",
      "Interactive plots: ✓\n",
      "Static plots (matplotlib): ✓\n"
     ]
    }
   ],
   "source": [
    "# Check for advanced visualization packages and set up matplotlib fallback\n",
    "import subprocess\n",
    "import sys\n",
    "\n",
    "# Check for UMAP\n",
    "try:\n",
    "    import umap\n",
    "    print(\"✓ UMAP available\")\n",
    "    HAS_UMAP = True\n",
    "except ImportError:\n",
    "    print(\"⚠ UMAP not available - using t-SNE only\")\n",
    "    HAS_UMAP = False\n",
    "\n",
    "# Check for Plotly + nbformat for interactive plots\n",
    "HAS_INTERACTIVE = False\n",
    "try:\n",
    "    import plotly.express as px\n",
    "    import plotly.graph_objects as go\n",
    "    import nbformat\n",
    "    print(\"✓ Interactive Plotly available\")\n",
    "    HAS_INTERACTIVE = True\n",
    "except ImportError:\n",
    "    print(\"⚠ Interactive plots not available - using matplotlib\")\n",
    "    HAS_INTERACTIVE = False\n",
    "\n",
    "# Always have matplotlib as fallback\n",
    "import matplotlib.pyplot as plt\n",
    "import seaborn as sns\n",
    "\n",
    "# Always have t-SNE\n",
    "try:\n",
    "    from sklearn.manifold import TSNE\n",
    "    print(\"✓ t-SNE available\")\n",
    "    HAS_TSNE = True\n",
    "except ImportError:\n",
    "    print(\"⚠ t-SNE not available\")\n",
    "    HAS_TSNE = False\n",
    "\n",
    "print(f\"\\n=== VISUALIZATION CAPABILITIES ===\")\n",
    "print(f\"UMAP: {'✓' if HAS_UMAP else '✗'}\")\n",
    "print(f\"t-SNE: {'✓' if HAS_TSNE else '✗'}\")\n",
    "print(f\"Interactive plots: {'✓' if HAS_INTERACTIVE else '✗'}\")\n",
    "print(f\"Static plots (matplotlib): ✓\")\n",
    "\n",
    "if not HAS_INTERACTIVE:\n",
    "    print(\"\\n💡 To enable interactive plots, run: pip install plotly nbformat>=4.2.0\")\n"
   ]
  },
  {
   "cell_type": "code",
   "execution_count": 31,
   "id": "b7c58d58",
   "metadata": {},
   "outputs": [
    {
     "name": "stdout",
     "output_type": "stream",
     "text": [
      "Creating advanced 2D projections...\n",
      "Creating UMAP 2D projection...\n",
      "UMAP is specifically designed for high-dimensional embeddings\n",
      "✓ UMAP completed for 339 entities\n"
     ]
    }
   ],
   "source": [
    "# Advanced Dimensionality Reduction\n",
    "print(\"Creating advanced 2D projections...\")\n",
    "\n",
    "# UMAP (if available)\n",
    "if HAS_UMAP:\n",
    "    print(\"Creating UMAP 2D projection...\")\n",
    "    print(\"UMAP is specifically designed for high-dimensional embeddings\")\n",
    "    \n",
    "    # UMAP parameters tuned for embeddings\n",
    "    umap_2d = umap.UMAP(\n",
    "        n_components=2,\n",
    "        n_neighbors=15,     # Balance between local and global structure\n",
    "        min_dist=0.1,       # Minimum distance between points\n",
    "        metric='cosine',    # Good for embeddings\n",
    "        random_state=42\n",
    "    )\n",
    "    \n",
    "    embeddings_umap_2d = umap_2d.fit_transform(embeddings_scaled)\n",
    "    \n",
    "    # Create DataFrame for UMAP results\n",
    "    df_umap = pd.DataFrame({\n",
    "        'UMAP1': embeddings_umap_2d[:, 0],\n",
    "        'UMAP2': embeddings_umap_2d[:, 1],\n",
    "        'entity_type': entity_types_array,\n",
    "        'entity_id': entity_ids\n",
    "    })\n",
    "    \n",
    "    print(f\"✓ UMAP completed for {len(df_umap)} entities\")\n",
    "else:\n",
    "    print(\"⚠ UMAP not available - skipping UMAP visualization\")\n",
    "    df_umap = None\n"
   ]
  },
  {
   "cell_type": "code",
   "execution_count": 32,
   "id": "38b8cb34",
   "metadata": {},
   "outputs": [
    {
     "name": "stdout",
     "output_type": "stream",
     "text": [
      "Creating t-SNE 2D projection...\n",
      "t-SNE is excellent at revealing local clusters and non-linear relationships\n",
      "✓ t-SNE completed for 339 entities\n"
     ]
    }
   ],
   "source": [
    "# t-SNE Visualization - Good for local clustering\n",
    "if HAS_TSNE:\n",
    "    print(\"Creating t-SNE 2D projection...\")\n",
    "    print(\"t-SNE is excellent at revealing local clusters and non-linear relationships\")\n",
    "    \n",
    "    # t-SNE with parameters optimized for embeddings\n",
    "    tsne_2d = TSNE(\n",
    "        n_components=2,\n",
    "        perplexity=30,      # Good balance for most datasets\n",
    "        learning_rate='auto',\n",
    "        metric='cosine',    # Good for embeddings  \n",
    "        random_state=42,\n",
    "        n_jobs=-1           # Use all available cores\n",
    "    )\n",
    "    \n",
    "    embeddings_tsne_2d = tsne_2d.fit_transform(embeddings_scaled)\n",
    "    \n",
    "    # Create DataFrame for t-SNE results\n",
    "    df_tsne = pd.DataFrame({\n",
    "        'tSNE1': embeddings_tsne_2d[:, 0],\n",
    "        'tSNE2': embeddings_tsne_2d[:, 1],\n",
    "        'entity_type': entity_types_array,\n",
    "        'entity_id': entity_ids\n",
    "    })\n",
    "    \n",
    "    print(f\"✓ t-SNE completed for {len(df_tsne)} entities\")\n",
    "else:\n",
    "    print(\"⚠ t-SNE not available - skipping t-SNE visualization\") \n",
    "    df_tsne = None\n"
   ]
  },
  {
   "cell_type": "code",
   "execution_count": 33,
   "id": "3e157aab",
   "metadata": {},
   "outputs": [
    {
     "name": "stdout",
     "output_type": "stream",
     "text": [
      "Creating UMAP visualization...\n"
     ]
    },
    {
     "data": {
      "image/png": "[encoded data removed]",
      "text/plain": [
       "<Figure size 1200x800 with 1 Axes>"
      ]
     },
     "metadata": {},
     "output_type": "display_data"
    },
    {
     "name": "stdout",
     "output_type": "stream",
     "text": [
      "✓ UMAP plot created!\n",
      "• Shows embedding relationships in 2D space\n",
      "• Each point is one entity, colored by type\n",
      "• UMAP often reveals better clustering than PCA\n"
     ]
    }
   ],
   "source": [
    "# UMAP Visualization\n",
    "if HAS_UMAP and df_umap is not None:\n",
    "    print(\"Creating UMAP visualization...\")\n",
    "    \n",
    "    # Create static UMAP plot with matplotlib  \n",
    "    plt.figure(figsize=(12, 8))\n",
    "    \n",
    "    sns.scatterplot(data=df_umap, x='UMAP1', y='UMAP2', hue='entity_type', alpha=0.7, s=50)\n",
    "    \n",
    "    plt.title(f'UMAP Visualization: {len(df_umap)} Entities by Type', fontsize=16, fontweight='bold')\n",
    "    plt.xlabel('UMAP Dimension 1', fontsize=12)\n",
    "    plt.ylabel('UMAP Dimension 2', fontsize=12)\n",
    "    \n",
    "    plt.legend(bbox_to_anchor=(1.05, 1), loc='upper left', title='Entity Type')\n",
    "    plt.tight_layout()\n",
    "    plt.grid(True, alpha=0.3)\n",
    "    plt.show()\n",
    "    \n",
    "    print(\"✓ UMAP plot created!\")\n",
    "    print(\"• Shows embedding relationships in 2D space\")\n",
    "    print(\"• Each point is one entity, colored by type\")\n",
    "    print(\"• UMAP often reveals better clustering than PCA\")\n",
    "        \n",
    "else:\n",
    "    print(\"⚠ UMAP visualization skipped (UMAP not available)\")\n"
   ]
  },
  {
   "cell_type": "code",
   "execution_count": null,
   "id": "9902292c",
   "metadata": {},
   "outputs": [
    {
     "name": "stdout",
     "output_type": "stream",
     "text": [
      "Creating 3D UMAP visualization...\n",
      "3D can reveal structure that's hidden in 2D projections\n"
     ]
    },
    {
     "data": {
      "application/vnd.plotly.v1+json": {
       "config": {
        "plotlyServerURL": "https://plot.ly"
       },
       "data": [
        {
         "customdata": [
          [
           "1f30a9ba-1c63-4404-bbf3-b422e25d915c"
          ],
          [
           "a8e63b3a-1978-498a-82b2-b515e1cca856"
          ],
          [
           "c2cc9e71-ba87-4803-8870-c43dc9bcec3c"
          ],
          [
           "b8de0258-581e-4757-84f3-cb4a3889c7e3"
          ],
          [
           "f371fbd6-48f7-4965-a14b-3e1e57bd1099"
          ],
          [
           "5184c423-f8b6-49b9-9a0d-3b1f1993e168"
          ],
          [
           "4819c79e-3b67-42d5-a7c7-1e207e7a68f8"
          ],
          [
           "b9dd013a-1fe0-40d0-96b2-17da8f53a50f"
          ],
          [
           "ec0dc8d7-3f08-46cb-b8c7-f177f33aa15c"
          ],
          [
           "4ccceb9f-24d0-4e01-a203-ed8a428e1f9a"
          ],
          [
           "421e5a43-50d0-4dac-9434-dabc3887b71b"
          ],
          [
           "44df580f-5783-4f12-bb57-f45a930c4d16"
          ],
          [
           "837dfc8a-879b-4147-ab03-7eb8ffcb6e9f"
          ],
          [
           "51fa4fc1-5de5-465a-90c9-f9600fe6739c"
          ],
          [
           "03da0711-05ec-41a7-b8c4-6a6e5439e6f7"
          ],
          [
           "ebf54184-450e-451a-826e-cca1f45c43fc"
          ],
          [
           "d9c8eaab-9867-459c-af96-765274d8a3f8"
          ],
          [
           "12ea37bd-0e9a-44d5-9f24-2379b7e31677"
          ],
          [
           "38ab6e7c-490f-49a6-8600-01e105a852d8"
          ],
          [
           "d2d9cf2b-4da2-467a-9320-9dae625961b9"
          ],
          [
           "29761674-4f11-4904-a3bf-43ef59e40e1f"
          ],
          [
           "b91e6ce0-ba34-4571-a31d-bc7fa30cfaa1"
          ],
          [
           "d568c0a2-b9aa-4883-bdc3-c35a5a78dd74"
          ],
          [
           "231d4b0f-4b72-4421-a25b-6c328f43b7ce"
          ],
          [
           "e0112a59-d6cf-489c-8ac1-8450a54d16f6"
          ],
          [
           "d070c17a-757b-4c20-9461-d38cba9a5981"
          ],
          [
           "5f9ad383-f027-4e8b-be3b-8f5d45757ec3"
          ],
          [
           "f7b5eaee-99ee-4b62-8552-d0222a401304"
          ],
          [
           "ee710523-709d-4766-b6be-f3543af7e313"
          ],
          [
           "ada66118-b867-4b79-bb36-c30c5b767b35"
          ],
          [
           "d64c6956-b6c6-434d-a360-0fc7d74264a5"
          ],
          [
           "158f42aa-7f84-44e4-b41e-6591189f83b1"
          ],
          [
           "3fd2505c-d926-4902-aff9-f035dfd2e60e"
          ],
          [
           "dc920139-cdf6-4b73-9cc3-2633c45e6d53"
          ],
          [
           "c94d62c2-b2e2-4422-a93f-b9b0bad3ebee"
          ],
          [
           "dfd0cf41-75a2-4f78-95e6-ea0ac7350314"
          ],
          [
           "b7dbadc3-291c-40fc-b5a5-cd510a6227d4"
          ],
          [
           "1dc24441-5f24-4d3e-af07-c74e7e1d0877"
          ],
          [
           "6e51f199-a555-4733-98f8-c2d33b96ac67"
          ],
          [
           "0e11a27e-16f0-49f9-a088-7152e4202516"
          ],
          [
           "85a04481-81de-44bb-b3a3-5ca80b6619f6"
          ],
          [
           "a6494279-def7-4277-b835-76d4136746de"
          ],
          [
           "c37db90c-357a-42f7-95b5-ef2a901fe200"
          ],
          [
           "03952642-6675-48e9-9da3-62d9b2770d3d"
          ],
          [
           "fcd5b1e4-b288-45d2-a98d-ae97dc43c9fa"
          ],
          [
           "ef78c280-7f17-4aea-8d70-2b827aab8343"
          ],
          [
           "dac9fefc-d869-42fe-8019-d8bdac75a1c5"
          ],
          [
           "1555ff37-6fca-417a-a4d6-3b6f9677e0e8"
          ],
          [
           "e1d5dcdd-491c-44aa-9b90-495f794e4c06"
          ],
          [
           "520c74ae-6eab-43da-bf31-1ddca09d55b3"
          ],
          [
           "742c50ce-a998-4a9d-96ef-0bbf674f0e0d"
          ],
          [
           "e9d254c6-cc8e-4e85-b0e1-924754c9b765"
          ],
          [
           "e19d8ef5-a112-48d3-aaeb-2c106e561eeb"
          ],
          [
           "39a1de5a-9146-4f9c-bd45-434395894655"
          ],
          [
           "2688d59e-530a-42c8-83bd-8a8bb9dbd031"
          ],
          [
           "bce544b1-c19b-471f-ab48-c0da533df0d9"
          ],
          [
           "c6d41be1-085c-4f67-b3e9-4d35f589f0b4"
          ],
          [
           "e2cc8f3d-adf8-4d79-a9f7-67af98bb8dc4"
          ],
          [
           "d8c49bfa-bb56-4344-984f-7fe3c9811f0b"
          ],
          [
           "806ead96-31db-48ec-977e-80d414aa10f9"
          ],
          [
           "14a99959-cada-4c5d-9516-3118a1dacfab"
          ],
          [
           "05a9f78f-0ccb-40e7-921a-8f3aacd55ea3"
          ],
          [
           "d665a41a-c6c3-4c9e-9b5a-4acdf15531a4"
          ],
          [
           "f4f4eaea-0f54-4650-af2e-1d99b7d7089c"
          ],
          [
           "66d74ba6-1d89-43e7-9102-4746b613d623"
          ],
          [
           "ce245c72-62b0-4ef3-b280-a25c4053a40d"
          ],
          [
           "3f28673a-05ad-4779-8461-0b8dfa4f0b07"
          ],
          [
           "48332b82-5437-41f4-86bd-dc71bb8cc659"
          ],
          [
           "fdad68e4-5740-4658-8751-0f27ab9aea8a"
          ],
          [
           "0f39d45c-4c65-4833-b92d-a7a57cdb8b49"
          ],
          [
           "33129398-ecdb-4ddf-b65a-b61793815ee8"
          ],
          [
           "517c8de0-252b-4a01-9d73-85a60fc3fb1d"
          ],
          [
           "30c505de-944e-4237-b78f-5dec9fac6ac7"
          ],
          [
           "af4806af-d578-4bec-8d19-d92cfa09321c"
          ],
          [
           "c51fb6fc-79cb-4c8f-b9ce-3710ccae251c"
          ],
          [
           "6c28b379-7c64-4281-a485-b302926b4bde"
          ],
          [
           "034b88cb-a916-4ff3-8a7b-8f44137eba4d"
          ],
          [
           "a98c7ff0-9322-4f14-bd7a-fa8b9f28dd5e"
          ],
          [
           "e5ecb756-339a-45ac-880b-b2c198b028a0"
          ],
          [
           "4b9ff345-b3f7-42cc-b696-d7cdcd565bb0"
          ],
          [
           "3d67266e-751e-491e-83cf-4c841a281df3"
          ],
          [
           "3f66111e-f2a7-4491-9686-0cb7678f7384"
          ],
          [
           "c5436380-e1fb-449f-b24f-d10b49457f3c"
          ],
          [
           "fbb1e885-fe33-4b73-9240-3fe6c505b793"
          ],
          [
           "45d246d1-a193-4c23-aecb-0dbe68df9771"
          ],
          [
           "734da7f3-eae2-4523-9e11-8847bc20f80c"
          ],
          [
           "866f114e-c5e7-402e-93f7-f6124e5437c5"
          ],
          [
           "5ce8b175-3ef8-41ed-bcce-536080d05ada"
          ],
          [
           "16c1addf-fb37-4f64-8897-90c76f7a7611"
          ],
          [
           "aa33027c-b7f5-4c88-83aa-a2e9466f5832"
          ],
          [
           "a9d46657-3b9b-4863-b891-4d1e0c49e183"
          ],
          [
           "276228dc-708b-4911-ac4e-59ba2f85f8ec"
          ],
          [
           "9a2df6a7-569a-4f2c-bf18-8689e9406e8d"
          ],
          [
           "e1c62fd8-96c0-4e55-8885-bc5ee80fbb67"
          ],
          [
           "aa3b58c8-c309-461a-a01e-2c987ef4f2fd"
          ],
          [
           "34db27e9-e928-4336-8953-b47b375c7805"
          ],
          [
           "5d15e54d-e350-4184-8da3-e202a3e3af50"
          ],
          [
           "1db733b8-5b33-426d-aea8-679b5ff867c3"
          ],
          [
           "d8745ae3-8b42-42ab-af3b-1f2547ad5589"
          ],
          [
           "a179bf41-176e-4498-9428-07ec4657625b"
          ],
          [
           "e1c77446-1830-4360-87e0-5b82a2938c45"
          ],
          [
           "4e5d474a-3ee6-48da-bdc0-9b28518364b2"
          ],
          [
           "4ab34280-d9d4-44b9-80ce-5281888b4b27"
          ],
          [
           "fe18b622-a5a4-448c-8eab-321b8b56b46b"
          ],
          [
           "889ec452-c64f-49c9-b9f0-5bec54798e0c"
          ],
          [
           "2771a176-25f4-413f-b21a-6367758bebcd"
          ],
          [
           "d15e4513-dd86-412a-a68e-ec6217c2f0b7"
          ],
          [
           "4d55c7ec-c787-4c2b-9cad-997345184962"
          ],
          [
           "bf244130-0b88-4683-ba6e-953263e43845"
          ],
          [
           "2696f01a-ca56-417e-955b-d501887e54a6"
          ],
          [
           "d581547f-d974-4112-9742-9282fe75375b"
          ],
          [
           "90762d0e-be87-402c-99fe-f60d5d9d5341"
          ],
          [
           "2a3f34c4-f54c-43e9-9178-9dbdb00d2d09"
          ],
          [
           "aa1d979e-ec6f-48d3-946c-5f011a706f18"
          ],
          [
           "70a4db5a-b9d7-43f6-9c74-dd0de13102f9"
          ],
          [
           "19b0ad8b-4cea-448a-8a51-0abd6a3f1225"
          ],
          [
           "1f81046d-3a3a-4ac9-8ba9-3c465c76e892"
          ],
          [
           "f8c95b2a-f645-4d96-98f5-74e8b707c05d"
          ],
          [
           "9cd74183-5a58-4a1e-88d4-938e18a0a1dd"
          ],
          [
           "30eb0119-1bcf-455c-a7d3-81e27e3af026"
          ],
          [
           "1a818c90-17e4-401d-a05f-f88a019923fd"
          ],
          [
           "21ec3ae6-3940-4315-b60b-ddd074c6a7e5"
          ],
          [
           "75eca45c-11a3-4fad-a57a-e247bc67ba30"
          ],
          [
           "db49df8d-62ac-43d7-99f9-a640e568d87e"
          ],
          [
           "262367a2-47c4-4f11-9c26-5b3c5d54940c"
          ],
          [
           "1e05ca79-27b0-402c-8514-22f319271ee9"
          ],
          [
           "3213dd47-d046-4ecc-ba0a-3b7284dc6dba"
          ],
          [
           "52a864cf-930f-438d-9e4b-3a9ae3981980"
          ],
          [
           "6d3dae01-e978-4650-b25b-0ce615d39423"
          ],
          [
           "8590d133-faf9-49f5-881f-dde598297f43"
          ],
          [
           "a58c17fd-00c3-4f73-a423-32aaf879eee6"
          ],
          [
           "27113f30-106c-4701-a660-37863acc6e5e"
          ],
          [
           "ce7f8096-ea30-4946-a6fa-d6bbaaa247bb"
          ],
          [
           "3fce959a-d661-46ea-ab19-7743d2096a07"
          ],
          [
           "de560b93-5628-4a20-8806-5f1335e6936a"
          ],
          [
           "fc4275ff-5ac7-4b89-91de-874fa6cd16fb"
          ],
          [
           "f59a3f82-963d-4c68-b5ef-19480264f6d7"
          ],
          [
           "820f9e63-224b-4df1-9bf6-a8991f2975f6"
          ],
          [
           "fda556e3-06ff-409d-b2c3-5c1f46fd0511"
          ],
          [
           "01d691fe-430f-4c11-adc2-cc94e04ff3ac"
          ],
          [
           "f1b626f2-905a-4ded-afd5-bfe2430a299d"
          ],
          [
           "5ac27e11-0154-410a-aaae-04db15c57434"
          ],
          [
           "03be2c7d-6600-49e5-8d6b-d1de35ef8a87"
          ],
          [
           "6590c005-516f-485f-a2b8-495cc9ebe3de"
          ],
          [
           "9075f765-8b77-4ab9-8fa3-87eb6f3fb26e"
          ]
         ],
         "hovertemplate": "Entity Type=view<br>UMAP1=%{x}<br>UMAP2=%{y}<br>UMAP3=%{z}<br>hover_data_0=%{customdata[0]}<extra></extra>",
         "legendgroup": "view",
         "marker": {
          "color": "#636efa",
          "line": {
           "color": "white",
           "width": 0.5
          },
          "size": 3,
          "symbol": "circle"
         },
         "mode": "markers",
         "name": "view",
         "scene": "scene",
         "showlegend": true,
         "type": "scatter3d",
         "x": [
          14.842942,
          2.4048948,
          15.074718,
          2.0540154,
          14.896409,
          15.042748,
          2.1195495,
          -6.35866,
          -6.3769307,
          14.925397,
          1.9706388,
          2.2248094,
          2.0772476,
          5.892488,
          15.139765,
          1.8861315,
          5.351831,
          2.0145993,
          5.438972,
          2.0263045,
          5.8978033,
          2.258086,
          2.06016,
          1.9945012,
          5.6538987,
          5.4087114,
          1.9860603,
          15.077584,
          14.899407,
          1.9182614,
          5.366009,
          15.20754,
          2.0022736,
          5.4606266,
          1.9357231,
          5.4105268,
          2.0468128,
          1.9503653,
          2.2160513,
          2.1535277,
          2.1841278,
          6.085922,
          14.966823,
          14.799287,
          2.1433804,
          16.179914,
          5.0422044,
          2.1135228,
          2.0481384,
          5.7575326,
          5.363783,
          5.104744,
          2.4762409,
          5.049034,
          14.466532,
          2.446959,
          5.3581953,
          4.915286,
          2.2145972,
          5.0888224,
          14.552432,
          5.251041,
          5.0368576,
          14.359828,
          2.4766512,
          2.3365166,
          2.3558848,
          5.2684135,
          5.1853175,
          2.2925231,
          5.618099,
          14.427365,
          2.2134836,
          2.1932511,
          1.9791048,
          14.166585,
          15.125273,
          1.5987486,
          2.5336099,
          1.7728168,
          1.8174099,
          14.292206,
          1.9785342,
          1.8069569,
          1.7637727,
          14.864509,
          -6.4044437,
          5.786686,
          6.0082893,
          2.1385484,
          14.442865,
          6.2791467,
          14.789322,
          14.440464,
          14.567799,
          14.481182,
          14.798782,
          14.414844,
          2.0136375,
          14.444945,
          6.189271,
          5.7890706,
          1.6056137,
          14.737632,
          14.443248,
          6.2328987,
          1.6443106,
          14.814974,
          6.209186,
          15.476249,
          14.496939,
          1.8722333,
          2.0229042,
          14.622539,
          1.8515313,
          6.38892,
          2.3179584,
          6.0336957,
          1.5053244,
          6.309486,
          6.177247,
          2.0507083,
          2.1024823,
          6.2686257,
          2.0579755,
          6.2450314,
          2.1821856,
          2.310947,
          15.401799,
          15.436988,
          0.6467166,
          15.250926,
          15.399642,
          14.743109,
          15.006453,
          2.217511,
          0.5571108,
          15.429019,
          15.086903,
          14.637516,
          15.236677,
          15.439953,
          2.174984,
          2.4385037,
          0.592748
         ],
         "y": [
          8.02281,
          17.643847,
          8.26588,
          17.671202,
          8.120958,
          8.078652,
          17.531387,
          -0.33150747,
          -0.34976706,
          8.227499,
          17.54523,
          17.672087,
          17.325466,
          0.17654921,
          8.377692,
          17.314405,
          -0.13212655,
          17.615984,
          0.051859073,
          17.584417,
          0.35679623,
          17.464289,
          17.409327,
          17.311867,
          0.111839615,
          0.08370828,
          17.377386,
          8.155138,
          7.94951,
          17.586477,
          0.3916195,
          8.073926,
          17.418232,
          0.19576664,
          17.50202,
          0.3820816,
          17.745592,
          17.465538,
          17.630247,
          17.373709,
          17.442236,
          -0.09044357,
          8.005053,
          8.026275,
          17.425266,
          7.648802,
          -0.13072255,
          17.388916,
          17.802694,
          0.9666527,
          0.36545044,
          -0.42266265,
          17.682596,
          -0.14066201,
          7.9790235,
          17.752085,
          0.6349354,
          -0.004847913,
          17.409662,
          -0.2771586,
          7.7451816,
          0.08347164,
          0.07047725,
          7.7795978,
          17.855583,
          18.028063,
          17.814981,
          0.5989854,
          -0.20004119,
          17.761787,
          0.49904066,
          7.9973645,
          18.029585,
          17.789263,
          18.094635,
          8.382906,
          7.8242803,
          17.449886,
          17.62718,
          17.631617,
          17.835976,
          7.916471,
          17.91342,
          17.887291,
          17.932323,
          7.600908,
          -0.37725785,
          0.3245456,
          -0.24749577,
          17.670256,
          8.000848,
          -0.50762415,
          7.9134126,
          8.084459,
          7.8284435,
          8.039206,
          7.73654,
          8.514982,
          17.8773,
          8.277487,
          0.115451455,
          -0.47539324,
          17.601286,
          8.647782,
          8.386088,
          0.2758867,
          17.766857,
          8.825386,
          0.3004651,
          8.272839,
          8.513943,
          17.411892,
          18.16058,
          8.741174,
          17.183249,
          0.046753164,
          17.161457,
          -0.58765644,
          17.844393,
          -0.44506544,
          -0.458326,
          17.247044,
          16.978619,
          0.38284943,
          17.083555,
          -0.44334936,
          16.991743,
          17.277311,
          8.170509,
          7.9018583,
          -7.3555446,
          8.4346,
          8.482201,
          8.869393,
          8.2838745,
          17.967264,
          -7.445104,
          8.713893,
          8.715453,
          8.640404,
          8.579132,
          8.627457,
          17.442558,
          17.300266,
          -7.4094377
         ],
         "z": [
          -6.0926237,
          3.3097293,
          -5.784958,
          3.2492108,
          -5.9973617,
          -5.947316,
          3.1546404,
          0.31282014,
          0.2945572,
          -5.9827394,
          3.4704318,
          3.3174822,
          3.2952228,
          16.14256,
          -6.222908,
          3.2553737,
          16.099068,
          3.0598595,
          16.544664,
          2.9807427,
          16.481071,
          2.976244,
          2.8891647,
          3.100798,
          16.648136,
          16.41177,
          3.1383023,
          -6.337584,
          -6.431394,
          3.2235646,
          16.391853,
          -6.022358,
          3.36344,
          16.630817,
          3.0287476,
          16.171272,
          2.8969414,
          2.8527234,
          2.9325411,
          3.1316147,
          3.0763624,
          16.547705,
          -6.505248,
          -6.417265,
          3.2483795,
          -4.5959363,
          16.66653,
          2.8601992,
          3.0815184,
          16.080145,
          15.746276,
          15.731144,
          3.2084646,
          15.877706,
          -6.4116907,
          3.258486,
          16.15862,
          15.66479,
          3.490302,
          15.776918,
          -6.137997,
          15.823214,
          15.474378,
          -5.803899,
          2.9073546,
          3.0784547,
          3.4704845,
          15.942551,
          16.078497,
          3.6028206,
          15.596278,
          -5.529732,
          3.4166076,
          3.4515827,
          3.5362282,
          -5.7610083,
          -5.527964,
          3.1104937,
          3.5643184,
          3.5865183,
          2.480898,
          -6.017874,
          3.4016385,
          3.544927,
          3.3397174,
          -5.5492325,
          0.2670695,
          15.912433,
          15.558506,
          3.67614,
          -5.776847,
          15.853464,
          -5.506852,
          -5.595346,
          -5.4823217,
          -5.737899,
          -5.9988775,
          -5.8823957,
          3.4469442,
          -5.8363466,
          15.591524,
          15.595041,
          3.0330575,
          -5.719056,
          -5.755212,
          15.749906,
          3.0606554,
          -5.8702297,
          15.815098,
          -5.6155577,
          -5.654112,
          3.6934516,
          3.1346123,
          -5.8210316,
          2.9853868,
          15.630323,
          3.4994493,
          15.736665,
          3.2277648,
          16.19348,
          15.817807,
          3.6127975,
          3.1930847,
          16.028826,
          3.3688352,
          16.425163,
          3.04172,
          3.6475306,
          -5.7668104,
          -5.7799406,
          0.749298,
          -5.5718637,
          -6.051702,
          -6.222711,
          -5.410258,
          2.711571,
          0.83902043,
          -6.000795,
          -6.141471,
          -6.235899,
          -6.413741,
          -6.187724,
          3.737654,
          3.4366167,
          0.80335045
         ]
        },
        {
         "customdata": [
          [
           "2e292dd6-cea9-412e-8765-0550c1645d1e"
          ],
          [
           "b91138ec-671c-4244-8b91-19dcde18ebb8"
          ],
          [
           "ba7d859b-60f7-47f2-a5f9-1a18b97e3da6"
          ],
          [
           "aafc34ae-1cf9-4989-b0f4-dc277d225071"
          ],
          [
           "a944a6ee-d794-40bf-9a05-d1ca62b1f0a9"
          ],
          [
           "d0c42f87-cca3-4b7b-a268-386dbc68f89d"
          ],
          [
           "fcf9c8f8-31dd-412b-b92b-21214346d6b0"
          ],
          [
           "dff7b2c3-6a6d-42ed-8efd-621f39f6c386"
          ],
          [
           "9444189e-5f1a-41f5-acc7-49cad4e3dd98"
          ],
          [
           "ae7cf913-2b48-423d-81f4-c9ce06df4cf6"
          ],
          [
           "673d57f6-4f7c-4520-80d5-110fd765a1e6"
          ],
          [
           "704bef79-21c3-4aa1-9ea1-25b6f9ed65a2"
          ],
          [
           "cd43e7bf-f76f-4fa3-ac0f-7629600a6814"
          ],
          [
           "eeee96b9-759d-45d1-8d97-dbba38802388"
          ],
          [
           "c2869821-8700-4005-bf13-324d6079fce7"
          ],
          [
           "0dce7537-3313-4667-a2c9-c1d5c437f8c7"
          ],
          [
           "450cb2bf-6120-457e-a19c-8b45e1582b25"
          ],
          [
           "568a1356-a526-4333-83fd-fe560d525a5c"
          ],
          [
           "2b1ec6cd-b780-40be-b1b8-a3412d31348a"
          ],
          [
           "d16cf533-2768-4809-ab14-8173e251fa89"
          ],
          [
           "a02be019-84e5-40df-8dcc-cfc91a27e905"
          ],
          [
           "b401a8c3-fa42-48a9-9f5e-426c4b11c7fe"
          ],
          [
           "a05f3ecf-9c18-4171-9dc0-ceba09d97cb9"
          ],
          [
           "23a40556-4da2-46d5-9924-daf743a5b25f"
          ],
          [
           "2e4eba5a-95b9-4513-a9a3-92343b8d5818"
          ],
          [
           "95f19830-3b91-4d8e-83c4-b0cd446a62e3"
          ],
          [
           "8c2578af-816b-44f7-8d4b-138d8da6a79f"
          ],
          [
           "7bd6e904-39d1-4c10-ba78-784a38c40160"
          ],
          [
           "cbbe09b2-0ec2-4cef-8c2a-fbee6d8495db"
          ],
          [
           "f2d5ce3b-2aa9-4e99-91c3-21fc6417766f"
          ],
          [
           "34bc6f34-a499-4c93-a2a0-c1907a9ad586"
          ],
          [
           "968411d9-b1c0-4859-8cac-875fb0124233"
          ],
          [
           "984b1d04-7810-4e35-8854-ab337d766492"
          ],
          [
           "e2401684-8e87-4117-951c-c4e8a79651f9"
          ],
          [
           "b1572e54-06e2-4c21-9283-37d275edb8a1"
          ],
          [
           "e0c086a0-a62b-4423-b034-28630084a5e3"
          ],
          [
           "051c3da0-ef67-4c9c-a841-3874d3216544"
          ],
          [
           "00f61952-8a82-4653-b6ea-ade998a218d4"
          ],
          [
           "886e7e01-30a3-46c3-a592-d5a85c50a4a6"
          ],
          [
           "600244ed-3262-485b-b755-84b529f7af29"
          ],
          [
           "93a984ef-4693-45ea-bb88-7d88555bdea8"
          ],
          [
           "89117ff2-f38e-4038-9e89-92860897fb2a"
          ],
          [
           "cfc2f9fe-59a4-4530-b322-8bb9f4097721"
          ],
          [
           "1f9be3b9-1c7d-4d39-aaf6-058ae1e56d7d"
          ],
          [
           "3d1b00fc-c9c4-4b71-a2a5-2a87eb2dfcf0"
          ],
          [
           "f6040893-dac5-43b7-b92d-675b2deefb9d"
          ],
          [
           "f84dd08c-9087-446a-9fcc-e7749367506d"
          ],
          [
           "7621852c-c7c5-44c4-ac19-9e2f2a6e43ca"
          ],
          [
           "73479401-b260-4b1a-945a-cd4fc8d9b835"
          ],
          [
           "8b5f7869-7df5-4b7e-a8e8-06a059242771"
          ],
          [
           "26d4b6c3-70a9-4415-8cab-0c3209556fb7"
          ],
          [
           "ec49db9a-489a-4259-a57d-bef40e2a497f"
          ],
          [
           "38bf4c4a-9366-4cfc-ba42-c12fbe322ad5"
          ],
          [
           "ee08a4f2-92a2-4fa3-9dc6-cfedeccb6853"
          ],
          [
           "ecbec8a2-c42f-47b8-a7dd-4fabb4fd2b8c"
          ],
          [
           "17a8a485-bda5-4d1e-ae0e-65268cdd8cac"
          ],
          [
           "240fbcac-a44b-418b-ba2b-d651eb9c1124"
          ],
          [
           "d3401a9f-c52b-4255-a6e8-e79552a2b3c6"
          ],
          [
           "983fc2d4-7973-4a58-9bf1-b30bf6651f12"
          ],
          [
           "b259ad41-34a8-411c-9912-83fda689cc99"
          ],
          [
           "43d9cec1-7f19-46f7-8aa1-3d5ffd86a473"
          ],
          [
           "82f477e3-a691-4fb9-8f87-56339225a32f"
          ],
          [
           "7a659f09-e515-4392-b52d-d8e4feea1797"
          ],
          [
           "57bf8025-304b-4611-8ea2-05a058d3ec80"
          ],
          [
           "c7504160-aa8b-457f-b818-293810c27aef"
          ],
          [
           "2814c1c5-0d90-4238-8a60-0054babe9aa1"
          ],
          [
           "e2c93ad8-517f-4a5d-8951-a794d994cf53"
          ],
          [
           "3508ed99-064d-42be-ab50-e34ccb20ea08"
          ],
          [
           "d969e257-a85b-45c1-869c-faaf2902e174"
          ],
          [
           "63ee463d-4e12-4cac-a99f-a0c6546a4d76"
          ],
          [
           "d0997af8-30e1-4c8e-9a72-323d57b2537a"
          ],
          [
           "fe8023c9-89d9-4dc7-b3f3-fb8fae119b21"
          ],
          [
           "d3ed73c3-ab3f-40d6-ba2d-f87d49f474ec"
          ],
          [
           "66f72728-57ad-409a-a273-d6a73e672db3"
          ],
          [
           "6745c19e-55f6-470a-8c70-50b421e1f857"
          ],
          [
           "cbafb089-e294-426e-a8e3-a6730adbda74"
          ],
          [
           "9c060a5d-964f-4512-adc8-4f9dc5dcfa87"
          ],
          [
           "a9705e46-f439-4769-95e2-9c768df9a696"
          ],
          [
           "822cb93b-7308-4090-a666-e2b36c5ac94a"
          ],
          [
           "2c8ed5dd-9a21-4f0e-b30d-158237c3be56"
          ],
          [
           "509d45b1-223b-42de-a06e-31bd14269eb4"
          ],
          [
           "bf9285a0-cade-4ea4-9a83-469060f2ae75"
          ],
          [
           "7a6a94c7-0b8b-4dc7-99d6-bdbb723d7f7a"
          ],
          [
           "acc9d3a8-1ba4-4aae-95ff-2c1f37b182b8"
          ],
          [
           "be4093a7-02bc-4bba-be96-048507100032"
          ],
          [
           "dc591be2-4da5-480a-b6d2-c13a87107023"
          ],
          [
           "a04474c1-6b33-4650-a33e-2b322f1fe0f4"
          ],
          [
           "3d1db8ab-4f88-40ef-be56-2b63000a4640"
          ],
          [
           "a3864c2d-53d8-49a5-9cd0-1386f1ebde63"
          ],
          [
           "a4397aca-8e7b-4a10-b583-1362098a6b4d"
          ],
          [
           "2cdca649-ac48-446c-8bac-afb0863d4f65"
          ],
          [
           "894284c6-4af6-4b86-b1bf-ea53a78f44ed"
          ],
          [
           "d4aea957-defd-4803-a7d8-2a083d8516cb"
          ],
          [
           "77ee5738-fa06-48df-ba1f-0dda185dc3bb"
          ],
          [
           "fb022c6b-2abd-43ef-a8d0-792a24e7b4fb"
          ],
          [
           "17ab8fc5-ac9c-4b52-bb48-c91afc6414a6"
          ],
          [
           "fe64149b-bd9a-4045-989c-d50ff263efd9"
          ],
          [
           "f60a34b6-6ec1-477b-a945-4e9cd5efdb60"
          ],
          [
           "d2fca464-8010-40e7-b9e0-0db9482525ee"
          ],
          [
           "52fd56c2-a5c5-431a-a2ad-e3f48ed0920c"
          ],
          [
           "6c9ce5ed-d3af-4787-9492-0eda4f986978"
          ],
          [
           "c3c0462d-8c18-4227-8448-48b420402e37"
          ],
          [
           "aaa0475c-6802-463c-b67c-aa4b92be4706"
          ],
          [
           "9225d849-a118-4241-8cc3-660a477671aa"
          ],
          [
           "9c8b38b9-422e-41c7-9821-55bf248aa736"
          ],
          [
           "8ad1a368-24cc-4f96-ab14-71b15c39b0fc"
          ],
          [
           "b3199927-9431-44cf-9dfb-49f926915fe0"
          ],
          [
           "d25c859c-eba0-4664-a12f-05d126d79216"
          ],
          [
           "8aded30f-7e95-41af-a1e5-149c3998f9c7"
          ],
          [
           "aa802203-8010-4576-93b7-214ed44ba56a"
          ],
          [
           "6d47a8fc-83fc-44aa-98ce-8b68964f2762"
          ],
          [
           "79fd1a3f-9010-4983-91d9-04d1f4f2a110"
          ],
          [
           "b4602a96-da19-4679-85f3-9a919e321230"
          ],
          [
           "b363608d-7b26-45f6-b347-428fda21a322"
          ],
          [
           "80e2df11-41a5-4728-8f2d-f951c30d82f0"
          ],
          [
           "4a686878-7e36-4ea4-80a4-b727294a7284"
          ],
          [
           "d8cca264-5aed-4a0f-80ad-48c4237c8256"
          ],
          [
           "7e958f43-406c-448d-b6ec-e93337ce0620"
          ],
          [
           "375b79e0-9c4e-4695-b17e-7278e0842f84"
          ],
          [
           "1010655a-4d14-4bd2-9aff-455c08eb829f"
          ],
          [
           "b13e61cd-7f9b-4b0c-b9f0-5680d120cb68"
          ],
          [
           "630f26d4-d8d9-4351-9400-6a21dcf40f2c"
          ],
          [
           "be9fae38-1f14-4899-976b-b84ea7333037"
          ],
          [
           "f05a28a1-4724-4cc3-aef7-6551d2242cf0"
          ],
          [
           "f07581f8-f943-42d2-90fd-2eb69cda2147"
          ],
          [
           "997a4b92-63f9-48a2-9268-0631cd5c18cc"
          ],
          [
           "44faa970-3ab7-4fa3-aff1-4b8f15d4b4c5"
          ],
          [
           "75abcc01-4d90-4570-aa2b-f4d2b9ce73dc"
          ],
          [
           "a5d96389-9b6b-4ca9-a218-e0413bb7364e"
          ],
          [
           "97353558-2c8a-40b4-8f61-c7298098eb3a"
          ],
          [
           "6a23314c-2fa0-4a2a-ba37-05755174b0b3"
          ],
          [
           "abaaeb96-4da2-4d78-ae60-014ceccf7f7f"
          ],
          [
           "1b1c3ef6-b44a-4677-95fe-144551c79ac9"
          ],
          [
           "f2ed0163-b35c-41e5-8114-f8c1fd0a0e58"
          ],
          [
           "1bf02a1d-56c8-413b-b70b-29642d7ed3fd"
          ],
          [
           "d85781ed-49da-4c30-b875-09c4cf6e4a28"
          ],
          [
           "c4eed01d-5b0a-4cdc-a950-fc1eb2ab7ea9"
          ],
          [
           "5980a805-e928-4530-b2d6-95bf1c4996e4"
          ],
          [
           "66cbb616-d1d2-4415-a5e7-3663739a05cd"
          ],
          [
           "77a9e829-d519-4cad-ab4f-460851843079"
          ],
          [
           "6ddb9795-1eb0-4a14-988c-02a8c3286234"
          ],
          [
           "734e4f12-53dd-4548-b141-8fd8f2fb46e8"
          ],
          [
           "fb3d453d-5f73-40af-865e-967aa438d981"
          ],
          [
           "76d181a4-087e-43c3-99d8-f4a8c86e5df8"
          ],
          [
           "e3bcd525-f997-4e84-a720-a00372eaa166"
          ],
          [
           "2919bc7c-b5d6-47f1-8a6d-ce20eb0e7da7"
          ],
          [
           "26ef2229-7ff2-4ffb-8ec2-87042175fcb7"
          ],
          [
           "cb417898-855f-4bf6-b3e6-8aa317de37e6"
          ],
          [
           "1575dc92-86eb-4f61-8ea4-eb13de72fafd"
          ],
          [
           "708c7a13-85e8-4905-8075-3027e939f721"
          ],
          [
           "e3552d41-3946-4235-93b9-10f336c84e67"
          ],
          [
           "0a3564da-1f86-4145-98b1-7de5e9c8e03e"
          ],
          [
           "3c35c06b-a62e-4ac1-821a-3a09294ba771"
          ],
          [
           "c4c283c1-aa46-4a06-92f6-afddabf1ccd0"
          ],
          [
           "a9191a18-860e-489d-96b0-979c89704170"
          ],
          [
           "94f4b0fa-85d4-423c-81de-89c048e5c4ee"
          ],
          [
           "4fe439fb-6da8-4252-9546-679df5facf56"
          ],
          [
           "61655071-914d-4ce4-9d16-bbc1fa65d349"
          ],
          [
           "fe05ed14-6ba3-4589-be1b-4b9e779b4f4c"
          ],
          [
           "1c42b6e0-228f-4ab1-9028-f3d5d9bd3fcd"
          ],
          [
           "81abe02f-8b07-4b8d-ab8d-2c8bdafcfae6"
          ],
          [
           "8d38fcde-f194-43e3-af7d-05b4d54ad220"
          ],
          [
           "2e4ee315-dbc9-478f-b624-58d9356f9eb7"
          ],
          [
           "8b62d906-1531-4d86-991b-0b455dce2680"
          ],
          [
           "a1913e99-84c9-4091-8f79-1aca68352f70"
          ],
          [
           "7f8f6aca-0a03-4ebe-aae2-dbfe0c783a92"
          ],
          [
           "88409f0d-a368-423b-b14c-345b73221653"
          ],
          [
           "1a2ee8cd-0ebb-4da6-903c-18942b865e20"
          ],
          [
           "90172502-fc31-49e5-8cf2-29693c1f7e45"
          ],
          [
           "20a57718-f6a7-43c8-bc84-0d2151aa84f2"
          ],
          [
           "e0e93369-6014-4df2-947c-2dcdacf34eeb"
          ],
          [
           "2be45e9a-93cd-44b1-9a13-1fbebaa335da"
          ],
          [
           "559fd265-a341-4412-b19f-bfb378f264ad"
          ],
          [
           "eeef7718-67b3-4549-a714-571c217120aa"
          ],
          [
           "53f51244-11e3-43aa-a555-9f417a8da435"
          ],
          [
           "43a66bde-24a3-4d29-a883-4b30fb701f36"
          ],
          [
           "420f5cc6-0c92-4672-8c05-bb21c07aa62f"
          ],
          [
           "585dc74b-1444-484d-88fc-4effff9d8d44"
          ],
          [
           "b921950e-252e-4fe1-8ff3-ab42e880647f"
          ],
          [
           "062d9b73-3ede-4a10-9f80-ee0d37fd2ddf"
          ],
          [
           "7ad128ff-8fe1-47f9-a197-d0f7dfda0bc1"
          ],
          [
           "37c7db66-4cb6-4e3d-b915-6b7f3bcfe98e"
          ],
          [
           "7bba07a6-78f9-4494-8345-e7eec6aeb9ca"
          ],
          [
           "4be22791-2f62-4d72-82ac-7461a16d9bb9"
          ],
          [
           "698b67d9-2048-4c4a-91bc-2f200c7d7870"
          ],
          [
           "89b949c9-377b-4fe0-843c-73e4d7456c19"
          ],
          [
           "3d8d978c-9fbe-43ee-9dce-faa95953d8d5"
          ],
          [
           "fac69729-fb50-4905-a725-1af817017c67"
          ],
          [
           "7065d4de-b38b-40d6-bead-b0f2575a0633"
          ],
          [
           "9fac2f9c-0e1e-4f09-8a95-ab2ca7facea6"
          ],
          [
           "839f36f0-4edd-4fe2-89cd-3e6e2ab18fe1"
          ],
          [
           "c2085e06-8cb4-42ac-bedf-2ff6d25a8828"
          ],
          [
           "87c4b593-7be4-4331-9f83-9b853cd179a6"
          ],
          [
           "76d53d88-eaa1-48fd-a4cf-5e6ff177a1b5"
          ],
          [
           "38cf4038-d954-42bf-a7a3-517fa94b816d"
          ],
          [
           "b2dba0df-7f64-4854-83e1-619482515a1a"
          ],
          [
           "5a5e9aaf-6766-4a27-85b8-68a22fbd5c44"
          ],
          [
           "7fef6055-b9c1-4dfa-9b14-c7873d8a7f93"
          ],
          [
           "305d7471-d69b-4099-86ae-2ac43cfd0700"
          ],
          [
           "8414dee2-e025-420f-82bc-d8a8d13d1a3c"
          ],
          [
           "9472d2ab-8878-442a-898b-1ea4ec6b59d2"
          ],
          [
           "60e41e0e-a3f6-4364-8693-23dcb60b0c39"
          ],
          [
           "aced4d7e-6fec-4b94-b7e3-72e1ecd3b679"
          ],
          [
           "2fba1d6a-deae-4fb3-aa8b-09d4052a29db"
          ],
          [
           "d37d0d2b-6a65-40af-b8bc-644a2d6e1d15"
          ],
          [
           "d8a1223b-16fe-4ad0-9861-382e0575a524"
          ],
          [
           "0af0bcad-a604-4d09-a1dc-d5d66db08a7d"
          ],
          [
           "cc1fa2f9-51d9-4f4e-b08f-5b2e91e235e4"
          ],
          [
           "0d6e475f-8da5-4f2a-9bd7-4eef475cfee3"
          ],
          [
           "b0636c79-399d-4d40-ab7a-4eefea3de1a0"
          ],
          [
           "89da336a-bec1-44e2-82b7-5cadc9685c04"
          ],
          [
           "3505c065-d9b0-4761-9738-47184627baef"
          ],
          [
           "1aed29e5-a057-4d61-a88d-0f08954e252c"
          ],
          [
           "c906b78f-0b1f-4806-96f2-c8c88ac962f3"
          ],
          [
           "d9e67d07-e509-450f-ac3a-876559390122"
          ],
          [
           "15351ec4-b386-4aff-85b0-310b2d363005"
          ],
          [
           "dd959a25-5121-4025-8a83-a50dd5de0e63"
          ],
          [
           "ef716e24-ef0d-4636-96d4-e502902dbb0d"
          ],
          [
           "71677425-3a99-4312-9b83-dde1aac2877a"
          ],
          [
           "64adf629-38cd-4969-934c-68aff9d935d1"
          ],
          [
           "d5555586-141c-4d91-a5e1-f1f7629634aa"
          ],
          [
           "124de90a-ecd9-4aba-9859-a91bebfc7785"
          ],
          [
           "604b844d-b5dd-4264-856c-9ba478f83407"
          ],
          [
           "fa990943-cdcb-4623-9dcd-322948289cd1"
          ],
          [
           "1b8b1808-c2e4-4b8b-9d0b-cd6f107934c9"
          ],
          [
           "c93c296a-a506-47e4-9d35-82d17550d0e4"
          ],
          [
           "aa9de3c0-42d2-44e5-8777-db3530310d83"
          ],
          [
           "e14c80c0-e8e1-4afd-b182-6d6f0a74f4e9"
          ],
          [
           "5a95fbe1-c5dc-4922-85cb-e7f8cea4d867"
          ],
          [
           "a80266f5-84b3-4ebb-9eca-75a6413d3327"
          ],
          [
           "cc5a384f-95b7-4cc8-af6a-5c856abea5be"
          ],
          [
           "99f218c2-d7b5-44c1-b33d-6cd4d6615a5b"
          ],
          [
           "7a6364e5-71a4-40a4-b50a-3d608e785021"
          ],
          [
           "d4c15a42-58db-40c6-bc33-418a569fda6d"
          ],
          [
           "be517a82-bf69-4a93-b81f-84b955213951"
          ],
          [
           "e142437c-de3a-4964-813d-a89575e155b3"
          ],
          [
           "4e65e33f-8894-47d2-813f-da8e8d3a850f"
          ],
          [
           "75578d52-a37d-4ef8-96cd-2fd145d1afdc"
          ],
          [
           "e7f370c9-0504-4111-b97f-a69ad23edb87"
          ],
          [
           "9ae2ee18-bbb8-4783-bf90-0bb308fab81c"
          ],
          [
           "d877448b-7a2b-4ec9-9801-b6b14d195c0d"
          ],
          [
           "89107a9d-3c78-4de1-aa05-13ce94e505ea"
          ],
          [
           "9cb93349-d6cf-4220-bb06-eb7addeb0622"
          ],
          [
           "f14ecf02-0b50-4ba4-8412-ac50cc32ca69"
          ],
          [
           "a03cec5f-ebd9-45d0-982f-be0c99a6b9ff"
          ],
          [
           "7bb9e999-c5f4-4295-8f87-51680f52c956"
          ],
          [
           "bebb06d7-0d13-4fba-bdf0-0cc9a515c17c"
          ],
          [
           "02113d27-5606-47d7-bd17-38b6e0340f22"
          ],
          [
           "7b562f9e-82e9-48b0-9b95-d972080f36c0"
          ],
          [
           "a18ab06f-51cc-4972-9856-aeba91a6b312"
          ],
          [
           "78e5027b-2cf1-4e83-88fe-e2498bf45e99"
          ],
          [
           "e8a8688b-88e6-4f6e-91e3-76021dc2c2a0"
          ],
          [
           "bcbf3e59-bfc7-412a-9f21-d9ba2fc24e91"
          ],
          [
           "6982aa3d-275a-4203-ad96-7bc0eb5decbd"
          ],
          [
           "74aca2c4-4062-495d-bb32-1096b91a7fb4"
          ],
          [
           "67c44c9c-c14a-49a3-882f-b3e0c148972a"
          ],
          [
           "8ea25fe3-d67d-47ab-afbc-11ba2cefd939"
          ],
          [
           "d55ba570-69b6-476e-8028-3237cb565b74"
          ],
          [
           "d978ef62-66a2-4055-8755-907533582e75"
          ],
          [
           "0a3aa37e-2464-484d-858a-9095c68813c5"
          ],
          [
           "110bc1f1-461a-4f20-abe5-9c3e8a4839af"
          ],
          [
           "3e295313-8223-44ff-94eb-8eb401828546"
          ],
          [
           "eefc4cf6-a56c-4882-be42-568862392f7f"
          ],
          [
           "6fc17e64-1549-46b7-b332-b55b91a04401"
          ],
          [
           "49394988-ebd4-4678-b330-960cd1104bc2"
          ],
          [
           "25d330a4-f293-4b34-8ab5-1ea4d6d559f2"
          ],
          [
           "c09ca625-bb78-421d-ae0f-a77b2a2b0ec0"
          ],
          [
           "2727bab7-b313-40ec-a284-40dc6dc5035d"
          ],
          [
           "dcfff5e3-ebe4-4ceb-81cc-42e1d1074983"
          ],
          [
           "792895dc-da33-41ab-b4d8-70060b618bb1"
          ],
          [
           "93248ec4-da6d-4d79-b3ae-f7f21c32cea9"
          ],
          [
           "da7c9ace-a1b7-4c6c-b031-45a8ecfbd57e"
          ],
          [
           "631389ba-2812-4c3e-997f-527a65f1e259"
          ],
          [
           "419a7d7e-5a76-42ec-9d4a-3556159db329"
          ],
          [
           "13eef679-8ab5-496f-80e0-85fa6626b5ab"
          ],
          [
           "b83f24ba-b35a-4f6e-8a0b-99c10dae8b6d"
          ],
          [
           "1aeca5c9-8f69-45ab-9e75-b35496c94713"
          ],
          [
           "beecaecf-7618-4ce3-9462-a52e8c8e5fea"
          ],
          [
           "99dcc2b0-ee18-40e8-9224-5f3c2976a443"
          ],
          [
           "247713ba-4d2b-4098-9395-dc8ee39aabdb"
          ],
          [
           "56b8815d-cf7f-4bd9-9bcf-1ff7ea2ce2b6"
          ],
          [
           "68b60613-ee35-4d30-b18e-5e3349460f4f"
          ],
          [
           "47f99d57-e92a-4b07-8267-875ba83296a8"
          ],
          [
           "aedec8cd-6779-48f6-8f31-1acbc51ddf47"
          ],
          [
           "eb8e1c9a-d923-4cef-9811-7f6f7484d755"
          ],
          [
           "0f2103ab-8bd5-4a4c-80ed-9718417493be"
          ],
          [
           "848459e9-0ad0-4ff7-a66d-c0471bdb7102"
          ],
          [
           "6f98b377-dc13-4fc1-8360-16f918a7c990"
          ],
          [
           "8e80b0fa-2d20-4259-9f06-ae5086e35c75"
          ],
          [
           "f916d037-3700-4f35-9950-0e7725c2ffb0"
          ],
          [
           "844c71c4-ed01-4cc2-aaa8-51a125828d77"
          ],
          [
           "d051bc00-4f18-41b0-bc42-739e31ec2df6"
          ],
          [
           "ca2fc157-beba-4e1e-b4d9-99a581baea4a"
          ],
          [
           "47782684-4d3a-4f8b-9819-91363d89f49c"
          ],
          [
           "4563217d-f45c-480b-8a13-59d9a0f11a03"
          ],
          [
           "2e792dd6-cb6a-48cf-b6e1-4e88fbaf15ef"
          ],
          [
           "1312c759-8474-47ac-a124-99dd270c1359"
          ],
          [
           "dbaf14de-ce34-4823-8064-4a8b43b64d70"
          ],
          [
           "b7e98a31-a1e5-482a-a52e-05b018adc5de"
          ],
          [
           "26a77c08-7585-45be-aca4-130051c63202"
          ],
          [
           "b818ce1a-c0d3-45d2-931e-44cf874fb536"
          ],
          [
           "3e18d75e-f3b5-41f4-8938-a66b6488b847"
          ],
          [
           "83742962-3e28-47ed-8014-1a29df947d2d"
          ],
          [
           "ca6bd40f-622b-4fb1-8240-4b7a6067b1ad"
          ],
          [
           "a3491453-c84e-4389-8895-55fcaae3ce9c"
          ],
          [
           "62dc9972-6fe9-4f55-a08c-5f71a514648a"
          ],
          [
           "e0574d06-f0be-40fd-ba58-a73f6b0e8d48"
          ],
          [
           "ed063a95-acc6-417b-8473-5d24637a9a49"
          ],
          [
           "e08dde63-97be-4739-823f-523861d984fc"
          ],
          [
           "c38990cd-47be-4f36-a1c4-8e605cc9c736"
          ],
          [
           "025bf059-5841-4349-9f64-00086c585b74"
          ],
          [
           "0a853697-1ff8-44fc-84db-38d848986957"
          ],
          [
           "35ad63b2-8161-471a-a067-62c77f5120b2"
          ],
          [
           "81c2d32a-845d-4a98-925d-cb2e1af2ce68"
          ],
          [
           "9bcd6ff7-82e0-4035-842e-4ed51ef3c2f7"
          ],
          [
           "b96e8f25-3c54-4f90-91ac-1bfdcac73874"
          ],
          [
           "5e2997f1-03b7-4c79-866e-95ca70909066"
          ],
          [
           "047ed220-5b99-4ea6-8e9a-4c91db40fb52"
          ],
          [
           "b3e88fd3-73c3-4ce1-a035-118adc67ec5a"
          ],
          [
           "4b0af827-13e3-4e62-83b4-21655b3ce8a7"
          ],
          [
           "ea97f3e6-ca72-46ea-8566-f3e541276ee5"
          ],
          [
           "3f5d91fc-ac64-443a-b8d5-06ebd7fff7c6"
          ],
          [
           "3b39d8f8-4fcd-4fd1-81a8-40e8117a53f8"
          ],
          [
           "a4dbe725-e2da-468a-ad52-bd1d76c46252"
          ],
          [
           "4289d62b-b094-4b96-9f57-589b8f9a8e81"
          ],
          [
           "0e07241d-295d-403e-bf78-9b89bb4dbd2c"
          ],
          [
           "0a9549a7-fb7c-42ae-8321-091469cbeeb1"
          ],
          [
           "dedb9959-1c25-4a8f-a5df-48f1fd3a3187"
          ],
          [
           "e81678ba-115f-4a54-bdc7-50fbf0582e22"
          ],
          [
           "dfb0bff4-f6b0-43f4-a5a2-58e2dacd8898"
          ],
          [
           "d5d97260-7279-42e2-b943-228c63c39b93"
          ],
          [
           "6878035c-9dac-4181-a78a-165cd93eef3e"
          ],
          [
           "d858686b-7909-447e-8700-3f517f9545b7"
          ],
          [
           "78dea0db-1e07-4ffd-9c88-4ddcdb47f961"
          ],
          [
           "02fa0c31-0867-4937-ade5-2d8cd7c83ac2"
          ],
          [
           "c8b74f3e-4d7b-44dd-a854-512d03152c4d"
          ],
          [
           "addf6994-4378-4c76-bdb7-afb59ba24be1"
          ],
          [
           "0a75c473-3b9d-46c9-a37b-23ec27d48e74"
          ],
          [
           "9f7447f4-3927-4fe4-96e1-569531830692"
          ],
          [
           "555da0b4-3320-4584-b68f-1b2219659c47"
          ],
          [
           "74b5e4ad-2d28-4c63-a1d8-646bebc9c651"
          ],
          [
           "e22870b9-134e-44ca-8a03-24f99cfc8436"
          ],
          [
           "4d9cabd3-6cb7-4e33-8bf9-1d1688742e92"
          ],
          [
           "4387618d-d91a-4f2d-adac-7ec8a8a67c24"
          ],
          [
           "99ca01ac-d9b9-493e-9621-0f277797ae1d"
          ],
          [
           "89a6a75b-187b-4a52-becc-06719cf6a21a"
          ],
          [
           "15bfa255-6518-4a70-b777-868e7ce832cc"
          ],
          [
           "c6305eee-eb3d-4624-a09e-9d3b39b75e96"
          ],
          [
           "d1122251-5fed-4a7b-9b9f-562eeec2386c"
          ],
          [
           "73e9d89b-c41d-436d-8f0b-840837fe25a2"
          ],
          [
           "d635e7ba-8133-4998-aeb1-6f64f4259483"
          ],
          [
           "151406c1-df93-4dd1-8188-44743568cdf5"
          ],
          [
           "8049a960-e7c4-4445-8ebc-ab876a8a8554"
          ],
          [
           "416f5c81-10e1-4834-bfbc-de70a847862d"
          ],
          [
           "dcd764b0-9d04-440d-a976-da16ce8653ad"
          ],
          [
           "15e390d2-5965-4cfd-b0f8-b8f5d48f1534"
          ],
          [
           "a57955f3-24c0-40d5-9fef-70bee29b44cb"
          ],
          [
           "6b9d72ec-19f1-4353-84f3-822525248101"
          ],
          [
           "2a154d56-5156-4d94-9462-cda25cea5936"
          ],
          [
           "a091676c-ef43-4b71-8335-4d1b927c3872"
          ],
          [
           "b53c12bf-e5f8-459a-a260-66549a6c5929"
          ],
          [
           "3863ef5a-54b4-458f-a3dc-93407fbb6926"
          ],
          [
           "7b8c9980-8e03-428e-a05f-1793d1aab1b1"
          ],
          [
           "a2d851b3-83ff-420a-b98d-0ffbb3048f40"
          ],
          [
           "fd67d9d3-a11c-4bcf-b316-43acf452c10c"
          ],
          [
           "01df1a67-3247-4131-9340-0d0ede890dca"
          ],
          [
           "8f436c73-3da7-4e24-87b1-e6eb8050ce41"
          ],
          [
           "d3a8de80-1550-4b15-8400-f3c72fdc97de"
          ],
          [
           "51e46ec3-7be9-4e10-b476-b80817a3979e"
          ],
          [
           "4df7d81f-d2d6-4e1a-b58f-bfaf69d89f75"
          ],
          [
           "5aef4156-277c-4ec3-915a-60f38bb8978f"
          ],
          [
           "f24b5472-8364-4a9e-ae5f-209b1830f928"
          ],
          [
           "8dea741c-c161-4a73-aafe-dd1c9db00582"
          ],
          [
           "01ae4556-8bb2-46d6-a20c-07b1bda0bd03"
          ],
          [
           "35eacf3a-bab1-434e-a7ff-48a7f526ab98"
          ],
          [
           "b1758466-0ac1-470e-8131-d05c294acf46"
          ]
         ],
         "hovertemplate": "Entity Type=<br>UMAP1=%{x}<br>UMAP2=%{y}<br>UMAP3=%{z}<br>hover_data_0=%{customdata[0]}<extra></extra>",
         "legendgroup": "",
         "marker": {
          "color": "#EF553B",
          "line": {
           "color": "white",
           "width": 0.5
          },
          "size": 3,
          "symbol": "circle"
         },
         "mode": "markers",
         "name": "",
         "scene": "scene",
         "showlegend": false,
         "type": "scatter3d",
         "x": [
          15.045114,
          2.150605,
          5.967386,
          2.2620113,
          5.824033,
          16.158138,
          14.92891,
          1.8122838,
          14.925601,
          5.9463882,
          -6.385058,
          14.839956,
          2.06624,
          15.127091,
          14.986582,
          6.096033,
          5.9860964,
          16.319668,
          5.6950893,
          6.0082197,
          15.079497,
          14.900949,
          14.993954,
          14.682871,
          0.50596833,
          -6.323395,
          5.955588,
          5.7939653,
          5.9266357,
          14.902941,
          5.6686935,
          14.632518,
          14.834917,
          16.132193,
          15.146407,
          -6.3763013,
          16.103226,
          16.307034,
          15.224054,
          15.085365,
          16.131746,
          14.776052,
          16.201874,
          16.398327,
          5.874266,
          5.7422566,
          5.7934327,
          5.8013,
          16.26059,
          5.496884,
          5.6304593,
          15.007075,
          14.994602,
          16.212612,
          16.253086,
          5.8072796,
          15.10585,
          15.28565,
          16.295216,
          0.45645678,
          14.977573,
          16.285635,
          5.8901615,
          15.160386,
          5.8042936,
          16.212065,
          5.886021,
          5.646571,
          16.158918,
          16.395617,
          5.95379,
          14.941166,
          16.227222,
          5.818561,
          15.211797,
          14.838282,
          16.1819,
          5.858692,
          0.38934544,
          5.9448457,
          5.7783546,
          5.756765,
          15.088158,
          5.7081347,
          5.686994,
          15.1310835,
          15.270664,
          5.600757,
          6.0882845,
          5.8426547,
          5.654185,
          5.8940988,
          14.911292,
          5.8627234,
          5.97516,
          16.106443,
          5.8394775,
          15.131844,
          5.4805436,
          14.854761,
          5.950976,
          16.286997,
          5.901197,
          0.5224047,
          16.153982,
          16.396683,
          5.547686,
          5.486074,
          16.042702,
          5.8866324,
          5.9603186,
          5.995116,
          5.5765977,
          5.8023667,
          5.576321,
          15.008572,
          5.7413683,
          16.31975,
          14.772292,
          5.838459,
          14.831247,
          5.7020006,
          5.563316,
          5.6363387,
          5.7099795,
          15.004366,
          15.017756,
          5.67087,
          15.188664,
          2.1101878,
          14.864443,
          5.6252847,
          15.12723,
          14.990504,
          5.752955,
          5.339568,
          16.39068,
          15.036877,
          15.015286,
          16.192188,
          15.294892,
          5.748362,
          5.6006827,
          5.479993,
          5.5351005,
          15.1479225,
          16.265062,
          16.228273,
          15.100118,
          14.987319,
          16.480974,
          1.8422859,
          2.1835632,
          16.294207,
          5.5524096,
          2.2796416,
          16.380014,
          5.366452,
          5.523389,
          6.201164,
          15.10176,
          16.144878,
          15.052358,
          16.503834,
          5.3979216,
          6.135815,
          5.72548,
          5.368001,
          16.48598,
          16.317928,
          15.2967415,
          14.720164,
          14.724836,
          14.870728,
          6.073471,
          15.059886,
          15.418378,
          5.822752,
          16.405697,
          5.7198553,
          5.1425323,
          16.229208,
          5.0803413,
          15.397658,
          15.943359,
          14.745283,
          14.515044,
          5.3956647,
          5.6713395,
          6.008048,
          5.2157044,
          4.9320984,
          4.932586,
          14.683813,
          14.563715,
          2.4666471,
          4.9593186,
          15.122865,
          5.872228,
          15.972977,
          6.4948425,
          15.055905,
          4.8936276,
          16.371037,
          5.8982654,
          5.8810453,
          5.810925,
          5.4969335,
          5.4760094,
          6.0664835,
          5.3784604,
          16.369217,
          5.6308823,
          14.70304,
          5.7425766,
          5.2033606,
          5.8935966,
          16.307062,
          16.318867,
          5.71485,
          5.169092,
          2.4922473,
          5.311489,
          5.9372935,
          5.0542207,
          6.1262345,
          5.965059,
          4.979301,
          5.4953895,
          16.4737,
          5.575998,
          16.47511,
          16.32092,
          16.118052,
          16.53147,
          15.202206,
          14.413792,
          5.7921968,
          5.0237017,
          14.5260725,
          5.077718,
          5.001361,
          5.1949053,
          14.963817,
          15.234271,
          5.139067,
          0.5498721,
          5.4878016,
          5.2411194,
          2.4634745,
          2.1268053,
          5.4298477,
          14.810308,
          14.37581,
          2.158346,
          2.4610674,
          2.3786225,
          5.285213,
          2.127935,
          14.334111,
          14.492642,
          14.782724,
          5.2076,
          5.014378,
          0.5558825,
          5.4290466,
          1.8558478,
          5.3416085,
          5.3072257,
          14.907393,
          5.527987,
          5.7128134,
          5.1386538,
          5.7451153,
          14.28176,
          5.4435296,
          5.4570975,
          15.033418,
          16.417751,
          14.453389,
          0.4390118,
          0.45099363,
          2.4895318,
          0.49315932,
          5.376664,
          0.5754079,
          2.253747,
          16.47665,
          5.8382983,
          0.5523621,
          16.480701,
          0.5001437,
          0.44877142,
          5.3660808,
          0.4733618,
          5.9752336,
          14.947902,
          14.423557,
          14.57002,
          5.686844,
          5.719298,
          5.6605854,
          6.04264,
          5.493719,
          14.3637295,
          5.825128,
          6.012554,
          5.6455812,
          2.1393323,
          14.463529,
          2.0982168,
          1.9033055,
          5.988284,
          2.1162863,
          1.7875639,
          14.416558,
          1.7679197,
          5.6288056,
          1.8354415,
          14.635949,
          1.9328978,
          14.353976,
          5.8853664,
          14.795369,
          1.7816263,
          14.913138,
          14.451804,
          14.568537,
          14.715258,
          14.691865,
          14.454367,
          14.327319,
          5.0523353,
          0.41049036,
          0.5203827,
          1.9638371,
          14.675626,
          2.1816337,
          14.536828,
          14.892611,
          14.342078,
          14.937184,
          6.1111026,
          1.6529739,
          1.8712611,
          1.4601723,
          14.302858,
          14.816136,
          15.000065,
          6.410483,
          14.676773,
          14.703199,
          1.6944268,
          6.429373,
          1.7680086,
          5.8997827,
          1.7453336,
          6.4154363,
          6.4792104,
          2.6001167,
          6.4552627,
          6.4218597,
          2.000837,
          2.4303784,
          14.921323,
          0.53264385,
          1.7014707,
          2.1946878,
          15.031427,
          0.6631935,
          15.299622,
          2.5362687,
          1.7239091,
          2.3969107,
          2.225163,
          15.051833
         ],
         "y": [
          8.20976,
          17.834091,
          -0.29056466,
          17.47522,
          0.08069476,
          7.5701284,
          8.559308,
          17.474457,
          8.270866,
          -0.07702065,
          -0.35790345,
          8.235069,
          17.52225,
          8.133516,
          8.29472,
          -0.104261614,
          -0.15666993,
          7.777327,
          0.051547326,
          -0.035324696,
          8.53968,
          8.203267,
          8.330381,
          8.283286,
          -7.495977,
          -0.29650235,
          -0.281357,
          -0.031475652,
          -0.3868733,
          8.31826,
          -0.13994576,
          8.175289,
          8.167126,
          7.4490433,
          8.491007,
          -0.34914127,
          7.6921053,
          7.483178,
          8.231813,
          8.21012,
          7.751298,
          8.44515,
          7.654156,
          7.5206203,
          -0.07647585,
          -0.08931425,
          -0.29197577,
          -0.21835218,
          7.654073,
          -0.28076443,
          -0.05292237,
          8.398479,
          8.244321,
          7.7460213,
          7.609537,
          -0.3155039,
          8.43319,
          8.146737,
          7.668745,
          -7.5453477,
          8.490625,
          7.873954,
          -0.19067957,
          8.286443,
          -0.35173675,
          7.611232,
          -0.061920453,
          0.05602575,
          7.7754354,
          7.727513,
          0.25902003,
          8.394182,
          7.711276,
          -0.13264942,
          7.9936113,
          8.314329,
          7.757864,
          0.33136535,
          -7.6121187,
          0.032487143,
          -0.34446838,
          -0.2648778,
          8.25577,
          -0.27086225,
          -0.19773537,
          8.458534,
          8.264588,
          -0.1600197,
          -0.10900147,
          -0.22683117,
          -0.094154656,
          -0.071409,
          8.066333,
          0.05928602,
          -0.0044226255,
          7.579081,
          -0.2723714,
          8.247704,
          -0.08331335,
          8.366132,
          -0.01062546,
          7.5529094,
          0.03529066,
          -7.4795923,
          7.60815,
          7.7807503,
          -0.13865867,
          -0.09404688,
          7.6426907,
          0.13652529,
          0.12120194,
          0.21992476,
          -0.07111339,
          0.21703966,
          -0.23044981,
          8.315949,
          -0.076328784,
          7.6019607,
          8.492742,
          0.20685567,
          8.285225,
          0.3371796,
          0.13566938,
          0.15890333,
          0.0716877,
          8.286527,
          8.308509,
          0.46857902,
          8.21292,
          17.395319,
          8.1371565,
          -0.020373523,
          8.202495,
          8.266632,
          0.25347376,
          0.10290033,
          7.571446,
          7.9574237,
          8.072059,
          7.5838814,
          7.8778434,
          0.2892839,
          0.42640805,
          0.19277298,
          0.2841802,
          7.87008,
          7.533337,
          7.5642667,
          7.7921414,
          7.787429,
          7.729989,
          17.398428,
          17.425453,
          7.507433,
          0.42065382,
          17.388767,
          7.6366415,
          0.30847105,
          0.45189384,
          0.14574206,
          7.803187,
          7.4876046,
          7.9562736,
          7.6649995,
          0.25432244,
          -0.29322937,
          0.39673004,
          -0.1035935,
          7.667937,
          7.726903,
          7.891622,
          7.8491435,
          8.056471,
          7.9136004,
          -0.20327362,
          7.987948,
          8.319971,
          0.47353423,
          7.446824,
          0.9352413,
          -0.43985105,
          7.4998713,
          0.05464489,
          8.143073,
          7.6242766,
          8.051771,
          8.296746,
          0.9194465,
          -0.05342257,
          0.71384233,
          -0.37419686,
          0.35680276,
          0.3552931,
          8.559865,
          8.087628,
          17.594456,
          0.20662476,
          7.7574267,
          0.75523263,
          7.621259,
          0.28250277,
          7.709576,
          -0.12239571,
          7.5481215,
          0.7354483,
          0.73989606,
          -0.70413053,
          -0.64912945,
          0.88869876,
          0.49295837,
          -0.49133307,
          7.425561,
          0.71462566,
          7.9439936,
          0.74686956,
          0.5860904,
          -0.73361874,
          7.944104,
          7.918584,
          0.70299935,
          -0.41306064,
          17.655622,
          0.7642044,
          0.6616532,
          -0.11039975,
          0.56413794,
          -0.15772796,
          0.03680204,
          0.4719177,
          7.612275,
          -0.719769,
          7.8146625,
          7.9431157,
          7.837217,
          7.808357,
          7.38751,
          7.6932178,
          -0.62013763,
          0.47216034,
          7.964419,
          0.266119,
          0.40170798,
          0.39040715,
          7.3454466,
          7.584094,
          -0.21603677,
          -7.4521112,
          -0.28842065,
          -0.3864954,
          17.702307,
          17.799929,
          0.13962293,
          7.6543927,
          7.9143047,
          17.22646,
          17.452856,
          17.672316,
          -0.54681146,
          17.261784,
          7.6921954,
          7.6272874,
          7.4285665,
          0.5159351,
          -0.0028906115,
          -7.4461427,
          0.33226466,
          17.823309,
          0.25735667,
          0.24165499,
          7.5088573,
          0.56073415,
          0.31165862,
          -0.040785585,
          0.5442028,
          8.067734,
          0.4788977,
          -0.017692244,
          7.6150155,
          7.8846903,
          7.672964,
          -7.5628715,
          -7.5508957,
          17.895283,
          -7.5084977,
          -0.22780195,
          -7.4264774,
          18.018885,
          7.4762034,
          0.100594774,
          -7.449662,
          7.7912636,
          -7.5032997,
          -7.5531926,
          0.22645265,
          -7.528718,
          0.29705754,
          7.520518,
          7.6927924,
          7.7171426,
          0.5643476,
          0.14252734,
          0.3664892,
          0.4285449,
          -0.21084903,
          8.119399,
          0.39086732,
          0.050924126,
          -0.33305195,
          17.8523,
          7.727788,
          18.149998,
          17.653484,
          0.34876478,
          17.686882,
          17.505516,
          8.120942,
          17.879278,
          -0.538725,
          17.955433,
          7.602578,
          18.006748,
          8.163401,
          -0.4064205,
          8.180927,
          17.83566,
          7.885684,
          8.520043,
          7.901867,
          8.335137,
          8.055887,
          8.259571,
          8.197947,
          -0.07093619,
          -7.591584,
          -7.4825754,
          17.5548,
          8.236468,
          18.065907,
          8.591819,
          8.237509,
          8.410284,
          7.885659,
          0.28148264,
          17.609243,
          17.213963,
          17.44854,
          8.479773,
          8.5733185,
          8.459735,
          -0.06666699,
          8.649538,
          8.28772,
          17.236567,
          -0.08852133,
          17.269371,
          -0.62405473,
          17.557991,
          0.1730062,
          0.12922323,
          17.213287,
          -0.1776189,
          0.41003296,
          17.266476,
          17.371254,
          8.488794,
          -7.4695497,
          17.939224,
          17.099503,
          8.778864,
          -7.338948,
          8.434504,
          17.346827,
          17.868896,
          17.637167,
          18.104956,
          8.686291
         ],
         "z": [
          -5.9360375,
          3.0526032,
          16.154135,
          3.203331,
          15.99015,
          -4.920797,
          -5.905972,
          3.239498,
          -6.1311817,
          15.871216,
          0.2864328,
          -5.920575,
          3.2731616,
          -5.918292,
          -5.941604,
          16.061579,
          15.898102,
          -5.028701,
          15.779095,
          16.181046,
          -5.8970447,
          -5.7660384,
          -5.9700046,
          -5.861673,
          0.890258,
          0.34823948,
          16.170372,
          15.79643,
          16.094948,
          -5.745273,
          16.090267,
          -5.8969746,
          -5.9664016,
          -5.0114193,
          -6.1445603,
          0.2951948,
          -4.9926753,
          -5.1012154,
          -5.905961,
          -5.7845287,
          -4.878543,
          -6.167328,
          -5.1617184,
          -5.092289,
          16.285324,
          15.834834,
          16.438162,
          16.328735,
          -4.896892,
          16.259512,
          16.218792,
          -6.0338774,
          -5.9824624,
          -5.124225,
          -4.961113,
          16.36614,
          -6.0845256,
          -6.1094937,
          -5.0928106,
          0.9398362,
          -5.866831,
          -5.0087113,
          16.226862,
          -6.36764,
          16.219633,
          -5.2282243,
          16.119217,
          15.957414,
          -5.139951,
          -5.07469,
          16.0899,
          -5.693723,
          -5.1240926,
          16.301193,
          -6.370439,
          -6.3076425,
          -4.807142,
          16.34332,
          1.0070107,
          16.252728,
          16.3753,
          16.420475,
          -6.414143,
          16.244629,
          15.939525,
          -6.257774,
          -6.220681,
          16.183374,
          16.289312,
          16.48337,
          16.467094,
          16.40513,
          -5.988831,
          16.376114,
          16.44741,
          -5.120893,
          16.71413,
          -6.1019063,
          16.187551,
          -6.284725,
          16.423134,
          -5.0265694,
          16.661882,
          0.87378746,
          -5.1818647,
          -5.019169,
          16.465261,
          16.1028,
          -5.004206,
          16.50764,
          16.396786,
          16.48461,
          16.638186,
          16.642784,
          16.560865,
          -6.222827,
          16.68685,
          -5.127416,
          -6.390618,
          16.46102,
          -6.151759,
          16.507792,
          16.658628,
          16.408087,
          16.47192,
          -6.4660597,
          -6.4324775,
          16.461542,
          -6.079675,
          3.3648822,
          -6.2189765,
          16.577354,
          -6.412612,
          -6.5051627,
          16.62846,
          16.380077,
          -5.200611,
          -6.4400277,
          -6.421909,
          -4.9504585,
          -6.326278,
          16.629866,
          16.486162,
          16.390182,
          16.301033,
          -6.0957956,
          -4.761794,
          -5.0540853,
          -6.3666425,
          -6.121276,
          -5.2705317,
          2.9147708,
          3.1678143,
          -4.8532934,
          16.560892,
          3.010731,
          -4.7274103,
          16.293743,
          16.368008,
          16.315775,
          -6.1893024,
          -4.885806,
          -6.204551,
          -4.8856306,
          15.9765005,
          16.334856,
          15.903251,
          16.509731,
          -4.9166617,
          -4.964006,
          -6.0734415,
          -6.217549,
          -6.1738586,
          -6.419393,
          16.515007,
          -5.7073197,
          -6.0524597,
          16.016073,
          -4.9809833,
          16.360022,
          16.381065,
          -4.6677547,
          16.655947,
          -6.20633,
          -5.167157,
          -6.3687015,
          -6.0487523,
          16.237825,
          15.037163,
          16.524012,
          16.62533,
          16.532324,
          16.400759,
          -6.340041,
          -6.41919,
          3.0757542,
          16.423649,
          -5.9501944,
          16.463623,
          -4.8615766,
          15.857698,
          -6.0801992,
          16.26059,
          -5.043632,
          16.598915,
          16.098783,
          16.589159,
          16.01526,
          16.130064,
          15.353836,
          16.10659,
          -4.660746,
          16.39624,
          -6.759461,
          16.102701,
          16.591059,
          16.160658,
          -5.127559,
          -5.271656,
          16.230324,
          16.149046,
          3.1284602,
          15.999436,
          16.22371,
          16.371767,
          16.355968,
          15.413507,
          16.179539,
          16.094122,
          -5.230688,
          16.105062,
          -5.371652,
          -5.151041,
          -4.908427,
          -5.1353455,
          -6.016695,
          -6.2853994,
          15.559808,
          15.967857,
          -6.570636,
          15.810406,
          15.783837,
          16.13106,
          -6.0643992,
          -5.7817626,
          15.758666,
          0.84632105,
          15.198147,
          15.331535,
          3.2826028,
          3.126014,
          15.401307,
          -6.578826,
          -6.562458,
          3.0500648,
          2.929705,
          2.930319,
          15.630725,
          3.131489,
          -5.812107,
          -6.360221,
          -6.0609574,
          15.985272,
          15.664432,
          0.840299,
          15.419577,
          3.0547554,
          15.267232,
          15.766811,
          -5.848837,
          15.829985,
          15.39453,
          15.67602,
          15.757601,
          -6.302077,
          15.932868,
          15.689922,
          -5.7564816,
          -4.978669,
          -5.866244,
          0.95722723,
          0.94525105,
          3.0594351,
          0.90310174,
          15.751414,
          0.82080615,
          3.1019104,
          -4.9023027,
          15.314053,
          0.8437808,
          -4.948003,
          0.8957517,
          0.94739544,
          15.413468,
          0.9227692,
          15.534064,
          -5.8267636,
          -5.9932356,
          -5.929586,
          15.567403,
          15.194922,
          15.620485,
          15.663859,
          15.261831,
          -6.2525024,
          15.492306,
          15.299316,
          15.433425,
          3.621547,
          -5.6533093,
          3.0520582,
          3.4512734,
          15.611306,
          3.5798213,
          3.4938748,
          -6.1475945,
          2.5437803,
          15.591129,
          3.3942707,
          -5.3663254,
          3.1431677,
          -5.7454877,
          15.6604595,
          -5.3167286,
          3.2651632,
          -5.5867276,
          -5.745456,
          -5.6108413,
          -5.4543467,
          -5.4012156,
          -6.3905916,
          -5.6228824,
          15.83683,
          0.9856611,
          0.87554437,
          3.5704973,
          -5.4064693,
          2.998196,
          -5.928334,
          -5.5382853,
          -6.0119176,
          -5.389913,
          15.716796,
          3.3720818,
          3.322985,
          3.2747743,
          -6.288372,
          -5.4217563,
          -5.36187,
          15.80691,
          -6.0866904,
          -5.4761295,
          3.3097627,
          16.288141,
          3.0835667,
          16.306751,
          3.303726,
          16.224485,
          16.363556,
          2.9527543,
          15.933982,
          16.106613,
          2.8149087,
          2.8269448,
          -5.6127567,
          0.8634852,
          2.60032,
          2.8045273,
          -5.6364903,
          0.73294055,
          -5.665517,
          2.815637,
          2.552888,
          2.7191463,
          2.9017277,
          -5.915715
         ]
        },
        {
         "customdata": [
          [
           "ef6f9412-fbfb-44c6-87a1-6caad9080ef8"
          ],
          [
           "d595bc53-0eeb-4343-b28d-50a345ea6a20"
          ],
          [
           "0992fb4a-573c-44f8-9706-a3df7e5537e1"
          ],
          [
           "e23de37d-2255-4cf9-8837-552bd7c5726f"
          ],
          [
           "8c9a7ff0-6182-419a-a72b-55d928928bf1"
          ],
          [
           "5f5339ed-7ff5-47fb-b631-e272b0452718"
          ],
          [
           "a96a349d-d417-49e7-9ac7-59a7f363aebc"
          ],
          [
           "810500f5-48ee-45cf-8f3f-a2e607ae7127"
          ],
          [
           "f434ad14-6035-4aea-8d40-b945d5a859d4"
          ],
          [
           "38e6b35a-822d-40ff-af19-fecafb82e68e"
          ],
          [
           "0c3cdd26-b269-48ea-9057-572a317fa89d"
          ],
          [
           "bf86757b-a995-437c-a611-9e88858cb1c0"
          ],
          [
           "ee87ec4c-1862-40ae-840a-14b38c677259"
          ],
          [
           "a0c64c48-d24f-4a39-bb35-5811b67467de"
          ],
          [
           "ed561ef3-697b-4d54-abcf-6e7e7dfea706"
          ],
          [
           "d74ad6d1-da71-49b3-b373-384f6334cbb6"
          ],
          [
           "7aad50d3-5f50-4936-b184-6cacac444410"
          ],
          [
           "97bb7a3e-19d7-4284-8fd5-829b46e5dc35"
          ],
          [
           "ba0018f9-cf5b-4c93-bba1-1fb5b30388e4"
          ],
          [
           "52fe6068-2acb-441c-b3b0-80b34a983eac"
          ],
          [
           "cf43b8b9-c8fd-445e-9c2b-c1650500da15"
          ],
          [
           "f8a9aa7e-f2d2-4f1c-a4f3-1ed1c71370dd"
          ],
          [
           "5d1e4da6-d493-469b-b8af-af5fa582f2f2"
          ],
          [
           "4972cf07-614d-4bae-8b69-68022b228776"
          ],
          [
           "be3bd747-fcf5-4a29-a83d-c12389c58cdc"
          ],
          [
           "65837c43-06ce-4d9c-8f76-a26457f9805c"
          ],
          [
           "96620752-1e4b-4207-a2ce-7ab402acaee9"
          ],
          [
           "671be8bb-9dfd-4c88-807e-6fff5cd94430"
          ],
          [
           "4b165525-c166-4ebe-965b-efcb8da5e0ae"
          ],
          [
           "5fd0b825-70d2-4354-af1b-a76fd10b495c"
          ],
          [
           "a25e80d1-957c-4db3-bdc8-3e0ee9608fd5"
          ],
          [
           "58d46df5-0891-482e-97c7-dc8893c12dc6"
          ],
          [
           "d56ce398-c3ad-4e3d-830a-75d5c84c0a91"
          ],
          [
           "9a3c5860-118d-476c-b348-98eeb27d6fc9"
          ],
          [
           "7ff48423-9ccf-4a32-8cee-b876d1b3b68b"
          ],
          [
           "d52ecf30-bc41-479f-ae0f-1a14b8bdda69"
          ],
          [
           "bf78e28c-581f-442a-bd08-51bb2d3a81b4"
          ],
          [
           "b18f9d2a-7749-4445-a985-81cc94873f8a"
          ],
          [
           "6265e046-322c-4a7d-b50f-a476a2041856"
          ],
          [
           "2e90655a-58ec-4ede-b9d9-bde78c8922c4"
          ],
          [
           "e790928b-4573-4fe3-94d7-13f109edfb48"
          ],
          [
           "b0b16f50-bc0f-4703-90d0-a6dc340df4d7"
          ],
          [
           "75e08af7-befa-4632-bf96-2b47e3d92cb5"
          ],
          [
           "d2067519-fc62-44ee-ac0e-26d2b05bb3aa"
          ],
          [
           "922e95fb-e6a4-4f58-8edb-7806c3391430"
          ],
          [
           "01cb3a22-606f-45d5-877d-07ffb3c9db26"
          ],
          [
           "af737a35-deef-46d1-b634-c54ea9ab6762"
          ],
          [
           "e67c0887-f16e-4fd5-aff0-8cb5fe83c319"
          ],
          [
           "cd617a08-7286-485c-9ba7-e08d08c88916"
          ],
          [
           "715a53fe-09fc-487f-bd7c-8cd54b14588c"
          ],
          [
           "9820eaa8-fd9b-4e44-bdf8-4227312c9ab3"
          ],
          [
           "52f0a745-1b2a-4ec3-aaff-b30acd79e586"
          ],
          [
           "c51cd9bb-8a93-497b-a0ee-9b62f33a4756"
          ],
          [
           "25e65e66-d6b3-4c2a-baf1-150eaf1185f0"
          ],
          [
           "4b7eb9e0-f310-42b4-a800-ba79682d36e5"
          ],
          [
           "abe46a71-c9aa-4d19-b29a-b3f4d0711272"
          ],
          [
           "876d46dc-6cca-4391-b6c8-991a08870dd3"
          ],
          [
           "0ff89c72-f368-4a0c-8340-92b6918fa406"
          ],
          [
           "c6b4323a-cbde-456d-9866-aa74c5ec4c63"
          ],
          [
           "125045c6-bc32-4865-bf4f-43a77d10c8e9"
          ],
          [
           "a196b71b-608f-469e-8ade-6a02578ce77f"
          ],
          [
           "e1c962a3-3529-483d-8cf8-935e3d4fa76c"
          ],
          [
           "bdb03a73-da0e-4180-ac67-8a4e01fc1e52"
          ],
          [
           "7736c1dd-9635-47b1-b93f-2e4ad8545902"
          ],
          [
           "4aca5ca9-7ae7-41de-a7f7-146a45bdb2df"
          ],
          [
           "e3eb48db-84be-44a4-b30f-247b1afe98f0"
          ],
          [
           "f0234421-a828-49cf-85e0-190d306989ef"
          ],
          [
           "0bbf57ca-75c1-44be-b6fa-2996dfc9131b"
          ],
          [
           "fcbcd9df-0c1b-40d7-a314-b4ab4cdb9935"
          ],
          [
           "a52015a6-8ed7-499b-ad84-2d77896ef5b6"
          ],
          [
           "a814f7d9-6698-4a9e-9595-3e258156f14b"
          ],
          [
           "30f20892-ca46-4c38-bdb1-3f3e7b5a094d"
          ],
          [
           "d2990966-f101-4c86-88f3-cfd6712c5094"
          ],
          [
           "e423ba83-aa46-4eba-a4d7-8b5c1dc156f4"
          ],
          [
           "73760c93-704d-4535-afe4-0da12c5e2f4e"
          ],
          [
           "268168ee-0ec0-436e-ac03-d3aeb7e38336"
          ],
          [
           "b24e6abe-8d69-46af-976b-eb1bb148e5a7"
          ],
          [
           "0e12f3a1-a606-4299-864c-b3951c4ea7ae"
          ],
          [
           "f45fb47b-61af-4dbd-8ca7-5f2b469a75ef"
          ],
          [
           "41bc0ac5-3cb3-4a5c-bd06-5b082b8633e4"
          ],
          [
           "e0086f91-f2c8-4a5e-908d-743eba8c7e1f"
          ],
          [
           "052253cb-a0ad-4d45-a2fb-20ba5f2e72c1"
          ],
          [
           "9e29e1cb-8664-452f-aa92-fc6a785cee69"
          ],
          [
           "634ab18b-b7b6-4fe5-b661-fba219870752"
          ],
          [
           "8e55d2c1-f312-420d-9261-9f2e8db68d5c"
          ],
          [
           "654d120c-0420-4939-9006-0c151fa0a95a"
          ],
          [
           "06f8e673-d7e0-41a2-b2f0-dc448adce5b3"
          ],
          [
           "4f55e289-800f-4012-b518-331f1632eaac"
          ],
          [
           "b7759f7b-ed40-4b8e-b8a0-68039b9d413d"
          ],
          [
           "fa14d710-5856-41c6-a7c6-9f39fe80a5d9"
          ],
          [
           "4ca38da1-13ba-4cf3-870a-c154b6b2217b"
          ],
          [
           "13f6ae8d-67bb-4dba-a77d-e0864b53d063"
          ],
          [
           "dee79e90-d3ad-4c8e-961c-8a3c1d0cc7cb"
          ],
          [
           "22e19c59-7268-4b6a-9fe7-9e8a4cb1928b"
          ],
          [
           "6aadb57a-d27a-44cc-99b4-c82d2b2e16f2"
          ],
          [
           "f15534b6-d9e5-4316-813d-b55233dcf74b"
          ],
          [
           "a111f636-dc48-475f-b39b-1bae7177cf62"
          ],
          [
           "4e7cf58c-0ce7-4e14-9084-cf6a8db73a4c"
          ],
          [
           "c902eede-19b4-430e-a3b2-1a95048f6995"
          ],
          [
           "f1b76c1c-95e6-46d1-a7ea-004dda840933"
          ],
          [
           "d19b68e1-49c5-4a95-aeec-85be02009a92"
          ],
          [
           "3c662dde-e14b-4a32-b0c8-8cca4baaf626"
          ],
          [
           "5920d79c-17bf-4325-91d4-07e10ce43b20"
          ],
          [
           "d43233fe-c2d3-4a81-b698-810cfb8f934e"
          ],
          [
           "c031d16a-8686-44c0-bd06-7e00859f3846"
          ],
          [
           "c226b236-5567-49fe-98dc-26c65d50397a"
          ],
          [
           "26303b54-c4b1-40a7-a474-deab4915d53d"
          ],
          [
           "1fc09b73-6f51-419f-8a2b-7aa4ad8b5d31"
          ],
          [
           "f8cbd360-f440-45a7-8cb6-03135d1cde51"
          ],
          [
           "00c0b39c-db79-45f3-bfe0-97469a71d085"
          ],
          [
           "25451d5f-ba9d-4a60-aa44-2bc2dfac63a4"
          ],
          [
           "f2bc5b0e-4af2-4881-a748-4771e6f49f8b"
          ],
          [
           "28a975c6-c900-4199-9487-34c4fcf5d0bd"
          ],
          [
           "e1394769-8668-492b-ab15-2ed03d4c41d1"
          ],
          [
           "b3027e23-6f32-4afc-8917-6a5fa7134ed2"
          ],
          [
           "d6451244-6f8c-403b-8c47-026d552decc9"
          ],
          [
           "078eeadd-e677-4ff5-9300-74996699482d"
          ],
          [
           "fdbe8fcf-f1d2-4749-8afb-910dc13ba14a"
          ],
          [
           "78f5bce7-0a31-4acb-9cb7-e1f7d0c7e64b"
          ],
          [
           "01d5b33b-f714-4088-bb36-419ee4738ed1"
          ]
         ],
         "hovertemplate": "Entity Type=document<br>UMAP1=%{x}<br>UMAP2=%{y}<br>UMAP3=%{z}<br>hover_data_0=%{customdata[0]}<extra></extra>",
         "legendgroup": "document",
         "marker": {
          "color": "#00cc96",
          "line": {
           "color": "white",
           "width": 0.5
          },
          "size": 3,
          "symbol": "circle"
         },
         "mode": "markers",
         "name": "document",
         "scene": "scene",
         "showlegend": true,
         "type": "scatter3d",
         "x": [
          2.147933,
          2.1309144,
          2.067619,
          6.0470386,
          5.7833433,
          5.59021,
          5.697205,
          2.3426962,
          5.618916,
          -6.4188046,
          1.850793,
          -6.3605194,
          6.019073,
          5.7303495,
          15.032413,
          14.913076,
          5.516446,
          6.0711155,
          5.8133144,
          1.9559385,
          14.821941,
          5.6887827,
          2.156447,
          5.634584,
          5.746855,
          6.1122084,
          15.133716,
          6.107272,
          5.658774,
          6.068741,
          15.035187,
          15.095333,
          6.0733085,
          5.9989953,
          15.265116,
          6.0638633,
          5.9767504,
          5.616396,
          5.5837517,
          6.022494,
          14.692055,
          15.394708,
          15.297745,
          14.889696,
          5.788228,
          5.6808996,
          15.224801,
          5.780177,
          5.533926,
          1.836244,
          15.171541,
          5.42829,
          1.9296138,
          14.822254,
          14.88952,
          2.2024767,
          14.866589,
          5.2450204,
          14.956793,
          6.2039523,
          2.1536136,
          2.2166717,
          2.29229,
          2.3533204,
          5.7922945,
          2.3279831,
          16.264524,
          5.703292,
          15.996845,
          6.295653,
          16.265503,
          5.3525643,
          15.109265,
          5.2964005,
          5.124417,
          2.282175,
          5.4480906,
          14.76026,
          2.1163576,
          2.3586776,
          14.583712,
          2.3640242,
          4.975572,
          2.20241,
          14.243421,
          14.606764,
          14.176305,
          5.298882,
          2.325846,
          14.778048,
          5.2654176,
          14.529317,
          5.1778107,
          2.5548828,
          2.267973,
          5.721284,
          1.9087145,
          1.8951905,
          2.2249439,
          2.17461,
          5.612285,
          6.0127683,
          5.8125396,
          2.5951064,
          2.440878,
          14.937968,
          14.43595,
          6.0271335,
          14.344654,
          5.5018067,
          1.9347764,
          6.251137,
          1.8498273,
          6.435884,
          14.900333,
          1.7779952,
          1.8310065,
          14.81232,
          15.337872,
          15.374552
         ],
         "y": [
          17.676325,
          17.7556,
          17.601377,
          0.14439899,
          -0.11327294,
          -0.155987,
          0.17615159,
          17.523954,
          0.123848945,
          -0.39160705,
          17.788855,
          -0.33335078,
          -0.005092549,
          -0.17648786,
          8.202441,
          8.429632,
          -0.33447233,
          -0.19366059,
          -0.043762453,
          17.642342,
          8.53975,
          -0.4393854,
          17.532417,
          -0.34171423,
          -0.32012844,
          -0.18480466,
          8.331356,
          0.051785886,
          -0.27807617,
          0.16105466,
          8.502374,
          7.979782,
          0.06639249,
          -0.03188181,
          8.094323,
          0.12964034,
          -0.06302392,
          -0.33408326,
          -0.050205898,
          0.26413742,
          8.36091,
          8.287081,
          7.9221487,
          8.001687,
          -0.20404236,
          -0.09455557,
          8.214368,
          0.17988269,
          0.061161526,
          17.551155,
          8.001281,
          0.10968327,
          17.51031,
          7.9743485,
          8.073418,
          17.457169,
          7.7816434,
          0.22003616,
          7.997792,
          0.14882672,
          17.398315,
          17.63648,
          17.674742,
          17.760262,
          -0.010983935,
          17.315018,
          7.6032147,
          0.94448984,
          7.329941,
          -0.05795446,
          7.3809705,
          0.4735424,
          7.468049,
          0.683927,
          0.14616528,
          17.474384,
          0.785679,
          7.412525,
          17.807238,
          17.42104,
          8.191673,
          17.96992,
          0.023457829,
          17.414238,
          8.233183,
          7.438747,
          8.377034,
          0.18708582,
          17.970531,
          7.7412086,
          0.110924006,
          7.580361,
          -0.27425602,
          17.571844,
          17.722952,
          0.08582589,
          17.973503,
          18.071087,
          17.806204,
          18.005482,
          -0.14269699,
          -0.065180376,
          -0.07831196,
          17.697351,
          17.710663,
          7.645418,
          7.8678164,
          -0.28484315,
          8.528805,
          -0.26685134,
          17.73084,
          -0.5564847,
          17.338032,
          0.41441855,
          8.351407,
          17.937199,
          17.806324,
          8.66327,
          8.22554,
          8.364243
         ],
         "z": [
          3.5227714,
          3.2800345,
          3.4402854,
          15.910468,
          15.881127,
          16.095396,
          15.954842,
          3.1452243,
          15.857059,
          0.2526972,
          2.6698365,
          0.31098276,
          16.105074,
          15.77305,
          -5.7929363,
          -6.0141835,
          16.07674,
          16.073935,
          15.738745,
          3.4339142,
          -5.910692,
          16.114944,
          3.0756774,
          15.952295,
          15.9243355,
          15.814376,
          -5.824326,
          16.048096,
          15.904952,
          16.058184,
          -6.307358,
          -5.788189,
          16.261038,
          16.077131,
          -5.9693117,
          16.063766,
          16.026894,
          16.223534,
          16.274464,
          16.091936,
          -6.271128,
          -6.0770807,
          -6.0175037,
          -5.949695,
          16.545597,
          16.546513,
          -6.0984073,
          16.430687,
          16.32937,
          3.0147874,
          -6.3641067,
          16.484846,
          3.0993385,
          -6.3399034,
          -6.2105656,
          3.2159848,
          -6.315017,
          16.185658,
          -6.420159,
          16.454058,
          2.987499,
          2.9241602,
          3.198842,
          2.951025,
          16.68547,
          3.0372953,
          -5.366404,
          16.296024,
          -5.167401,
          15.39181,
          -5.271646,
          15.679532,
          -6.066915,
          16.114744,
          16.060713,
          3.1160877,
          15.680001,
          -6.297984,
          2.9455829,
          3.2781262,
          -6.724669,
          3.1639555,
          16.10133,
          3.5013363,
          -6.3119287,
          -5.8851905,
          -6.199012,
          15.474189,
          3.3851779,
          -5.788345,
          16.023409,
          -6.3071723,
          15.401115,
          3.433201,
          2.9090312,
          15.366021,
          3.1579154,
          3.3019652,
          3.522623,
          3.3429017,
          15.692083,
          15.585794,
          15.519535,
          3.01631,
          3.5931668,
          -5.592192,
          -5.845757,
          15.417915,
          -5.8036,
          15.50276,
          2.9530623,
          15.868489,
          3.452558,
          15.958053,
          -5.4111238,
          2.5379171,
          2.4758847,
          -6.1310754,
          -6.550083,
          -6.3236156
         ]
        },
        {
         "customdata": [
          [
           "4630d534-3727-4da6-8c57-6eccbc621b10"
          ],
          [
           "f7dca5fb-784c-416c-ac98-d556d6c28a4b"
          ]
         ],
         "hovertemplate": "Entity Type=api_model<br>UMAP1=%{x}<br>UMAP2=%{y}<br>UMAP3=%{z}<br>hover_data_0=%{customdata[0]}<extra></extra>",
         "legendgroup": "api_model",
         "marker": {
          "color": "#ab63fa",
          "line": {
           "color": "white",
           "width": 0.5
          },
          "size": 3,
          "symbol": "circle"
         },
         "mode": "markers",
         "name": "api_model",
         "scene": "scene",
         "showlegend": true,
         "type": "scatter3d",
         "x": [
          -6.360389,
          -6.4581237
         ],
         "y": [
          -0.33321947,
          -0.43093094
         ],
         "z": [
          0.31109285,
          0.21338971
         ]
        },
        {
         "customdata": [
          [
           "340dca8d-ebee-4d1e-8c11-6804b0b9f2c0"
          ]
         ],
         "hovertemplate": "Entity Type=training_session<br>UMAP1=%{x}<br>UMAP2=%{y}<br>UMAP3=%{z}<br>hover_data_0=%{customdata[0]}<extra></extra>",
         "legendgroup": "training_session",
         "marker": {
          "color": "#FFA15A",
          "line": {
           "color": "white",
           "width": 0.5
          },
          "size": 3,
          "symbol": "circle"
         },
         "mode": "markers",
         "name": "training_session",
         "scene": "scene",
         "showlegend": true,
         "type": "scatter3d",
         "x": [
          -6.3831673
         ],
         "y": [
          -0.35603574
         ],
         "z": [
          0.28830978
         ]
        },
        {
         "customdata": [
          [
           "c71c42ff-2f52-460f-97f8-c96b19b2e1ad"
          ],
          [
           "34a231b8-11b8-4212-aa20-242af3442284"
          ],
          [
           "717cb0b0-6baa-4f2c-b9b7-a5896b726b75"
          ],
          [
           "6cf316a2-5544-45cc-bae6-863f0fceb3ed"
          ],
          [
           "819712ce-bcce-4eb3-8ac1-47b66a9ae091"
          ],
          [
           "d8feb99d-668d-4f12-8066-0af53685916d"
          ]
         ],
         "hovertemplate": "Entity Type=recipe<br>UMAP1=%{x}<br>UMAP2=%{y}<br>UMAP3=%{z}<br>hover_data_0=%{customdata[0]}<extra></extra>",
         "legendgroup": "recipe",
         "marker": {
          "color": "#19d3f3",
          "line": {
           "color": "white",
           "width": 0.5
          },
          "size": 3,
          "symbol": "circle"
         },
         "mode": "markers",
         "name": "recipe",
         "scene": "scene",
         "showlegend": true,
         "type": "scatter3d",
         "x": [
          5.8789496,
          2.0045152,
          15.119858,
          15.15568,
          1.9595424,
          2.5907533
         ],
         "y": [
          -0.006442389,
          17.667593,
          8.682326,
          7.983235,
          17.634024,
          17.305998
         ],
         "z": [
          15.970059,
          3.0387154,
          -5.5994234,
          -5.525182,
          3.7939909,
          3.381517
         ]
        },
        {
         "customdata": [
          [
           "6b2a7ebb-7369-4a95-ac8a-cabdbd95a93e"
          ]
         ],
         "hovertemplate": "Entity Type=meal_plan<br>UMAP1=%{x}<br>UMAP2=%{y}<br>UMAP3=%{z}<br>hover_data_0=%{customdata[0]}<extra></extra>",
         "legendgroup": "meal_plan",
         "marker": {
          "color": "#FF6692",
          "line": {
           "color": "white",
           "width": 0.5
          },
          "size": 3,
          "symbol": "circle"
         },
         "mode": "markers",
         "name": "meal_plan",
         "scene": "scene",
         "showlegend": true,
         "type": "scatter3d",
         "x": [
          0.50983214
         ],
         "y": [
          -7.49215
         ],
         "z": [
          0.88637435
         ]
        }
       ],
       "layout": {
        "height": 700,
        "legend": {
         "title": {
          "text": "Entity Type"
         },
         "tracegroupgap": 0
        },
        "scene": {
         "domain": {
          "x": [
           0,
           1
          ],
          "y": [
           0,
           1
          ]
         },
         "xaxis": {
          "title": {
           "text": "UMAP Dimension 1"
          }
         },
         "yaxis": {
          "title": {
           "text": "UMAP Dimension 2"
          }
         },
         "zaxis": {
          "title": {
           "text": "UMAP Dimension 3"
          }
         }
        },
        "template": {
         "data": {
          "bar": [
           {
            "error_x": {
             "color": "#2a3f5f"
            },
            "error_y": {
             "color": "#2a3f5f"
            },
            "marker": {
             "line": {
              "color": "#E5ECF6",
              "width": 0.5
             },
             "pattern": {
              "fillmode": "overlay",
              "size": 10,
              "solidity": 0.2
             }
            },
            "type": "bar"
           }
          ],
          "barpolar": [
           {
            "marker": {
             "line": {
              "color": "#E5ECF6",
              "width": 0.5
             },
             "pattern": {
              "fillmode": "overlay",
              "size": 10,
              "solidity": 0.2
             }
            },
            "type": "barpolar"
           }
          ],
          "carpet": [
           {
            "aaxis": {
             "endlinecolor": "#2a3f5f",
             "gridcolor": "white",
             "linecolor": "white",
             "minorgridcolor": "white",
             "startlinecolor": "#2a3f5f"
            },
            "baxis": {
             "endlinecolor": "#2a3f5f",
             "gridcolor": "white",
             "linecolor": "white",
             "minorgridcolor": "white",
             "startlinecolor": "#2a3f5f"
            },
            "type": "carpet"
           }
          ],
          "choropleth": [
           {
            "colorbar": {
             "outlinewidth": 0,
             "ticks": ""
            },
            "type": "choropleth"
           }
          ],
          "contour": [
           {
            "colorbar": {
             "outlinewidth": 0,
             "ticks": ""
            },
            "colorscale": [
             [
              0,
              "#0d0887"
             ],
             [
              0.1111111111111111,
              "#46039f"
             ],
             [
              0.2222222222222222,
              "#7201a8"
             ],
             [
              0.3333333333333333,
              "#9c179e"
             ],
             [
              0.4444444444444444,
              "#bd3786"
             ],
             [
              0.5555555555555556,
              "#d8576b"
             ],
             [
              0.6666666666666666,
              "#ed7953"
             ],
             [
              0.7777777777777778,
              "#fb9f3a"
             ],
             [
              0.8888888888888888,
              "#fdca26"
             ],
             [
              1,
              "#f0f921"
             ]
            ],
            "type": "contour"
           }
          ],
          "contourcarpet": [
           {
            "colorbar": {
             "outlinewidth": 0,
             "ticks": ""
            },
            "type": "contourcarpet"
           }
          ],
          "heatmap": [
           {
            "colorbar": {
             "outlinewidth": 0,
             "ticks": ""
            },
            "colorscale": [
             [
              0,
              "#0d0887"
             ],
             [
              0.1111111111111111,
              "#46039f"
             ],
             [
              0.2222222222222222,
              "#7201a8"
             ],
             [
              0.3333333333333333,
              "#9c179e"
             ],
             [
              0.4444444444444444,
              "#bd3786"
             ],
             [
              0.5555555555555556,
              "#d8576b"
             ],
             [
              0.6666666666666666,
              "#ed7953"
             ],
             [
              0.7777777777777778,
              "#fb9f3a"
             ],
             [
              0.8888888888888888,
              "#fdca26"
             ],
             [
              1,
              "#f0f921"
             ]
            ],
            "type": "heatmap"
           }
          ],
          "heatmapgl": [
           {
            "colorbar": {
             "outlinewidth": 0,
             "ticks": ""
            },
            "colorscale": [
             [
              0,
              "#0d0887"
             ],
             [
              0.1111111111111111,
              "#46039f"
             ],
             [
              0.2222222222222222,
              "#7201a8"
             ],
             [
              0.3333333333333333,
              "#9c179e"
             ],
             [
              0.4444444444444444,
              "#bd3786"
             ],
             [
              0.5555555555555556,
              "#d8576b"
             ],
             [
              0.6666666666666666,
              "#ed7953"
             ],
             [
              0.7777777777777778,
              "#fb9f3a"
             ],
             [
              0.8888888888888888,
              "#fdca26"
             ],
             [
              1,
              "#f0f921"
             ]
            ],
            "type": "heatmapgl"
           }
          ],
          "histogram": [
           {
            "marker": {
             "pattern": {
              "fillmode": "overlay",
              "size": 10,
              "solidity": 0.2
             }
            },
            "type": "histogram"
           }
          ],
          "histogram2d": [
           {
            "colorbar": {
             "outlinewidth": 0,
             "ticks": ""
            },
            "colorscale": [
             [
              0,
              "#0d0887"
             ],
             [
              0.1111111111111111,
              "#46039f"
             ],
             [
              0.2222222222222222,
              "#7201a8"
             ],
             [
              0.3333333333333333,
              "#9c179e"
             ],
             [
              0.4444444444444444,
              "#bd3786"
             ],
             [
              0.5555555555555556,
              "#d8576b"
             ],
             [
              0.6666666666666666,
              "#ed7953"
             ],
             [
              0.7777777777777778,
              "#fb9f3a"
             ],
             [
              0.8888888888888888,
              "#fdca26"
             ],
             [
              1,
              "#f0f921"
             ]
            ],
            "type": "histogram2d"
           }
          ],
          "histogram2dcontour": [
           {
            "colorbar": {
             "outlinewidth": 0,
             "ticks": ""
            },
            "colorscale": [
             [
              0,
              "#0d0887"
             ],
             [
              0.1111111111111111,
              "#46039f"
             ],
             [
              0.2222222222222222,
              "#7201a8"
             ],
             [
              0.3333333333333333,
              "#9c179e"
             ],
             [
              0.4444444444444444,
              "#bd3786"
             ],
             [
              0.5555555555555556,
              "#d8576b"
             ],
             [
              0.6666666666666666,
              "#ed7953"
             ],
             [
              0.7777777777777778,
              "#fb9f3a"
             ],
             [
              0.8888888888888888,
              "#fdca26"
             ],
             [
              1,
              "#f0f921"
             ]
            ],
            "type": "histogram2dcontour"
           }
          ],
          "mesh3d": [
           {
            "colorbar": {
             "outlinewidth": 0,
             "ticks": ""
            },
            "type": "mesh3d"
           }
          ],
          "parcoords": [
           {
            "line": {
             "colorbar": {
              "outlinewidth": 0,
              "ticks": ""
             }
            },
            "type": "parcoords"
           }
          ],
          "pie": [
           {
            "automargin": true,
            "type": "pie"
           }
          ],
          "scatter": [
           {
            "fillpattern": {
             "fillmode": "overlay",
             "size": 10,
             "solidity": 0.2
            },
            "type": "scatter"
           }
          ],
          "scatter3d": [
           {
            "line": {
             "colorbar": {
              "outlinewidth": 0,
              "ticks": ""
             }
            },
            "marker": {
             "colorbar": {
              "outlinewidth": 0,
              "ticks": ""
             }
            },
            "type": "scatter3d"
           }
          ],
          "scattercarpet": [
           {
            "marker": {
             "colorbar": {
              "outlinewidth": 0,
              "ticks": ""
             }
            },
            "type": "scattercarpet"
           }
          ],
          "scattergeo": [
           {
            "marker": {
             "colorbar": {
              "outlinewidth": 0,
              "ticks": ""
             }
            },
            "type": "scattergeo"
           }
          ],
          "scattergl": [
           {
            "marker": {
             "colorbar": {
              "outlinewidth": 0,
              "ticks": ""
             }
            },
            "type": "scattergl"
           }
          ],
          "scattermapbox": [
           {
            "marker": {
             "colorbar": {
              "outlinewidth": 0,
              "ticks": ""
             }
            },
            "type": "scattermapbox"
           }
          ],
          "scatterpolar": [
           {
            "marker": {
             "colorbar": {
              "outlinewidth": 0,
              "ticks": ""
             }
            },
            "type": "scatterpolar"
           }
          ],
          "scatterpolargl": [
           {
            "marker": {
             "colorbar": {
              "outlinewidth": 0,
              "ticks": ""
             }
            },
            "type": "scatterpolargl"
           }
          ],
          "scatterternary": [
           {
            "marker": {
             "colorbar": {
              "outlinewidth": 0,
              "ticks": ""
             }
            },
            "type": "scatterternary"
           }
          ],
          "surface": [
           {
            "colorbar": {
             "outlinewidth": 0,
             "ticks": ""
            },
            "colorscale": [
             [
              0,
              "#0d0887"
             ],
             [
              0.1111111111111111,
              "#46039f"
             ],
             [
              0.2222222222222222,
              "#7201a8"
             ],
             [
              0.3333333333333333,
              "#9c179e"
             ],
             [
              0.4444444444444444,
              "#bd3786"
             ],
             [
              0.5555555555555556,
              "#d8576b"
             ],
             [
              0.6666666666666666,
              "#ed7953"
             ],
             [
              0.7777777777777778,
              "#fb9f3a"
             ],
             [
              0.8888888888888888,
              "#fdca26"
             ],
             [
              1,
              "#f0f921"
             ]
            ],
            "type": "surface"
           }
          ],
          "table": [
           {
            "cells": {
             "fill": {
              "color": "#EBF0F8"
             },
             "line": {
              "color": "white"
             }
            },
            "header": {
             "fill": {
              "color": "#C8D4E3"
             },
             "line": {
              "color": "white"
             }
            },
            "type": "table"
           }
          ]
         },
         "layout": {
          "annotationdefaults": {
           "arrowcolor": "#2a3f5f",
           "arrowhead": 0,
           "arrowwidth": 1
          },
          "autotypenumbers": "strict",
          "coloraxis": {
           "colorbar": {
            "outlinewidth": 0,
            "ticks": ""
           }
          },
          "colorscale": {
           "diverging": [
            [
             0,
             "#8e0152"
            ],
            [
             0.1,
             "#c51b7d"
            ],
            [
             0.2,
             "#de77ae"
            ],
            [
             0.3,
             "#f1b6da"
            ],
            [
             0.4,
             "#fde0ef"
            ],
            [
             0.5,
             "#f7f7f7"
            ],
            [
             0.6,
             "#e6f5d0"
            ],
            [
             0.7,
             "#b8e186"
            ],
            [
             0.8,
             "#7fbc41"
            ],
            [
             0.9,
             "#4d9221"
            ],
            [
             1,
             "#276419"
            ]
           ],
           "sequential": [
            [
             0,
             "#0d0887"
            ],
            [
             0.1111111111111111,
             "#46039f"
            ],
            [
             0.2222222222222222,
             "#7201a8"
            ],
            [
             0.3333333333333333,
             "#9c179e"
            ],
            [
             0.4444444444444444,
             "#bd3786"
            ],
            [
             0.5555555555555556,
             "#d8576b"
            ],
            [
             0.6666666666666666,
             "#ed7953"
            ],
            [
             0.7777777777777778,
             "#fb9f3a"
            ],
            [
             0.8888888888888888,
             "#fdca26"
            ],
            [
             1,
             "#f0f921"
            ]
           ],
           "sequentialminus": [
            [
             0,
             "#0d0887"
            ],
            [
             0.1111111111111111,
             "#46039f"
            ],
            [
             0.2222222222222222,
             "#7201a8"
            ],
            [
             0.3333333333333333,
             "#9c179e"
            ],
            [
             0.4444444444444444,
             "#bd3786"
            ],
            [
             0.5555555555555556,
             "#d8576b"
            ],
            [
             0.6666666666666666,
             "#ed7953"
            ],
            [
             0.7777777777777778,
             "#fb9f3a"
            ],
            [
             0.8888888888888888,
             "#fdca26"
            ],
            [
             1,
             "#f0f921"
            ]
           ]
          },
          "colorway": [
           "#636efa",
           "#EF553B",
           "#00cc96",
           "#ab63fa",
           "#FFA15A",
           "#19d3f3",
           "#FF6692",
           "#B6E880",
           "#FF97FF",
           "#FECB52"
          ],
          "font": {
           "color": "#2a3f5f"
          },
          "geo": {
           "bgcolor": "white",
           "lakecolor": "white",
           "landcolor": "#E5ECF6",
           "showlakes": true,
           "showland": true,
           "subunitcolor": "white"
          },
          "hoverlabel": {
           "align": "left"
          },
          "hovermode": "closest",
          "mapbox": {
           "style": "light"
          },
          "paper_bgcolor": "white",
          "plot_bgcolor": "#E5ECF6",
          "polar": {
           "angularaxis": {
            "gridcolor": "white",
            "linecolor": "white",
            "ticks": ""
           },
           "bgcolor": "#E5ECF6",
           "radialaxis": {
            "gridcolor": "white",
            "linecolor": "white",
            "ticks": ""
           }
          },
          "scene": {
           "xaxis": {
            "backgroundcolor": "#E5ECF6",
            "gridcolor": "white",
            "gridwidth": 2,
            "linecolor": "white",
            "showbackground": true,
            "ticks": "",
            "zerolinecolor": "white"
           },
           "yaxis": {
            "backgroundcolor": "#E5ECF6",
            "gridcolor": "white",
            "gridwidth": 2,
            "linecolor": "white",
            "showbackground": true,
            "ticks": "",
            "zerolinecolor": "white"
           },
           "zaxis": {
            "backgroundcolor": "#E5ECF6",
            "gridcolor": "white",
            "gridwidth": 2,
            "linecolor": "white",
            "showbackground": true,
            "ticks": "",
            "zerolinecolor": "white"
           }
          },
          "shapedefaults": {
           "line": {
            "color": "#2a3f5f"
           }
          },
          "ternary": {
           "aaxis": {
            "gridcolor": "white",
            "linecolor": "white",
            "ticks": ""
           },
           "baxis": {
            "gridcolor": "white",
            "linecolor": "white",
            "ticks": ""
           },
           "bgcolor": "#E5ECF6",
           "caxis": {
            "gridcolor": "white",
            "linecolor": "white",
            "ticks": ""
           }
          },
          "title": {
           "x": 0.05
          },
          "xaxis": {
           "automargin": true,
           "gridcolor": "white",
           "linecolor": "white",
           "ticks": "",
           "title": {
            "standoff": 15
           },
           "zerolinecolor": "white",
           "zerolinewidth": 2
          },
          "yaxis": {
           "automargin": true,
           "gridcolor": "white",
           "linecolor": "white",
           "ticks": "",
           "title": {
            "standoff": 15
           },
           "zerolinecolor": "white",
           "zerolinewidth": 2
          }
         }
        },
        "title": {
         "font": {
          "size": 16
         },
         "text": "3D UMAP: 651 Entities"
        },
        "width": 900
       }
      }
     },
     "metadata": {},
     "output_type": "display_data"
    },
    {
     "name": "stdout",
     "output_type": "stream",
     "text": [
      "✓ 3D UMAP visualization created!\n",
      "• Rotate, zoom, and explore the 3D embedding space\n",
      "• Look for clusters that might be hidden in 2D views\n",
      "• Click and drag to rotate the view\n"
     ]
    }
   ],
   "source": [
    "# 3D UMAP Visualization - Even more detail!\n",
    "print(\"Creating 3D UMAP visualization...\")\n",
    "print(\"3D can reveal structure that's hidden in 2D projections\")\n",
    "\n",
    "# Create 3D UMAP\n",
    "umap_3d = umap.UMAP(\n",
    "    n_components=3,\n",
    "    n_neighbors=15,\n",
    "    min_dist=0.1,\n",
    "    metric='cosine',\n",
    "    random_state=42\n",
    ")\n",
    "\n",
    "embeddings_umap_3d = umap_3d.fit_transform(embeddings_scaled)\n",
    "\n",
    "# Create 3D interactive plot\n",
    "fig_3d = px.scatter_3d(\n",
    "    x=embeddings_umap_3d[:, 0],\n",
    "    y=embeddings_umap_3d[:, 1], \n",
    "    z=embeddings_umap_3d[:, 2],\n",
    "    color=entity_types_array,\n",
    "    title=f'3D UMAP: {len(embeddings_umap_3d)} Entities',\n",
    "    labels={'x': 'UMAP1', 'y': 'UMAP2', 'z': 'UMAP3', 'color': 'Entity Type'},\n",
    "    hover_data=[entity_ids],\n",
    "    width=900,\n",
    "    height=700\n",
    ")\n",
    "\n",
    "fig_3d.update_traces(\n",
    "    marker_size=3,\n",
    "    marker_line_width=0.5,\n",
    "    marker_line_color='white'\n",
    ")\n",
    "\n",
    "fig_3d.update_layout(\n",
    "    title_font_size=16,\n",
    "    scene=dict(\n",
    "        xaxis_title='UMAP Dimension 1',\n",
    "        yaxis_title='UMAP Dimension 2', \n",
    "        zaxis_title='UMAP Dimension 3'\n",
    "    )\n",
    ")\n",
    "\n",
    "fig_3d.show()\n",
    "\n",
    "print(\"✓ 3D UMAP visualization created!\")\n",
    "print(\"• Rotate, zoom, and explore the 3D embedding space\")\n",
    "print(\"• Look for clusters that might be hidden in 2D views\")\n",
    "print(\"• Click and drag to rotate the view\")\n"
   ]
  },
  {
   "cell_type": "code",
   "execution_count": null,
   "id": "4b4143fc",
   "metadata": {},
   "outputs": [],
   "source": [
    "# Import the embedding function from your embedding model\n",
    "from shared_utils.entities.service.embedding_model import _embed_sync\n",
    "\n",
    "def embed_query_and_visualize(query_text, plot_title=\"Query in UMAP Space\"):\n",
    "    \"\"\"\n",
    "    Embed a user query and visualize it in the same UMAP space as entity embeddings\n",
    "    \n",
    "    Args:\n",
    "        query_text (str): The text to embed and visualize\n",
    "        plot_title (str): Title for the plot\n",
    "    \"\"\"\n",
    "    print(f\"Embedding query: '{query_text}'\")\n",
    "    \n",
    "    # 1. Embed the query using the same model as entities\n",
    "    query_embedding = _embed_sync([query_text])  # Returns list[list[float]]\n",
    "    query_embedding_array = np.array(query_embedding)  # Shape: (1, 384)\n",
    "    \n",
    "    print(f\"✓ Query embedded to {query_embedding_array.shape[1]} dimensions\")\n",
    "    \n",
    "    # 2. Scale the query embedding using the SAME scaler that was used for entities\n",
    "    query_embedding_scaled = scaler.transform(query_embedding_array)  # Use existing fitted scaler\n",
    "    \n",
    "    print(\"✓ Query embedding scaled using same scaler as entity embeddings\")\n",
    "    \n",
    "    # 3. Transform query embedding using the existing fitted UMAP model\n",
    "    query_umap_2d = umap_2d.transform(query_embedding_scaled)  # Shape: (1, 2)\n",
    "    \n",
    "    print(\"✓ Query embedding projected to UMAP 2D space\")\n",
    "    \n",
    "    # 4. Create visualization combining entities and query\n",
    "    plt.figure(figsize=(14, 10))\n",
    "    \n",
    "    # Plot existing entities (same as before)\n",
    "    sns.scatterplot(data=df_umap, x='UMAP1', y='UMAP2', hue='entity_type', \n",
    "                    alpha=0.6, s=50, legend='full')\n",
    "    \n",
    "    # Plot the query point with a distinctive marker\n",
    "    plt.scatter(query_umap_2d[0, 0], query_umap_2d[0, 1], \n",
    "                color='red', s=200, marker='*', \n",
    "                edgecolors='black', linewidth=2,\n",
    "                label=f'Query: \"{query_text}\"', zorder=10)\n",
    "    \n",
    "    # Enhance the plot\n",
    "    plt.title(f'{plot_title}\\nQuery: \"{query_text}\"', fontsize=16, fontweight='bold')\n",
    "    plt.xlabel('UMAP Dimension 1', fontsize=12)\n",
    "    plt.ylabel('UMAP Dimension 2', fontsize=12)\n",
    "    \n",
    "    # Improve legend\n",
    "    plt.legend(bbox_to_anchor=(1.05, 1), loc='upper left', title='Entity Type / Query')\n",
    "    plt.tight_layout()\n",
    "    plt.grid(True, alpha=0.3)\n",
    "    plt.show()\n",
    "    \n",
    "    # 5. Find nearest entities to the query\n",
    "    print(f\"\\n=== QUERY ANALYSIS ===\")\n",
    "    print(f\"Query position in UMAP space: ({query_umap_2d[0, 0]:.3f}, {query_umap_2d[0, 1]:.3f})\")\n",
    "    \n",
    "    # Calculate distances to all entities in UMAP space\n",
    "    distances = np.sqrt((df_umap['UMAP1'] - query_umap_2d[0, 0])**2 + \n",
    "                       (df_umap['UMAP2'] - query_umap_2d[0, 1])**2)\n",
    "    \n",
    "    # Find 5 nearest entities\n",
    "    nearest_indices = distances.nsmallest(5).index\n",
    "    \n",
    "    print(f\"\\n🎯 Top 5 nearest entities to query '{query_text}':\")\n",
    "    for i, idx in enumerate(nearest_indices, 1):\n",
    "        entity_type = df_umap.loc[idx, 'entity_type']\n",
    "        entity_id = df_umap.loc[idx, 'entity_id']\n",
    "        distance = distances.loc[idx]\n",
    "        print(f\"  {i}. Entity ID: {entity_id} | Type: {entity_type} | Distance: {distance:.3f}\")\n",
    "    \n",
    "    return query_umap_2d, nearest_indices\n",
    "\n",
    "print(\"✓ Query embedding and visualization function defined!\")\n",
    "print(\"📘 Usage: embed_query_and_visualize('your search query here')\")\n"
   ]
  },
  {
   "cell_type": "code",
   "execution_count": null,
   "id": "9c069ead",
   "metadata": {},
   "outputs": [],
   "source": [
    "# Example usage: Embed and visualize a user query\n",
    "user_query = \"financial trading strategy analysis\"\n",
    "\n",
    "print(\"🚀 EMBEDDING USER QUERY IN ENTITY SPACE\")\n",
    "print(\"=\" * 50)\n",
    "\n",
    "# Use the function we just created\n",
    "query_position, nearest_entities = embed_query_and_visualize(\n",
    "    user_query, \n",
    "    plot_title=\"User Query Positioned in Entity Embedding Space\"\n",
    ")\n",
    "\n",
    "print(f\"\\n💡 INTERPRETATION:\")\n",
    "print(f\"The red star shows where your query '{user_query}' lands in the entity embedding space.\")\n",
    "print(f\"Entities closest to the star are most semantically similar to your query!\")\n",
    "print(f\"This helps you understand which entities in your database are most relevant to the search.\")\n"
   ]
  },
  {
   "cell_type": "code",
   "execution_count": null,
   "id": "220cf904",
   "metadata": {},
   "outputs": [],
   "source": [
    "# Interactive query testing - Try different queries!\n",
    "print(\"🔍 INTERACTIVE QUERY TESTING\")\n",
    "print(\"=\" * 40)\n",
    "print(\"Try different queries to see where they land in your entity space!\")\n",
    "print()\n",
    "\n",
    "# You can modify this query to test different search terms\n",
    "test_queries = [\n",
    "    \"recipe cooking food preparation\",\n",
    "    \"document analysis text processing\", \n",
    "    \"data visualization and charts\",\n",
    "    \"user interface design\",\n",
    "    \"machine learning model training\"\n",
    "]\n",
    "\n",
    "print(\"📝 Pre-defined test queries:\")\n",
    "for i, query in enumerate(test_queries, 1):\n",
    "    print(f\"  {i}. '{query}'\")\n",
    "\n",
    "print(f\"\\n🎯 To test a query, use:\")\n",
    "print(f\"embed_query_and_visualize('your query here')\")\n",
    "print(f\"\\n💡 Example:\")\n",
    "print(f\"embed_query_and_visualize('{test_queries[0]}')\")\n",
    "\n",
    "# Uncomment the line below to automatically test the first query\n",
    "# embed_query_and_visualize(test_queries[0])\n"
   ]
  },
  {
   "cell_type": "code",
   "execution_count": null,
   "id": "a9f1e098",
   "metadata": {},
   "outputs": [
    {
     "name": "stdout",
     "output_type": "stream",
     "text": [
      "Creating 3D UMAP visualization...\n",
      "3D can reveal structure that's hidden in 2D projections\n"
     ]
    },
    {
     "data": {
      "application/vnd.plotly.v1+json": {
       "config": {
        "plotlyServerURL": "https://plot.ly"
       },
       "data": [
        {
         "customdata": [
          [
           "1f30a9ba-1c63-4404-bbf3-b422e25d915c"
          ],
          [
           "a8e63b3a-1978-498a-82b2-b515e1cca856"
          ],
          [
           "c2cc9e71-ba87-4803-8870-c43dc9bcec3c"
          ],
          [
           "b8de0258-581e-4757-84f3-cb4a3889c7e3"
          ],
          [
           "f371fbd6-48f7-4965-a14b-3e1e57bd1099"
          ],
          [
           "5184c423-f8b6-49b9-9a0d-3b1f1993e168"
          ],
          [
           "4819c79e-3b67-42d5-a7c7-1e207e7a68f8"
          ],
          [
           "b9dd013a-1fe0-40d0-96b2-17da8f53a50f"
          ],
          [
           "ec0dc8d7-3f08-46cb-b8c7-f177f33aa15c"
          ],
          [
           "4ccceb9f-24d0-4e01-a203-ed8a428e1f9a"
          ],
          [
           "421e5a43-50d0-4dac-9434-dabc3887b71b"
          ],
          [
           "44df580f-5783-4f12-bb57-f45a930c4d16"
          ],
          [
           "837dfc8a-879b-4147-ab03-7eb8ffcb6e9f"
          ],
          [
           "51fa4fc1-5de5-465a-90c9-f9600fe6739c"
          ],
          [
           "03da0711-05ec-41a7-b8c4-6a6e5439e6f7"
          ],
          [
           "ebf54184-450e-451a-826e-cca1f45c43fc"
          ],
          [
           "d9c8eaab-9867-459c-af96-765274d8a3f8"
          ],
          [
           "12ea37bd-0e9a-44d5-9f24-2379b7e31677"
          ],
          [
           "38ab6e7c-490f-49a6-8600-01e105a852d8"
          ],
          [
           "d2d9cf2b-4da2-467a-9320-9dae625961b9"
          ],
          [
           "29761674-4f11-4904-a3bf-43ef59e40e1f"
          ],
          [
           "b91e6ce0-ba34-4571-a31d-bc7fa30cfaa1"
          ],
          [
           "d568c0a2-b9aa-4883-bdc3-c35a5a78dd74"
          ],
          [
           "231d4b0f-4b72-4421-a25b-6c328f43b7ce"
          ],
          [
           "e0112a59-d6cf-489c-8ac1-8450a54d16f6"
          ],
          [
           "d070c17a-757b-4c20-9461-d38cba9a5981"
          ],
          [
           "5f9ad383-f027-4e8b-be3b-8f5d45757ec3"
          ],
          [
           "f7b5eaee-99ee-4b62-8552-d0222a401304"
          ],
          [
           "ee710523-709d-4766-b6be-f3543af7e313"
          ],
          [
           "ada66118-b867-4b79-bb36-c30c5b767b35"
          ],
          [
           "d64c6956-b6c6-434d-a360-0fc7d74264a5"
          ],
          [
           "158f42aa-7f84-44e4-b41e-6591189f83b1"
          ],
          [
           "3fd2505c-d926-4902-aff9-f035dfd2e60e"
          ],
          [
           "dc920139-cdf6-4b73-9cc3-2633c45e6d53"
          ],
          [
           "c94d62c2-b2e2-4422-a93f-b9b0bad3ebee"
          ],
          [
           "dfd0cf41-75a2-4f78-95e6-ea0ac7350314"
          ],
          [
           "b7dbadc3-291c-40fc-b5a5-cd510a6227d4"
          ],
          [
           "1dc24441-5f24-4d3e-af07-c74e7e1d0877"
          ],
          [
           "6e51f199-a555-4733-98f8-c2d33b96ac67"
          ],
          [
           "0e11a27e-16f0-49f9-a088-7152e4202516"
          ],
          [
           "85a04481-81de-44bb-b3a3-5ca80b6619f6"
          ],
          [
           "a6494279-def7-4277-b835-76d4136746de"
          ],
          [
           "c37db90c-357a-42f7-95b5-ef2a901fe200"
          ],
          [
           "03952642-6675-48e9-9da3-62d9b2770d3d"
          ],
          [
           "fcd5b1e4-b288-45d2-a98d-ae97dc43c9fa"
          ],
          [
           "ef78c280-7f17-4aea-8d70-2b827aab8343"
          ],
          [
           "dac9fefc-d869-42fe-8019-d8bdac75a1c5"
          ],
          [
           "1555ff37-6fca-417a-a4d6-3b6f9677e0e8"
          ],
          [
           "e1d5dcdd-491c-44aa-9b90-495f794e4c06"
          ],
          [
           "520c74ae-6eab-43da-bf31-1ddca09d55b3"
          ],
          [
           "742c50ce-a998-4a9d-96ef-0bbf674f0e0d"
          ],
          [
           "e9d254c6-cc8e-4e85-b0e1-924754c9b765"
          ],
          [
           "e19d8ef5-a112-48d3-aaeb-2c106e561eeb"
          ],
          [
           "39a1de5a-9146-4f9c-bd45-434395894655"
          ],
          [
           "2688d59e-530a-42c8-83bd-8a8bb9dbd031"
          ],
          [
           "bce544b1-c19b-471f-ab48-c0da533df0d9"
          ],
          [
           "c6d41be1-085c-4f67-b3e9-4d35f589f0b4"
          ],
          [
           "e2cc8f3d-adf8-4d79-a9f7-67af98bb8dc4"
          ],
          [
           "d8c49bfa-bb56-4344-984f-7fe3c9811f0b"
          ],
          [
           "806ead96-31db-48ec-977e-80d414aa10f9"
          ],
          [
           "14a99959-cada-4c5d-9516-3118a1dacfab"
          ],
          [
           "05a9f78f-0ccb-40e7-921a-8f3aacd55ea3"
          ],
          [
           "d665a41a-c6c3-4c9e-9b5a-4acdf15531a4"
          ],
          [
           "f4f4eaea-0f54-4650-af2e-1d99b7d7089c"
          ],
          [
           "66d74ba6-1d89-43e7-9102-4746b613d623"
          ],
          [
           "ce245c72-62b0-4ef3-b280-a25c4053a40d"
          ],
          [
           "3f28673a-05ad-4779-8461-0b8dfa4f0b07"
          ],
          [
           "48332b82-5437-41f4-86bd-dc71bb8cc659"
          ],
          [
           "fdad68e4-5740-4658-8751-0f27ab9aea8a"
          ],
          [
           "0f39d45c-4c65-4833-b92d-a7a57cdb8b49"
          ],
          [
           "33129398-ecdb-4ddf-b65a-b61793815ee8"
          ],
          [
           "517c8de0-252b-4a01-9d73-85a60fc3fb1d"
          ],
          [
           "30c505de-944e-4237-b78f-5dec9fac6ac7"
          ],
          [
           "af4806af-d578-4bec-8d19-d92cfa09321c"
          ],
          [
           "c51fb6fc-79cb-4c8f-b9ce-3710ccae251c"
          ],
          [
           "6c28b379-7c64-4281-a485-b302926b4bde"
          ],
          [
           "034b88cb-a916-4ff3-8a7b-8f44137eba4d"
          ],
          [
           "a98c7ff0-9322-4f14-bd7a-fa8b9f28dd5e"
          ],
          [
           "e5ecb756-339a-45ac-880b-b2c198b028a0"
          ],
          [
           "4b9ff345-b3f7-42cc-b696-d7cdcd565bb0"
          ],
          [
           "3d67266e-751e-491e-83cf-4c841a281df3"
          ],
          [
           "3f66111e-f2a7-4491-9686-0cb7678f7384"
          ],
          [
           "c5436380-e1fb-449f-b24f-d10b49457f3c"
          ],
          [
           "fbb1e885-fe33-4b73-9240-3fe6c505b793"
          ],
          [
           "45d246d1-a193-4c23-aecb-0dbe68df9771"
          ],
          [
           "734da7f3-eae2-4523-9e11-8847bc20f80c"
          ],
          [
           "866f114e-c5e7-402e-93f7-f6124e5437c5"
          ],
          [
           "5ce8b175-3ef8-41ed-bcce-536080d05ada"
          ],
          [
           "16c1addf-fb37-4f64-8897-90c76f7a7611"
          ],
          [
           "aa33027c-b7f5-4c88-83aa-a2e9466f5832"
          ],
          [
           "a9d46657-3b9b-4863-b891-4d1e0c49e183"
          ],
          [
           "276228dc-708b-4911-ac4e-59ba2f85f8ec"
          ],
          [
           "9a2df6a7-569a-4f2c-bf18-8689e9406e8d"
          ],
          [
           "e1c62fd8-96c0-4e55-8885-bc5ee80fbb67"
          ],
          [
           "aa3b58c8-c309-461a-a01e-2c987ef4f2fd"
          ],
          [
           "34db27e9-e928-4336-8953-b47b375c7805"
          ],
          [
           "5d15e54d-e350-4184-8da3-e202a3e3af50"
          ],
          [
           "1db733b8-5b33-426d-aea8-679b5ff867c3"
          ],
          [
           "d8745ae3-8b42-42ab-af3b-1f2547ad5589"
          ],
          [
           "a179bf41-176e-4498-9428-07ec4657625b"
          ],
          [
           "e1c77446-1830-4360-87e0-5b82a2938c45"
          ],
          [
           "4e5d474a-3ee6-48da-bdc0-9b28518364b2"
          ],
          [
           "4ab34280-d9d4-44b9-80ce-5281888b4b27"
          ],
          [
           "fe18b622-a5a4-448c-8eab-321b8b56b46b"
          ],
          [
           "889ec452-c64f-49c9-b9f0-5bec54798e0c"
          ],
          [
           "2771a176-25f4-413f-b21a-6367758bebcd"
          ],
          [
           "d15e4513-dd86-412a-a68e-ec6217c2f0b7"
          ],
          [
           "4d55c7ec-c787-4c2b-9cad-997345184962"
          ],
          [
           "bf244130-0b88-4683-ba6e-953263e43845"
          ],
          [
           "2696f01a-ca56-417e-955b-d501887e54a6"
          ],
          [
           "d581547f-d974-4112-9742-9282fe75375b"
          ],
          [
           "90762d0e-be87-402c-99fe-f60d5d9d5341"
          ],
          [
           "2a3f34c4-f54c-43e9-9178-9dbdb00d2d09"
          ],
          [
           "aa1d979e-ec6f-48d3-946c-5f011a706f18"
          ],
          [
           "70a4db5a-b9d7-43f6-9c74-dd0de13102f9"
          ],
          [
           "19b0ad8b-4cea-448a-8a51-0abd6a3f1225"
          ],
          [
           "1f81046d-3a3a-4ac9-8ba9-3c465c76e892"
          ],
          [
           "f8c95b2a-f645-4d96-98f5-74e8b707c05d"
          ],
          [
           "9cd74183-5a58-4a1e-88d4-938e18a0a1dd"
          ],
          [
           "30eb0119-1bcf-455c-a7d3-81e27e3af026"
          ],
          [
           "1a818c90-17e4-401d-a05f-f88a019923fd"
          ],
          [
           "21ec3ae6-3940-4315-b60b-ddd074c6a7e5"
          ],
          [
           "75eca45c-11a3-4fad-a57a-e247bc67ba30"
          ],
          [
           "db49df8d-62ac-43d7-99f9-a640e568d87e"
          ],
          [
           "262367a2-47c4-4f11-9c26-5b3c5d54940c"
          ],
          [
           "1e05ca79-27b0-402c-8514-22f319271ee9"
          ],
          [
           "3213dd47-d046-4ecc-ba0a-3b7284dc6dba"
          ],
          [
           "52a864cf-930f-438d-9e4b-3a9ae3981980"
          ],
          [
           "6d3dae01-e978-4650-b25b-0ce615d39423"
          ],
          [
           "8590d133-faf9-49f5-881f-dde598297f43"
          ],
          [
           "a58c17fd-00c3-4f73-a423-32aaf879eee6"
          ],
          [
           "27113f30-106c-4701-a660-37863acc6e5e"
          ],
          [
           "ce7f8096-ea30-4946-a6fa-d6bbaaa247bb"
          ],
          [
           "3fce959a-d661-46ea-ab19-7743d2096a07"
          ],
          [
           "de560b93-5628-4a20-8806-5f1335e6936a"
          ],
          [
           "fc4275ff-5ac7-4b89-91de-874fa6cd16fb"
          ],
          [
           "f59a3f82-963d-4c68-b5ef-19480264f6d7"
          ],
          [
           "820f9e63-224b-4df1-9bf6-a8991f2975f6"
          ],
          [
           "fda556e3-06ff-409d-b2c3-5c1f46fd0511"
          ],
          [
           "01d691fe-430f-4c11-adc2-cc94e04ff3ac"
          ],
          [
           "f1b626f2-905a-4ded-afd5-bfe2430a299d"
          ],
          [
           "5ac27e11-0154-410a-aaae-04db15c57434"
          ],
          [
           "03be2c7d-6600-49e5-8d6b-d1de35ef8a87"
          ],
          [
           "6590c005-516f-485f-a2b8-495cc9ebe3de"
          ],
          [
           "9075f765-8b77-4ab9-8fa3-87eb6f3fb26e"
          ]
         ],
         "hovertemplate": "Entity Type=view<br>UMAP1=%{x}<br>UMAP2=%{y}<br>UMAP3=%{z}<br>hover_data_0=%{customdata[0]}<extra></extra>",
         "legendgroup": "view",
         "marker": {
          "color": "#636efa",
          "line": {
           "color": "white",
           "width": 0.5
          },
          "size": 3,
          "symbol": "circle"
         },
         "mode": "markers",
         "name": "view",
         "scene": "scene",
         "showlegend": true,
         "type": "scatter3d",
         "x": [
          14.842942,
          2.4048948,
          15.074718,
          2.0540154,
          14.896409,
          15.042748,
          2.1195495,
          -6.35866,
          -6.3769307,
          14.925397,
          1.9706388,
          2.2248094,
          2.0772476,
          5.892488,
          15.139765,
          1.8861315,
          5.351831,
          2.0145993,
          5.438972,
          2.0263045,
          5.8978033,
          2.258086,
          2.06016,
          1.9945012,
          5.6538987,
          5.4087114,
          1.9860603,
          15.077584,
          14.899407,
          1.9182614,
          5.366009,
          15.20754,
          2.0022736,
          5.4606266,
          1.9357231,
          5.4105268,
          2.0468128,
          1.9503653,
          2.2160513,
          2.1535277,
          2.1841278,
          6.085922,
          14.966823,
          14.799287,
          2.1433804,
          16.179914,
          5.0422044,
          2.1135228,
          2.0481384,
          5.7575326,
          5.363783,
          5.104744,
          2.4762409,
          5.049034,
          14.466532,
          2.446959,
          5.3581953,
          4.915286,
          2.2145972,
          5.0888224,
          14.552432,
          5.251041,
          5.0368576,
          14.359828,
          2.4766512,
          2.3365166,
          2.3558848,
          5.2684135,
          5.1853175,
          2.2925231,
          5.618099,
          14.427365,
          2.2134836,
          2.1932511,
          1.9791048,
          14.166585,
          15.125273,
          1.5987486,
          2.5336099,
          1.7728168,
          1.8174099,
          14.292206,
          1.9785342,
          1.8069569,
          1.7637727,
          14.864509,
          -6.4044437,
          5.786686,
          6.0082893,
          2.1385484,
          14.442865,
          6.2791467,
          14.789322,
          14.440464,
          14.567799,
          14.481182,
          14.798782,
          14.414844,
          2.0136375,
          14.444945,
          6.189271,
          5.7890706,
          1.6056137,
          14.737632,
          14.443248,
          6.2328987,
          1.6443106,
          14.814974,
          6.209186,
          15.476249,
          14.496939,
          1.8722333,
          2.0229042,
          14.622539,
          1.8515313,
          6.38892,
          2.3179584,
          6.0336957,
          1.5053244,
          6.309486,
          6.177247,
          2.0507083,
          2.1024823,
          6.2686257,
          2.0579755,
          6.2450314,
          2.1821856,
          2.310947,
          15.401799,
          15.436988,
          0.6467166,
          15.250926,
          15.399642,
          14.743109,
          15.006453,
          2.217511,
          0.5571108,
          15.429019,
          15.086903,
          14.637516,
          15.236677,
          15.439953,
          2.174984,
          2.4385037,
          0.592748
         ],
         "y": [
          8.02281,
          17.643847,
          8.26588,
          17.671202,
          8.120958,
          8.078652,
          17.531387,
          -0.33150747,
          -0.34976706,
          8.227499,
          17.54523,
          17.672087,
          17.325466,
          0.17654921,
          8.377692,
          17.314405,
          -0.13212655,
          17.615984,
          0.051859073,
          17.584417,
          0.35679623,
          17.464289,
          17.409327,
          17.311867,
          0.111839615,
          0.08370828,
          17.377386,
          8.155138,
          7.94951,
          17.586477,
          0.3916195,
          8.073926,
          17.418232,
          0.19576664,
          17.50202,
          0.3820816,
          17.745592,
          17.465538,
          17.630247,
          17.373709,
          17.442236,
          -0.09044357,
          8.005053,
          8.026275,
          17.425266,
          7.648802,
          -0.13072255,
          17.388916,
          17.802694,
          0.9666527,
          0.36545044,
          -0.42266265,
          17.682596,
          -0.14066201,
          7.9790235,
          17.752085,
          0.6349354,
          -0.004847913,
          17.409662,
          -0.2771586,
          7.7451816,
          0.08347164,
          0.07047725,
          7.7795978,
          17.855583,
          18.028063,
          17.814981,
          0.5989854,
          -0.20004119,
          17.761787,
          0.49904066,
          7.9973645,
          18.029585,
          17.789263,
          18.094635,
          8.382906,
          7.8242803,
          17.449886,
          17.62718,
          17.631617,
          17.835976,
          7.916471,
          17.91342,
          17.887291,
          17.932323,
          7.600908,
          -0.37725785,
          0.3245456,
          -0.24749577,
          17.670256,
          8.000848,
          -0.50762415,
          7.9134126,
          8.084459,
          7.8284435,
          8.039206,
          7.73654,
          8.514982,
          17.8773,
          8.277487,
          0.115451455,
          -0.47539324,
          17.601286,
          8.647782,
          8.386088,
          0.2758867,
          17.766857,
          8.825386,
          0.3004651,
          8.272839,
          8.513943,
          17.411892,
          18.16058,
          8.741174,
          17.183249,
          0.046753164,
          17.161457,
          -0.58765644,
          17.844393,
          -0.44506544,
          -0.458326,
          17.247044,
          16.978619,
          0.38284943,
          17.083555,
          -0.44334936,
          16.991743,
          17.277311,
          8.170509,
          7.9018583,
          -7.3555446,
          8.4346,
          8.482201,
          8.869393,
          8.2838745,
          17.967264,
          -7.445104,
          8.713893,
          8.715453,
          8.640404,
          8.579132,
          8.627457,
          17.442558,
          17.300266,
          -7.4094377
         ],
         "z": [
          -6.0926237,
          3.3097293,
          -5.784958,
          3.2492108,
          -5.9973617,
          -5.947316,
          3.1546404,
          0.31282014,
          0.2945572,
          -5.9827394,
          3.4704318,
          3.3174822,
          3.2952228,
          16.14256,
          -6.222908,
          3.2553737,
          16.099068,
          3.0598595,
          16.544664,
          2.9807427,
          16.481071,
          2.976244,
          2.8891647,
          3.100798,
          16.648136,
          16.41177,
          3.1383023,
          -6.337584,
          -6.431394,
          3.2235646,
          16.391853,
          -6.022358,
          3.36344,
          16.630817,
          3.0287476,
          16.171272,
          2.8969414,
          2.8527234,
          2.9325411,
          3.1316147,
          3.0763624,
          16.547705,
          -6.505248,
          -6.417265,
          3.2483795,
          -4.5959363,
          16.66653,
          2.8601992,
          3.0815184,
          16.080145,
          15.746276,
          15.731144,
          3.2084646,
          15.877706,
          -6.4116907,
          3.258486,
          16.15862,
          15.66479,
          3.490302,
          15.776918,
          -6.137997,
          15.823214,
          15.474378,
          -5.803899,
          2.9073546,
          3.0784547,
          3.4704845,
          15.942551,
          16.078497,
          3.6028206,
          15.596278,
          -5.529732,
          3.4166076,
          3.4515827,
          3.5362282,
          -5.7610083,
          -5.527964,
          3.1104937,
          3.5643184,
          3.5865183,
          2.480898,
          -6.017874,
          3.4016385,
          3.544927,
          3.3397174,
          -5.5492325,
          0.2670695,
          15.912433,
          15.558506,
          3.67614,
          -5.776847,
          15.853464,
          -5.506852,
          -5.595346,
          -5.4823217,
          -5.737899,
          -5.9988775,
          -5.8823957,
          3.4469442,
          -5.8363466,
          15.591524,
          15.595041,
          3.0330575,
          -5.719056,
          -5.755212,
          15.749906,
          3.0606554,
          -5.8702297,
          15.815098,
          -5.6155577,
          -5.654112,
          3.6934516,
          3.1346123,
          -5.8210316,
          2.9853868,
          15.630323,
          3.4994493,
          15.736665,
          3.2277648,
          16.19348,
          15.817807,
          3.6127975,
          3.1930847,
          16.028826,
          3.3688352,
          16.425163,
          3.04172,
          3.6475306,
          -5.7668104,
          -5.7799406,
          0.749298,
          -5.5718637,
          -6.051702,
          -6.222711,
          -5.410258,
          2.711571,
          0.83902043,
          -6.000795,
          -6.141471,
          -6.235899,
          -6.413741,
          -6.187724,
          3.737654,
          3.4366167,
          0.80335045
         ]
        },
        {
         "customdata": [
          [
           "2e292dd6-cea9-412e-8765-0550c1645d1e"
          ],
          [
           "b91138ec-671c-4244-8b91-19dcde18ebb8"
          ],
          [
           "ba7d859b-60f7-47f2-a5f9-1a18b97e3da6"
          ],
          [
           "aafc34ae-1cf9-4989-b0f4-dc277d225071"
          ],
          [
           "a944a6ee-d794-40bf-9a05-d1ca62b1f0a9"
          ],
          [
           "d0c42f87-cca3-4b7b-a268-386dbc68f89d"
          ],
          [
           "fcf9c8f8-31dd-412b-b92b-21214346d6b0"
          ],
          [
           "dff7b2c3-6a6d-42ed-8efd-621f39f6c386"
          ],
          [
           "9444189e-5f1a-41f5-acc7-49cad4e3dd98"
          ],
          [
           "ae7cf913-2b48-423d-81f4-c9ce06df4cf6"
          ],
          [
           "673d57f6-4f7c-4520-80d5-110fd765a1e6"
          ],
          [
           "704bef79-21c3-4aa1-9ea1-25b6f9ed65a2"
          ],
          [
           "cd43e7bf-f76f-4fa3-ac0f-7629600a6814"
          ],
          [
           "eeee96b9-759d-45d1-8d97-dbba38802388"
          ],
          [
           "c2869821-8700-4005-bf13-324d6079fce7"
          ],
          [
           "0dce7537-3313-4667-a2c9-c1d5c437f8c7"
          ],
          [
           "450cb2bf-6120-457e-a19c-8b45e1582b25"
          ],
          [
           "568a1356-a526-4333-83fd-fe560d525a5c"
          ],
          [
           "2b1ec6cd-b780-40be-b1b8-a3412d31348a"
          ],
          [
           "d16cf533-2768-4809-ab14-8173e251fa89"
          ],
          [
           "a02be019-84e5-40df-8dcc-cfc91a27e905"
          ],
          [
           "b401a8c3-fa42-48a9-9f5e-426c4b11c7fe"
          ],
          [
           "a05f3ecf-9c18-4171-9dc0-ceba09d97cb9"
          ],
          [
           "23a40556-4da2-46d5-9924-daf743a5b25f"
          ],
          [
           "2e4eba5a-95b9-4513-a9a3-92343b8d5818"
          ],
          [
           "95f19830-3b91-4d8e-83c4-b0cd446a62e3"
          ],
          [
           "8c2578af-816b-44f7-8d4b-138d8da6a79f"
          ],
          [
           "7bd6e904-39d1-4c10-ba78-784a38c40160"
          ],
          [
           "cbbe09b2-0ec2-4cef-8c2a-fbee6d8495db"
          ],
          [
           "f2d5ce3b-2aa9-4e99-91c3-21fc6417766f"
          ],
          [
           "34bc6f34-a499-4c93-a2a0-c1907a9ad586"
          ],
          [
           "968411d9-b1c0-4859-8cac-875fb0124233"
          ],
          [
           "984b1d04-7810-4e35-8854-ab337d766492"
          ],
          [
           "e2401684-8e87-4117-951c-c4e8a79651f9"
          ],
          [
           "b1572e54-06e2-4c21-9283-37d275edb8a1"
          ],
          [
           "e0c086a0-a62b-4423-b034-28630084a5e3"
          ],
          [
           "051c3da0-ef67-4c9c-a841-3874d3216544"
          ],
          [
           "00f61952-8a82-4653-b6ea-ade998a218d4"
          ],
          [
           "886e7e01-30a3-46c3-a592-d5a85c50a4a6"
          ],
          [
           "600244ed-3262-485b-b755-84b529f7af29"
          ],
          [
           "93a984ef-4693-45ea-bb88-7d88555bdea8"
          ],
          [
           "89117ff2-f38e-4038-9e89-92860897fb2a"
          ],
          [
           "cfc2f9fe-59a4-4530-b322-8bb9f4097721"
          ],
          [
           "1f9be3b9-1c7d-4d39-aaf6-058ae1e56d7d"
          ],
          [
           "3d1b00fc-c9c4-4b71-a2a5-2a87eb2dfcf0"
          ],
          [
           "f6040893-dac5-43b7-b92d-675b2deefb9d"
          ],
          [
           "f84dd08c-9087-446a-9fcc-e7749367506d"
          ],
          [
           "7621852c-c7c5-44c4-ac19-9e2f2a6e43ca"
          ],
          [
           "73479401-b260-4b1a-945a-cd4fc8d9b835"
          ],
          [
           "8b5f7869-7df5-4b7e-a8e8-06a059242771"
          ],
          [
           "26d4b6c3-70a9-4415-8cab-0c3209556fb7"
          ],
          [
           "ec49db9a-489a-4259-a57d-bef40e2a497f"
          ],
          [
           "38bf4c4a-9366-4cfc-ba42-c12fbe322ad5"
          ],
          [
           "ee08a4f2-92a2-4fa3-9dc6-cfedeccb6853"
          ],
          [
           "ecbec8a2-c42f-47b8-a7dd-4fabb4fd2b8c"
          ],
          [
           "17a8a485-bda5-4d1e-ae0e-65268cdd8cac"
          ],
          [
           "240fbcac-a44b-418b-ba2b-d651eb9c1124"
          ],
          [
           "d3401a9f-c52b-4255-a6e8-e79552a2b3c6"
          ],
          [
           "983fc2d4-7973-4a58-9bf1-b30bf6651f12"
          ],
          [
           "b259ad41-34a8-411c-9912-83fda689cc99"
          ],
          [
           "43d9cec1-7f19-46f7-8aa1-3d5ffd86a473"
          ],
          [
           "82f477e3-a691-4fb9-8f87-56339225a32f"
          ],
          [
           "7a659f09-e515-4392-b52d-d8e4feea1797"
          ],
          [
           "57bf8025-304b-4611-8ea2-05a058d3ec80"
          ],
          [
           "c7504160-aa8b-457f-b818-293810c27aef"
          ],
          [
           "2814c1c5-0d90-4238-8a60-0054babe9aa1"
          ],
          [
           "e2c93ad8-517f-4a5d-8951-a794d994cf53"
          ],
          [
           "3508ed99-064d-42be-ab50-e34ccb20ea08"
          ],
          [
           "d969e257-a85b-45c1-869c-faaf2902e174"
          ],
          [
           "63ee463d-4e12-4cac-a99f-a0c6546a4d76"
          ],
          [
           "d0997af8-30e1-4c8e-9a72-323d57b2537a"
          ],
          [
           "fe8023c9-89d9-4dc7-b3f3-fb8fae119b21"
          ],
          [
           "d3ed73c3-ab3f-40d6-ba2d-f87d49f474ec"
          ],
          [
           "66f72728-57ad-409a-a273-d6a73e672db3"
          ],
          [
           "6745c19e-55f6-470a-8c70-50b421e1f857"
          ],
          [
           "cbafb089-e294-426e-a8e3-a6730adbda74"
          ],
          [
           "9c060a5d-964f-4512-adc8-4f9dc5dcfa87"
          ],
          [
           "a9705e46-f439-4769-95e2-9c768df9a696"
          ],
          [
           "822cb93b-7308-4090-a666-e2b36c5ac94a"
          ],
          [
           "2c8ed5dd-9a21-4f0e-b30d-158237c3be56"
          ],
          [
           "509d45b1-223b-42de-a06e-31bd14269eb4"
          ],
          [
           "bf9285a0-cade-4ea4-9a83-469060f2ae75"
          ],
          [
           "7a6a94c7-0b8b-4dc7-99d6-bdbb723d7f7a"
          ],
          [
           "acc9d3a8-1ba4-4aae-95ff-2c1f37b182b8"
          ],
          [
           "be4093a7-02bc-4bba-be96-048507100032"
          ],
          [
           "dc591be2-4da5-480a-b6d2-c13a87107023"
          ],
          [
           "a04474c1-6b33-4650-a33e-2b322f1fe0f4"
          ],
          [
           "3d1db8ab-4f88-40ef-be56-2b63000a4640"
          ],
          [
           "a3864c2d-53d8-49a5-9cd0-1386f1ebde63"
          ],
          [
           "a4397aca-8e7b-4a10-b583-1362098a6b4d"
          ],
          [
           "2cdca649-ac48-446c-8bac-afb0863d4f65"
          ],
          [
           "894284c6-4af6-4b86-b1bf-ea53a78f44ed"
          ],
          [
           "d4aea957-defd-4803-a7d8-2a083d8516cb"
          ],
          [
           "77ee5738-fa06-48df-ba1f-0dda185dc3bb"
          ],
          [
           "fb022c6b-2abd-43ef-a8d0-792a24e7b4fb"
          ],
          [
           "17ab8fc5-ac9c-4b52-bb48-c91afc6414a6"
          ],
          [
           "fe64149b-bd9a-4045-989c-d50ff263efd9"
          ],
          [
           "f60a34b6-6ec1-477b-a945-4e9cd5efdb60"
          ],
          [
           "d2fca464-8010-40e7-b9e0-0db9482525ee"
          ],
          [
           "52fd56c2-a5c5-431a-a2ad-e3f48ed0920c"
          ],
          [
           "6c9ce5ed-d3af-4787-9492-0eda4f986978"
          ],
          [
           "c3c0462d-8c18-4227-8448-48b420402e37"
          ],
          [
           "aaa0475c-6802-463c-b67c-aa4b92be4706"
          ],
          [
           "9225d849-a118-4241-8cc3-660a477671aa"
          ],
          [
           "9c8b38b9-422e-41c7-9821-55bf248aa736"
          ],
          [
           "8ad1a368-24cc-4f96-ab14-71b15c39b0fc"
          ],
          [
           "b3199927-9431-44cf-9dfb-49f926915fe0"
          ],
          [
           "d25c859c-eba0-4664-a12f-05d126d79216"
          ],
          [
           "8aded30f-7e95-41af-a1e5-149c3998f9c7"
          ],
          [
           "aa802203-8010-4576-93b7-214ed44ba56a"
          ],
          [
           "6d47a8fc-83fc-44aa-98ce-8b68964f2762"
          ],
          [
           "79fd1a3f-9010-4983-91d9-04d1f4f2a110"
          ],
          [
           "b4602a96-da19-4679-85f3-9a919e321230"
          ],
          [
           "b363608d-7b26-45f6-b347-428fda21a322"
          ],
          [
           "80e2df11-41a5-4728-8f2d-f951c30d82f0"
          ],
          [
           "4a686878-7e36-4ea4-80a4-b727294a7284"
          ],
          [
           "d8cca264-5aed-4a0f-80ad-48c4237c8256"
          ],
          [
           "7e958f43-406c-448d-b6ec-e93337ce0620"
          ],
          [
           "375b79e0-9c4e-4695-b17e-7278e0842f84"
          ],
          [
           "1010655a-4d14-4bd2-9aff-455c08eb829f"
          ],
          [
           "b13e61cd-7f9b-4b0c-b9f0-5680d120cb68"
          ],
          [
           "630f26d4-d8d9-4351-9400-6a21dcf40f2c"
          ],
          [
           "be9fae38-1f14-4899-976b-b84ea7333037"
          ],
          [
           "f05a28a1-4724-4cc3-aef7-6551d2242cf0"
          ],
          [
           "f07581f8-f943-42d2-90fd-2eb69cda2147"
          ],
          [
           "997a4b92-63f9-48a2-9268-0631cd5c18cc"
          ],
          [
           "44faa970-3ab7-4fa3-aff1-4b8f15d4b4c5"
          ],
          [
           "75abcc01-4d90-4570-aa2b-f4d2b9ce73dc"
          ],
          [
           "a5d96389-9b6b-4ca9-a218-e0413bb7364e"
          ],
          [
           "97353558-2c8a-40b4-8f61-c7298098eb3a"
          ],
          [
           "6a23314c-2fa0-4a2a-ba37-05755174b0b3"
          ],
          [
           "abaaeb96-4da2-4d78-ae60-014ceccf7f7f"
          ],
          [
           "1b1c3ef6-b44a-4677-95fe-144551c79ac9"
          ],
          [
           "f2ed0163-b35c-41e5-8114-f8c1fd0a0e58"
          ],
          [
           "1bf02a1d-56c8-413b-b70b-29642d7ed3fd"
          ],
          [
           "d85781ed-49da-4c30-b875-09c4cf6e4a28"
          ],
          [
           "c4eed01d-5b0a-4cdc-a950-fc1eb2ab7ea9"
          ],
          [
           "5980a805-e928-4530-b2d6-95bf1c4996e4"
          ],
          [
           "66cbb616-d1d2-4415-a5e7-3663739a05cd"
          ],
          [
           "77a9e829-d519-4cad-ab4f-460851843079"
          ],
          [
           "6ddb9795-1eb0-4a14-988c-02a8c3286234"
          ],
          [
           "734e4f12-53dd-4548-b141-8fd8f2fb46e8"
          ],
          [
           "fb3d453d-5f73-40af-865e-967aa438d981"
          ],
          [
           "76d181a4-087e-43c3-99d8-f4a8c86e5df8"
          ],
          [
           "e3bcd525-f997-4e84-a720-a00372eaa166"
          ],
          [
           "2919bc7c-b5d6-47f1-8a6d-ce20eb0e7da7"
          ],
          [
           "26ef2229-7ff2-4ffb-8ec2-87042175fcb7"
          ],
          [
           "cb417898-855f-4bf6-b3e6-8aa317de37e6"
          ],
          [
           "1575dc92-86eb-4f61-8ea4-eb13de72fafd"
          ],
          [
           "708c7a13-85e8-4905-8075-3027e939f721"
          ],
          [
           "e3552d41-3946-4235-93b9-10f336c84e67"
          ],
          [
           "0a3564da-1f86-4145-98b1-7de5e9c8e03e"
          ],
          [
           "3c35c06b-a62e-4ac1-821a-3a09294ba771"
          ],
          [
           "c4c283c1-aa46-4a06-92f6-afddabf1ccd0"
          ],
          [
           "a9191a18-860e-489d-96b0-979c89704170"
          ],
          [
           "94f4b0fa-85d4-423c-81de-89c048e5c4ee"
          ],
          [
           "4fe439fb-6da8-4252-9546-679df5facf56"
          ],
          [
           "61655071-914d-4ce4-9d16-bbc1fa65d349"
          ],
          [
           "fe05ed14-6ba3-4589-be1b-4b9e779b4f4c"
          ],
          [
           "1c42b6e0-228f-4ab1-9028-f3d5d9bd3fcd"
          ],
          [
           "81abe02f-8b07-4b8d-ab8d-2c8bdafcfae6"
          ],
          [
           "8d38fcde-f194-43e3-af7d-05b4d54ad220"
          ],
          [
           "2e4ee315-dbc9-478f-b624-58d9356f9eb7"
          ],
          [
           "8b62d906-1531-4d86-991b-0b455dce2680"
          ],
          [
           "a1913e99-84c9-4091-8f79-1aca68352f70"
          ],
          [
           "7f8f6aca-0a03-4ebe-aae2-dbfe0c783a92"
          ],
          [
           "88409f0d-a368-423b-b14c-345b73221653"
          ],
          [
           "1a2ee8cd-0ebb-4da6-903c-18942b865e20"
          ],
          [
           "90172502-fc31-49e5-8cf2-29693c1f7e45"
          ],
          [
           "20a57718-f6a7-43c8-bc84-0d2151aa84f2"
          ],
          [
           "e0e93369-6014-4df2-947c-2dcdacf34eeb"
          ],
          [
           "2be45e9a-93cd-44b1-9a13-1fbebaa335da"
          ],
          [
           "559fd265-a341-4412-b19f-bfb378f264ad"
          ],
          [
           "eeef7718-67b3-4549-a714-571c217120aa"
          ],
          [
           "53f51244-11e3-43aa-a555-9f417a8da435"
          ],
          [
           "43a66bde-24a3-4d29-a883-4b30fb701f36"
          ],
          [
           "420f5cc6-0c92-4672-8c05-bb21c07aa62f"
          ],
          [
           "585dc74b-1444-484d-88fc-4effff9d8d44"
          ],
          [
           "b921950e-252e-4fe1-8ff3-ab42e880647f"
          ],
          [
           "062d9b73-3ede-4a10-9f80-ee0d37fd2ddf"
          ],
          [
           "7ad128ff-8fe1-47f9-a197-d0f7dfda0bc1"
          ],
          [
           "37c7db66-4cb6-4e3d-b915-6b7f3bcfe98e"
          ],
          [
           "7bba07a6-78f9-4494-8345-e7eec6aeb9ca"
          ],
          [
           "4be22791-2f62-4d72-82ac-7461a16d9bb9"
          ],
          [
           "698b67d9-2048-4c4a-91bc-2f200c7d7870"
          ],
          [
           "89b949c9-377b-4fe0-843c-73e4d7456c19"
          ],
          [
           "3d8d978c-9fbe-43ee-9dce-faa95953d8d5"
          ],
          [
           "fac69729-fb50-4905-a725-1af817017c67"
          ],
          [
           "7065d4de-b38b-40d6-bead-b0f2575a0633"
          ],
          [
           "9fac2f9c-0e1e-4f09-8a95-ab2ca7facea6"
          ],
          [
           "839f36f0-4edd-4fe2-89cd-3e6e2ab18fe1"
          ],
          [
           "c2085e06-8cb4-42ac-bedf-2ff6d25a8828"
          ],
          [
           "87c4b593-7be4-4331-9f83-9b853cd179a6"
          ],
          [
           "76d53d88-eaa1-48fd-a4cf-5e6ff177a1b5"
          ],
          [
           "38cf4038-d954-42bf-a7a3-517fa94b816d"
          ],
          [
           "b2dba0df-7f64-4854-83e1-619482515a1a"
          ],
          [
           "5a5e9aaf-6766-4a27-85b8-68a22fbd5c44"
          ],
          [
           "7fef6055-b9c1-4dfa-9b14-c7873d8a7f93"
          ],
          [
           "305d7471-d69b-4099-86ae-2ac43cfd0700"
          ],
          [
           "8414dee2-e025-420f-82bc-d8a8d13d1a3c"
          ],
          [
           "9472d2ab-8878-442a-898b-1ea4ec6b59d2"
          ],
          [
           "60e41e0e-a3f6-4364-8693-23dcb60b0c39"
          ],
          [
           "aced4d7e-6fec-4b94-b7e3-72e1ecd3b679"
          ],
          [
           "2fba1d6a-deae-4fb3-aa8b-09d4052a29db"
          ],
          [
           "d37d0d2b-6a65-40af-b8bc-644a2d6e1d15"
          ],
          [
           "d8a1223b-16fe-4ad0-9861-382e0575a524"
          ],
          [
           "0af0bcad-a604-4d09-a1dc-d5d66db08a7d"
          ],
          [
           "cc1fa2f9-51d9-4f4e-b08f-5b2e91e235e4"
          ],
          [
           "0d6e475f-8da5-4f2a-9bd7-4eef475cfee3"
          ],
          [
           "b0636c79-399d-4d40-ab7a-4eefea3de1a0"
          ],
          [
           "89da336a-bec1-44e2-82b7-5cadc9685c04"
          ],
          [
           "3505c065-d9b0-4761-9738-47184627baef"
          ],
          [
           "1aed29e5-a057-4d61-a88d-0f08954e252c"
          ],
          [
           "c906b78f-0b1f-4806-96f2-c8c88ac962f3"
          ],
          [
           "d9e67d07-e509-450f-ac3a-876559390122"
          ],
          [
           "15351ec4-b386-4aff-85b0-310b2d363005"
          ],
          [
           "dd959a25-5121-4025-8a83-a50dd5de0e63"
          ],
          [
           "ef716e24-ef0d-4636-96d4-e502902dbb0d"
          ],
          [
           "71677425-3a99-4312-9b83-dde1aac2877a"
          ],
          [
           "64adf629-38cd-4969-934c-68aff9d935d1"
          ],
          [
           "d5555586-141c-4d91-a5e1-f1f7629634aa"
          ],
          [
           "124de90a-ecd9-4aba-9859-a91bebfc7785"
          ],
          [
           "604b844d-b5dd-4264-856c-9ba478f83407"
          ],
          [
           "fa990943-cdcb-4623-9dcd-322948289cd1"
          ],
          [
           "1b8b1808-c2e4-4b8b-9d0b-cd6f107934c9"
          ],
          [
           "c93c296a-a506-47e4-9d35-82d17550d0e4"
          ],
          [
           "aa9de3c0-42d2-44e5-8777-db3530310d83"
          ],
          [
           "e14c80c0-e8e1-4afd-b182-6d6f0a74f4e9"
          ],
          [
           "5a95fbe1-c5dc-4922-85cb-e7f8cea4d867"
          ],
          [
           "a80266f5-84b3-4ebb-9eca-75a6413d3327"
          ],
          [
           "cc5a384f-95b7-4cc8-af6a-5c856abea5be"
          ],
          [
           "99f218c2-d7b5-44c1-b33d-6cd4d6615a5b"
          ],
          [
           "7a6364e5-71a4-40a4-b50a-3d608e785021"
          ],
          [
           "d4c15a42-58db-40c6-bc33-418a569fda6d"
          ],
          [
           "be517a82-bf69-4a93-b81f-84b955213951"
          ],
          [
           "e142437c-de3a-4964-813d-a89575e155b3"
          ],
          [
           "4e65e33f-8894-47d2-813f-da8e8d3a850f"
          ],
          [
           "75578d52-a37d-4ef8-96cd-2fd145d1afdc"
          ],
          [
           "e7f370c9-0504-4111-b97f-a69ad23edb87"
          ],
          [
           "9ae2ee18-bbb8-4783-bf90-0bb308fab81c"
          ],
          [
           "d877448b-7a2b-4ec9-9801-b6b14d195c0d"
          ],
          [
           "89107a9d-3c78-4de1-aa05-13ce94e505ea"
          ],
          [
           "9cb93349-d6cf-4220-bb06-eb7addeb0622"
          ],
          [
           "f14ecf02-0b50-4ba4-8412-ac50cc32ca69"
          ],
          [
           "a03cec5f-ebd9-45d0-982f-be0c99a6b9ff"
          ],
          [
           "7bb9e999-c5f4-4295-8f87-51680f52c956"
          ],
          [
           "bebb06d7-0d13-4fba-bdf0-0cc9a515c17c"
          ],
          [
           "02113d27-5606-47d7-bd17-38b6e0340f22"
          ],
          [
           "7b562f9e-82e9-48b0-9b95-d972080f36c0"
          ],
          [
           "a18ab06f-51cc-4972-9856-aeba91a6b312"
          ],
          [
           "78e5027b-2cf1-4e83-88fe-e2498bf45e99"
          ],
          [
           "e8a8688b-88e6-4f6e-91e3-76021dc2c2a0"
          ],
          [
           "bcbf3e59-bfc7-412a-9f21-d9ba2fc24e91"
          ],
          [
           "6982aa3d-275a-4203-ad96-7bc0eb5decbd"
          ],
          [
           "74aca2c4-4062-495d-bb32-1096b91a7fb4"
          ],
          [
           "67c44c9c-c14a-49a3-882f-b3e0c148972a"
          ],
          [
           "8ea25fe3-d67d-47ab-afbc-11ba2cefd939"
          ],
          [
           "d55ba570-69b6-476e-8028-3237cb565b74"
          ],
          [
           "d978ef62-66a2-4055-8755-907533582e75"
          ],
          [
           "0a3aa37e-2464-484d-858a-9095c68813c5"
          ],
          [
           "110bc1f1-461a-4f20-abe5-9c3e8a4839af"
          ],
          [
           "3e295313-8223-44ff-94eb-8eb401828546"
          ],
          [
           "eefc4cf6-a56c-4882-be42-568862392f7f"
          ],
          [
           "6fc17e64-1549-46b7-b332-b55b91a04401"
          ],
          [
           "49394988-ebd4-4678-b330-960cd1104bc2"
          ],
          [
           "25d330a4-f293-4b34-8ab5-1ea4d6d559f2"
          ],
          [
           "c09ca625-bb78-421d-ae0f-a77b2a2b0ec0"
          ],
          [
           "2727bab7-b313-40ec-a284-40dc6dc5035d"
          ],
          [
           "dcfff5e3-ebe4-4ceb-81cc-42e1d1074983"
          ],
          [
           "792895dc-da33-41ab-b4d8-70060b618bb1"
          ],
          [
           "93248ec4-da6d-4d79-b3ae-f7f21c32cea9"
          ],
          [
           "da7c9ace-a1b7-4c6c-b031-45a8ecfbd57e"
          ],
          [
           "631389ba-2812-4c3e-997f-527a65f1e259"
          ],
          [
           "419a7d7e-5a76-42ec-9d4a-3556159db329"
          ],
          [
           "13eef679-8ab5-496f-80e0-85fa6626b5ab"
          ],
          [
           "b83f24ba-b35a-4f6e-8a0b-99c10dae8b6d"
          ],
          [
           "1aeca5c9-8f69-45ab-9e75-b35496c94713"
          ],
          [
           "beecaecf-7618-4ce3-9462-a52e8c8e5fea"
          ],
          [
           "99dcc2b0-ee18-40e8-9224-5f3c2976a443"
          ],
          [
           "247713ba-4d2b-4098-9395-dc8ee39aabdb"
          ],
          [
           "56b8815d-cf7f-4bd9-9bcf-1ff7ea2ce2b6"
          ],
          [
           "68b60613-ee35-4d30-b18e-5e3349460f4f"
          ],
          [
           "47f99d57-e92a-4b07-8267-875ba83296a8"
          ],
          [
           "aedec8cd-6779-48f6-8f31-1acbc51ddf47"
          ],
          [
           "eb8e1c9a-d923-4cef-9811-7f6f7484d755"
          ],
          [
           "0f2103ab-8bd5-4a4c-80ed-9718417493be"
          ],
          [
           "848459e9-0ad0-4ff7-a66d-c0471bdb7102"
          ],
          [
           "6f98b377-dc13-4fc1-8360-16f918a7c990"
          ],
          [
           "8e80b0fa-2d20-4259-9f06-ae5086e35c75"
          ],
          [
           "f916d037-3700-4f35-9950-0e7725c2ffb0"
          ],
          [
           "844c71c4-ed01-4cc2-aaa8-51a125828d77"
          ],
          [
           "d051bc00-4f18-41b0-bc42-739e31ec2df6"
          ],
          [
           "ca2fc157-beba-4e1e-b4d9-99a581baea4a"
          ],
          [
           "47782684-4d3a-4f8b-9819-91363d89f49c"
          ],
          [
           "4563217d-f45c-480b-8a13-59d9a0f11a03"
          ],
          [
           "2e792dd6-cb6a-48cf-b6e1-4e88fbaf15ef"
          ],
          [
           "1312c759-8474-47ac-a124-99dd270c1359"
          ],
          [
           "dbaf14de-ce34-4823-8064-4a8b43b64d70"
          ],
          [
           "b7e98a31-a1e5-482a-a52e-05b018adc5de"
          ],
          [
           "26a77c08-7585-45be-aca4-130051c63202"
          ],
          [
           "b818ce1a-c0d3-45d2-931e-44cf874fb536"
          ],
          [
           "3e18d75e-f3b5-41f4-8938-a66b6488b847"
          ],
          [
           "83742962-3e28-47ed-8014-1a29df947d2d"
          ],
          [
           "ca6bd40f-622b-4fb1-8240-4b7a6067b1ad"
          ],
          [
           "a3491453-c84e-4389-8895-55fcaae3ce9c"
          ],
          [
           "62dc9972-6fe9-4f55-a08c-5f71a514648a"
          ],
          [
           "e0574d06-f0be-40fd-ba58-a73f6b0e8d48"
          ],
          [
           "ed063a95-acc6-417b-8473-5d24637a9a49"
          ],
          [
           "e08dde63-97be-4739-823f-523861d984fc"
          ],
          [
           "c38990cd-47be-4f36-a1c4-8e605cc9c736"
          ],
          [
           "025bf059-5841-4349-9f64-00086c585b74"
          ],
          [
           "0a853697-1ff8-44fc-84db-38d848986957"
          ],
          [
           "35ad63b2-8161-471a-a067-62c77f5120b2"
          ],
          [
           "81c2d32a-845d-4a98-925d-cb2e1af2ce68"
          ],
          [
           "9bcd6ff7-82e0-4035-842e-4ed51ef3c2f7"
          ],
          [
           "b96e8f25-3c54-4f90-91ac-1bfdcac73874"
          ],
          [
           "5e2997f1-03b7-4c79-866e-95ca70909066"
          ],
          [
           "047ed220-5b99-4ea6-8e9a-4c91db40fb52"
          ],
          [
           "b3e88fd3-73c3-4ce1-a035-118adc67ec5a"
          ],
          [
           "4b0af827-13e3-4e62-83b4-21655b3ce8a7"
          ],
          [
           "ea97f3e6-ca72-46ea-8566-f3e541276ee5"
          ],
          [
           "3f5d91fc-ac64-443a-b8d5-06ebd7fff7c6"
          ],
          [
           "3b39d8f8-4fcd-4fd1-81a8-40e8117a53f8"
          ],
          [
           "a4dbe725-e2da-468a-ad52-bd1d76c46252"
          ],
          [
           "4289d62b-b094-4b96-9f57-589b8f9a8e81"
          ],
          [
           "0e07241d-295d-403e-bf78-9b89bb4dbd2c"
          ],
          [
           "0a9549a7-fb7c-42ae-8321-091469cbeeb1"
          ],
          [
           "dedb9959-1c25-4a8f-a5df-48f1fd3a3187"
          ],
          [
           "e81678ba-115f-4a54-bdc7-50fbf0582e22"
          ],
          [
           "dfb0bff4-f6b0-43f4-a5a2-58e2dacd8898"
          ],
          [
           "d5d97260-7279-42e2-b943-228c63c39b93"
          ],
          [
           "6878035c-9dac-4181-a78a-165cd93eef3e"
          ],
          [
           "d858686b-7909-447e-8700-3f517f9545b7"
          ],
          [
           "78dea0db-1e07-4ffd-9c88-4ddcdb47f961"
          ],
          [
           "02fa0c31-0867-4937-ade5-2d8cd7c83ac2"
          ],
          [
           "c8b74f3e-4d7b-44dd-a854-512d03152c4d"
          ],
          [
           "addf6994-4378-4c76-bdb7-afb59ba24be1"
          ],
          [
           "0a75c473-3b9d-46c9-a37b-23ec27d48e74"
          ],
          [
           "9f7447f4-3927-4fe4-96e1-569531830692"
          ],
          [
           "555da0b4-3320-4584-b68f-1b2219659c47"
          ],
          [
           "74b5e4ad-2d28-4c63-a1d8-646bebc9c651"
          ],
          [
           "e22870b9-134e-44ca-8a03-24f99cfc8436"
          ],
          [
           "4d9cabd3-6cb7-4e33-8bf9-1d1688742e92"
          ],
          [
           "4387618d-d91a-4f2d-adac-7ec8a8a67c24"
          ],
          [
           "99ca01ac-d9b9-493e-9621-0f277797ae1d"
          ],
          [
           "89a6a75b-187b-4a52-becc-06719cf6a21a"
          ],
          [
           "15bfa255-6518-4a70-b777-868e7ce832cc"
          ],
          [
           "c6305eee-eb3d-4624-a09e-9d3b39b75e96"
          ],
          [
           "d1122251-5fed-4a7b-9b9f-562eeec2386c"
          ],
          [
           "73e9d89b-c41d-436d-8f0b-840837fe25a2"
          ],
          [
           "d635e7ba-8133-4998-aeb1-6f64f4259483"
          ],
          [
           "151406c1-df93-4dd1-8188-44743568cdf5"
          ],
          [
           "8049a960-e7c4-4445-8ebc-ab876a8a8554"
          ],
          [
           "416f5c81-10e1-4834-bfbc-de70a847862d"
          ],
          [
           "dcd764b0-9d04-440d-a976-da16ce8653ad"
          ],
          [
           "15e390d2-5965-4cfd-b0f8-b8f5d48f1534"
          ],
          [
           "a57955f3-24c0-40d5-9fef-70bee29b44cb"
          ],
          [
           "6b9d72ec-19f1-4353-84f3-822525248101"
          ],
          [
           "2a154d56-5156-4d94-9462-cda25cea5936"
          ],
          [
           "a091676c-ef43-4b71-8335-4d1b927c3872"
          ],
          [
           "b53c12bf-e5f8-459a-a260-66549a6c5929"
          ],
          [
           "3863ef5a-54b4-458f-a3dc-93407fbb6926"
          ],
          [
           "7b8c9980-8e03-428e-a05f-1793d1aab1b1"
          ],
          [
           "a2d851b3-83ff-420a-b98d-0ffbb3048f40"
          ],
          [
           "fd67d9d3-a11c-4bcf-b316-43acf452c10c"
          ],
          [
           "01df1a67-3247-4131-9340-0d0ede890dca"
          ],
          [
           "8f436c73-3da7-4e24-87b1-e6eb8050ce41"
          ],
          [
           "d3a8de80-1550-4b15-8400-f3c72fdc97de"
          ],
          [
           "51e46ec3-7be9-4e10-b476-b80817a3979e"
          ],
          [
           "4df7d81f-d2d6-4e1a-b58f-bfaf69d89f75"
          ],
          [
           "5aef4156-277c-4ec3-915a-60f38bb8978f"
          ],
          [
           "f24b5472-8364-4a9e-ae5f-209b1830f928"
          ],
          [
           "8dea741c-c161-4a73-aafe-dd1c9db00582"
          ],
          [
           "01ae4556-8bb2-46d6-a20c-07b1bda0bd03"
          ],
          [
           "35eacf3a-bab1-434e-a7ff-48a7f526ab98"
          ],
          [
           "b1758466-0ac1-470e-8131-d05c294acf46"
          ]
         ],
         "hovertemplate": "Entity Type=<br>UMAP1=%{x}<br>UMAP2=%{y}<br>UMAP3=%{z}<br>hover_data_0=%{customdata[0]}<extra></extra>",
         "legendgroup": "",
         "marker": {
          "color": "#EF553B",
          "line": {
           "color": "white",
           "width": 0.5
          },
          "size": 3,
          "symbol": "circle"
         },
         "mode": "markers",
         "name": "",
         "scene": "scene",
         "showlegend": false,
         "type": "scatter3d",
         "x": [
          15.045114,
          2.150605,
          5.967386,
          2.2620113,
          5.824033,
          16.158138,
          14.92891,
          1.8122838,
          14.925601,
          5.9463882,
          -6.385058,
          14.839956,
          2.06624,
          15.127091,
          14.986582,
          6.096033,
          5.9860964,
          16.319668,
          5.6950893,
          6.0082197,
          15.079497,
          14.900949,
          14.993954,
          14.682871,
          0.50596833,
          -6.323395,
          5.955588,
          5.7939653,
          5.9266357,
          14.902941,
          5.6686935,
          14.632518,
          14.834917,
          16.132193,
          15.146407,
          -6.3763013,
          16.103226,
          16.307034,
          15.224054,
          15.085365,
          16.131746,
          14.776052,
          16.201874,
          16.398327,
          5.874266,
          5.7422566,
          5.7934327,
          5.8013,
          16.26059,
          5.496884,
          5.6304593,
          15.007075,
          14.994602,
          16.212612,
          16.253086,
          5.8072796,
          15.10585,
          15.28565,
          16.295216,
          0.45645678,
          14.977573,
          16.285635,
          5.8901615,
          15.160386,
          5.8042936,
          16.212065,
          5.886021,
          5.646571,
          16.158918,
          16.395617,
          5.95379,
          14.941166,
          16.227222,
          5.818561,
          15.211797,
          14.838282,
          16.1819,
          5.858692,
          0.38934544,
          5.9448457,
          5.7783546,
          5.756765,
          15.088158,
          5.7081347,
          5.686994,
          15.1310835,
          15.270664,
          5.600757,
          6.0882845,
          5.8426547,
          5.654185,
          5.8940988,
          14.911292,
          5.8627234,
          5.97516,
          16.106443,
          5.8394775,
          15.131844,
          5.4805436,
          14.854761,
          5.950976,
          16.286997,
          5.901197,
          0.5224047,
          16.153982,
          16.396683,
          5.547686,
          5.486074,
          16.042702,
          5.8866324,
          5.9603186,
          5.995116,
          5.5765977,
          5.8023667,
          5.576321,
          15.008572,
          5.7413683,
          16.31975,
          14.772292,
          5.838459,
          14.831247,
          5.7020006,
          5.563316,
          5.6363387,
          5.7099795,
          15.004366,
          15.017756,
          5.67087,
          15.188664,
          2.1101878,
          14.864443,
          5.6252847,
          15.12723,
          14.990504,
          5.752955,
          5.339568,
          16.39068,
          15.036877,
          15.015286,
          16.192188,
          15.294892,
          5.748362,
          5.6006827,
          5.479993,
          5.5351005,
          15.1479225,
          16.265062,
          16.228273,
          15.100118,
          14.987319,
          16.480974,
          1.8422859,
          2.1835632,
          16.294207,
          5.5524096,
          2.2796416,
          16.380014,
          5.366452,
          5.523389,
          6.201164,
          15.10176,
          16.144878,
          15.052358,
          16.503834,
          5.3979216,
          6.135815,
          5.72548,
          5.368001,
          16.48598,
          16.317928,
          15.2967415,
          14.720164,
          14.724836,
          14.870728,
          6.073471,
          15.059886,
          15.418378,
          5.822752,
          16.405697,
          5.7198553,
          5.1425323,
          16.229208,
          5.0803413,
          15.397658,
          15.943359,
          14.745283,
          14.515044,
          5.3956647,
          5.6713395,
          6.008048,
          5.2157044,
          4.9320984,
          4.932586,
          14.683813,
          14.563715,
          2.4666471,
          4.9593186,
          15.122865,
          5.872228,
          15.972977,
          6.4948425,
          15.055905,
          4.8936276,
          16.371037,
          5.8982654,
          5.8810453,
          5.810925,
          5.4969335,
          5.4760094,
          6.0664835,
          5.3784604,
          16.369217,
          5.6308823,
          14.70304,
          5.7425766,
          5.2033606,
          5.8935966,
          16.307062,
          16.318867,
          5.71485,
          5.169092,
          2.4922473,
          5.311489,
          5.9372935,
          5.0542207,
          6.1262345,
          5.965059,
          4.979301,
          5.4953895,
          16.4737,
          5.575998,
          16.47511,
          16.32092,
          16.118052,
          16.53147,
          15.202206,
          14.413792,
          5.7921968,
          5.0237017,
          14.5260725,
          5.077718,
          5.001361,
          5.1949053,
          14.963817,
          15.234271,
          5.139067,
          0.5498721,
          5.4878016,
          5.2411194,
          2.4634745,
          2.1268053,
          5.4298477,
          14.810308,
          14.37581,
          2.158346,
          2.4610674,
          2.3786225,
          5.285213,
          2.127935,
          14.334111,
          14.492642,
          14.782724,
          5.2076,
          5.014378,
          0.5558825,
          5.4290466,
          1.8558478,
          5.3416085,
          5.3072257,
          14.907393,
          5.527987,
          5.7128134,
          5.1386538,
          5.7451153,
          14.28176,
          5.4435296,
          5.4570975,
          15.033418,
          16.417751,
          14.453389,
          0.4390118,
          0.45099363,
          2.4895318,
          0.49315932,
          5.376664,
          0.5754079,
          2.253747,
          16.47665,
          5.8382983,
          0.5523621,
          16.480701,
          0.5001437,
          0.44877142,
          5.3660808,
          0.4733618,
          5.9752336,
          14.947902,
          14.423557,
          14.57002,
          5.686844,
          5.719298,
          5.6605854,
          6.04264,
          5.493719,
          14.3637295,
          5.825128,
          6.012554,
          5.6455812,
          2.1393323,
          14.463529,
          2.0982168,
          1.9033055,
          5.988284,
          2.1162863,
          1.7875639,
          14.416558,
          1.7679197,
          5.6288056,
          1.8354415,
          14.635949,
          1.9328978,
          14.353976,
          5.8853664,
          14.795369,
          1.7816263,
          14.913138,
          14.451804,
          14.568537,
          14.715258,
          14.691865,
          14.454367,
          14.327319,
          5.0523353,
          0.41049036,
          0.5203827,
          1.9638371,
          14.675626,
          2.1816337,
          14.536828,
          14.892611,
          14.342078,
          14.937184,
          6.1111026,
          1.6529739,
          1.8712611,
          1.4601723,
          14.302858,
          14.816136,
          15.000065,
          6.410483,
          14.676773,
          14.703199,
          1.6944268,
          6.429373,
          1.7680086,
          5.8997827,
          1.7453336,
          6.4154363,
          6.4792104,
          2.6001167,
          6.4552627,
          6.4218597,
          2.000837,
          2.4303784,
          14.921323,
          0.53264385,
          1.7014707,
          2.1946878,
          15.031427,
          0.6631935,
          15.299622,
          2.5362687,
          1.7239091,
          2.3969107,
          2.225163,
          15.051833
         ],
         "y": [
          8.20976,
          17.834091,
          -0.29056466,
          17.47522,
          0.08069476,
          7.5701284,
          8.559308,
          17.474457,
          8.270866,
          -0.07702065,
          -0.35790345,
          8.235069,
          17.52225,
          8.133516,
          8.29472,
          -0.104261614,
          -0.15666993,
          7.777327,
          0.051547326,
          -0.035324696,
          8.53968,
          8.203267,
          8.330381,
          8.283286,
          -7.495977,
          -0.29650235,
          -0.281357,
          -0.031475652,
          -0.3868733,
          8.31826,
          -0.13994576,
          8.175289,
          8.167126,
          7.4490433,
          8.491007,
          -0.34914127,
          7.6921053,
          7.483178,
          8.231813,
          8.21012,
          7.751298,
          8.44515,
          7.654156,
          7.5206203,
          -0.07647585,
          -0.08931425,
          -0.29197577,
          -0.21835218,
          7.654073,
          -0.28076443,
          -0.05292237,
          8.398479,
          8.244321,
          7.7460213,
          7.609537,
          -0.3155039,
          8.43319,
          8.146737,
          7.668745,
          -7.5453477,
          8.490625,
          7.873954,
          -0.19067957,
          8.286443,
          -0.35173675,
          7.611232,
          -0.061920453,
          0.05602575,
          7.7754354,
          7.727513,
          0.25902003,
          8.394182,
          7.711276,
          -0.13264942,
          7.9936113,
          8.314329,
          7.757864,
          0.33136535,
          -7.6121187,
          0.032487143,
          -0.34446838,
          -0.2648778,
          8.25577,
          -0.27086225,
          -0.19773537,
          8.458534,
          8.264588,
          -0.1600197,
          -0.10900147,
          -0.22683117,
          -0.094154656,
          -0.071409,
          8.066333,
          0.05928602,
          -0.0044226255,
          7.579081,
          -0.2723714,
          8.247704,
          -0.08331335,
          8.366132,
          -0.01062546,
          7.5529094,
          0.03529066,
          -7.4795923,
          7.60815,
          7.7807503,
          -0.13865867,
          -0.09404688,
          7.6426907,
          0.13652529,
          0.12120194,
          0.21992476,
          -0.07111339,
          0.21703966,
          -0.23044981,
          8.315949,
          -0.076328784,
          7.6019607,
          8.492742,
          0.20685567,
          8.285225,
          0.3371796,
          0.13566938,
          0.15890333,
          0.0716877,
          8.286527,
          8.308509,
          0.46857902,
          8.21292,
          17.395319,
          8.1371565,
          -0.020373523,
          8.202495,
          8.266632,
          0.25347376,
          0.10290033,
          7.571446,
          7.9574237,
          8.072059,
          7.5838814,
          7.8778434,
          0.2892839,
          0.42640805,
          0.19277298,
          0.2841802,
          7.87008,
          7.533337,
          7.5642667,
          7.7921414,
          7.787429,
          7.729989,
          17.398428,
          17.425453,
          7.507433,
          0.42065382,
          17.388767,
          7.6366415,
          0.30847105,
          0.45189384,
          0.14574206,
          7.803187,
          7.4876046,
          7.9562736,
          7.6649995,
          0.25432244,
          -0.29322937,
          0.39673004,
          -0.1035935,
          7.667937,
          7.726903,
          7.891622,
          7.8491435,
          8.056471,
          7.9136004,
          -0.20327362,
          7.987948,
          8.319971,
          0.47353423,
          7.446824,
          0.9352413,
          -0.43985105,
          7.4998713,
          0.05464489,
          8.143073,
          7.6242766,
          8.051771,
          8.296746,
          0.9194465,
          -0.05342257,
          0.71384233,
          -0.37419686,
          0.35680276,
          0.3552931,
          8.559865,
          8.087628,
          17.594456,
          0.20662476,
          7.7574267,
          0.75523263,
          7.621259,
          0.28250277,
          7.709576,
          -0.12239571,
          7.5481215,
          0.7354483,
          0.73989606,
          -0.70413053,
          -0.64912945,
          0.88869876,
          0.49295837,
          -0.49133307,
          7.425561,
          0.71462566,
          7.9439936,
          0.74686956,
          0.5860904,
          -0.73361874,
          7.944104,
          7.918584,
          0.70299935,
          -0.41306064,
          17.655622,
          0.7642044,
          0.6616532,
          -0.11039975,
          0.56413794,
          -0.15772796,
          0.03680204,
          0.4719177,
          7.612275,
          -0.719769,
          7.8146625,
          7.9431157,
          7.837217,
          7.808357,
          7.38751,
          7.6932178,
          -0.62013763,
          0.47216034,
          7.964419,
          0.266119,
          0.40170798,
          0.39040715,
          7.3454466,
          7.584094,
          -0.21603677,
          -7.4521112,
          -0.28842065,
          -0.3864954,
          17.702307,
          17.799929,
          0.13962293,
          7.6543927,
          7.9143047,
          17.22646,
          17.452856,
          17.672316,
          -0.54681146,
          17.261784,
          7.6921954,
          7.6272874,
          7.4285665,
          0.5159351,
          -0.0028906115,
          -7.4461427,
          0.33226466,
          17.823309,
          0.25735667,
          0.24165499,
          7.5088573,
          0.56073415,
          0.31165862,
          -0.040785585,
          0.5442028,
          8.067734,
          0.4788977,
          -0.017692244,
          7.6150155,
          7.8846903,
          7.672964,
          -7.5628715,
          -7.5508957,
          17.895283,
          -7.5084977,
          -0.22780195,
          -7.4264774,
          18.018885,
          7.4762034,
          0.100594774,
          -7.449662,
          7.7912636,
          -7.5032997,
          -7.5531926,
          0.22645265,
          -7.528718,
          0.29705754,
          7.520518,
          7.6927924,
          7.7171426,
          0.5643476,
          0.14252734,
          0.3664892,
          0.4285449,
          -0.21084903,
          8.119399,
          0.39086732,
          0.050924126,
          -0.33305195,
          17.8523,
          7.727788,
          18.149998,
          17.653484,
          0.34876478,
          17.686882,
          17.505516,
          8.120942,
          17.879278,
          -0.538725,
          17.955433,
          7.602578,
          18.006748,
          8.163401,
          -0.4064205,
          8.180927,
          17.83566,
          7.885684,
          8.520043,
          7.901867,
          8.335137,
          8.055887,
          8.259571,
          8.197947,
          -0.07093619,
          -7.591584,
          -7.4825754,
          17.5548,
          8.236468,
          18.065907,
          8.591819,
          8.237509,
          8.410284,
          7.885659,
          0.28148264,
          17.609243,
          17.213963,
          17.44854,
          8.479773,
          8.5733185,
          8.459735,
          -0.06666699,
          8.649538,
          8.28772,
          17.236567,
          -0.08852133,
          17.269371,
          -0.62405473,
          17.557991,
          0.1730062,
          0.12922323,
          17.213287,
          -0.1776189,
          0.41003296,
          17.266476,
          17.371254,
          8.488794,
          -7.4695497,
          17.939224,
          17.099503,
          8.778864,
          -7.338948,
          8.434504,
          17.346827,
          17.868896,
          17.637167,
          18.104956,
          8.686291
         ],
         "z": [
          -5.9360375,
          3.0526032,
          16.154135,
          3.203331,
          15.99015,
          -4.920797,
          -5.905972,
          3.239498,
          -6.1311817,
          15.871216,
          0.2864328,
          -5.920575,
          3.2731616,
          -5.918292,
          -5.941604,
          16.061579,
          15.898102,
          -5.028701,
          15.779095,
          16.181046,
          -5.8970447,
          -5.7660384,
          -5.9700046,
          -5.861673,
          0.890258,
          0.34823948,
          16.170372,
          15.79643,
          16.094948,
          -5.745273,
          16.090267,
          -5.8969746,
          -5.9664016,
          -5.0114193,
          -6.1445603,
          0.2951948,
          -4.9926753,
          -5.1012154,
          -5.905961,
          -5.7845287,
          -4.878543,
          -6.167328,
          -5.1617184,
          -5.092289,
          16.285324,
          15.834834,
          16.438162,
          16.328735,
          -4.896892,
          16.259512,
          16.218792,
          -6.0338774,
          -5.9824624,
          -5.124225,
          -4.961113,
          16.36614,
          -6.0845256,
          -6.1094937,
          -5.0928106,
          0.9398362,
          -5.866831,
          -5.0087113,
          16.226862,
          -6.36764,
          16.219633,
          -5.2282243,
          16.119217,
          15.957414,
          -5.139951,
          -5.07469,
          16.0899,
          -5.693723,
          -5.1240926,
          16.301193,
          -6.370439,
          -6.3076425,
          -4.807142,
          16.34332,
          1.0070107,
          16.252728,
          16.3753,
          16.420475,
          -6.414143,
          16.244629,
          15.939525,
          -6.257774,
          -6.220681,
          16.183374,
          16.289312,
          16.48337,
          16.467094,
          16.40513,
          -5.988831,
          16.376114,
          16.44741,
          -5.120893,
          16.71413,
          -6.1019063,
          16.187551,
          -6.284725,
          16.423134,
          -5.0265694,
          16.661882,
          0.87378746,
          -5.1818647,
          -5.019169,
          16.465261,
          16.1028,
          -5.004206,
          16.50764,
          16.396786,
          16.48461,
          16.638186,
          16.642784,
          16.560865,
          -6.222827,
          16.68685,
          -5.127416,
          -6.390618,
          16.46102,
          -6.151759,
          16.507792,
          16.658628,
          16.408087,
          16.47192,
          -6.4660597,
          -6.4324775,
          16.461542,
          -6.079675,
          3.3648822,
          -6.2189765,
          16.577354,
          -6.412612,
          -6.5051627,
          16.62846,
          16.380077,
          -5.200611,
          -6.4400277,
          -6.421909,
          -4.9504585,
          -6.326278,
          16.629866,
          16.486162,
          16.390182,
          16.301033,
          -6.0957956,
          -4.761794,
          -5.0540853,
          -6.3666425,
          -6.121276,
          -5.2705317,
          2.9147708,
          3.1678143,
          -4.8532934,
          16.560892,
          3.010731,
          -4.7274103,
          16.293743,
          16.368008,
          16.315775,
          -6.1893024,
          -4.885806,
          -6.204551,
          -4.8856306,
          15.9765005,
          16.334856,
          15.903251,
          16.509731,
          -4.9166617,
          -4.964006,
          -6.0734415,
          -6.217549,
          -6.1738586,
          -6.419393,
          16.515007,
          -5.7073197,
          -6.0524597,
          16.016073,
          -4.9809833,
          16.360022,
          16.381065,
          -4.6677547,
          16.655947,
          -6.20633,
          -5.167157,
          -6.3687015,
          -6.0487523,
          16.237825,
          15.037163,
          16.524012,
          16.62533,
          16.532324,
          16.400759,
          -6.340041,
          -6.41919,
          3.0757542,
          16.423649,
          -5.9501944,
          16.463623,
          -4.8615766,
          15.857698,
          -6.0801992,
          16.26059,
          -5.043632,
          16.598915,
          16.098783,
          16.589159,
          16.01526,
          16.130064,
          15.353836,
          16.10659,
          -4.660746,
          16.39624,
          -6.759461,
          16.102701,
          16.591059,
          16.160658,
          -5.127559,
          -5.271656,
          16.230324,
          16.149046,
          3.1284602,
          15.999436,
          16.22371,
          16.371767,
          16.355968,
          15.413507,
          16.179539,
          16.094122,
          -5.230688,
          16.105062,
          -5.371652,
          -5.151041,
          -4.908427,
          -5.1353455,
          -6.016695,
          -6.2853994,
          15.559808,
          15.967857,
          -6.570636,
          15.810406,
          15.783837,
          16.13106,
          -6.0643992,
          -5.7817626,
          15.758666,
          0.84632105,
          15.198147,
          15.331535,
          3.2826028,
          3.126014,
          15.401307,
          -6.578826,
          -6.562458,
          3.0500648,
          2.929705,
          2.930319,
          15.630725,
          3.131489,
          -5.812107,
          -6.360221,
          -6.0609574,
          15.985272,
          15.664432,
          0.840299,
          15.419577,
          3.0547554,
          15.267232,
          15.766811,
          -5.848837,
          15.829985,
          15.39453,
          15.67602,
          15.757601,
          -6.302077,
          15.932868,
          15.689922,
          -5.7564816,
          -4.978669,
          -5.866244,
          0.95722723,
          0.94525105,
          3.0594351,
          0.90310174,
          15.751414,
          0.82080615,
          3.1019104,
          -4.9023027,
          15.314053,
          0.8437808,
          -4.948003,
          0.8957517,
          0.94739544,
          15.413468,
          0.9227692,
          15.534064,
          -5.8267636,
          -5.9932356,
          -5.929586,
          15.567403,
          15.194922,
          15.620485,
          15.663859,
          15.261831,
          -6.2525024,
          15.492306,
          15.299316,
          15.433425,
          3.621547,
          -5.6533093,
          3.0520582,
          3.4512734,
          15.611306,
          3.5798213,
          3.4938748,
          -6.1475945,
          2.5437803,
          15.591129,
          3.3942707,
          -5.3663254,
          3.1431677,
          -5.7454877,
          15.6604595,
          -5.3167286,
          3.2651632,
          -5.5867276,
          -5.745456,
          -5.6108413,
          -5.4543467,
          -5.4012156,
          -6.3905916,
          -5.6228824,
          15.83683,
          0.9856611,
          0.87554437,
          3.5704973,
          -5.4064693,
          2.998196,
          -5.928334,
          -5.5382853,
          -6.0119176,
          -5.389913,
          15.716796,
          3.3720818,
          3.322985,
          3.2747743,
          -6.288372,
          -5.4217563,
          -5.36187,
          15.80691,
          -6.0866904,
          -5.4761295,
          3.3097627,
          16.288141,
          3.0835667,
          16.306751,
          3.303726,
          16.224485,
          16.363556,
          2.9527543,
          15.933982,
          16.106613,
          2.8149087,
          2.8269448,
          -5.6127567,
          0.8634852,
          2.60032,
          2.8045273,
          -5.6364903,
          0.73294055,
          -5.665517,
          2.815637,
          2.552888,
          2.7191463,
          2.9017277,
          -5.915715
         ]
        },
        {
         "customdata": [
          [
           "ef6f9412-fbfb-44c6-87a1-6caad9080ef8"
          ],
          [
           "d595bc53-0eeb-4343-b28d-50a345ea6a20"
          ],
          [
           "0992fb4a-573c-44f8-9706-a3df7e5537e1"
          ],
          [
           "e23de37d-2255-4cf9-8837-552bd7c5726f"
          ],
          [
           "8c9a7ff0-6182-419a-a72b-55d928928bf1"
          ],
          [
           "5f5339ed-7ff5-47fb-b631-e272b0452718"
          ],
          [
           "a96a349d-d417-49e7-9ac7-59a7f363aebc"
          ],
          [
           "810500f5-48ee-45cf-8f3f-a2e607ae7127"
          ],
          [
           "f434ad14-6035-4aea-8d40-b945d5a859d4"
          ],
          [
           "38e6b35a-822d-40ff-af19-fecafb82e68e"
          ],
          [
           "0c3cdd26-b269-48ea-9057-572a317fa89d"
          ],
          [
           "bf86757b-a995-437c-a611-9e88858cb1c0"
          ],
          [
           "ee87ec4c-1862-40ae-840a-14b38c677259"
          ],
          [
           "a0c64c48-d24f-4a39-bb35-5811b67467de"
          ],
          [
           "ed561ef3-697b-4d54-abcf-6e7e7dfea706"
          ],
          [
           "d74ad6d1-da71-49b3-b373-384f6334cbb6"
          ],
          [
           "7aad50d3-5f50-4936-b184-6cacac444410"
          ],
          [
           "97bb7a3e-19d7-4284-8fd5-829b46e5dc35"
          ],
          [
           "ba0018f9-cf5b-4c93-bba1-1fb5b30388e4"
          ],
          [
           "52fe6068-2acb-441c-b3b0-80b34a983eac"
          ],
          [
           "cf43b8b9-c8fd-445e-9c2b-c1650500da15"
          ],
          [
           "f8a9aa7e-f2d2-4f1c-a4f3-1ed1c71370dd"
          ],
          [
           "5d1e4da6-d493-469b-b8af-af5fa582f2f2"
          ],
          [
           "4972cf07-614d-4bae-8b69-68022b228776"
          ],
          [
           "be3bd747-fcf5-4a29-a83d-c12389c58cdc"
          ],
          [
           "65837c43-06ce-4d9c-8f76-a26457f9805c"
          ],
          [
           "96620752-1e4b-4207-a2ce-7ab402acaee9"
          ],
          [
           "671be8bb-9dfd-4c88-807e-6fff5cd94430"
          ],
          [
           "4b165525-c166-4ebe-965b-efcb8da5e0ae"
          ],
          [
           "5fd0b825-70d2-4354-af1b-a76fd10b495c"
          ],
          [
           "a25e80d1-957c-4db3-bdc8-3e0ee9608fd5"
          ],
          [
           "58d46df5-0891-482e-97c7-dc8893c12dc6"
          ],
          [
           "d56ce398-c3ad-4e3d-830a-75d5c84c0a91"
          ],
          [
           "9a3c5860-118d-476c-b348-98eeb27d6fc9"
          ],
          [
           "7ff48423-9ccf-4a32-8cee-b876d1b3b68b"
          ],
          [
           "d52ecf30-bc41-479f-ae0f-1a14b8bdda69"
          ],
          [
           "bf78e28c-581f-442a-bd08-51bb2d3a81b4"
          ],
          [
           "b18f9d2a-7749-4445-a985-81cc94873f8a"
          ],
          [
           "6265e046-322c-4a7d-b50f-a476a2041856"
          ],
          [
           "2e90655a-58ec-4ede-b9d9-bde78c8922c4"
          ],
          [
           "e790928b-4573-4fe3-94d7-13f109edfb48"
          ],
          [
           "b0b16f50-bc0f-4703-90d0-a6dc340df4d7"
          ],
          [
           "75e08af7-befa-4632-bf96-2b47e3d92cb5"
          ],
          [
           "d2067519-fc62-44ee-ac0e-26d2b05bb3aa"
          ],
          [
           "922e95fb-e6a4-4f58-8edb-7806c3391430"
          ],
          [
           "01cb3a22-606f-45d5-877d-07ffb3c9db26"
          ],
          [
           "af737a35-deef-46d1-b634-c54ea9ab6762"
          ],
          [
           "e67c0887-f16e-4fd5-aff0-8cb5fe83c319"
          ],
          [
           "cd617a08-7286-485c-9ba7-e08d08c88916"
          ],
          [
           "715a53fe-09fc-487f-bd7c-8cd54b14588c"
          ],
          [
           "9820eaa8-fd9b-4e44-bdf8-4227312c9ab3"
          ],
          [
           "52f0a745-1b2a-4ec3-aaff-b30acd79e586"
          ],
          [
           "c51cd9bb-8a93-497b-a0ee-9b62f33a4756"
          ],
          [
           "25e65e66-d6b3-4c2a-baf1-150eaf1185f0"
          ],
          [
           "4b7eb9e0-f310-42b4-a800-ba79682d36e5"
          ],
          [
           "abe46a71-c9aa-4d19-b29a-b3f4d0711272"
          ],
          [
           "876d46dc-6cca-4391-b6c8-991a08870dd3"
          ],
          [
           "0ff89c72-f368-4a0c-8340-92b6918fa406"
          ],
          [
           "c6b4323a-cbde-456d-9866-aa74c5ec4c63"
          ],
          [
           "125045c6-bc32-4865-bf4f-43a77d10c8e9"
          ],
          [
           "a196b71b-608f-469e-8ade-6a02578ce77f"
          ],
          [
           "e1c962a3-3529-483d-8cf8-935e3d4fa76c"
          ],
          [
           "bdb03a73-da0e-4180-ac67-8a4e01fc1e52"
          ],
          [
           "7736c1dd-9635-47b1-b93f-2e4ad8545902"
          ],
          [
           "4aca5ca9-7ae7-41de-a7f7-146a45bdb2df"
          ],
          [
           "e3eb48db-84be-44a4-b30f-247b1afe98f0"
          ],
          [
           "f0234421-a828-49cf-85e0-190d306989ef"
          ],
          [
           "0bbf57ca-75c1-44be-b6fa-2996dfc9131b"
          ],
          [
           "fcbcd9df-0c1b-40d7-a314-b4ab4cdb9935"
          ],
          [
           "a52015a6-8ed7-499b-ad84-2d77896ef5b6"
          ],
          [
           "a814f7d9-6698-4a9e-9595-3e258156f14b"
          ],
          [
           "30f20892-ca46-4c38-bdb1-3f3e7b5a094d"
          ],
          [
           "d2990966-f101-4c86-88f3-cfd6712c5094"
          ],
          [
           "e423ba83-aa46-4eba-a4d7-8b5c1dc156f4"
          ],
          [
           "73760c93-704d-4535-afe4-0da12c5e2f4e"
          ],
          [
           "268168ee-0ec0-436e-ac03-d3aeb7e38336"
          ],
          [
           "b24e6abe-8d69-46af-976b-eb1bb148e5a7"
          ],
          [
           "0e12f3a1-a606-4299-864c-b3951c4ea7ae"
          ],
          [
           "f45fb47b-61af-4dbd-8ca7-5f2b469a75ef"
          ],
          [
           "41bc0ac5-3cb3-4a5c-bd06-5b082b8633e4"
          ],
          [
           "e0086f91-f2c8-4a5e-908d-743eba8c7e1f"
          ],
          [
           "052253cb-a0ad-4d45-a2fb-20ba5f2e72c1"
          ],
          [
           "9e29e1cb-8664-452f-aa92-fc6a785cee69"
          ],
          [
           "634ab18b-b7b6-4fe5-b661-fba219870752"
          ],
          [
           "8e55d2c1-f312-420d-9261-9f2e8db68d5c"
          ],
          [
           "654d120c-0420-4939-9006-0c151fa0a95a"
          ],
          [
           "06f8e673-d7e0-41a2-b2f0-dc448adce5b3"
          ],
          [
           "4f55e289-800f-4012-b518-331f1632eaac"
          ],
          [
           "b7759f7b-ed40-4b8e-b8a0-68039b9d413d"
          ],
          [
           "fa14d710-5856-41c6-a7c6-9f39fe80a5d9"
          ],
          [
           "4ca38da1-13ba-4cf3-870a-c154b6b2217b"
          ],
          [
           "13f6ae8d-67bb-4dba-a77d-e0864b53d063"
          ],
          [
           "dee79e90-d3ad-4c8e-961c-8a3c1d0cc7cb"
          ],
          [
           "22e19c59-7268-4b6a-9fe7-9e8a4cb1928b"
          ],
          [
           "6aadb57a-d27a-44cc-99b4-c82d2b2e16f2"
          ],
          [
           "f15534b6-d9e5-4316-813d-b55233dcf74b"
          ],
          [
           "a111f636-dc48-475f-b39b-1bae7177cf62"
          ],
          [
           "4e7cf58c-0ce7-4e14-9084-cf6a8db73a4c"
          ],
          [
           "c902eede-19b4-430e-a3b2-1a95048f6995"
          ],
          [
           "f1b76c1c-95e6-46d1-a7ea-004dda840933"
          ],
          [
           "d19b68e1-49c5-4a95-aeec-85be02009a92"
          ],
          [
           "3c662dde-e14b-4a32-b0c8-8cca4baaf626"
          ],
          [
           "5920d79c-17bf-4325-91d4-07e10ce43b20"
          ],
          [
           "d43233fe-c2d3-4a81-b698-810cfb8f934e"
          ],
          [
           "c031d16a-8686-44c0-bd06-7e00859f3846"
          ],
          [
           "c226b236-5567-49fe-98dc-26c65d50397a"
          ],
          [
           "26303b54-c4b1-40a7-a474-deab4915d53d"
          ],
          [
           "1fc09b73-6f51-419f-8a2b-7aa4ad8b5d31"
          ],
          [
           "f8cbd360-f440-45a7-8cb6-03135d1cde51"
          ],
          [
           "00c0b39c-db79-45f3-bfe0-97469a71d085"
          ],
          [
           "25451d5f-ba9d-4a60-aa44-2bc2dfac63a4"
          ],
          [
           "f2bc5b0e-4af2-4881-a748-4771e6f49f8b"
          ],
          [
           "28a975c6-c900-4199-9487-34c4fcf5d0bd"
          ],
          [
           "e1394769-8668-492b-ab15-2ed03d4c41d1"
          ],
          [
           "b3027e23-6f32-4afc-8917-6a5fa7134ed2"
          ],
          [
           "d6451244-6f8c-403b-8c47-026d552decc9"
          ],
          [
           "078eeadd-e677-4ff5-9300-74996699482d"
          ],
          [
           "fdbe8fcf-f1d2-4749-8afb-910dc13ba14a"
          ],
          [
           "78f5bce7-0a31-4acb-9cb7-e1f7d0c7e64b"
          ],
          [
           "01d5b33b-f714-4088-bb36-419ee4738ed1"
          ]
         ],
         "hovertemplate": "Entity Type=document<br>UMAP1=%{x}<br>UMAP2=%{y}<br>UMAP3=%{z}<br>hover_data_0=%{customdata[0]}<extra></extra>",
         "legendgroup": "document",
         "marker": {
          "color": "#00cc96",
          "line": {
           "color": "white",
           "width": 0.5
          },
          "size": 3,
          "symbol": "circle"
         },
         "mode": "markers",
         "name": "document",
         "scene": "scene",
         "showlegend": true,
         "type": "scatter3d",
         "x": [
          2.147933,
          2.1309144,
          2.067619,
          6.0470386,
          5.7833433,
          5.59021,
          5.697205,
          2.3426962,
          5.618916,
          -6.4188046,
          1.850793,
          -6.3605194,
          6.019073,
          5.7303495,
          15.032413,
          14.913076,
          5.516446,
          6.0711155,
          5.8133144,
          1.9559385,
          14.821941,
          5.6887827,
          2.156447,
          5.634584,
          5.746855,
          6.1122084,
          15.133716,
          6.107272,
          5.658774,
          6.068741,
          15.035187,
          15.095333,
          6.0733085,
          5.9989953,
          15.265116,
          6.0638633,
          5.9767504,
          5.616396,
          5.5837517,
          6.022494,
          14.692055,
          15.394708,
          15.297745,
          14.889696,
          5.788228,
          5.6808996,
          15.224801,
          5.780177,
          5.533926,
          1.836244,
          15.171541,
          5.42829,
          1.9296138,
          14.822254,
          14.88952,
          2.2024767,
          14.866589,
          5.2450204,
          14.956793,
          6.2039523,
          2.1536136,
          2.2166717,
          2.29229,
          2.3533204,
          5.7922945,
          2.3279831,
          16.264524,
          5.703292,
          15.996845,
          6.295653,
          16.265503,
          5.3525643,
          15.109265,
          5.2964005,
          5.124417,
          2.282175,
          5.4480906,
          14.76026,
          2.1163576,
          2.3586776,
          14.583712,
          2.3640242,
          4.975572,
          2.20241,
          14.243421,
          14.606764,
          14.176305,
          5.298882,
          2.325846,
          14.778048,
          5.2654176,
          14.529317,
          5.1778107,
          2.5548828,
          2.267973,
          5.721284,
          1.9087145,
          1.8951905,
          2.2249439,
          2.17461,
          5.612285,
          6.0127683,
          5.8125396,
          2.5951064,
          2.440878,
          14.937968,
          14.43595,
          6.0271335,
          14.344654,
          5.5018067,
          1.9347764,
          6.251137,
          1.8498273,
          6.435884,
          14.900333,
          1.7779952,
          1.8310065,
          14.81232,
          15.337872,
          15.374552
         ],
         "y": [
          17.676325,
          17.7556,
          17.601377,
          0.14439899,
          -0.11327294,
          -0.155987,
          0.17615159,
          17.523954,
          0.123848945,
          -0.39160705,
          17.788855,
          -0.33335078,
          -0.005092549,
          -0.17648786,
          8.202441,
          8.429632,
          -0.33447233,
          -0.19366059,
          -0.043762453,
          17.642342,
          8.53975,
          -0.4393854,
          17.532417,
          -0.34171423,
          -0.32012844,
          -0.18480466,
          8.331356,
          0.051785886,
          -0.27807617,
          0.16105466,
          8.502374,
          7.979782,
          0.06639249,
          -0.03188181,
          8.094323,
          0.12964034,
          -0.06302392,
          -0.33408326,
          -0.050205898,
          0.26413742,
          8.36091,
          8.287081,
          7.9221487,
          8.001687,
          -0.20404236,
          -0.09455557,
          8.214368,
          0.17988269,
          0.061161526,
          17.551155,
          8.001281,
          0.10968327,
          17.51031,
          7.9743485,
          8.073418,
          17.457169,
          7.7816434,
          0.22003616,
          7.997792,
          0.14882672,
          17.398315,
          17.63648,
          17.674742,
          17.760262,
          -0.010983935,
          17.315018,
          7.6032147,
          0.94448984,
          7.329941,
          -0.05795446,
          7.3809705,
          0.4735424,
          7.468049,
          0.683927,
          0.14616528,
          17.474384,
          0.785679,
          7.412525,
          17.807238,
          17.42104,
          8.191673,
          17.96992,
          0.023457829,
          17.414238,
          8.233183,
          7.438747,
          8.377034,
          0.18708582,
          17.970531,
          7.7412086,
          0.110924006,
          7.580361,
          -0.27425602,
          17.571844,
          17.722952,
          0.08582589,
          17.973503,
          18.071087,
          17.806204,
          18.005482,
          -0.14269699,
          -0.065180376,
          -0.07831196,
          17.697351,
          17.710663,
          7.645418,
          7.8678164,
          -0.28484315,
          8.528805,
          -0.26685134,
          17.73084,
          -0.5564847,
          17.338032,
          0.41441855,
          8.351407,
          17.937199,
          17.806324,
          8.66327,
          8.22554,
          8.364243
         ],
         "z": [
          3.5227714,
          3.2800345,
          3.4402854,
          15.910468,
          15.881127,
          16.095396,
          15.954842,
          3.1452243,
          15.857059,
          0.2526972,
          2.6698365,
          0.31098276,
          16.105074,
          15.77305,
          -5.7929363,
          -6.0141835,
          16.07674,
          16.073935,
          15.738745,
          3.4339142,
          -5.910692,
          16.114944,
          3.0756774,
          15.952295,
          15.9243355,
          15.814376,
          -5.824326,
          16.048096,
          15.904952,
          16.058184,
          -6.307358,
          -5.788189,
          16.261038,
          16.077131,
          -5.9693117,
          16.063766,
          16.026894,
          16.223534,
          16.274464,
          16.091936,
          -6.271128,
          -6.0770807,
          -6.0175037,
          -5.949695,
          16.545597,
          16.546513,
          -6.0984073,
          16.430687,
          16.32937,
          3.0147874,
          -6.3641067,
          16.484846,
          3.0993385,
          -6.3399034,
          -6.2105656,
          3.2159848,
          -6.315017,
          16.185658,
          -6.420159,
          16.454058,
          2.987499,
          2.9241602,
          3.198842,
          2.951025,
          16.68547,
          3.0372953,
          -5.366404,
          16.296024,
          -5.167401,
          15.39181,
          -5.271646,
          15.679532,
          -6.066915,
          16.114744,
          16.060713,
          3.1160877,
          15.680001,
          -6.297984,
          2.9455829,
          3.2781262,
          -6.724669,
          3.1639555,
          16.10133,
          3.5013363,
          -6.3119287,
          -5.8851905,
          -6.199012,
          15.474189,
          3.3851779,
          -5.788345,
          16.023409,
          -6.3071723,
          15.401115,
          3.433201,
          2.9090312,
          15.366021,
          3.1579154,
          3.3019652,
          3.522623,
          3.3429017,
          15.692083,
          15.585794,
          15.519535,
          3.01631,
          3.5931668,
          -5.592192,
          -5.845757,
          15.417915,
          -5.8036,
          15.50276,
          2.9530623,
          15.868489,
          3.452558,
          15.958053,
          -5.4111238,
          2.5379171,
          2.4758847,
          -6.1310754,
          -6.550083,
          -6.3236156
         ]
        },
        {
         "customdata": [
          [
           "4630d534-3727-4da6-8c57-6eccbc621b10"
          ],
          [
           "f7dca5fb-784c-416c-ac98-d556d6c28a4b"
          ]
         ],
         "hovertemplate": "Entity Type=api_model<br>UMAP1=%{x}<br>UMAP2=%{y}<br>UMAP3=%{z}<br>hover_data_0=%{customdata[0]}<extra></extra>",
         "legendgroup": "api_model",
         "marker": {
          "color": "#ab63fa",
          "line": {
           "color": "white",
           "width": 0.5
          },
          "size": 3,
          "symbol": "circle"
         },
         "mode": "markers",
         "name": "api_model",
         "scene": "scene",
         "showlegend": true,
         "type": "scatter3d",
         "x": [
          -6.360389,
          -6.4581237
         ],
         "y": [
          -0.33321947,
          -0.43093094
         ],
         "z": [
          0.31109285,
          0.21338971
         ]
        },
        {
         "customdata": [
          [
           "340dca8d-ebee-4d1e-8c11-6804b0b9f2c0"
          ]
         ],
         "hovertemplate": "Entity Type=training_session<br>UMAP1=%{x}<br>UMAP2=%{y}<br>UMAP3=%{z}<br>hover_data_0=%{customdata[0]}<extra></extra>",
         "legendgroup": "training_session",
         "marker": {
          "color": "#FFA15A",
          "line": {
           "color": "white",
           "width": 0.5
          },
          "size": 3,
          "symbol": "circle"
         },
         "mode": "markers",
         "name": "training_session",
         "scene": "scene",
         "showlegend": true,
         "type": "scatter3d",
         "x": [
          -6.3831673
         ],
         "y": [
          -0.35603574
         ],
         "z": [
          0.28830978
         ]
        },
        {
         "customdata": [
          [
           "c71c42ff-2f52-460f-97f8-c96b19b2e1ad"
          ],
          [
           "34a231b8-11b8-4212-aa20-242af3442284"
          ],
          [
           "717cb0b0-6baa-4f2c-b9b7-a5896b726b75"
          ],
          [
           "6cf316a2-5544-45cc-bae6-863f0fceb3ed"
          ],
          [
           "819712ce-bcce-4eb3-8ac1-47b66a9ae091"
          ],
          [
           "d8feb99d-668d-4f12-8066-0af53685916d"
          ]
         ],
         "hovertemplate": "Entity Type=recipe<br>UMAP1=%{x}<br>UMAP2=%{y}<br>UMAP3=%{z}<br>hover_data_0=%{customdata[0]}<extra></extra>",
         "legendgroup": "recipe",
         "marker": {
          "color": "#19d3f3",
          "line": {
           "color": "white",
           "width": 0.5
          },
          "size": 3,
          "symbol": "circle"
         },
         "mode": "markers",
         "name": "recipe",
         "scene": "scene",
         "showlegend": true,
         "type": "scatter3d",
         "x": [
          5.8789496,
          2.0045152,
          15.119858,
          15.15568,
          1.9595424,
          2.5907533
         ],
         "y": [
          -0.006442389,
          17.667593,
          8.682326,
          7.983235,
          17.634024,
          17.305998
         ],
         "z": [
          15.970059,
          3.0387154,
          -5.5994234,
          -5.525182,
          3.7939909,
          3.381517
         ]
        },
        {
         "customdata": [
          [
           "6b2a7ebb-7369-4a95-ac8a-cabdbd95a93e"
          ]
         ],
         "hovertemplate": "Entity Type=meal_plan<br>UMAP1=%{x}<br>UMAP2=%{y}<br>UMAP3=%{z}<br>hover_data_0=%{customdata[0]}<extra></extra>",
         "legendgroup": "meal_plan",
         "marker": {
          "color": "#FF6692",
          "line": {
           "color": "white",
           "width": 0.5
          },
          "size": 3,
          "symbol": "circle"
         },
         "mode": "markers",
         "name": "meal_plan",
         "scene": "scene",
         "showlegend": true,
         "type": "scatter3d",
         "x": [
          0.50983214
         ],
         "y": [
          -7.49215
         ],
         "z": [
          0.88637435
         ]
        }
       ],
       "layout": {
        "height": 700,
        "legend": {
         "title": {
          "text": "Entity Type"
         },
         "tracegroupgap": 0
        },
        "scene": {
         "domain": {
          "x": [
           0,
           1
          ],
          "y": [
           0,
           1
          ]
         },
         "xaxis": {
          "title": {
           "text": "UMAP Dimension 1"
          }
         },
         "yaxis": {
          "title": {
           "text": "UMAP Dimension 2"
          }
         },
         "zaxis": {
          "title": {
           "text": "UMAP Dimension 3"
          }
         }
        },
        "template": {
         "data": {
          "bar": [
           {
            "error_x": {
             "color": "#2a3f5f"
            },
            "error_y": {
             "color": "#2a3f5f"
            },
            "marker": {
             "line": {
              "color": "#E5ECF6",
              "width": 0.5
             },
             "pattern": {
              "fillmode": "overlay",
              "size": 10,
              "solidity": 0.2
             }
            },
            "type": "bar"
           }
          ],
          "barpolar": [
           {
            "marker": {
             "line": {
              "color": "#E5ECF6",
              "width": 0.5
             },
             "pattern": {
              "fillmode": "overlay",
              "size": 10,
              "solidity": 0.2
             }
            },
            "type": "barpolar"
           }
          ],
          "carpet": [
           {
            "aaxis": {
             "endlinecolor": "#2a3f5f",
             "gridcolor": "white",
             "linecolor": "white",
             "minorgridcolor": "white",
             "startlinecolor": "#2a3f5f"
            },
            "baxis": {
             "endlinecolor": "#2a3f5f",
             "gridcolor": "white",
             "linecolor": "white",
             "minorgridcolor": "white",
             "startlinecolor": "#2a3f5f"
            },
            "type": "carpet"
           }
          ],
          "choropleth": [
           {
            "colorbar": {
             "outlinewidth": 0,
             "ticks": ""
            },
            "type": "choropleth"
           }
          ],
          "contour": [
           {
            "colorbar": {
             "outlinewidth": 0,
             "ticks": ""
            },
            "colorscale": [
             [
              0,
              "#0d0887"
             ],
             [
              0.1111111111111111,
              "#46039f"
             ],
             [
              0.2222222222222222,
              "#7201a8"
             ],
             [
              0.3333333333333333,
              "#9c179e"
             ],
             [
              0.4444444444444444,
              "#bd3786"
             ],
             [
              0.5555555555555556,
              "#d8576b"
             ],
             [
              0.6666666666666666,
              "#ed7953"
             ],
             [
              0.7777777777777778,
              "#fb9f3a"
             ],
             [
              0.8888888888888888,
              "#fdca26"
             ],
             [
              1,
              "#f0f921"
             ]
            ],
            "type": "contour"
           }
          ],
          "contourcarpet": [
           {
            "colorbar": {
             "outlinewidth": 0,
             "ticks": ""
            },
            "type": "contourcarpet"
           }
          ],
          "heatmap": [
           {
            "colorbar": {
             "outlinewidth": 0,
             "ticks": ""
            },
            "colorscale": [
             [
              0,
              "#0d0887"
             ],
             [
              0.1111111111111111,
              "#46039f"
             ],
             [
              0.2222222222222222,
              "#7201a8"
             ],
             [
              0.3333333333333333,
              "#9c179e"
             ],
             [
              0.4444444444444444,
              "#bd3786"
             ],
             [
              0.5555555555555556,
              "#d8576b"
             ],
             [
              0.6666666666666666,
              "#ed7953"
             ],
             [
              0.7777777777777778,
              "#fb9f3a"
             ],
             [
              0.8888888888888888,
              "#fdca26"
             ],
             [
              1,
              "#f0f921"
             ]
            ],
            "type": "heatmap"
           }
          ],
          "heatmapgl": [
           {
            "colorbar": {
             "outlinewidth": 0,
             "ticks": ""
            },
            "colorscale": [
             [
              0,
              "#0d0887"
             ],
             [
              0.1111111111111111,
              "#46039f"
             ],
             [
              0.2222222222222222,
              "#7201a8"
             ],
             [
              0.3333333333333333,
              "#9c179e"
             ],
             [
              0.4444444444444444,
              "#bd3786"
             ],
             [
              0.5555555555555556,
              "#d8576b"
             ],
             [
              0.6666666666666666,
              "#ed7953"
             ],
             [
              0.7777777777777778,
              "#fb9f3a"
             ],
             [
              0.8888888888888888,
              "#fdca26"
             ],
             [
              1,
              "#f0f921"
             ]
            ],
            "type": "heatmapgl"
           }
          ],
          "histogram": [
           {
            "marker": {
             "pattern": {
              "fillmode": "overlay",
              "size": 10,
              "solidity": 0.2
             }
            },
            "type": "histogram"
           }
          ],
          "histogram2d": [
           {
            "colorbar": {
             "outlinewidth": 0,
             "ticks": ""
            },
            "colorscale": [
             [
              0,
              "#0d0887"
             ],
             [
              0.1111111111111111,
              "#46039f"
             ],
             [
              0.2222222222222222,
              "#7201a8"
             ],
             [
              0.3333333333333333,
              "#9c179e"
             ],
             [
              0.4444444444444444,
              "#bd3786"
             ],
             [
              0.5555555555555556,
              "#d8576b"
             ],
             [
              0.6666666666666666,
              "#ed7953"
             ],
             [
              0.7777777777777778,
              "#fb9f3a"
             ],
             [
              0.8888888888888888,
              "#fdca26"
             ],
             [
              1,
              "#f0f921"
             ]
            ],
            "type": "histogram2d"
           }
          ],
          "histogram2dcontour": [
           {
            "colorbar": {
             "outlinewidth": 0,
             "ticks": ""
            },
            "colorscale": [
             [
              0,
              "#0d0887"
             ],
             [
              0.1111111111111111,
              "#46039f"
             ],
             [
              0.2222222222222222,
              "#7201a8"
             ],
             [
              0.3333333333333333,
              "#9c179e"
             ],
             [
              0.4444444444444444,
              "#bd3786"
             ],
             [
              0.5555555555555556,
              "#d8576b"
             ],
             [
              0.6666666666666666,
              "#ed7953"
             ],
             [
              0.7777777777777778,
              "#fb9f3a"
             ],
             [
              0.8888888888888888,
              "#fdca26"
             ],
             [
              1,
              "#f0f921"
             ]
            ],
            "type": "histogram2dcontour"
           }
          ],
          "mesh3d": [
           {
            "colorbar": {
             "outlinewidth": 0,
             "ticks": ""
            },
            "type": "mesh3d"
           }
          ],
          "parcoords": [
           {
            "line": {
             "colorbar": {
              "outlinewidth": 0,
              "ticks": ""
             }
            },
            "type": "parcoords"
           }
          ],
          "pie": [
           {
            "automargin": true,
            "type": "pie"
           }
          ],
          "scatter": [
           {
            "fillpattern": {
             "fillmode": "overlay",
             "size": 10,
             "solidity": 0.2
            },
            "type": "scatter"
           }
          ],
          "scatter3d": [
           {
            "line": {
             "colorbar": {
              "outlinewidth": 0,
              "ticks": ""
             }
            },
            "marker": {
             "colorbar": {
              "outlinewidth": 0,
              "ticks": ""
             }
            },
            "type": "scatter3d"
           }
          ],
          "scattercarpet": [
           {
            "marker": {
             "colorbar": {
              "outlinewidth": 0,
              "ticks": ""
             }
            },
            "type": "scattercarpet"
           }
          ],
          "scattergeo": [
           {
            "marker": {
             "colorbar": {
              "outlinewidth": 0,
              "ticks": ""
             }
            },
            "type": "scattergeo"
           }
          ],
          "scattergl": [
           {
            "marker": {
             "colorbar": {
              "outlinewidth": 0,
              "ticks": ""
             }
            },
            "type": "scattergl"
           }
          ],
          "scattermapbox": [
           {
            "marker": {
             "colorbar": {
              "outlinewidth": 0,
              "ticks": ""
             }
            },
            "type": "scattermapbox"
           }
          ],
          "scatterpolar": [
           {
            "marker": {
             "colorbar": {
              "outlinewidth": 0,
              "ticks": ""
             }
            },
            "type": "scatterpolar"
           }
          ],
          "scatterpolargl": [
           {
            "marker": {
             "colorbar": {
              "outlinewidth": 0,
              "ticks": ""
             }
            },
            "type": "scatterpolargl"
           }
          ],
          "scatterternary": [
           {
            "marker": {
             "colorbar": {
              "outlinewidth": 0,
              "ticks": ""
             }
            },
            "type": "scatterternary"
           }
          ],
          "surface": [
           {
            "colorbar": {
             "outlinewidth": 0,
             "ticks": ""
            },
            "colorscale": [
             [
              0,
              "#0d0887"
             ],
             [
              0.1111111111111111,
              "#46039f"
             ],
             [
              0.2222222222222222,
              "#7201a8"
             ],
             [
              0.3333333333333333,
              "#9c179e"
             ],
             [
              0.4444444444444444,
              "#bd3786"
             ],
             [
              0.5555555555555556,
              "#d8576b"
             ],
             [
              0.6666666666666666,
              "#ed7953"
             ],
             [
              0.7777777777777778,
              "#fb9f3a"
             ],
             [
              0.8888888888888888,
              "#fdca26"
             ],
             [
              1,
              "#f0f921"
             ]
            ],
            "type": "surface"
           }
          ],
          "table": [
           {
            "cells": {
             "fill": {
              "color": "#EBF0F8"
             },
             "line": {
              "color": "white"
             }
            },
            "header": {
             "fill": {
              "color": "#C8D4E3"
             },
             "line": {
              "color": "white"
             }
            },
            "type": "table"
           }
          ]
         },
         "layout": {
          "annotationdefaults": {
           "arrowcolor": "#2a3f5f",
           "arrowhead": 0,
           "arrowwidth": 1
          },
          "autotypenumbers": "strict",
          "coloraxis": {
           "colorbar": {
            "outlinewidth": 0,
            "ticks": ""
           }
          },
          "colorscale": {
           "diverging": [
            [
             0,
             "#8e0152"
            ],
            [
             0.1,
             "#c51b7d"
            ],
            [
             0.2,
             "#de77ae"
            ],
            [
             0.3,
             "#f1b6da"
            ],
            [
             0.4,
             "#fde0ef"
            ],
            [
             0.5,
             "#f7f7f7"
            ],
            [
             0.6,
             "#e6f5d0"
            ],
            [
             0.7,
             "#b8e186"
            ],
            [
             0.8,
             "#7fbc41"
            ],
            [
             0.9,
             "#4d9221"
            ],
            [
             1,
             "#276419"
            ]
           ],
           "sequential": [
            [
             0,
             "#0d0887"
            ],
            [
             0.1111111111111111,
             "#46039f"
            ],
            [
             0.2222222222222222,
             "#7201a8"
            ],
            [
             0.3333333333333333,
             "#9c179e"
            ],
            [
             0.4444444444444444,
             "#bd3786"
            ],
            [
             0.5555555555555556,
             "#d8576b"
            ],
            [
             0.6666666666666666,
             "#ed7953"
            ],
            [
             0.7777777777777778,
             "#fb9f3a"
            ],
            [
             0.8888888888888888,
             "#fdca26"
            ],
            [
             1,
             "#f0f921"
            ]
           ],
           "sequentialminus": [
            [
             0,
             "#0d0887"
            ],
            [
             0.1111111111111111,
             "#46039f"
            ],
            [
             0.2222222222222222,
             "#7201a8"
            ],
            [
             0.3333333333333333,
             "#9c179e"
            ],
            [
             0.4444444444444444,
             "#bd3786"
            ],
            [
             0.5555555555555556,
             "#d8576b"
            ],
            [
             0.6666666666666666,
             "#ed7953"
            ],
            [
             0.7777777777777778,
             "#fb9f3a"
            ],
            [
             0.8888888888888888,
             "#fdca26"
            ],
            [
             1,
             "#f0f921"
            ]
           ]
          },
          "colorway": [
           "#636efa",
           "#EF553B",
           "#00cc96",
           "#ab63fa",
           "#FFA15A",
           "#19d3f3",
           "#FF6692",
           "#B6E880",
           "#FF97FF",
           "#FECB52"
          ],
          "font": {
           "color": "#2a3f5f"
          },
          "geo": {
           "bgcolor": "white",
           "lakecolor": "white",
           "landcolor": "#E5ECF6",
           "showlakes": true,
           "showland": true,
           "subunitcolor": "white"
          },
          "hoverlabel": {
           "align": "left"
          },
          "hovermode": "closest",
          "mapbox": {
           "style": "light"
          },
          "paper_bgcolor": "white",
          "plot_bgcolor": "#E5ECF6",
          "polar": {
           "angularaxis": {
            "gridcolor": "white",
            "linecolor": "white",
            "ticks": ""
           },
           "bgcolor": "#E5ECF6",
           "radialaxis": {
            "gridcolor": "white",
            "linecolor": "white",
            "ticks": ""
           }
          },
          "scene": {
           "xaxis": {
            "backgroundcolor": "#E5ECF6",
            "gridcolor": "white",
            "gridwidth": 2,
            "linecolor": "white",
            "showbackground": true,
            "ticks": "",
            "zerolinecolor": "white"
           },
           "yaxis": {
            "backgroundcolor": "#E5ECF6",
            "gridcolor": "white",
            "gridwidth": 2,
            "linecolor": "white",
            "showbackground": true,
            "ticks": "",
            "zerolinecolor": "white"
           },
           "zaxis": {
            "backgroundcolor": "#E5ECF6",
            "gridcolor": "white",
            "gridwidth": 2,
            "linecolor": "white",
            "showbackground": true,
            "ticks": "",
            "zerolinecolor": "white"
           }
          },
          "shapedefaults": {
           "line": {
            "color": "#2a3f5f"
           }
          },
          "ternary": {
           "aaxis": {
            "gridcolor": "white",
            "linecolor": "white",
            "ticks": ""
           },
           "baxis": {
            "gridcolor": "white",
            "linecolor": "white",
            "ticks": ""
           },
           "bgcolor": "#E5ECF6",
           "caxis": {
            "gridcolor": "white",
            "linecolor": "white",
            "ticks": ""
           }
          },
          "title": {
           "x": 0.05
          },
          "xaxis": {
           "automargin": true,
           "gridcolor": "white",
           "linecolor": "white",
           "ticks": "",
           "title": {
            "standoff": 15
           },
           "zerolinecolor": "white",
           "zerolinewidth": 2
          },
          "yaxis": {
           "automargin": true,
           "gridcolor": "white",
           "linecolor": "white",
           "ticks": "",
           "title": {
            "standoff": 15
           },
           "zerolinecolor": "white",
           "zerolinewidth": 2
          }
         }
        },
        "title": {
         "font": {
          "size": 16
         },
         "text": "3D UMAP: 651 Entities"
        },
        "width": 900
       }
      }
     },
     "metadata": {},
     "output_type": "display_data"
    },
    {
     "name": "stdout",
     "output_type": "stream",
     "text": [
      "✓ 3D UMAP visualization created!\n",
      "• Rotate, zoom, and explore the 3D embedding space\n",
      "• Look for clusters that might be hidden in 2D views\n",
      "• Click and drag to rotate the view\n"
     ]
    }
   ],
   "source": [
    "# 3D UMAP Visualization - Even more detail!\n",
    "print(\"Creating 3D UMAP visualization...\")\n",
    "print(\"3D can reveal structure that's hidden in 2D projections\")\n",
    "\n",
    "# Create 3D UMAP\n",
    "umap_3d = umap.UMAP(\n",
    "    n_components=3,\n",
    "    n_neighbors=15,\n",
    "    min_dist=0.1,\n",
    "    metric='cosine',\n",
    "    random_state=42\n",
    ")\n",
    "\n",
    "embeddings_umap_3d = umap_3d.fit_transform(embeddings_scaled)\n",
    "\n",
    "# Create 3D interactive plot\n",
    "fig_3d = px.scatter_3d(\n",
    "    x=embeddings_umap_3d[:, 0],\n",
    "    y=embeddings_umap_3d[:, 1], \n",
    "    z=embeddings_umap_3d[:, 2],\n",
    "    color=entity_types_array,\n",
    "    title=f'3D UMAP: {len(embeddings_umap_3d)} Entities',\n",
    "    labels={'x': 'UMAP1', 'y': 'UMAP2', 'z': 'UMAP3', 'color': 'Entity Type'},\n",
    "    hover_data=[entity_ids],\n",
    "    width=900,\n",
    "    height=700\n",
    ")\n",
    "\n",
    "fig_3d.update_traces(\n",
    "    marker_size=3,\n",
    "    marker_line_width=0.5,\n",
    "    marker_line_color='white'\n",
    ")\n",
    "\n",
    "fig_3d.update_layout(\n",
    "    title_font_size=16,\n",
    "    scene=dict(\n",
    "        xaxis_title='UMAP Dimension 1',\n",
    "        yaxis_title='UMAP Dimension 2', \n",
    "        zaxis_title='UMAP Dimension 3'\n",
    "    )\n",
    ")\n",
    "\n",
    "fig_3d.show()\n",
    "\n",
    "print(\"✓ 3D UMAP visualization created!\")\n",
    "print(\"• Rotate, zoom, and explore the 3D embedding space\")\n",
    "print(\"• Look for clusters that might be hidden in 2D views\")\n",
    "print(\"• Click and drag to rotate the view\")\n"
   ]
  },
  {
   "cell_type": "code",
   "execution_count": 34,
   "id": "f036d57b",
   "metadata": {},
   "outputs": [
    {
     "name": "stdout",
     "output_type": "stream",
     "text": [
      "Creating comparison visualization...\n",
      "Comparing 3 methods: ['PCA', 'UMAP', 't-SNE']\n"
     ]
    },
    {
     "data": {
      "image/png": "[encoded data removed]",
      "text/plain": [
       "<Figure size 1800x500 with 3 Axes>"
      ]
     },
     "metadata": {},
     "output_type": "display_data"
    },
    {
     "name": "stdout",
     "output_type": "stream",
     "text": [
      "✓ Comparison visualization created!\n",
      "• PCA: Shows linear relationships, preserves global structure\n",
      "• UMAP: Better at preserving both local and global structure\n",
      "• t-SNE: Excellent at revealing tight local clusters\n"
     ]
    }
   ],
   "source": [
    "# Side-by-Side Comparison: Available Methods\n",
    "print(\"Creating comparison visualization...\")\n",
    "\n",
    "# Determine available methods\n",
    "available_methods = [('PCA', df_plot, 'PC1', 'PC2')]\n",
    "\n",
    "if HAS_UMAP and df_umap is not None:\n",
    "    available_methods.append(('UMAP', df_umap, 'UMAP1', 'UMAP2'))\n",
    "    \n",
    "if HAS_TSNE and df_tsne is not None:\n",
    "    available_methods.append(('t-SNE', df_tsne, 'tSNE1', 'tSNE2'))\n",
    "\n",
    "n_methods = len(available_methods)\n",
    "print(f\"Comparing {n_methods} methods: {[method[0] for method in available_methods]}\")\n",
    "\n",
    "# Create matplotlib subplots\n",
    "fig, axes = plt.subplots(1, n_methods, figsize=(6 * n_methods, 5))\n",
    "if n_methods == 1:\n",
    "    axes = [axes]\n",
    "\n",
    "for idx, (method_name, data, x_col, y_col) in enumerate(available_methods):\n",
    "    sns.scatterplot(\n",
    "        data=data, x=x_col, y=y_col, hue='entity_type', \n",
    "        alpha=0.7, s=30, ax=axes[idx]\n",
    "    )\n",
    "    \n",
    "    axes[idx].set_title(f'{method_name}', fontsize=14, fontweight='bold')\n",
    "    axes[idx].grid(True, alpha=0.3)\n",
    "    \n",
    "    # Only show legend on last plot\n",
    "    if idx < n_methods - 1:\n",
    "        axes[idx].get_legend().remove()\n",
    "    else:\n",
    "        axes[idx].legend(bbox_to_anchor=(1.05, 1), loc='upper left', title='Entity Type')\n",
    "\n",
    "plt.tight_layout()\n",
    "plt.show()\n",
    "\n",
    "print(\"✓ Comparison visualization created!\")\n",
    "print(\"• PCA: Shows linear relationships, preserves global structure\")\n",
    "if HAS_UMAP:\n",
    "    print(\"• UMAP: Better at preserving both local and global structure\")\n",
    "if HAS_TSNE:\n",
    "    print(\"• t-SNE: Excellent at revealing tight local clusters\")\n"
   ]
  },
  {
   "cell_type": "code",
   "execution_count": 15,
   "id": "196f2d54",
   "metadata": {},
   "outputs": [
    {
     "name": "stdout",
     "output_type": "stream",
     "text": [
      "=== EMBEDDING VISUALIZATION SUMMARY ===\n",
      "\n",
      "🎯 WHAT YOU'VE ACCOMPLISHED:\n",
      "✓ Visualized 651 entities with 384D embeddings\n",
      "✓ Reduced dimensionality from 384D to 2D for visualization\n",
      "✓ Each point on the plots represents exactly 1 entity\n",
      "✓ Colors show the 7 different entity types\n",
      "\n",
      "📊 VISUALIZATION TECHNIQUES USED:\n",
      "• PCA: Linear dimensionality reduction (preserves global structure)\n",
      "• UMAP: Non-linear reduction (better for embeddings, preserves local + global structure)\n",
      "• t-SNE: Non-linear reduction (excellent for finding tight clusters)\n",
      "\n",
      "🔍 KEY INSIGHTS FROM YOUR DATA:\n",
      "• Most entities (376) have empty entity_type\n",
      "• 'view' entities (145) form a distinct group\n",
      "• 'document' entities (120) cluster together\n",
      "• Some entity types have very few instances (great for outlier analysis)\n",
      "\n",
      "💡 WHAT THE PLOTS TELL YOU:\n",
      "• Points close together = similar embeddings = semantically similar entities\n",
      "• Different colors clustering together = entity types share semantic features\n",
      "• Isolated points = unique entities that don't fit common patterns\n",
      "• Tight clusters = entities with very similar characteristics\n",
      "\n",
      "🚀 NEXT STEPS YOU COULD EXPLORE:\n",
      "• Investigate why certain entity types cluster together\n",
      "• Analyze outlier entities (far from their type's main cluster)\n",
      "• Use clustering algorithms to find natural groupings\n",
      "• Examine entities with empty types - what are they?\n",
      "• Compare embeddings of similar entities to understand the embedding space\n"
     ]
    }
   ],
   "source": [
    "# Summary and Recommendations\n",
    "print(\"=== EMBEDDING VISUALIZATION SUMMARY ===\")\n",
    "print()\n",
    "print(\"🎯 WHAT YOU'VE ACCOMPLISHED:\")\n",
    "print(f\"✓ Visualized {len(embeddings_array)} entities with {embeddings_array.shape[1]}D embeddings\")\n",
    "print(f\"✓ Reduced dimensionality from {embeddings_array.shape[1]}D to 2D for visualization\")\n",
    "print(f\"✓ Each point on the plots represents exactly 1 entity\")\n",
    "print(f\"✓ Colors show the {len(df_plot['entity_type'].unique())} different entity types\")\n",
    "print()\n",
    "\n",
    "print(\"📊 VISUALIZATION TECHNIQUES USED:\")\n",
    "print(\"• PCA: Linear dimensionality reduction (preserves global structure)\")\n",
    "if HAS_UMAP:\n",
    "    print(\"• UMAP: Non-linear reduction (better for embeddings, preserves local + global structure)\")\n",
    "if HAS_TSNE:\n",
    "    print(\"• t-SNE: Non-linear reduction (excellent for finding tight clusters)\")\n",
    "print()\n",
    "\n",
    "print(\"🔍 KEY INSIGHTS FROM YOUR DATA:\")\n",
    "print(f\"• Most entities ({376 if len(entity_types_array) > 0 else 'N/A'}) have empty entity_type\")\n",
    "print(f\"• 'view' entities ({145 if 'view' in df_plot['entity_type'].values else 0}) form a distinct group\")\n",
    "print(f\"• 'document' entities ({120 if 'document' in df_plot['entity_type'].values else 0}) cluster together\")\n",
    "print(f\"• Some entity types have very few instances (great for outlier analysis)\")\n",
    "print()\n",
    "\n",
    "print(\"💡 WHAT THE PLOTS TELL YOU:\")\n",
    "print(\"• Points close together = similar embeddings = semantically similar entities\")\n",
    "print(\"• Different colors clustering together = entity types share semantic features\")\n",
    "print(\"• Isolated points = unique entities that don't fit common patterns\")\n",
    "print(\"• Tight clusters = entities with very similar characteristics\")\n",
    "print()\n",
    "\n",
    "print(\"🚀 NEXT STEPS YOU COULD EXPLORE:\")\n",
    "print(\"• Investigate why certain entity types cluster together\")\n",
    "print(\"• Analyze outlier entities (far from their type's main cluster)\")\n",
    "print(\"• Use clustering algorithms to find natural groupings\")\n",
    "print(\"• Examine entities with empty types - what are they?\")\n",
    "print(\"• Compare embeddings of similar entities to understand the embedding space\")\n",
    "\n",
    "if not HAS_INTERACTIVE:\n",
    "    print()\n",
    "    print(\"💡 For interactive exploration: pip install plotly nbformat>=4.2.0\")\n",
    "    print(\"   Then restart kernel and re-run for hover details and zoom/pan capabilities\")\n"
   ]
  },
  {
   "cell_type": "code",
   "execution_count": 16,
   "id": "242b0493",
   "metadata": {},
   "outputs": [
    {
     "name": "stdout",
     "output_type": "stream",
     "text": [
      "Creating 3D UMAP visualization...\n",
      "3D can reveal structure that's hidden in 2D projections\n"
     ]
    },
    {
     "data": {
      "application/vnd.plotly.v1+json": {
       "config": {
        "plotlyServerURL": "https://plot.ly"
       },
       "data": [
        {
         "customdata": [
          [
           "1f30a9ba-1c63-4404-bbf3-b422e25d915c"
          ],
          [
           "a8e63b3a-1978-498a-82b2-b515e1cca856"
          ],
          [
           "c2cc9e71-ba87-4803-8870-c43dc9bcec3c"
          ],
          [
           "b8de0258-581e-4757-84f3-cb4a3889c7e3"
          ],
          [
           "f371fbd6-48f7-4965-a14b-3e1e57bd1099"
          ],
          [
           "5184c423-f8b6-49b9-9a0d-3b1f1993e168"
          ],
          [
           "4819c79e-3b67-42d5-a7c7-1e207e7a68f8"
          ],
          [
           "b9dd013a-1fe0-40d0-96b2-17da8f53a50f"
          ],
          [
           "ec0dc8d7-3f08-46cb-b8c7-f177f33aa15c"
          ],
          [
           "4ccceb9f-24d0-4e01-a203-ed8a428e1f9a"
          ],
          [
           "421e5a43-50d0-4dac-9434-dabc3887b71b"
          ],
          [
           "44df580f-5783-4f12-bb57-f45a930c4d16"
          ],
          [
           "837dfc8a-879b-4147-ab03-7eb8ffcb6e9f"
          ],
          [
           "51fa4fc1-5de5-465a-90c9-f9600fe6739c"
          ],
          [
           "03da0711-05ec-41a7-b8c4-6a6e5439e6f7"
          ],
          [
           "ebf54184-450e-451a-826e-cca1f45c43fc"
          ],
          [
           "d9c8eaab-9867-459c-af96-765274d8a3f8"
          ],
          [
           "12ea37bd-0e9a-44d5-9f24-2379b7e31677"
          ],
          [
           "38ab6e7c-490f-49a6-8600-01e105a852d8"
          ],
          [
           "d2d9cf2b-4da2-467a-9320-9dae625961b9"
          ],
          [
           "29761674-4f11-4904-a3bf-43ef59e40e1f"
          ],
          [
           "b91e6ce0-ba34-4571-a31d-bc7fa30cfaa1"
          ],
          [
           "d568c0a2-b9aa-4883-bdc3-c35a5a78dd74"
          ],
          [
           "231d4b0f-4b72-4421-a25b-6c328f43b7ce"
          ],
          [
           "e0112a59-d6cf-489c-8ac1-8450a54d16f6"
          ],
          [
           "d070c17a-757b-4c20-9461-d38cba9a5981"
          ],
          [
           "5f9ad383-f027-4e8b-be3b-8f5d45757ec3"
          ],
          [
           "f7b5eaee-99ee-4b62-8552-d0222a401304"
          ],
          [
           "ee710523-709d-4766-b6be-f3543af7e313"
          ],
          [
           "ada66118-b867-4b79-bb36-c30c5b767b35"
          ],
          [
           "d64c6956-b6c6-434d-a360-0fc7d74264a5"
          ],
          [
           "158f42aa-7f84-44e4-b41e-6591189f83b1"
          ],
          [
           "3fd2505c-d926-4902-aff9-f035dfd2e60e"
          ],
          [
           "dc920139-cdf6-4b73-9cc3-2633c45e6d53"
          ],
          [
           "c94d62c2-b2e2-4422-a93f-b9b0bad3ebee"
          ],
          [
           "dfd0cf41-75a2-4f78-95e6-ea0ac7350314"
          ],
          [
           "b7dbadc3-291c-40fc-b5a5-cd510a6227d4"
          ],
          [
           "1dc24441-5f24-4d3e-af07-c74e7e1d0877"
          ],
          [
           "6e51f199-a555-4733-98f8-c2d33b96ac67"
          ],
          [
           "0e11a27e-16f0-49f9-a088-7152e4202516"
          ],
          [
           "85a04481-81de-44bb-b3a3-5ca80b6619f6"
          ],
          [
           "a6494279-def7-4277-b835-76d4136746de"
          ],
          [
           "c37db90c-357a-42f7-95b5-ef2a901fe200"
          ],
          [
           "03952642-6675-48e9-9da3-62d9b2770d3d"
          ],
          [
           "fcd5b1e4-b288-45d2-a98d-ae97dc43c9fa"
          ],
          [
           "ef78c280-7f17-4aea-8d70-2b827aab8343"
          ],
          [
           "dac9fefc-d869-42fe-8019-d8bdac75a1c5"
          ],
          [
           "1555ff37-6fca-417a-a4d6-3b6f9677e0e8"
          ],
          [
           "e1d5dcdd-491c-44aa-9b90-495f794e4c06"
          ],
          [
           "520c74ae-6eab-43da-bf31-1ddca09d55b3"
          ],
          [
           "742c50ce-a998-4a9d-96ef-0bbf674f0e0d"
          ],
          [
           "e9d254c6-cc8e-4e85-b0e1-924754c9b765"
          ],
          [
           "e19d8ef5-a112-48d3-aaeb-2c106e561eeb"
          ],
          [
           "39a1de5a-9146-4f9c-bd45-434395894655"
          ],
          [
           "2688d59e-530a-42c8-83bd-8a8bb9dbd031"
          ],
          [
           "bce544b1-c19b-471f-ab48-c0da533df0d9"
          ],
          [
           "c6d41be1-085c-4f67-b3e9-4d35f589f0b4"
          ],
          [
           "e2cc8f3d-adf8-4d79-a9f7-67af98bb8dc4"
          ],
          [
           "d8c49bfa-bb56-4344-984f-7fe3c9811f0b"
          ],
          [
           "806ead96-31db-48ec-977e-80d414aa10f9"
          ],
          [
           "14a99959-cada-4c5d-9516-3118a1dacfab"
          ],
          [
           "05a9f78f-0ccb-40e7-921a-8f3aacd55ea3"
          ],
          [
           "d665a41a-c6c3-4c9e-9b5a-4acdf15531a4"
          ],
          [
           "f4f4eaea-0f54-4650-af2e-1d99b7d7089c"
          ],
          [
           "66d74ba6-1d89-43e7-9102-4746b613d623"
          ],
          [
           "ce245c72-62b0-4ef3-b280-a25c4053a40d"
          ],
          [
           "3f28673a-05ad-4779-8461-0b8dfa4f0b07"
          ],
          [
           "48332b82-5437-41f4-86bd-dc71bb8cc659"
          ],
          [
           "fdad68e4-5740-4658-8751-0f27ab9aea8a"
          ],
          [
           "0f39d45c-4c65-4833-b92d-a7a57cdb8b49"
          ],
          [
           "33129398-ecdb-4ddf-b65a-b61793815ee8"
          ],
          [
           "517c8de0-252b-4a01-9d73-85a60fc3fb1d"
          ],
          [
           "30c505de-944e-4237-b78f-5dec9fac6ac7"
          ],
          [
           "af4806af-d578-4bec-8d19-d92cfa09321c"
          ],
          [
           "c51fb6fc-79cb-4c8f-b9ce-3710ccae251c"
          ],
          [
           "6c28b379-7c64-4281-a485-b302926b4bde"
          ],
          [
           "034b88cb-a916-4ff3-8a7b-8f44137eba4d"
          ],
          [
           "a98c7ff0-9322-4f14-bd7a-fa8b9f28dd5e"
          ],
          [
           "e5ecb756-339a-45ac-880b-b2c198b028a0"
          ],
          [
           "4b9ff345-b3f7-42cc-b696-d7cdcd565bb0"
          ],
          [
           "3d67266e-751e-491e-83cf-4c841a281df3"
          ],
          [
           "3f66111e-f2a7-4491-9686-0cb7678f7384"
          ],
          [
           "c5436380-e1fb-449f-b24f-d10b49457f3c"
          ],
          [
           "fbb1e885-fe33-4b73-9240-3fe6c505b793"
          ],
          [
           "45d246d1-a193-4c23-aecb-0dbe68df9771"
          ],
          [
           "734da7f3-eae2-4523-9e11-8847bc20f80c"
          ],
          [
           "866f114e-c5e7-402e-93f7-f6124e5437c5"
          ],
          [
           "5ce8b175-3ef8-41ed-bcce-536080d05ada"
          ],
          [
           "16c1addf-fb37-4f64-8897-90c76f7a7611"
          ],
          [
           "aa33027c-b7f5-4c88-83aa-a2e9466f5832"
          ],
          [
           "a9d46657-3b9b-4863-b891-4d1e0c49e183"
          ],
          [
           "276228dc-708b-4911-ac4e-59ba2f85f8ec"
          ],
          [
           "9a2df6a7-569a-4f2c-bf18-8689e9406e8d"
          ],
          [
           "e1c62fd8-96c0-4e55-8885-bc5ee80fbb67"
          ],
          [
           "aa3b58c8-c309-461a-a01e-2c987ef4f2fd"
          ],
          [
           "34db27e9-e928-4336-8953-b47b375c7805"
          ],
          [
           "5d15e54d-e350-4184-8da3-e202a3e3af50"
          ],
          [
           "1db733b8-5b33-426d-aea8-679b5ff867c3"
          ],
          [
           "d8745ae3-8b42-42ab-af3b-1f2547ad5589"
          ],
          [
           "a179bf41-176e-4498-9428-07ec4657625b"
          ],
          [
           "e1c77446-1830-4360-87e0-5b82a2938c45"
          ],
          [
           "4e5d474a-3ee6-48da-bdc0-9b28518364b2"
          ],
          [
           "4ab34280-d9d4-44b9-80ce-5281888b4b27"
          ],
          [
           "fe18b622-a5a4-448c-8eab-321b8b56b46b"
          ],
          [
           "889ec452-c64f-49c9-b9f0-5bec54798e0c"
          ],
          [
           "2771a176-25f4-413f-b21a-6367758bebcd"
          ],
          [
           "d15e4513-dd86-412a-a68e-ec6217c2f0b7"
          ],
          [
           "4d55c7ec-c787-4c2b-9cad-997345184962"
          ],
          [
           "bf244130-0b88-4683-ba6e-953263e43845"
          ],
          [
           "2696f01a-ca56-417e-955b-d501887e54a6"
          ],
          [
           "d581547f-d974-4112-9742-9282fe75375b"
          ],
          [
           "90762d0e-be87-402c-99fe-f60d5d9d5341"
          ],
          [
           "2a3f34c4-f54c-43e9-9178-9dbdb00d2d09"
          ],
          [
           "aa1d979e-ec6f-48d3-946c-5f011a706f18"
          ],
          [
           "70a4db5a-b9d7-43f6-9c74-dd0de13102f9"
          ],
          [
           "19b0ad8b-4cea-448a-8a51-0abd6a3f1225"
          ],
          [
           "1f81046d-3a3a-4ac9-8ba9-3c465c76e892"
          ],
          [
           "f8c95b2a-f645-4d96-98f5-74e8b707c05d"
          ],
          [
           "9cd74183-5a58-4a1e-88d4-938e18a0a1dd"
          ],
          [
           "30eb0119-1bcf-455c-a7d3-81e27e3af026"
          ],
          [
           "1a818c90-17e4-401d-a05f-f88a019923fd"
          ],
          [
           "21ec3ae6-3940-4315-b60b-ddd074c6a7e5"
          ],
          [
           "75eca45c-11a3-4fad-a57a-e247bc67ba30"
          ],
          [
           "db49df8d-62ac-43d7-99f9-a640e568d87e"
          ],
          [
           "262367a2-47c4-4f11-9c26-5b3c5d54940c"
          ],
          [
           "1e05ca79-27b0-402c-8514-22f319271ee9"
          ],
          [
           "3213dd47-d046-4ecc-ba0a-3b7284dc6dba"
          ],
          [
           "52a864cf-930f-438d-9e4b-3a9ae3981980"
          ],
          [
           "6d3dae01-e978-4650-b25b-0ce615d39423"
          ],
          [
           "8590d133-faf9-49f5-881f-dde598297f43"
          ],
          [
           "a58c17fd-00c3-4f73-a423-32aaf879eee6"
          ],
          [
           "27113f30-106c-4701-a660-37863acc6e5e"
          ],
          [
           "ce7f8096-ea30-4946-a6fa-d6bbaaa247bb"
          ],
          [
           "3fce959a-d661-46ea-ab19-7743d2096a07"
          ],
          [
           "de560b93-5628-4a20-8806-5f1335e6936a"
          ],
          [
           "fc4275ff-5ac7-4b89-91de-874fa6cd16fb"
          ],
          [
           "f59a3f82-963d-4c68-b5ef-19480264f6d7"
          ],
          [
           "820f9e63-224b-4df1-9bf6-a8991f2975f6"
          ],
          [
           "fda556e3-06ff-409d-b2c3-5c1f46fd0511"
          ],
          [
           "01d691fe-430f-4c11-adc2-cc94e04ff3ac"
          ],
          [
           "f1b626f2-905a-4ded-afd5-bfe2430a299d"
          ],
          [
           "5ac27e11-0154-410a-aaae-04db15c57434"
          ],
          [
           "03be2c7d-6600-49e5-8d6b-d1de35ef8a87"
          ],
          [
           "6590c005-516f-485f-a2b8-495cc9ebe3de"
          ],
          [
           "9075f765-8b77-4ab9-8fa3-87eb6f3fb26e"
          ]
         ],
         "hovertemplate": "Entity Type=view<br>UMAP1=%{x}<br>UMAP2=%{y}<br>UMAP3=%{z}<br>hover_data_0=%{customdata[0]}<extra></extra>",
         "legendgroup": "view",
         "marker": {
          "color": "#636efa",
          "line": {
           "color": "white",
           "width": 0.5
          },
          "size": 3,
          "symbol": "circle"
         },
         "mode": "markers",
         "name": "view",
         "scene": "scene",
         "showlegend": true,
         "type": "scatter3d",
         "x": [
          14.842942,
          2.4048948,
          15.074718,
          2.0540154,
          14.896409,
          15.042748,
          2.1195495,
          -6.35866,
          -6.3769307,
          14.925397,
          1.9706388,
          2.2248094,
          2.0772476,
          5.892488,
          15.139765,
          1.8861315,
          5.351831,
          2.0145993,
          5.438972,
          2.0263045,
          5.8978033,
          2.258086,
          2.06016,
          1.9945012,
          5.6538987,
          5.4087114,
          1.9860603,
          15.077584,
          14.899407,
          1.9182614,
          5.366009,
          15.20754,
          2.0022736,
          5.4606266,
          1.9357231,
          5.4105268,
          2.0468128,
          1.9503653,
          2.2160513,
          2.1535277,
          2.1841278,
          6.085922,
          14.966823,
          14.799287,
          2.1433804,
          16.179914,
          5.0422044,
          2.1135228,
          2.0481384,
          5.7575326,
          5.363783,
          5.104744,
          2.4762409,
          5.049034,
          14.466532,
          2.446959,
          5.3581953,
          4.915286,
          2.2145972,
          5.0888224,
          14.552432,
          5.251041,
          5.0368576,
          14.359828,
          2.4766512,
          2.3365166,
          2.3558848,
          5.2684135,
          5.1853175,
          2.2925231,
          5.618099,
          14.427365,
          2.2134836,
          2.1932511,
          1.9791048,
          14.166585,
          15.125273,
          1.5987486,
          2.5336099,
          1.7728168,
          1.8174099,
          14.292206,
          1.9785342,
          1.8069569,
          1.7637727,
          14.864509,
          -6.4044437,
          5.786686,
          6.0082893,
          2.1385484,
          14.442865,
          6.2791467,
          14.789322,
          14.440464,
          14.567799,
          14.481182,
          14.798782,
          14.414844,
          2.0136375,
          14.444945,
          6.189271,
          5.7890706,
          1.6056137,
          14.737632,
          14.443248,
          6.2328987,
          1.6443106,
          14.814974,
          6.209186,
          15.476249,
          14.496939,
          1.8722333,
          2.0229042,
          14.622539,
          1.8515313,
          6.38892,
          2.3179584,
          6.0336957,
          1.5053244,
          6.309486,
          6.177247,
          2.0507083,
          2.1024823,
          6.2686257,
          2.0579755,
          6.2450314,
          2.1821856,
          2.310947,
          15.401799,
          15.436988,
          0.6467166,
          15.250926,
          15.399642,
          14.743109,
          15.006453,
          2.217511,
          0.5571108,
          15.429019,
          15.086903,
          14.637516,
          15.236677,
          15.439953,
          2.174984,
          2.4385037,
          0.592748
         ],
         "y": [
          8.02281,
          17.643847,
          8.26588,
          17.671202,
          8.120958,
          8.078652,
          17.531387,
          -0.33150747,
          -0.34976706,
          8.227499,
          17.54523,
          17.672087,
          17.325466,
          0.17654921,
          8.377692,
          17.314405,
          -0.13212655,
          17.615984,
          0.051859073,
          17.584417,
          0.35679623,
          17.464289,
          17.409327,
          17.311867,
          0.111839615,
          0.08370828,
          17.377386,
          8.155138,
          7.94951,
          17.586477,
          0.3916195,
          8.073926,
          17.418232,
          0.19576664,
          17.50202,
          0.3820816,
          17.745592,
          17.465538,
          17.630247,
          17.373709,
          17.442236,
          -0.09044357,
          8.005053,
          8.026275,
          17.425266,
          7.648802,
          -0.13072255,
          17.388916,
          17.802694,
          0.9666527,
          0.36545044,
          -0.42266265,
          17.682596,
          -0.14066201,
          7.9790235,
          17.752085,
          0.6349354,
          -0.004847913,
          17.409662,
          -0.2771586,
          7.7451816,
          0.08347164,
          0.07047725,
          7.7795978,
          17.855583,
          18.028063,
          17.814981,
          0.5989854,
          -0.20004119,
          17.761787,
          0.49904066,
          7.9973645,
          18.029585,
          17.789263,
          18.094635,
          8.382906,
          7.8242803,
          17.449886,
          17.62718,
          17.631617,
          17.835976,
          7.916471,
          17.91342,
          17.887291,
          17.932323,
          7.600908,
          -0.37725785,
          0.3245456,
          -0.24749577,
          17.670256,
          8.000848,
          -0.50762415,
          7.9134126,
          8.084459,
          7.8284435,
          8.039206,
          7.73654,
          8.514982,
          17.8773,
          8.277487,
          0.115451455,
          -0.47539324,
          17.601286,
          8.647782,
          8.386088,
          0.2758867,
          17.766857,
          8.825386,
          0.3004651,
          8.272839,
          8.513943,
          17.411892,
          18.16058,
          8.741174,
          17.183249,
          0.046753164,
          17.161457,
          -0.58765644,
          17.844393,
          -0.44506544,
          -0.458326,
          17.247044,
          16.978619,
          0.38284943,
          17.083555,
          -0.44334936,
          16.991743,
          17.277311,
          8.170509,
          7.9018583,
          -7.3555446,
          8.4346,
          8.482201,
          8.869393,
          8.2838745,
          17.967264,
          -7.445104,
          8.713893,
          8.715453,
          8.640404,
          8.579132,
          8.627457,
          17.442558,
          17.300266,
          -7.4094377
         ],
         "z": [
          -6.0926237,
          3.3097293,
          -5.784958,
          3.2492108,
          -5.9973617,
          -5.947316,
          3.1546404,
          0.31282014,
          0.2945572,
          -5.9827394,
          3.4704318,
          3.3174822,
          3.2952228,
          16.14256,
          -6.222908,
          3.2553737,
          16.099068,
          3.0598595,
          16.544664,
          2.9807427,
          16.481071,
          2.976244,
          2.8891647,
          3.100798,
          16.648136,
          16.41177,
          3.1383023,
          -6.337584,
          -6.431394,
          3.2235646,
          16.391853,
          -6.022358,
          3.36344,
          16.630817,
          3.0287476,
          16.171272,
          2.8969414,
          2.8527234,
          2.9325411,
          3.1316147,
          3.0763624,
          16.547705,
          -6.505248,
          -6.417265,
          3.2483795,
          -4.5959363,
          16.66653,
          2.8601992,
          3.0815184,
          16.080145,
          15.746276,
          15.731144,
          3.2084646,
          15.877706,
          -6.4116907,
          3.258486,
          16.15862,
          15.66479,
          3.490302,
          15.776918,
          -6.137997,
          15.823214,
          15.474378,
          -5.803899,
          2.9073546,
          3.0784547,
          3.4704845,
          15.942551,
          16.078497,
          3.6028206,
          15.596278,
          -5.529732,
          3.4166076,
          3.4515827,
          3.5362282,
          -5.7610083,
          -5.527964,
          3.1104937,
          3.5643184,
          3.5865183,
          2.480898,
          -6.017874,
          3.4016385,
          3.544927,
          3.3397174,
          -5.5492325,
          0.2670695,
          15.912433,
          15.558506,
          3.67614,
          -5.776847,
          15.853464,
          -5.506852,
          -5.595346,
          -5.4823217,
          -5.737899,
          -5.9988775,
          -5.8823957,
          3.4469442,
          -5.8363466,
          15.591524,
          15.595041,
          3.0330575,
          -5.719056,
          -5.755212,
          15.749906,
          3.0606554,
          -5.8702297,
          15.815098,
          -5.6155577,
          -5.654112,
          3.6934516,
          3.1346123,
          -5.8210316,
          2.9853868,
          15.630323,
          3.4994493,
          15.736665,
          3.2277648,
          16.19348,
          15.817807,
          3.6127975,
          3.1930847,
          16.028826,
          3.3688352,
          16.425163,
          3.04172,
          3.6475306,
          -5.7668104,
          -5.7799406,
          0.749298,
          -5.5718637,
          -6.051702,
          -6.222711,
          -5.410258,
          2.711571,
          0.83902043,
          -6.000795,
          -6.141471,
          -6.235899,
          -6.413741,
          -6.187724,
          3.737654,
          3.4366167,
          0.80335045
         ]
        },
        {
         "customdata": [
          [
           "2e292dd6-cea9-412e-8765-0550c1645d1e"
          ],
          [
           "b91138ec-671c-4244-8b91-19dcde18ebb8"
          ],
          [
           "ba7d859b-60f7-47f2-a5f9-1a18b97e3da6"
          ],
          [
           "aafc34ae-1cf9-4989-b0f4-dc277d225071"
          ],
          [
           "a944a6ee-d794-40bf-9a05-d1ca62b1f0a9"
          ],
          [
           "d0c42f87-cca3-4b7b-a268-386dbc68f89d"
          ],
          [
           "fcf9c8f8-31dd-412b-b92b-21214346d6b0"
          ],
          [
           "dff7b2c3-6a6d-42ed-8efd-621f39f6c386"
          ],
          [
           "9444189e-5f1a-41f5-acc7-49cad4e3dd98"
          ],
          [
           "ae7cf913-2b48-423d-81f4-c9ce06df4cf6"
          ],
          [
           "673d57f6-4f7c-4520-80d5-110fd765a1e6"
          ],
          [
           "704bef79-21c3-4aa1-9ea1-25b6f9ed65a2"
          ],
          [
           "cd43e7bf-f76f-4fa3-ac0f-7629600a6814"
          ],
          [
           "eeee96b9-759d-45d1-8d97-dbba38802388"
          ],
          [
           "c2869821-8700-4005-bf13-324d6079fce7"
          ],
          [
           "0dce7537-3313-4667-a2c9-c1d5c437f8c7"
          ],
          [
           "450cb2bf-6120-457e-a19c-8b45e1582b25"
          ],
          [
           "568a1356-a526-4333-83fd-fe560d525a5c"
          ],
          [
           "2b1ec6cd-b780-40be-b1b8-a3412d31348a"
          ],
          [
           "d16cf533-2768-4809-ab14-8173e251fa89"
          ],
          [
           "a02be019-84e5-40df-8dcc-cfc91a27e905"
          ],
          [
           "b401a8c3-fa42-48a9-9f5e-426c4b11c7fe"
          ],
          [
           "a05f3ecf-9c18-4171-9dc0-ceba09d97cb9"
          ],
          [
           "23a40556-4da2-46d5-9924-daf743a5b25f"
          ],
          [
           "2e4eba5a-95b9-4513-a9a3-92343b8d5818"
          ],
          [
           "95f19830-3b91-4d8e-83c4-b0cd446a62e3"
          ],
          [
           "8c2578af-816b-44f7-8d4b-138d8da6a79f"
          ],
          [
           "7bd6e904-39d1-4c10-ba78-784a38c40160"
          ],
          [
           "cbbe09b2-0ec2-4cef-8c2a-fbee6d8495db"
          ],
          [
           "f2d5ce3b-2aa9-4e99-91c3-21fc6417766f"
          ],
          [
           "34bc6f34-a499-4c93-a2a0-c1907a9ad586"
          ],
          [
           "968411d9-b1c0-4859-8cac-875fb0124233"
          ],
          [
           "984b1d04-7810-4e35-8854-ab337d766492"
          ],
          [
           "e2401684-8e87-4117-951c-c4e8a79651f9"
          ],
          [
           "b1572e54-06e2-4c21-9283-37d275edb8a1"
          ],
          [
           "e0c086a0-a62b-4423-b034-28630084a5e3"
          ],
          [
           "051c3da0-ef67-4c9c-a841-3874d3216544"
          ],
          [
           "00f61952-8a82-4653-b6ea-ade998a218d4"
          ],
          [
           "886e7e01-30a3-46c3-a592-d5a85c50a4a6"
          ],
          [
           "600244ed-3262-485b-b755-84b529f7af29"
          ],
          [
           "93a984ef-4693-45ea-bb88-7d88555bdea8"
          ],
          [
           "89117ff2-f38e-4038-9e89-92860897fb2a"
          ],
          [
           "cfc2f9fe-59a4-4530-b322-8bb9f4097721"
          ],
          [
           "1f9be3b9-1c7d-4d39-aaf6-058ae1e56d7d"
          ],
          [
           "3d1b00fc-c9c4-4b71-a2a5-2a87eb2dfcf0"
          ],
          [
           "f6040893-dac5-43b7-b92d-675b2deefb9d"
          ],
          [
           "f84dd08c-9087-446a-9fcc-e7749367506d"
          ],
          [
           "7621852c-c7c5-44c4-ac19-9e2f2a6e43ca"
          ],
          [
           "73479401-b260-4b1a-945a-cd4fc8d9b835"
          ],
          [
           "8b5f7869-7df5-4b7e-a8e8-06a059242771"
          ],
          [
           "26d4b6c3-70a9-4415-8cab-0c3209556fb7"
          ],
          [
           "ec49db9a-489a-4259-a57d-bef40e2a497f"
          ],
          [
           "38bf4c4a-9366-4cfc-ba42-c12fbe322ad5"
          ],
          [
           "ee08a4f2-92a2-4fa3-9dc6-cfedeccb6853"
          ],
          [
           "ecbec8a2-c42f-47b8-a7dd-4fabb4fd2b8c"
          ],
          [
           "17a8a485-bda5-4d1e-ae0e-65268cdd8cac"
          ],
          [
           "240fbcac-a44b-418b-ba2b-d651eb9c1124"
          ],
          [
           "d3401a9f-c52b-4255-a6e8-e79552a2b3c6"
          ],
          [
           "983fc2d4-7973-4a58-9bf1-b30bf6651f12"
          ],
          [
           "b259ad41-34a8-411c-9912-83fda689cc99"
          ],
          [
           "43d9cec1-7f19-46f7-8aa1-3d5ffd86a473"
          ],
          [
           "82f477e3-a691-4fb9-8f87-56339225a32f"
          ],
          [
           "7a659f09-e515-4392-b52d-d8e4feea1797"
          ],
          [
           "57bf8025-304b-4611-8ea2-05a058d3ec80"
          ],
          [
           "c7504160-aa8b-457f-b818-293810c27aef"
          ],
          [
           "2814c1c5-0d90-4238-8a60-0054babe9aa1"
          ],
          [
           "e2c93ad8-517f-4a5d-8951-a794d994cf53"
          ],
          [
           "3508ed99-064d-42be-ab50-e34ccb20ea08"
          ],
          [
           "d969e257-a85b-45c1-869c-faaf2902e174"
          ],
          [
           "63ee463d-4e12-4cac-a99f-a0c6546a4d76"
          ],
          [
           "d0997af8-30e1-4c8e-9a72-323d57b2537a"
          ],
          [
           "fe8023c9-89d9-4dc7-b3f3-fb8fae119b21"
          ],
          [
           "d3ed73c3-ab3f-40d6-ba2d-f87d49f474ec"
          ],
          [
           "66f72728-57ad-409a-a273-d6a73e672db3"
          ],
          [
           "6745c19e-55f6-470a-8c70-50b421e1f857"
          ],
          [
           "cbafb089-e294-426e-a8e3-a6730adbda74"
          ],
          [
           "9c060a5d-964f-4512-adc8-4f9dc5dcfa87"
          ],
          [
           "a9705e46-f439-4769-95e2-9c768df9a696"
          ],
          [
           "822cb93b-7308-4090-a666-e2b36c5ac94a"
          ],
          [
           "2c8ed5dd-9a21-4f0e-b30d-158237c3be56"
          ],
          [
           "509d45b1-223b-42de-a06e-31bd14269eb4"
          ],
          [
           "bf9285a0-cade-4ea4-9a83-469060f2ae75"
          ],
          [
           "7a6a94c7-0b8b-4dc7-99d6-bdbb723d7f7a"
          ],
          [
           "acc9d3a8-1ba4-4aae-95ff-2c1f37b182b8"
          ],
          [
           "be4093a7-02bc-4bba-be96-048507100032"
          ],
          [
           "dc591be2-4da5-480a-b6d2-c13a87107023"
          ],
          [
           "a04474c1-6b33-4650-a33e-2b322f1fe0f4"
          ],
          [
           "3d1db8ab-4f88-40ef-be56-2b63000a4640"
          ],
          [
           "a3864c2d-53d8-49a5-9cd0-1386f1ebde63"
          ],
          [
           "a4397aca-8e7b-4a10-b583-1362098a6b4d"
          ],
          [
           "2cdca649-ac48-446c-8bac-afb0863d4f65"
          ],
          [
           "894284c6-4af6-4b86-b1bf-ea53a78f44ed"
          ],
          [
           "d4aea957-defd-4803-a7d8-2a083d8516cb"
          ],
          [
           "77ee5738-fa06-48df-ba1f-0dda185dc3bb"
          ],
          [
           "fb022c6b-2abd-43ef-a8d0-792a24e7b4fb"
          ],
          [
           "17ab8fc5-ac9c-4b52-bb48-c91afc6414a6"
          ],
          [
           "fe64149b-bd9a-4045-989c-d50ff263efd9"
          ],
          [
           "f60a34b6-6ec1-477b-a945-4e9cd5efdb60"
          ],
          [
           "d2fca464-8010-40e7-b9e0-0db9482525ee"
          ],
          [
           "52fd56c2-a5c5-431a-a2ad-e3f48ed0920c"
          ],
          [
           "6c9ce5ed-d3af-4787-9492-0eda4f986978"
          ],
          [
           "c3c0462d-8c18-4227-8448-48b420402e37"
          ],
          [
           "aaa0475c-6802-463c-b67c-aa4b92be4706"
          ],
          [
           "9225d849-a118-4241-8cc3-660a477671aa"
          ],
          [
           "9c8b38b9-422e-41c7-9821-55bf248aa736"
          ],
          [
           "8ad1a368-24cc-4f96-ab14-71b15c39b0fc"
          ],
          [
           "b3199927-9431-44cf-9dfb-49f926915fe0"
          ],
          [
           "d25c859c-eba0-4664-a12f-05d126d79216"
          ],
          [
           "8aded30f-7e95-41af-a1e5-149c3998f9c7"
          ],
          [
           "aa802203-8010-4576-93b7-214ed44ba56a"
          ],
          [
           "6d47a8fc-83fc-44aa-98ce-8b68964f2762"
          ],
          [
           "79fd1a3f-9010-4983-91d9-04d1f4f2a110"
          ],
          [
           "b4602a96-da19-4679-85f3-9a919e321230"
          ],
          [
           "b363608d-7b26-45f6-b347-428fda21a322"
          ],
          [
           "80e2df11-41a5-4728-8f2d-f951c30d82f0"
          ],
          [
           "4a686878-7e36-4ea4-80a4-b727294a7284"
          ],
          [
           "d8cca264-5aed-4a0f-80ad-48c4237c8256"
          ],
          [
           "7e958f43-406c-448d-b6ec-e93337ce0620"
          ],
          [
           "375b79e0-9c4e-4695-b17e-7278e0842f84"
          ],
          [
           "1010655a-4d14-4bd2-9aff-455c08eb829f"
          ],
          [
           "b13e61cd-7f9b-4b0c-b9f0-5680d120cb68"
          ],
          [
           "630f26d4-d8d9-4351-9400-6a21dcf40f2c"
          ],
          [
           "be9fae38-1f14-4899-976b-b84ea7333037"
          ],
          [
           "f05a28a1-4724-4cc3-aef7-6551d2242cf0"
          ],
          [
           "f07581f8-f943-42d2-90fd-2eb69cda2147"
          ],
          [
           "997a4b92-63f9-48a2-9268-0631cd5c18cc"
          ],
          [
           "44faa970-3ab7-4fa3-aff1-4b8f15d4b4c5"
          ],
          [
           "75abcc01-4d90-4570-aa2b-f4d2b9ce73dc"
          ],
          [
           "a5d96389-9b6b-4ca9-a218-e0413bb7364e"
          ],
          [
           "97353558-2c8a-40b4-8f61-c7298098eb3a"
          ],
          [
           "6a23314c-2fa0-4a2a-ba37-05755174b0b3"
          ],
          [
           "abaaeb96-4da2-4d78-ae60-014ceccf7f7f"
          ],
          [
           "1b1c3ef6-b44a-4677-95fe-144551c79ac9"
          ],
          [
           "f2ed0163-b35c-41e5-8114-f8c1fd0a0e58"
          ],
          [
           "1bf02a1d-56c8-413b-b70b-29642d7ed3fd"
          ],
          [
           "d85781ed-49da-4c30-b875-09c4cf6e4a28"
          ],
          [
           "c4eed01d-5b0a-4cdc-a950-fc1eb2ab7ea9"
          ],
          [
           "5980a805-e928-4530-b2d6-95bf1c4996e4"
          ],
          [
           "66cbb616-d1d2-4415-a5e7-3663739a05cd"
          ],
          [
           "77a9e829-d519-4cad-ab4f-460851843079"
          ],
          [
           "6ddb9795-1eb0-4a14-988c-02a8c3286234"
          ],
          [
           "734e4f12-53dd-4548-b141-8fd8f2fb46e8"
          ],
          [
           "fb3d453d-5f73-40af-865e-967aa438d981"
          ],
          [
           "76d181a4-087e-43c3-99d8-f4a8c86e5df8"
          ],
          [
           "e3bcd525-f997-4e84-a720-a00372eaa166"
          ],
          [
           "2919bc7c-b5d6-47f1-8a6d-ce20eb0e7da7"
          ],
          [
           "26ef2229-7ff2-4ffb-8ec2-87042175fcb7"
          ],
          [
           "cb417898-855f-4bf6-b3e6-8aa317de37e6"
          ],
          [
           "1575dc92-86eb-4f61-8ea4-eb13de72fafd"
          ],
          [
           "708c7a13-85e8-4905-8075-3027e939f721"
          ],
          [
           "e3552d41-3946-4235-93b9-10f336c84e67"
          ],
          [
           "0a3564da-1f86-4145-98b1-7de5e9c8e03e"
          ],
          [
           "3c35c06b-a62e-4ac1-821a-3a09294ba771"
          ],
          [
           "c4c283c1-aa46-4a06-92f6-afddabf1ccd0"
          ],
          [
           "a9191a18-860e-489d-96b0-979c89704170"
          ],
          [
           "94f4b0fa-85d4-423c-81de-89c048e5c4ee"
          ],
          [
           "4fe439fb-6da8-4252-9546-679df5facf56"
          ],
          [
           "61655071-914d-4ce4-9d16-bbc1fa65d349"
          ],
          [
           "fe05ed14-6ba3-4589-be1b-4b9e779b4f4c"
          ],
          [
           "1c42b6e0-228f-4ab1-9028-f3d5d9bd3fcd"
          ],
          [
           "81abe02f-8b07-4b8d-ab8d-2c8bdafcfae6"
          ],
          [
           "8d38fcde-f194-43e3-af7d-05b4d54ad220"
          ],
          [
           "2e4ee315-dbc9-478f-b624-58d9356f9eb7"
          ],
          [
           "8b62d906-1531-4d86-991b-0b455dce2680"
          ],
          [
           "a1913e99-84c9-4091-8f79-1aca68352f70"
          ],
          [
           "7f8f6aca-0a03-4ebe-aae2-dbfe0c783a92"
          ],
          [
           "88409f0d-a368-423b-b14c-345b73221653"
          ],
          [
           "1a2ee8cd-0ebb-4da6-903c-18942b865e20"
          ],
          [
           "90172502-fc31-49e5-8cf2-29693c1f7e45"
          ],
          [
           "20a57718-f6a7-43c8-bc84-0d2151aa84f2"
          ],
          [
           "e0e93369-6014-4df2-947c-2dcdacf34eeb"
          ],
          [
           "2be45e9a-93cd-44b1-9a13-1fbebaa335da"
          ],
          [
           "559fd265-a341-4412-b19f-bfb378f264ad"
          ],
          [
           "eeef7718-67b3-4549-a714-571c217120aa"
          ],
          [
           "53f51244-11e3-43aa-a555-9f417a8da435"
          ],
          [
           "43a66bde-24a3-4d29-a883-4b30fb701f36"
          ],
          [
           "420f5cc6-0c92-4672-8c05-bb21c07aa62f"
          ],
          [
           "585dc74b-1444-484d-88fc-4effff9d8d44"
          ],
          [
           "b921950e-252e-4fe1-8ff3-ab42e880647f"
          ],
          [
           "062d9b73-3ede-4a10-9f80-ee0d37fd2ddf"
          ],
          [
           "7ad128ff-8fe1-47f9-a197-d0f7dfda0bc1"
          ],
          [
           "37c7db66-4cb6-4e3d-b915-6b7f3bcfe98e"
          ],
          [
           "7bba07a6-78f9-4494-8345-e7eec6aeb9ca"
          ],
          [
           "4be22791-2f62-4d72-82ac-7461a16d9bb9"
          ],
          [
           "698b67d9-2048-4c4a-91bc-2f200c7d7870"
          ],
          [
           "89b949c9-377b-4fe0-843c-73e4d7456c19"
          ],
          [
           "3d8d978c-9fbe-43ee-9dce-faa95953d8d5"
          ],
          [
           "fac69729-fb50-4905-a725-1af817017c67"
          ],
          [
           "7065d4de-b38b-40d6-bead-b0f2575a0633"
          ],
          [
           "9fac2f9c-0e1e-4f09-8a95-ab2ca7facea6"
          ],
          [
           "839f36f0-4edd-4fe2-89cd-3e6e2ab18fe1"
          ],
          [
           "c2085e06-8cb4-42ac-bedf-2ff6d25a8828"
          ],
          [
           "87c4b593-7be4-4331-9f83-9b853cd179a6"
          ],
          [
           "76d53d88-eaa1-48fd-a4cf-5e6ff177a1b5"
          ],
          [
           "38cf4038-d954-42bf-a7a3-517fa94b816d"
          ],
          [
           "b2dba0df-7f64-4854-83e1-619482515a1a"
          ],
          [
           "5a5e9aaf-6766-4a27-85b8-68a22fbd5c44"
          ],
          [
           "7fef6055-b9c1-4dfa-9b14-c7873d8a7f93"
          ],
          [
           "305d7471-d69b-4099-86ae-2ac43cfd0700"
          ],
          [
           "8414dee2-e025-420f-82bc-d8a8d13d1a3c"
          ],
          [
           "9472d2ab-8878-442a-898b-1ea4ec6b59d2"
          ],
          [
           "60e41e0e-a3f6-4364-8693-23dcb60b0c39"
          ],
          [
           "aced4d7e-6fec-4b94-b7e3-72e1ecd3b679"
          ],
          [
           "2fba1d6a-deae-4fb3-aa8b-09d4052a29db"
          ],
          [
           "d37d0d2b-6a65-40af-b8bc-644a2d6e1d15"
          ],
          [
           "d8a1223b-16fe-4ad0-9861-382e0575a524"
          ],
          [
           "0af0bcad-a604-4d09-a1dc-d5d66db08a7d"
          ],
          [
           "cc1fa2f9-51d9-4f4e-b08f-5b2e91e235e4"
          ],
          [
           "0d6e475f-8da5-4f2a-9bd7-4eef475cfee3"
          ],
          [
           "b0636c79-399d-4d40-ab7a-4eefea3de1a0"
          ],
          [
           "89da336a-bec1-44e2-82b7-5cadc9685c04"
          ],
          [
           "3505c065-d9b0-4761-9738-47184627baef"
          ],
          [
           "1aed29e5-a057-4d61-a88d-0f08954e252c"
          ],
          [
           "c906b78f-0b1f-4806-96f2-c8c88ac962f3"
          ],
          [
           "d9e67d07-e509-450f-ac3a-876559390122"
          ],
          [
           "15351ec4-b386-4aff-85b0-310b2d363005"
          ],
          [
           "dd959a25-5121-4025-8a83-a50dd5de0e63"
          ],
          [
           "ef716e24-ef0d-4636-96d4-e502902dbb0d"
          ],
          [
           "71677425-3a99-4312-9b83-dde1aac2877a"
          ],
          [
           "64adf629-38cd-4969-934c-68aff9d935d1"
          ],
          [
           "d5555586-141c-4d91-a5e1-f1f7629634aa"
          ],
          [
           "124de90a-ecd9-4aba-9859-a91bebfc7785"
          ],
          [
           "604b844d-b5dd-4264-856c-9ba478f83407"
          ],
          [
           "fa990943-cdcb-4623-9dcd-322948289cd1"
          ],
          [
           "1b8b1808-c2e4-4b8b-9d0b-cd6f107934c9"
          ],
          [
           "c93c296a-a506-47e4-9d35-82d17550d0e4"
          ],
          [
           "aa9de3c0-42d2-44e5-8777-db3530310d83"
          ],
          [
           "e14c80c0-e8e1-4afd-b182-6d6f0a74f4e9"
          ],
          [
           "5a95fbe1-c5dc-4922-85cb-e7f8cea4d867"
          ],
          [
           "a80266f5-84b3-4ebb-9eca-75a6413d3327"
          ],
          [
           "cc5a384f-95b7-4cc8-af6a-5c856abea5be"
          ],
          [
           "99f218c2-d7b5-44c1-b33d-6cd4d6615a5b"
          ],
          [
           "7a6364e5-71a4-40a4-b50a-3d608e785021"
          ],
          [
           "d4c15a42-58db-40c6-bc33-418a569fda6d"
          ],
          [
           "be517a82-bf69-4a93-b81f-84b955213951"
          ],
          [
           "e142437c-de3a-4964-813d-a89575e155b3"
          ],
          [
           "4e65e33f-8894-47d2-813f-da8e8d3a850f"
          ],
          [
           "75578d52-a37d-4ef8-96cd-2fd145d1afdc"
          ],
          [
           "e7f370c9-0504-4111-b97f-a69ad23edb87"
          ],
          [
           "9ae2ee18-bbb8-4783-bf90-0bb308fab81c"
          ],
          [
           "d877448b-7a2b-4ec9-9801-b6b14d195c0d"
          ],
          [
           "89107a9d-3c78-4de1-aa05-13ce94e505ea"
          ],
          [
           "9cb93349-d6cf-4220-bb06-eb7addeb0622"
          ],
          [
           "f14ecf02-0b50-4ba4-8412-ac50cc32ca69"
          ],
          [
           "a03cec5f-ebd9-45d0-982f-be0c99a6b9ff"
          ],
          [
           "7bb9e999-c5f4-4295-8f87-51680f52c956"
          ],
          [
           "bebb06d7-0d13-4fba-bdf0-0cc9a515c17c"
          ],
          [
           "02113d27-5606-47d7-bd17-38b6e0340f22"
          ],
          [
           "7b562f9e-82e9-48b0-9b95-d972080f36c0"
          ],
          [
           "a18ab06f-51cc-4972-9856-aeba91a6b312"
          ],
          [
           "78e5027b-2cf1-4e83-88fe-e2498bf45e99"
          ],
          [
           "e8a8688b-88e6-4f6e-91e3-76021dc2c2a0"
          ],
          [
           "bcbf3e59-bfc7-412a-9f21-d9ba2fc24e91"
          ],
          [
           "6982aa3d-275a-4203-ad96-7bc0eb5decbd"
          ],
          [
           "74aca2c4-4062-495d-bb32-1096b91a7fb4"
          ],
          [
           "67c44c9c-c14a-49a3-882f-b3e0c148972a"
          ],
          [
           "8ea25fe3-d67d-47ab-afbc-11ba2cefd939"
          ],
          [
           "d55ba570-69b6-476e-8028-3237cb565b74"
          ],
          [
           "d978ef62-66a2-4055-8755-907533582e75"
          ],
          [
           "0a3aa37e-2464-484d-858a-9095c68813c5"
          ],
          [
           "110bc1f1-461a-4f20-abe5-9c3e8a4839af"
          ],
          [
           "3e295313-8223-44ff-94eb-8eb401828546"
          ],
          [
           "eefc4cf6-a56c-4882-be42-568862392f7f"
          ],
          [
           "6fc17e64-1549-46b7-b332-b55b91a04401"
          ],
          [
           "49394988-ebd4-4678-b330-960cd1104bc2"
          ],
          [
           "25d330a4-f293-4b34-8ab5-1ea4d6d559f2"
          ],
          [
           "c09ca625-bb78-421d-ae0f-a77b2a2b0ec0"
          ],
          [
           "2727bab7-b313-40ec-a284-40dc6dc5035d"
          ],
          [
           "dcfff5e3-ebe4-4ceb-81cc-42e1d1074983"
          ],
          [
           "792895dc-da33-41ab-b4d8-70060b618bb1"
          ],
          [
           "93248ec4-da6d-4d79-b3ae-f7f21c32cea9"
          ],
          [
           "da7c9ace-a1b7-4c6c-b031-45a8ecfbd57e"
          ],
          [
           "631389ba-2812-4c3e-997f-527a65f1e259"
          ],
          [
           "419a7d7e-5a76-42ec-9d4a-3556159db329"
          ],
          [
           "13eef679-8ab5-496f-80e0-85fa6626b5ab"
          ],
          [
           "b83f24ba-b35a-4f6e-8a0b-99c10dae8b6d"
          ],
          [
           "1aeca5c9-8f69-45ab-9e75-b35496c94713"
          ],
          [
           "beecaecf-7618-4ce3-9462-a52e8c8e5fea"
          ],
          [
           "99dcc2b0-ee18-40e8-9224-5f3c2976a443"
          ],
          [
           "247713ba-4d2b-4098-9395-dc8ee39aabdb"
          ],
          [
           "56b8815d-cf7f-4bd9-9bcf-1ff7ea2ce2b6"
          ],
          [
           "68b60613-ee35-4d30-b18e-5e3349460f4f"
          ],
          [
           "47f99d57-e92a-4b07-8267-875ba83296a8"
          ],
          [
           "aedec8cd-6779-48f6-8f31-1acbc51ddf47"
          ],
          [
           "eb8e1c9a-d923-4cef-9811-7f6f7484d755"
          ],
          [
           "0f2103ab-8bd5-4a4c-80ed-9718417493be"
          ],
          [
           "848459e9-0ad0-4ff7-a66d-c0471bdb7102"
          ],
          [
           "6f98b377-dc13-4fc1-8360-16f918a7c990"
          ],
          [
           "8e80b0fa-2d20-4259-9f06-ae5086e35c75"
          ],
          [
           "f916d037-3700-4f35-9950-0e7725c2ffb0"
          ],
          [
           "844c71c4-ed01-4cc2-aaa8-51a125828d77"
          ],
          [
           "d051bc00-4f18-41b0-bc42-739e31ec2df6"
          ],
          [
           "ca2fc157-beba-4e1e-b4d9-99a581baea4a"
          ],
          [
           "47782684-4d3a-4f8b-9819-91363d89f49c"
          ],
          [
           "4563217d-f45c-480b-8a13-59d9a0f11a03"
          ],
          [
           "2e792dd6-cb6a-48cf-b6e1-4e88fbaf15ef"
          ],
          [
           "1312c759-8474-47ac-a124-99dd270c1359"
          ],
          [
           "dbaf14de-ce34-4823-8064-4a8b43b64d70"
          ],
          [
           "b7e98a31-a1e5-482a-a52e-05b018adc5de"
          ],
          [
           "26a77c08-7585-45be-aca4-130051c63202"
          ],
          [
           "b818ce1a-c0d3-45d2-931e-44cf874fb536"
          ],
          [
           "3e18d75e-f3b5-41f4-8938-a66b6488b847"
          ],
          [
           "83742962-3e28-47ed-8014-1a29df947d2d"
          ],
          [
           "ca6bd40f-622b-4fb1-8240-4b7a6067b1ad"
          ],
          [
           "a3491453-c84e-4389-8895-55fcaae3ce9c"
          ],
          [
           "62dc9972-6fe9-4f55-a08c-5f71a514648a"
          ],
          [
           "e0574d06-f0be-40fd-ba58-a73f6b0e8d48"
          ],
          [
           "ed063a95-acc6-417b-8473-5d24637a9a49"
          ],
          [
           "e08dde63-97be-4739-823f-523861d984fc"
          ],
          [
           "c38990cd-47be-4f36-a1c4-8e605cc9c736"
          ],
          [
           "025bf059-5841-4349-9f64-00086c585b74"
          ],
          [
           "0a853697-1ff8-44fc-84db-38d848986957"
          ],
          [
           "35ad63b2-8161-471a-a067-62c77f5120b2"
          ],
          [
           "81c2d32a-845d-4a98-925d-cb2e1af2ce68"
          ],
          [
           "9bcd6ff7-82e0-4035-842e-4ed51ef3c2f7"
          ],
          [
           "b96e8f25-3c54-4f90-91ac-1bfdcac73874"
          ],
          [
           "5e2997f1-03b7-4c79-866e-95ca70909066"
          ],
          [
           "047ed220-5b99-4ea6-8e9a-4c91db40fb52"
          ],
          [
           "b3e88fd3-73c3-4ce1-a035-118adc67ec5a"
          ],
          [
           "4b0af827-13e3-4e62-83b4-21655b3ce8a7"
          ],
          [
           "ea97f3e6-ca72-46ea-8566-f3e541276ee5"
          ],
          [
           "3f5d91fc-ac64-443a-b8d5-06ebd7fff7c6"
          ],
          [
           "3b39d8f8-4fcd-4fd1-81a8-40e8117a53f8"
          ],
          [
           "a4dbe725-e2da-468a-ad52-bd1d76c46252"
          ],
          [
           "4289d62b-b094-4b96-9f57-589b8f9a8e81"
          ],
          [
           "0e07241d-295d-403e-bf78-9b89bb4dbd2c"
          ],
          [
           "0a9549a7-fb7c-42ae-8321-091469cbeeb1"
          ],
          [
           "dedb9959-1c25-4a8f-a5df-48f1fd3a3187"
          ],
          [
           "e81678ba-115f-4a54-bdc7-50fbf0582e22"
          ],
          [
           "dfb0bff4-f6b0-43f4-a5a2-58e2dacd8898"
          ],
          [
           "d5d97260-7279-42e2-b943-228c63c39b93"
          ],
          [
           "6878035c-9dac-4181-a78a-165cd93eef3e"
          ],
          [
           "d858686b-7909-447e-8700-3f517f9545b7"
          ],
          [
           "78dea0db-1e07-4ffd-9c88-4ddcdb47f961"
          ],
          [
           "02fa0c31-0867-4937-ade5-2d8cd7c83ac2"
          ],
          [
           "c8b74f3e-4d7b-44dd-a854-512d03152c4d"
          ],
          [
           "addf6994-4378-4c76-bdb7-afb59ba24be1"
          ],
          [
           "0a75c473-3b9d-46c9-a37b-23ec27d48e74"
          ],
          [
           "9f7447f4-3927-4fe4-96e1-569531830692"
          ],
          [
           "555da0b4-3320-4584-b68f-1b2219659c47"
          ],
          [
           "74b5e4ad-2d28-4c63-a1d8-646bebc9c651"
          ],
          [
           "e22870b9-134e-44ca-8a03-24f99cfc8436"
          ],
          [
           "4d9cabd3-6cb7-4e33-8bf9-1d1688742e92"
          ],
          [
           "4387618d-d91a-4f2d-adac-7ec8a8a67c24"
          ],
          [
           "99ca01ac-d9b9-493e-9621-0f277797ae1d"
          ],
          [
           "89a6a75b-187b-4a52-becc-06719cf6a21a"
          ],
          [
           "15bfa255-6518-4a70-b777-868e7ce832cc"
          ],
          [
           "c6305eee-eb3d-4624-a09e-9d3b39b75e96"
          ],
          [
           "d1122251-5fed-4a7b-9b9f-562eeec2386c"
          ],
          [
           "73e9d89b-c41d-436d-8f0b-840837fe25a2"
          ],
          [
           "d635e7ba-8133-4998-aeb1-6f64f4259483"
          ],
          [
           "151406c1-df93-4dd1-8188-44743568cdf5"
          ],
          [
           "8049a960-e7c4-4445-8ebc-ab876a8a8554"
          ],
          [
           "416f5c81-10e1-4834-bfbc-de70a847862d"
          ],
          [
           "dcd764b0-9d04-440d-a976-da16ce8653ad"
          ],
          [
           "15e390d2-5965-4cfd-b0f8-b8f5d48f1534"
          ],
          [
           "a57955f3-24c0-40d5-9fef-70bee29b44cb"
          ],
          [
           "6b9d72ec-19f1-4353-84f3-822525248101"
          ],
          [
           "2a154d56-5156-4d94-9462-cda25cea5936"
          ],
          [
           "a091676c-ef43-4b71-8335-4d1b927c3872"
          ],
          [
           "b53c12bf-e5f8-459a-a260-66549a6c5929"
          ],
          [
           "3863ef5a-54b4-458f-a3dc-93407fbb6926"
          ],
          [
           "7b8c9980-8e03-428e-a05f-1793d1aab1b1"
          ],
          [
           "a2d851b3-83ff-420a-b98d-0ffbb3048f40"
          ],
          [
           "fd67d9d3-a11c-4bcf-b316-43acf452c10c"
          ],
          [
           "01df1a67-3247-4131-9340-0d0ede890dca"
          ],
          [
           "8f436c73-3da7-4e24-87b1-e6eb8050ce41"
          ],
          [
           "d3a8de80-1550-4b15-8400-f3c72fdc97de"
          ],
          [
           "51e46ec3-7be9-4e10-b476-b80817a3979e"
          ],
          [
           "4df7d81f-d2d6-4e1a-b58f-bfaf69d89f75"
          ],
          [
           "5aef4156-277c-4ec3-915a-60f38bb8978f"
          ],
          [
           "f24b5472-8364-4a9e-ae5f-209b1830f928"
          ],
          [
           "8dea741c-c161-4a73-aafe-dd1c9db00582"
          ],
          [
           "01ae4556-8bb2-46d6-a20c-07b1bda0bd03"
          ],
          [
           "35eacf3a-bab1-434e-a7ff-48a7f526ab98"
          ],
          [
           "b1758466-0ac1-470e-8131-d05c294acf46"
          ]
         ],
         "hovertemplate": "Entity Type=<br>UMAP1=%{x}<br>UMAP2=%{y}<br>UMAP3=%{z}<br>hover_data_0=%{customdata[0]}<extra></extra>",
         "legendgroup": "",
         "marker": {
          "color": "#EF553B",
          "line": {
           "color": "white",
           "width": 0.5
          },
          "size": 3,
          "symbol": "circle"
         },
         "mode": "markers",
         "name": "",
         "scene": "scene",
         "showlegend": false,
         "type": "scatter3d",
         "x": [
          15.045114,
          2.150605,
          5.967386,
          2.2620113,
          5.824033,
          16.158138,
          14.92891,
          1.8122838,
          14.925601,
          5.9463882,
          -6.385058,
          14.839956,
          2.06624,
          15.127091,
          14.986582,
          6.096033,
          5.9860964,
          16.319668,
          5.6950893,
          6.0082197,
          15.079497,
          14.900949,
          14.993954,
          14.682871,
          0.50596833,
          -6.323395,
          5.955588,
          5.7939653,
          5.9266357,
          14.902941,
          5.6686935,
          14.632518,
          14.834917,
          16.132193,
          15.146407,
          -6.3763013,
          16.103226,
          16.307034,
          15.224054,
          15.085365,
          16.131746,
          14.776052,
          16.201874,
          16.398327,
          5.874266,
          5.7422566,
          5.7934327,
          5.8013,
          16.26059,
          5.496884,
          5.6304593,
          15.007075,
          14.994602,
          16.212612,
          16.253086,
          5.8072796,
          15.10585,
          15.28565,
          16.295216,
          0.45645678,
          14.977573,
          16.285635,
          5.8901615,
          15.160386,
          5.8042936,
          16.212065,
          5.886021,
          5.646571,
          16.158918,
          16.395617,
          5.95379,
          14.941166,
          16.227222,
          5.818561,
          15.211797,
          14.838282,
          16.1819,
          5.858692,
          0.38934544,
          5.9448457,
          5.7783546,
          5.756765,
          15.088158,
          5.7081347,
          5.686994,
          15.1310835,
          15.270664,
          5.600757,
          6.0882845,
          5.8426547,
          5.654185,
          5.8940988,
          14.911292,
          5.8627234,
          5.97516,
          16.106443,
          5.8394775,
          15.131844,
          5.4805436,
          14.854761,
          5.950976,
          16.286997,
          5.901197,
          0.5224047,
          16.153982,
          16.396683,
          5.547686,
          5.486074,
          16.042702,
          5.8866324,
          5.9603186,
          5.995116,
          5.5765977,
          5.8023667,
          5.576321,
          15.008572,
          5.7413683,
          16.31975,
          14.772292,
          5.838459,
          14.831247,
          5.7020006,
          5.563316,
          5.6363387,
          5.7099795,
          15.004366,
          15.017756,
          5.67087,
          15.188664,
          2.1101878,
          14.864443,
          5.6252847,
          15.12723,
          14.990504,
          5.752955,
          5.339568,
          16.39068,
          15.036877,
          15.015286,
          16.192188,
          15.294892,
          5.748362,
          5.6006827,
          5.479993,
          5.5351005,
          15.1479225,
          16.265062,
          16.228273,
          15.100118,
          14.987319,
          16.480974,
          1.8422859,
          2.1835632,
          16.294207,
          5.5524096,
          2.2796416,
          16.380014,
          5.366452,
          5.523389,
          6.201164,
          15.10176,
          16.144878,
          15.052358,
          16.503834,
          5.3979216,
          6.135815,
          5.72548,
          5.368001,
          16.48598,
          16.317928,
          15.2967415,
          14.720164,
          14.724836,
          14.870728,
          6.073471,
          15.059886,
          15.418378,
          5.822752,
          16.405697,
          5.7198553,
          5.1425323,
          16.229208,
          5.0803413,
          15.397658,
          15.943359,
          14.745283,
          14.515044,
          5.3956647,
          5.6713395,
          6.008048,
          5.2157044,
          4.9320984,
          4.932586,
          14.683813,
          14.563715,
          2.4666471,
          4.9593186,
          15.122865,
          5.872228,
          15.972977,
          6.4948425,
          15.055905,
          4.8936276,
          16.371037,
          5.8982654,
          5.8810453,
          5.810925,
          5.4969335,
          5.4760094,
          6.0664835,
          5.3784604,
          16.369217,
          5.6308823,
          14.70304,
          5.7425766,
          5.2033606,
          5.8935966,
          16.307062,
          16.318867,
          5.71485,
          5.169092,
          2.4922473,
          5.311489,
          5.9372935,
          5.0542207,
          6.1262345,
          5.965059,
          4.979301,
          5.4953895,
          16.4737,
          5.575998,
          16.47511,
          16.32092,
          16.118052,
          16.53147,
          15.202206,
          14.413792,
          5.7921968,
          5.0237017,
          14.5260725,
          5.077718,
          5.001361,
          5.1949053,
          14.963817,
          15.234271,
          5.139067,
          0.5498721,
          5.4878016,
          5.2411194,
          2.4634745,
          2.1268053,
          5.4298477,
          14.810308,
          14.37581,
          2.158346,
          2.4610674,
          2.3786225,
          5.285213,
          2.127935,
          14.334111,
          14.492642,
          14.782724,
          5.2076,
          5.014378,
          0.5558825,
          5.4290466,
          1.8558478,
          5.3416085,
          5.3072257,
          14.907393,
          5.527987,
          5.7128134,
          5.1386538,
          5.7451153,
          14.28176,
          5.4435296,
          5.4570975,
          15.033418,
          16.417751,
          14.453389,
          0.4390118,
          0.45099363,
          2.4895318,
          0.49315932,
          5.376664,
          0.5754079,
          2.253747,
          16.47665,
          5.8382983,
          0.5523621,
          16.480701,
          0.5001437,
          0.44877142,
          5.3660808,
          0.4733618,
          5.9752336,
          14.947902,
          14.423557,
          14.57002,
          5.686844,
          5.719298,
          5.6605854,
          6.04264,
          5.493719,
          14.3637295,
          5.825128,
          6.012554,
          5.6455812,
          2.1393323,
          14.463529,
          2.0982168,
          1.9033055,
          5.988284,
          2.1162863,
          1.7875639,
          14.416558,
          1.7679197,
          5.6288056,
          1.8354415,
          14.635949,
          1.9328978,
          14.353976,
          5.8853664,
          14.795369,
          1.7816263,
          14.913138,
          14.451804,
          14.568537,
          14.715258,
          14.691865,
          14.454367,
          14.327319,
          5.0523353,
          0.41049036,
          0.5203827,
          1.9638371,
          14.675626,
          2.1816337,
          14.536828,
          14.892611,
          14.342078,
          14.937184,
          6.1111026,
          1.6529739,
          1.8712611,
          1.4601723,
          14.302858,
          14.816136,
          15.000065,
          6.410483,
          14.676773,
          14.703199,
          1.6944268,
          6.429373,
          1.7680086,
          5.8997827,
          1.7453336,
          6.4154363,
          6.4792104,
          2.6001167,
          6.4552627,
          6.4218597,
          2.000837,
          2.4303784,
          14.921323,
          0.53264385,
          1.7014707,
          2.1946878,
          15.031427,
          0.6631935,
          15.299622,
          2.5362687,
          1.7239091,
          2.3969107,
          2.225163,
          15.051833
         ],
         "y": [
          8.20976,
          17.834091,
          -0.29056466,
          17.47522,
          0.08069476,
          7.5701284,
          8.559308,
          17.474457,
          8.270866,
          -0.07702065,
          -0.35790345,
          8.235069,
          17.52225,
          8.133516,
          8.29472,
          -0.104261614,
          -0.15666993,
          7.777327,
          0.051547326,
          -0.035324696,
          8.53968,
          8.203267,
          8.330381,
          8.283286,
          -7.495977,
          -0.29650235,
          -0.281357,
          -0.031475652,
          -0.3868733,
          8.31826,
          -0.13994576,
          8.175289,
          8.167126,
          7.4490433,
          8.491007,
          -0.34914127,
          7.6921053,
          7.483178,
          8.231813,
          8.21012,
          7.751298,
          8.44515,
          7.654156,
          7.5206203,
          -0.07647585,
          -0.08931425,
          -0.29197577,
          -0.21835218,
          7.654073,
          -0.28076443,
          -0.05292237,
          8.398479,
          8.244321,
          7.7460213,
          7.609537,
          -0.3155039,
          8.43319,
          8.146737,
          7.668745,
          -7.5453477,
          8.490625,
          7.873954,
          -0.19067957,
          8.286443,
          -0.35173675,
          7.611232,
          -0.061920453,
          0.05602575,
          7.7754354,
          7.727513,
          0.25902003,
          8.394182,
          7.711276,
          -0.13264942,
          7.9936113,
          8.314329,
          7.757864,
          0.33136535,
          -7.6121187,
          0.032487143,
          -0.34446838,
          -0.2648778,
          8.25577,
          -0.27086225,
          -0.19773537,
          8.458534,
          8.264588,
          -0.1600197,
          -0.10900147,
          -0.22683117,
          -0.094154656,
          -0.071409,
          8.066333,
          0.05928602,
          -0.0044226255,
          7.579081,
          -0.2723714,
          8.247704,
          -0.08331335,
          8.366132,
          -0.01062546,
          7.5529094,
          0.03529066,
          -7.4795923,
          7.60815,
          7.7807503,
          -0.13865867,
          -0.09404688,
          7.6426907,
          0.13652529,
          0.12120194,
          0.21992476,
          -0.07111339,
          0.21703966,
          -0.23044981,
          8.315949,
          -0.076328784,
          7.6019607,
          8.492742,
          0.20685567,
          8.285225,
          0.3371796,
          0.13566938,
          0.15890333,
          0.0716877,
          8.286527,
          8.308509,
          0.46857902,
          8.21292,
          17.395319,
          8.1371565,
          -0.020373523,
          8.202495,
          8.266632,
          0.25347376,
          0.10290033,
          7.571446,
          7.9574237,
          8.072059,
          7.5838814,
          7.8778434,
          0.2892839,
          0.42640805,
          0.19277298,
          0.2841802,
          7.87008,
          7.533337,
          7.5642667,
          7.7921414,
          7.787429,
          7.729989,
          17.398428,
          17.425453,
          7.507433,
          0.42065382,
          17.388767,
          7.6366415,
          0.30847105,
          0.45189384,
          0.14574206,
          7.803187,
          7.4876046,
          7.9562736,
          7.6649995,
          0.25432244,
          -0.29322937,
          0.39673004,
          -0.1035935,
          7.667937,
          7.726903,
          7.891622,
          7.8491435,
          8.056471,
          7.9136004,
          -0.20327362,
          7.987948,
          8.319971,
          0.47353423,
          7.446824,
          0.9352413,
          -0.43985105,
          7.4998713,
          0.05464489,
          8.143073,
          7.6242766,
          8.051771,
          8.296746,
          0.9194465,
          -0.05342257,
          0.71384233,
          -0.37419686,
          0.35680276,
          0.3552931,
          8.559865,
          8.087628,
          17.594456,
          0.20662476,
          7.7574267,
          0.75523263,
          7.621259,
          0.28250277,
          7.709576,
          -0.12239571,
          7.5481215,
          0.7354483,
          0.73989606,
          -0.70413053,
          -0.64912945,
          0.88869876,
          0.49295837,
          -0.49133307,
          7.425561,
          0.71462566,
          7.9439936,
          0.74686956,
          0.5860904,
          -0.73361874,
          7.944104,
          7.918584,
          0.70299935,
          -0.41306064,
          17.655622,
          0.7642044,
          0.6616532,
          -0.11039975,
          0.56413794,
          -0.15772796,
          0.03680204,
          0.4719177,
          7.612275,
          -0.719769,
          7.8146625,
          7.9431157,
          7.837217,
          7.808357,
          7.38751,
          7.6932178,
          -0.62013763,
          0.47216034,
          7.964419,
          0.266119,
          0.40170798,
          0.39040715,
          7.3454466,
          7.584094,
          -0.21603677,
          -7.4521112,
          -0.28842065,
          -0.3864954,
          17.702307,
          17.799929,
          0.13962293,
          7.6543927,
          7.9143047,
          17.22646,
          17.452856,
          17.672316,
          -0.54681146,
          17.261784,
          7.6921954,
          7.6272874,
          7.4285665,
          0.5159351,
          -0.0028906115,
          -7.4461427,
          0.33226466,
          17.823309,
          0.25735667,
          0.24165499,
          7.5088573,
          0.56073415,
          0.31165862,
          -0.040785585,
          0.5442028,
          8.067734,
          0.4788977,
          -0.017692244,
          7.6150155,
          7.8846903,
          7.672964,
          -7.5628715,
          -7.5508957,
          17.895283,
          -7.5084977,
          -0.22780195,
          -7.4264774,
          18.018885,
          7.4762034,
          0.100594774,
          -7.449662,
          7.7912636,
          -7.5032997,
          -7.5531926,
          0.22645265,
          -7.528718,
          0.29705754,
          7.520518,
          7.6927924,
          7.7171426,
          0.5643476,
          0.14252734,
          0.3664892,
          0.4285449,
          -0.21084903,
          8.119399,
          0.39086732,
          0.050924126,
          -0.33305195,
          17.8523,
          7.727788,
          18.149998,
          17.653484,
          0.34876478,
          17.686882,
          17.505516,
          8.120942,
          17.879278,
          -0.538725,
          17.955433,
          7.602578,
          18.006748,
          8.163401,
          -0.4064205,
          8.180927,
          17.83566,
          7.885684,
          8.520043,
          7.901867,
          8.335137,
          8.055887,
          8.259571,
          8.197947,
          -0.07093619,
          -7.591584,
          -7.4825754,
          17.5548,
          8.236468,
          18.065907,
          8.591819,
          8.237509,
          8.410284,
          7.885659,
          0.28148264,
          17.609243,
          17.213963,
          17.44854,
          8.479773,
          8.5733185,
          8.459735,
          -0.06666699,
          8.649538,
          8.28772,
          17.236567,
          -0.08852133,
          17.269371,
          -0.62405473,
          17.557991,
          0.1730062,
          0.12922323,
          17.213287,
          -0.1776189,
          0.41003296,
          17.266476,
          17.371254,
          8.488794,
          -7.4695497,
          17.939224,
          17.099503,
          8.778864,
          -7.338948,
          8.434504,
          17.346827,
          17.868896,
          17.637167,
          18.104956,
          8.686291
         ],
         "z": [
          -5.9360375,
          3.0526032,
          16.154135,
          3.203331,
          15.99015,
          -4.920797,
          -5.905972,
          3.239498,
          -6.1311817,
          15.871216,
          0.2864328,
          -5.920575,
          3.2731616,
          -5.918292,
          -5.941604,
          16.061579,
          15.898102,
          -5.028701,
          15.779095,
          16.181046,
          -5.8970447,
          -5.7660384,
          -5.9700046,
          -5.861673,
          0.890258,
          0.34823948,
          16.170372,
          15.79643,
          16.094948,
          -5.745273,
          16.090267,
          -5.8969746,
          -5.9664016,
          -5.0114193,
          -6.1445603,
          0.2951948,
          -4.9926753,
          -5.1012154,
          -5.905961,
          -5.7845287,
          -4.878543,
          -6.167328,
          -5.1617184,
          -5.092289,
          16.285324,
          15.834834,
          16.438162,
          16.328735,
          -4.896892,
          16.259512,
          16.218792,
          -6.0338774,
          -5.9824624,
          -5.124225,
          -4.961113,
          16.36614,
          -6.0845256,
          -6.1094937,
          -5.0928106,
          0.9398362,
          -5.866831,
          -5.0087113,
          16.226862,
          -6.36764,
          16.219633,
          -5.2282243,
          16.119217,
          15.957414,
          -5.139951,
          -5.07469,
          16.0899,
          -5.693723,
          -5.1240926,
          16.301193,
          -6.370439,
          -6.3076425,
          -4.807142,
          16.34332,
          1.0070107,
          16.252728,
          16.3753,
          16.420475,
          -6.414143,
          16.244629,
          15.939525,
          -6.257774,
          -6.220681,
          16.183374,
          16.289312,
          16.48337,
          16.467094,
          16.40513,
          -5.988831,
          16.376114,
          16.44741,
          -5.120893,
          16.71413,
          -6.1019063,
          16.187551,
          -6.284725,
          16.423134,
          -5.0265694,
          16.661882,
          0.87378746,
          -5.1818647,
          -5.019169,
          16.465261,
          16.1028,
          -5.004206,
          16.50764,
          16.396786,
          16.48461,
          16.638186,
          16.642784,
          16.560865,
          -6.222827,
          16.68685,
          -5.127416,
          -6.390618,
          16.46102,
          -6.151759,
          16.507792,
          16.658628,
          16.408087,
          16.47192,
          -6.4660597,
          -6.4324775,
          16.461542,
          -6.079675,
          3.3648822,
          -6.2189765,
          16.577354,
          -6.412612,
          -6.5051627,
          16.62846,
          16.380077,
          -5.200611,
          -6.4400277,
          -6.421909,
          -4.9504585,
          -6.326278,
          16.629866,
          16.486162,
          16.390182,
          16.301033,
          -6.0957956,
          -4.761794,
          -5.0540853,
          -6.3666425,
          -6.121276,
          -5.2705317,
          2.9147708,
          3.1678143,
          -4.8532934,
          16.560892,
          3.010731,
          -4.7274103,
          16.293743,
          16.368008,
          16.315775,
          -6.1893024,
          -4.885806,
          -6.204551,
          -4.8856306,
          15.9765005,
          16.334856,
          15.903251,
          16.509731,
          -4.9166617,
          -4.964006,
          -6.0734415,
          -6.217549,
          -6.1738586,
          -6.419393,
          16.515007,
          -5.7073197,
          -6.0524597,
          16.016073,
          -4.9809833,
          16.360022,
          16.381065,
          -4.6677547,
          16.655947,
          -6.20633,
          -5.167157,
          -6.3687015,
          -6.0487523,
          16.237825,
          15.037163,
          16.524012,
          16.62533,
          16.532324,
          16.400759,
          -6.340041,
          -6.41919,
          3.0757542,
          16.423649,
          -5.9501944,
          16.463623,
          -4.8615766,
          15.857698,
          -6.0801992,
          16.26059,
          -5.043632,
          16.598915,
          16.098783,
          16.589159,
          16.01526,
          16.130064,
          15.353836,
          16.10659,
          -4.660746,
          16.39624,
          -6.759461,
          16.102701,
          16.591059,
          16.160658,
          -5.127559,
          -5.271656,
          16.230324,
          16.149046,
          3.1284602,
          15.999436,
          16.22371,
          16.371767,
          16.355968,
          15.413507,
          16.179539,
          16.094122,
          -5.230688,
          16.105062,
          -5.371652,
          -5.151041,
          -4.908427,
          -5.1353455,
          -6.016695,
          -6.2853994,
          15.559808,
          15.967857,
          -6.570636,
          15.810406,
          15.783837,
          16.13106,
          -6.0643992,
          -5.7817626,
          15.758666,
          0.84632105,
          15.198147,
          15.331535,
          3.2826028,
          3.126014,
          15.401307,
          -6.578826,
          -6.562458,
          3.0500648,
          2.929705,
          2.930319,
          15.630725,
          3.131489,
          -5.812107,
          -6.360221,
          -6.0609574,
          15.985272,
          15.664432,
          0.840299,
          15.419577,
          3.0547554,
          15.267232,
          15.766811,
          -5.848837,
          15.829985,
          15.39453,
          15.67602,
          15.757601,
          -6.302077,
          15.932868,
          15.689922,
          -5.7564816,
          -4.978669,
          -5.866244,
          0.95722723,
          0.94525105,
          3.0594351,
          0.90310174,
          15.751414,
          0.82080615,
          3.1019104,
          -4.9023027,
          15.314053,
          0.8437808,
          -4.948003,
          0.8957517,
          0.94739544,
          15.413468,
          0.9227692,
          15.534064,
          -5.8267636,
          -5.9932356,
          -5.929586,
          15.567403,
          15.194922,
          15.620485,
          15.663859,
          15.261831,
          -6.2525024,
          15.492306,
          15.299316,
          15.433425,
          3.621547,
          -5.6533093,
          3.0520582,
          3.4512734,
          15.611306,
          3.5798213,
          3.4938748,
          -6.1475945,
          2.5437803,
          15.591129,
          3.3942707,
          -5.3663254,
          3.1431677,
          -5.7454877,
          15.6604595,
          -5.3167286,
          3.2651632,
          -5.5867276,
          -5.745456,
          -5.6108413,
          -5.4543467,
          -5.4012156,
          -6.3905916,
          -5.6228824,
          15.83683,
          0.9856611,
          0.87554437,
          3.5704973,
          -5.4064693,
          2.998196,
          -5.928334,
          -5.5382853,
          -6.0119176,
          -5.389913,
          15.716796,
          3.3720818,
          3.322985,
          3.2747743,
          -6.288372,
          -5.4217563,
          -5.36187,
          15.80691,
          -6.0866904,
          -5.4761295,
          3.3097627,
          16.288141,
          3.0835667,
          16.306751,
          3.303726,
          16.224485,
          16.363556,
          2.9527543,
          15.933982,
          16.106613,
          2.8149087,
          2.8269448,
          -5.6127567,
          0.8634852,
          2.60032,
          2.8045273,
          -5.6364903,
          0.73294055,
          -5.665517,
          2.815637,
          2.552888,
          2.7191463,
          2.9017277,
          -5.915715
         ]
        },
        {
         "customdata": [
          [
           "ef6f9412-fbfb-44c6-87a1-6caad9080ef8"
          ],
          [
           "d595bc53-0eeb-4343-b28d-50a345ea6a20"
          ],
          [
           "0992fb4a-573c-44f8-9706-a3df7e5537e1"
          ],
          [
           "e23de37d-2255-4cf9-8837-552bd7c5726f"
          ],
          [
           "8c9a7ff0-6182-419a-a72b-55d928928bf1"
          ],
          [
           "5f5339ed-7ff5-47fb-b631-e272b0452718"
          ],
          [
           "a96a349d-d417-49e7-9ac7-59a7f363aebc"
          ],
          [
           "810500f5-48ee-45cf-8f3f-a2e607ae7127"
          ],
          [
           "f434ad14-6035-4aea-8d40-b945d5a859d4"
          ],
          [
           "38e6b35a-822d-40ff-af19-fecafb82e68e"
          ],
          [
           "0c3cdd26-b269-48ea-9057-572a317fa89d"
          ],
          [
           "bf86757b-a995-437c-a611-9e88858cb1c0"
          ],
          [
           "ee87ec4c-1862-40ae-840a-14b38c677259"
          ],
          [
           "a0c64c48-d24f-4a39-bb35-5811b67467de"
          ],
          [
           "ed561ef3-697b-4d54-abcf-6e7e7dfea706"
          ],
          [
           "d74ad6d1-da71-49b3-b373-384f6334cbb6"
          ],
          [
           "7aad50d3-5f50-4936-b184-6cacac444410"
          ],
          [
           "97bb7a3e-19d7-4284-8fd5-829b46e5dc35"
          ],
          [
           "ba0018f9-cf5b-4c93-bba1-1fb5b30388e4"
          ],
          [
           "52fe6068-2acb-441c-b3b0-80b34a983eac"
          ],
          [
           "cf43b8b9-c8fd-445e-9c2b-c1650500da15"
          ],
          [
           "f8a9aa7e-f2d2-4f1c-a4f3-1ed1c71370dd"
          ],
          [
           "5d1e4da6-d493-469b-b8af-af5fa582f2f2"
          ],
          [
           "4972cf07-614d-4bae-8b69-68022b228776"
          ],
          [
           "be3bd747-fcf5-4a29-a83d-c12389c58cdc"
          ],
          [
           "65837c43-06ce-4d9c-8f76-a26457f9805c"
          ],
          [
           "96620752-1e4b-4207-a2ce-7ab402acaee9"
          ],
          [
           "671be8bb-9dfd-4c88-807e-6fff5cd94430"
          ],
          [
           "4b165525-c166-4ebe-965b-efcb8da5e0ae"
          ],
          [
           "5fd0b825-70d2-4354-af1b-a76fd10b495c"
          ],
          [
           "a25e80d1-957c-4db3-bdc8-3e0ee9608fd5"
          ],
          [
           "58d46df5-0891-482e-97c7-dc8893c12dc6"
          ],
          [
           "d56ce398-c3ad-4e3d-830a-75d5c84c0a91"
          ],
          [
           "9a3c5860-118d-476c-b348-98eeb27d6fc9"
          ],
          [
           "7ff48423-9ccf-4a32-8cee-b876d1b3b68b"
          ],
          [
           "d52ecf30-bc41-479f-ae0f-1a14b8bdda69"
          ],
          [
           "bf78e28c-581f-442a-bd08-51bb2d3a81b4"
          ],
          [
           "b18f9d2a-7749-4445-a985-81cc94873f8a"
          ],
          [
           "6265e046-322c-4a7d-b50f-a476a2041856"
          ],
          [
           "2e90655a-58ec-4ede-b9d9-bde78c8922c4"
          ],
          [
           "e790928b-4573-4fe3-94d7-13f109edfb48"
          ],
          [
           "b0b16f50-bc0f-4703-90d0-a6dc340df4d7"
          ],
          [
           "75e08af7-befa-4632-bf96-2b47e3d92cb5"
          ],
          [
           "d2067519-fc62-44ee-ac0e-26d2b05bb3aa"
          ],
          [
           "922e95fb-e6a4-4f58-8edb-7806c3391430"
          ],
          [
           "01cb3a22-606f-45d5-877d-07ffb3c9db26"
          ],
          [
           "af737a35-deef-46d1-b634-c54ea9ab6762"
          ],
          [
           "e67c0887-f16e-4fd5-aff0-8cb5fe83c319"
          ],
          [
           "cd617a08-7286-485c-9ba7-e08d08c88916"
          ],
          [
           "715a53fe-09fc-487f-bd7c-8cd54b14588c"
          ],
          [
           "9820eaa8-fd9b-4e44-bdf8-4227312c9ab3"
          ],
          [
           "52f0a745-1b2a-4ec3-aaff-b30acd79e586"
          ],
          [
           "c51cd9bb-8a93-497b-a0ee-9b62f33a4756"
          ],
          [
           "25e65e66-d6b3-4c2a-baf1-150eaf1185f0"
          ],
          [
           "4b7eb9e0-f310-42b4-a800-ba79682d36e5"
          ],
          [
           "abe46a71-c9aa-4d19-b29a-b3f4d0711272"
          ],
          [
           "876d46dc-6cca-4391-b6c8-991a08870dd3"
          ],
          [
           "0ff89c72-f368-4a0c-8340-92b6918fa406"
          ],
          [
           "c6b4323a-cbde-456d-9866-aa74c5ec4c63"
          ],
          [
           "125045c6-bc32-4865-bf4f-43a77d10c8e9"
          ],
          [
           "a196b71b-608f-469e-8ade-6a02578ce77f"
          ],
          [
           "e1c962a3-3529-483d-8cf8-935e3d4fa76c"
          ],
          [
           "bdb03a73-da0e-4180-ac67-8a4e01fc1e52"
          ],
          [
           "7736c1dd-9635-47b1-b93f-2e4ad8545902"
          ],
          [
           "4aca5ca9-7ae7-41de-a7f7-146a45bdb2df"
          ],
          [
           "e3eb48db-84be-44a4-b30f-247b1afe98f0"
          ],
          [
           "f0234421-a828-49cf-85e0-190d306989ef"
          ],
          [
           "0bbf57ca-75c1-44be-b6fa-2996dfc9131b"
          ],
          [
           "fcbcd9df-0c1b-40d7-a314-b4ab4cdb9935"
          ],
          [
           "a52015a6-8ed7-499b-ad84-2d77896ef5b6"
          ],
          [
           "a814f7d9-6698-4a9e-9595-3e258156f14b"
          ],
          [
           "30f20892-ca46-4c38-bdb1-3f3e7b5a094d"
          ],
          [
           "d2990966-f101-4c86-88f3-cfd6712c5094"
          ],
          [
           "e423ba83-aa46-4eba-a4d7-8b5c1dc156f4"
          ],
          [
           "73760c93-704d-4535-afe4-0da12c5e2f4e"
          ],
          [
           "268168ee-0ec0-436e-ac03-d3aeb7e38336"
          ],
          [
           "b24e6abe-8d69-46af-976b-eb1bb148e5a7"
          ],
          [
           "0e12f3a1-a606-4299-864c-b3951c4ea7ae"
          ],
          [
           "f45fb47b-61af-4dbd-8ca7-5f2b469a75ef"
          ],
          [
           "41bc0ac5-3cb3-4a5c-bd06-5b082b8633e4"
          ],
          [
           "e0086f91-f2c8-4a5e-908d-743eba8c7e1f"
          ],
          [
           "052253cb-a0ad-4d45-a2fb-20ba5f2e72c1"
          ],
          [
           "9e29e1cb-8664-452f-aa92-fc6a785cee69"
          ],
          [
           "634ab18b-b7b6-4fe5-b661-fba219870752"
          ],
          [
           "8e55d2c1-f312-420d-9261-9f2e8db68d5c"
          ],
          [
           "654d120c-0420-4939-9006-0c151fa0a95a"
          ],
          [
           "06f8e673-d7e0-41a2-b2f0-dc448adce5b3"
          ],
          [
           "4f55e289-800f-4012-b518-331f1632eaac"
          ],
          [
           "b7759f7b-ed40-4b8e-b8a0-68039b9d413d"
          ],
          [
           "fa14d710-5856-41c6-a7c6-9f39fe80a5d9"
          ],
          [
           "4ca38da1-13ba-4cf3-870a-c154b6b2217b"
          ],
          [
           "13f6ae8d-67bb-4dba-a77d-e0864b53d063"
          ],
          [
           "dee79e90-d3ad-4c8e-961c-8a3c1d0cc7cb"
          ],
          [
           "22e19c59-7268-4b6a-9fe7-9e8a4cb1928b"
          ],
          [
           "6aadb57a-d27a-44cc-99b4-c82d2b2e16f2"
          ],
          [
           "f15534b6-d9e5-4316-813d-b55233dcf74b"
          ],
          [
           "a111f636-dc48-475f-b39b-1bae7177cf62"
          ],
          [
           "4e7cf58c-0ce7-4e14-9084-cf6a8db73a4c"
          ],
          [
           "c902eede-19b4-430e-a3b2-1a95048f6995"
          ],
          [
           "f1b76c1c-95e6-46d1-a7ea-004dda840933"
          ],
          [
           "d19b68e1-49c5-4a95-aeec-85be02009a92"
          ],
          [
           "3c662dde-e14b-4a32-b0c8-8cca4baaf626"
          ],
          [
           "5920d79c-17bf-4325-91d4-07e10ce43b20"
          ],
          [
           "d43233fe-c2d3-4a81-b698-810cfb8f934e"
          ],
          [
           "c031d16a-8686-44c0-bd06-7e00859f3846"
          ],
          [
           "c226b236-5567-49fe-98dc-26c65d50397a"
          ],
          [
           "26303b54-c4b1-40a7-a474-deab4915d53d"
          ],
          [
           "1fc09b73-6f51-419f-8a2b-7aa4ad8b5d31"
          ],
          [
           "f8cbd360-f440-45a7-8cb6-03135d1cde51"
          ],
          [
           "00c0b39c-db79-45f3-bfe0-97469a71d085"
          ],
          [
           "25451d5f-ba9d-4a60-aa44-2bc2dfac63a4"
          ],
          [
           "f2bc5b0e-4af2-4881-a748-4771e6f49f8b"
          ],
          [
           "28a975c6-c900-4199-9487-34c4fcf5d0bd"
          ],
          [
           "e1394769-8668-492b-ab15-2ed03d4c41d1"
          ],
          [
           "b3027e23-6f32-4afc-8917-6a5fa7134ed2"
          ],
          [
           "d6451244-6f8c-403b-8c47-026d552decc9"
          ],
          [
           "078eeadd-e677-4ff5-9300-74996699482d"
          ],
          [
           "fdbe8fcf-f1d2-4749-8afb-910dc13ba14a"
          ],
          [
           "78f5bce7-0a31-4acb-9cb7-e1f7d0c7e64b"
          ],
          [
           "01d5b33b-f714-4088-bb36-419ee4738ed1"
          ]
         ],
         "hovertemplate": "Entity Type=document<br>UMAP1=%{x}<br>UMAP2=%{y}<br>UMAP3=%{z}<br>hover_data_0=%{customdata[0]}<extra></extra>",
         "legendgroup": "document",
         "marker": {
          "color": "#00cc96",
          "line": {
           "color": "white",
           "width": 0.5
          },
          "size": 3,
          "symbol": "circle"
         },
         "mode": "markers",
         "name": "document",
         "scene": "scene",
         "showlegend": true,
         "type": "scatter3d",
         "x": [
          2.147933,
          2.1309144,
          2.067619,
          6.0470386,
          5.7833433,
          5.59021,
          5.697205,
          2.3426962,
          5.618916,
          -6.4188046,
          1.850793,
          -6.3605194,
          6.019073,
          5.7303495,
          15.032413,
          14.913076,
          5.516446,
          6.0711155,
          5.8133144,
          1.9559385,
          14.821941,
          5.6887827,
          2.156447,
          5.634584,
          5.746855,
          6.1122084,
          15.133716,
          6.107272,
          5.658774,
          6.068741,
          15.035187,
          15.095333,
          6.0733085,
          5.9989953,
          15.265116,
          6.0638633,
          5.9767504,
          5.616396,
          5.5837517,
          6.022494,
          14.692055,
          15.394708,
          15.297745,
          14.889696,
          5.788228,
          5.6808996,
          15.224801,
          5.780177,
          5.533926,
          1.836244,
          15.171541,
          5.42829,
          1.9296138,
          14.822254,
          14.88952,
          2.2024767,
          14.866589,
          5.2450204,
          14.956793,
          6.2039523,
          2.1536136,
          2.2166717,
          2.29229,
          2.3533204,
          5.7922945,
          2.3279831,
          16.264524,
          5.703292,
          15.996845,
          6.295653,
          16.265503,
          5.3525643,
          15.109265,
          5.2964005,
          5.124417,
          2.282175,
          5.4480906,
          14.76026,
          2.1163576,
          2.3586776,
          14.583712,
          2.3640242,
          4.975572,
          2.20241,
          14.243421,
          14.606764,
          14.176305,
          5.298882,
          2.325846,
          14.778048,
          5.2654176,
          14.529317,
          5.1778107,
          2.5548828,
          2.267973,
          5.721284,
          1.9087145,
          1.8951905,
          2.2249439,
          2.17461,
          5.612285,
          6.0127683,
          5.8125396,
          2.5951064,
          2.440878,
          14.937968,
          14.43595,
          6.0271335,
          14.344654,
          5.5018067,
          1.9347764,
          6.251137,
          1.8498273,
          6.435884,
          14.900333,
          1.7779952,
          1.8310065,
          14.81232,
          15.337872,
          15.374552
         ],
         "y": [
          17.676325,
          17.7556,
          17.601377,
          0.14439899,
          -0.11327294,
          -0.155987,
          0.17615159,
          17.523954,
          0.123848945,
          -0.39160705,
          17.788855,
          -0.33335078,
          -0.005092549,
          -0.17648786,
          8.202441,
          8.429632,
          -0.33447233,
          -0.19366059,
          -0.043762453,
          17.642342,
          8.53975,
          -0.4393854,
          17.532417,
          -0.34171423,
          -0.32012844,
          -0.18480466,
          8.331356,
          0.051785886,
          -0.27807617,
          0.16105466,
          8.502374,
          7.979782,
          0.06639249,
          -0.03188181,
          8.094323,
          0.12964034,
          -0.06302392,
          -0.33408326,
          -0.050205898,
          0.26413742,
          8.36091,
          8.287081,
          7.9221487,
          8.001687,
          -0.20404236,
          -0.09455557,
          8.214368,
          0.17988269,
          0.061161526,
          17.551155,
          8.001281,
          0.10968327,
          17.51031,
          7.9743485,
          8.073418,
          17.457169,
          7.7816434,
          0.22003616,
          7.997792,
          0.14882672,
          17.398315,
          17.63648,
          17.674742,
          17.760262,
          -0.010983935,
          17.315018,
          7.6032147,
          0.94448984,
          7.329941,
          -0.05795446,
          7.3809705,
          0.4735424,
          7.468049,
          0.683927,
          0.14616528,
          17.474384,
          0.785679,
          7.412525,
          17.807238,
          17.42104,
          8.191673,
          17.96992,
          0.023457829,
          17.414238,
          8.233183,
          7.438747,
          8.377034,
          0.18708582,
          17.970531,
          7.7412086,
          0.110924006,
          7.580361,
          -0.27425602,
          17.571844,
          17.722952,
          0.08582589,
          17.973503,
          18.071087,
          17.806204,
          18.005482,
          -0.14269699,
          -0.065180376,
          -0.07831196,
          17.697351,
          17.710663,
          7.645418,
          7.8678164,
          -0.28484315,
          8.528805,
          -0.26685134,
          17.73084,
          -0.5564847,
          17.338032,
          0.41441855,
          8.351407,
          17.937199,
          17.806324,
          8.66327,
          8.22554,
          8.364243
         ],
         "z": [
          3.5227714,
          3.2800345,
          3.4402854,
          15.910468,
          15.881127,
          16.095396,
          15.954842,
          3.1452243,
          15.857059,
          0.2526972,
          2.6698365,
          0.31098276,
          16.105074,
          15.77305,
          -5.7929363,
          -6.0141835,
          16.07674,
          16.073935,
          15.738745,
          3.4339142,
          -5.910692,
          16.114944,
          3.0756774,
          15.952295,
          15.9243355,
          15.814376,
          -5.824326,
          16.048096,
          15.904952,
          16.058184,
          -6.307358,
          -5.788189,
          16.261038,
          16.077131,
          -5.9693117,
          16.063766,
          16.026894,
          16.223534,
          16.274464,
          16.091936,
          -6.271128,
          -6.0770807,
          -6.0175037,
          -5.949695,
          16.545597,
          16.546513,
          -6.0984073,
          16.430687,
          16.32937,
          3.0147874,
          -6.3641067,
          16.484846,
          3.0993385,
          -6.3399034,
          -6.2105656,
          3.2159848,
          -6.315017,
          16.185658,
          -6.420159,
          16.454058,
          2.987499,
          2.9241602,
          3.198842,
          2.951025,
          16.68547,
          3.0372953,
          -5.366404,
          16.296024,
          -5.167401,
          15.39181,
          -5.271646,
          15.679532,
          -6.066915,
          16.114744,
          16.060713,
          3.1160877,
          15.680001,
          -6.297984,
          2.9455829,
          3.2781262,
          -6.724669,
          3.1639555,
          16.10133,
          3.5013363,
          -6.3119287,
          -5.8851905,
          -6.199012,
          15.474189,
          3.3851779,
          -5.788345,
          16.023409,
          -6.3071723,
          15.401115,
          3.433201,
          2.9090312,
          15.366021,
          3.1579154,
          3.3019652,
          3.522623,
          3.3429017,
          15.692083,
          15.585794,
          15.519535,
          3.01631,
          3.5931668,
          -5.592192,
          -5.845757,
          15.417915,
          -5.8036,
          15.50276,
          2.9530623,
          15.868489,
          3.452558,
          15.958053,
          -5.4111238,
          2.5379171,
          2.4758847,
          -6.1310754,
          -6.550083,
          -6.3236156
         ]
        },
        {
         "customdata": [
          [
           "4630d534-3727-4da6-8c57-6eccbc621b10"
          ],
          [
           "f7dca5fb-784c-416c-ac98-d556d6c28a4b"
          ]
         ],
         "hovertemplate": "Entity Type=api_model<br>UMAP1=%{x}<br>UMAP2=%{y}<br>UMAP3=%{z}<br>hover_data_0=%{customdata[0]}<extra></extra>",
         "legendgroup": "api_model",
         "marker": {
          "color": "#ab63fa",
          "line": {
           "color": "white",
           "width": 0.5
          },
          "size": 3,
          "symbol": "circle"
         },
         "mode": "markers",
         "name": "api_model",
         "scene": "scene",
         "showlegend": true,
         "type": "scatter3d",
         "x": [
          -6.360389,
          -6.4581237
         ],
         "y": [
          -0.33321947,
          -0.43093094
         ],
         "z": [
          0.31109285,
          0.21338971
         ]
        },
        {
         "customdata": [
          [
           "340dca8d-ebee-4d1e-8c11-6804b0b9f2c0"
          ]
         ],
         "hovertemplate": "Entity Type=training_session<br>UMAP1=%{x}<br>UMAP2=%{y}<br>UMAP3=%{z}<br>hover_data_0=%{customdata[0]}<extra></extra>",
         "legendgroup": "training_session",
         "marker": {
          "color": "#FFA15A",
          "line": {
           "color": "white",
           "width": 0.5
          },
          "size": 3,
          "symbol": "circle"
         },
         "mode": "markers",
         "name": "training_session",
         "scene": "scene",
         "showlegend": true,
         "type": "scatter3d",
         "x": [
          -6.3831673
         ],
         "y": [
          -0.35603574
         ],
         "z": [
          0.28830978
         ]
        },
        {
         "customdata": [
          [
           "c71c42ff-2f52-460f-97f8-c96b19b2e1ad"
          ],
          [
           "34a231b8-11b8-4212-aa20-242af3442284"
          ],
          [
           "717cb0b0-6baa-4f2c-b9b7-a5896b726b75"
          ],
          [
           "6cf316a2-5544-45cc-bae6-863f0fceb3ed"
          ],
          [
           "819712ce-bcce-4eb3-8ac1-47b66a9ae091"
          ],
          [
           "d8feb99d-668d-4f12-8066-0af53685916d"
          ]
         ],
         "hovertemplate": "Entity Type=recipe<br>UMAP1=%{x}<br>UMAP2=%{y}<br>UMAP3=%{z}<br>hover_data_0=%{customdata[0]}<extra></extra>",
         "legendgroup": "recipe",
         "marker": {
          "color": "#19d3f3",
          "line": {
           "color": "white",
           "width": 0.5
          },
          "size": 3,
          "symbol": "circle"
         },
         "mode": "markers",
         "name": "recipe",
         "scene": "scene",
         "showlegend": true,
         "type": "scatter3d",
         "x": [
          5.8789496,
          2.0045152,
          15.119858,
          15.15568,
          1.9595424,
          2.5907533
         ],
         "y": [
          -0.006442389,
          17.667593,
          8.682326,
          7.983235,
          17.634024,
          17.305998
         ],
         "z": [
          15.970059,
          3.0387154,
          -5.5994234,
          -5.525182,
          3.7939909,
          3.381517
         ]
        },
        {
         "customdata": [
          [
           "6b2a7ebb-7369-4a95-ac8a-cabdbd95a93e"
          ]
         ],
         "hovertemplate": "Entity Type=meal_plan<br>UMAP1=%{x}<br>UMAP2=%{y}<br>UMAP3=%{z}<br>hover_data_0=%{customdata[0]}<extra></extra>",
         "legendgroup": "meal_plan",
         "marker": {
          "color": "#FF6692",
          "line": {
           "color": "white",
           "width": 0.5
          },
          "size": 3,
          "symbol": "circle"
         },
         "mode": "markers",
         "name": "meal_plan",
         "scene": "scene",
         "showlegend": true,
         "type": "scatter3d",
         "x": [
          0.50983214
         ],
         "y": [
          -7.49215
         ],
         "z": [
          0.88637435
         ]
        }
       ],
       "layout": {
        "height": 700,
        "legend": {
         "title": {
          "text": "Entity Type"
         },
         "tracegroupgap": 0
        },
        "scene": {
         "domain": {
          "x": [
           0,
           1
          ],
          "y": [
           0,
           1
          ]
         },
         "xaxis": {
          "title": {
           "text": "UMAP Dimension 1"
          }
         },
         "yaxis": {
          "title": {
           "text": "UMAP Dimension 2"
          }
         },
         "zaxis": {
          "title": {
           "text": "UMAP Dimension 3"
          }
         }
        },
        "template": {
         "data": {
          "bar": [
           {
            "error_x": {
             "color": "#2a3f5f"
            },
            "error_y": {
             "color": "#2a3f5f"
            },
            "marker": {
             "line": {
              "color": "#E5ECF6",
              "width": 0.5
             },
             "pattern": {
              "fillmode": "overlay",
              "size": 10,
              "solidity": 0.2
             }
            },
            "type": "bar"
           }
          ],
          "barpolar": [
           {
            "marker": {
             "line": {
              "color": "#E5ECF6",
              "width": 0.5
             },
             "pattern": {
              "fillmode": "overlay",
              "size": 10,
              "solidity": 0.2
             }
            },
            "type": "barpolar"
           }
          ],
          "carpet": [
           {
            "aaxis": {
             "endlinecolor": "#2a3f5f",
             "gridcolor": "white",
             "linecolor": "white",
             "minorgridcolor": "white",
             "startlinecolor": "#2a3f5f"
            },
            "baxis": {
             "endlinecolor": "#2a3f5f",
             "gridcolor": "white",
             "linecolor": "white",
             "minorgridcolor": "white",
             "startlinecolor": "#2a3f5f"
            },
            "type": "carpet"
           }
          ],
          "choropleth": [
           {
            "colorbar": {
             "outlinewidth": 0,
             "ticks": ""
            },
            "type": "choropleth"
           }
          ],
          "contour": [
           {
            "colorbar": {
             "outlinewidth": 0,
             "ticks": ""
            },
            "colorscale": [
             [
              0,
              "#0d0887"
             ],
             [
              0.1111111111111111,
              "#46039f"
             ],
             [
              0.2222222222222222,
              "#7201a8"
             ],
             [
              0.3333333333333333,
              "#9c179e"
             ],
             [
              0.4444444444444444,
              "#bd3786"
             ],
             [
              0.5555555555555556,
              "#d8576b"
             ],
             [
              0.6666666666666666,
              "#ed7953"
             ],
             [
              0.7777777777777778,
              "#fb9f3a"
             ],
             [
              0.8888888888888888,
              "#fdca26"
             ],
             [
              1,
              "#f0f921"
             ]
            ],
            "type": "contour"
           }
          ],
          "contourcarpet": [
           {
            "colorbar": {
             "outlinewidth": 0,
             "ticks": ""
            },
            "type": "contourcarpet"
           }
          ],
          "heatmap": [
           {
            "colorbar": {
             "outlinewidth": 0,
             "ticks": ""
            },
            "colorscale": [
             [
              0,
              "#0d0887"
             ],
             [
              0.1111111111111111,
              "#46039f"
             ],
             [
              0.2222222222222222,
              "#7201a8"
             ],
             [
              0.3333333333333333,
              "#9c179e"
             ],
             [
              0.4444444444444444,
              "#bd3786"
             ],
             [
              0.5555555555555556,
              "#d8576b"
             ],
             [
              0.6666666666666666,
              "#ed7953"
             ],
             [
              0.7777777777777778,
              "#fb9f3a"
             ],
             [
              0.8888888888888888,
              "#fdca26"
             ],
             [
              1,
              "#f0f921"
             ]
            ],
            "type": "heatmap"
           }
          ],
          "heatmapgl": [
           {
            "colorbar": {
             "outlinewidth": 0,
             "ticks": ""
            },
            "colorscale": [
             [
              0,
              "#0d0887"
             ],
             [
              0.1111111111111111,
              "#46039f"
             ],
             [
              0.2222222222222222,
              "#7201a8"
             ],
             [
              0.3333333333333333,
              "#9c179e"
             ],
             [
              0.4444444444444444,
              "#bd3786"
             ],
             [
              0.5555555555555556,
              "#d8576b"
             ],
             [
              0.6666666666666666,
              "#ed7953"
             ],
             [
              0.7777777777777778,
              "#fb9f3a"
             ],
             [
              0.8888888888888888,
              "#fdca26"
             ],
             [
              1,
              "#f0f921"
             ]
            ],
            "type": "heatmapgl"
           }
          ],
          "histogram": [
           {
            "marker": {
             "pattern": {
              "fillmode": "overlay",
              "size": 10,
              "solidity": 0.2
             }
            },
            "type": "histogram"
           }
          ],
          "histogram2d": [
           {
            "colorbar": {
             "outlinewidth": 0,
             "ticks": ""
            },
            "colorscale": [
             [
              0,
              "#0d0887"
             ],
             [
              0.1111111111111111,
              "#46039f"
             ],
             [
              0.2222222222222222,
              "#7201a8"
             ],
             [
              0.3333333333333333,
              "#9c179e"
             ],
             [
              0.4444444444444444,
              "#bd3786"
             ],
             [
              0.5555555555555556,
              "#d8576b"
             ],
             [
              0.6666666666666666,
              "#ed7953"
             ],
             [
              0.7777777777777778,
              "#fb9f3a"
             ],
             [
              0.8888888888888888,
              "#fdca26"
             ],
             [
              1,
              "#f0f921"
             ]
            ],
            "type": "histogram2d"
           }
          ],
          "histogram2dcontour": [
           {
            "colorbar": {
             "outlinewidth": 0,
             "ticks": ""
            },
            "colorscale": [
             [
              0,
              "#0d0887"
             ],
             [
              0.1111111111111111,
              "#46039f"
             ],
             [
              0.2222222222222222,
              "#7201a8"
             ],
             [
              0.3333333333333333,
              "#9c179e"
             ],
             [
              0.4444444444444444,
              "#bd3786"
             ],
             [
              0.5555555555555556,
              "#d8576b"
             ],
             [
              0.6666666666666666,
              "#ed7953"
             ],
             [
              0.7777777777777778,
              "#fb9f3a"
             ],
             [
              0.8888888888888888,
              "#fdca26"
             ],
             [
              1,
              "#f0f921"
             ]
            ],
            "type": "histogram2dcontour"
           }
          ],
          "mesh3d": [
           {
            "colorbar": {
             "outlinewidth": 0,
             "ticks": ""
            },
            "type": "mesh3d"
           }
          ],
          "parcoords": [
           {
            "line": {
             "colorbar": {
              "outlinewidth": 0,
              "ticks": ""
             }
            },
            "type": "parcoords"
           }
          ],
          "pie": [
           {
            "automargin": true,
            "type": "pie"
           }
          ],
          "scatter": [
           {
            "fillpattern": {
             "fillmode": "overlay",
             "size": 10,
             "solidity": 0.2
            },
            "type": "scatter"
           }
          ],
          "scatter3d": [
           {
            "line": {
             "colorbar": {
              "outlinewidth": 0,
              "ticks": ""
             }
            },
            "marker": {
             "colorbar": {
              "outlinewidth": 0,
              "ticks": ""
             }
            },
            "type": "scatter3d"
           }
          ],
          "scattercarpet": [
           {
            "marker": {
             "colorbar": {
              "outlinewidth": 0,
              "ticks": ""
             }
            },
            "type": "scattercarpet"
           }
          ],
          "scattergeo": [
           {
            "marker": {
             "colorbar": {
              "outlinewidth": 0,
              "ticks": ""
             }
            },
            "type": "scattergeo"
           }
          ],
          "scattergl": [
           {
            "marker": {
             "colorbar": {
              "outlinewidth": 0,
              "ticks": ""
             }
            },
            "type": "scattergl"
           }
          ],
          "scattermapbox": [
           {
            "marker": {
             "colorbar": {
              "outlinewidth": 0,
              "ticks": ""
             }
            },
            "type": "scattermapbox"
           }
          ],
          "scatterpolar": [
           {
            "marker": {
             "colorbar": {
              "outlinewidth": 0,
              "ticks": ""
             }
            },
            "type": "scatterpolar"
           }
          ],
          "scatterpolargl": [
           {
            "marker": {
             "colorbar": {
              "outlinewidth": 0,
              "ticks": ""
             }
            },
            "type": "scatterpolargl"
           }
          ],
          "scatterternary": [
           {
            "marker": {
             "colorbar": {
              "outlinewidth": 0,
              "ticks": ""
             }
            },
            "type": "scatterternary"
           }
          ],
          "surface": [
           {
            "colorbar": {
             "outlinewidth": 0,
             "ticks": ""
            },
            "colorscale": [
             [
              0,
              "#0d0887"
             ],
             [
              0.1111111111111111,
              "#46039f"
             ],
             [
              0.2222222222222222,
              "#7201a8"
             ],
             [
              0.3333333333333333,
              "#9c179e"
             ],
             [
              0.4444444444444444,
              "#bd3786"
             ],
             [
              0.5555555555555556,
              "#d8576b"
             ],
             [
              0.6666666666666666,
              "#ed7953"
             ],
             [
              0.7777777777777778,
              "#fb9f3a"
             ],
             [
              0.8888888888888888,
              "#fdca26"
             ],
             [
              1,
              "#f0f921"
             ]
            ],
            "type": "surface"
           }
          ],
          "table": [
           {
            "cells": {
             "fill": {
              "color": "#EBF0F8"
             },
             "line": {
              "color": "white"
             }
            },
            "header": {
             "fill": {
              "color": "#C8D4E3"
             },
             "line": {
              "color": "white"
             }
            },
            "type": "table"
           }
          ]
         },
         "layout": {
          "annotationdefaults": {
           "arrowcolor": "#2a3f5f",
           "arrowhead": 0,
           "arrowwidth": 1
          },
          "autotypenumbers": "strict",
          "coloraxis": {
           "colorbar": {
            "outlinewidth": 0,
            "ticks": ""
           }
          },
          "colorscale": {
           "diverging": [
            [
             0,
             "#8e0152"
            ],
            [
             0.1,
             "#c51b7d"
            ],
            [
             0.2,
             "#de77ae"
            ],
            [
             0.3,
             "#f1b6da"
            ],
            [
             0.4,
             "#fde0ef"
            ],
            [
             0.5,
             "#f7f7f7"
            ],
            [
             0.6,
             "#e6f5d0"
            ],
            [
             0.7,
             "#b8e186"
            ],
            [
             0.8,
             "#7fbc41"
            ],
            [
             0.9,
             "#4d9221"
            ],
            [
             1,
             "#276419"
            ]
           ],
           "sequential": [
            [
             0,
             "#0d0887"
            ],
            [
             0.1111111111111111,
             "#46039f"
            ],
            [
             0.2222222222222222,
             "#7201a8"
            ],
            [
             0.3333333333333333,
             "#9c179e"
            ],
            [
             0.4444444444444444,
             "#bd3786"
            ],
            [
             0.5555555555555556,
             "#d8576b"
            ],
            [
             0.6666666666666666,
             "#ed7953"
            ],
            [
             0.7777777777777778,
             "#fb9f3a"
            ],
            [
             0.8888888888888888,
             "#fdca26"
            ],
            [
             1,
             "#f0f921"
            ]
           ],
           "sequentialminus": [
            [
             0,
             "#0d0887"
            ],
            [
             0.1111111111111111,
             "#46039f"
            ],
            [
             0.2222222222222222,
             "#7201a8"
            ],
            [
             0.3333333333333333,
             "#9c179e"
            ],
            [
             0.4444444444444444,
             "#bd3786"
            ],
            [
             0.5555555555555556,
             "#d8576b"
            ],
            [
             0.6666666666666666,
             "#ed7953"
            ],
            [
             0.7777777777777778,
             "#fb9f3a"
            ],
            [
             0.8888888888888888,
             "#fdca26"
            ],
            [
             1,
             "#f0f921"
            ]
           ]
          },
          "colorway": [
           "#636efa",
           "#EF553B",
           "#00cc96",
           "#ab63fa",
           "#FFA15A",
           "#19d3f3",
           "#FF6692",
           "#B6E880",
           "#FF97FF",
           "#FECB52"
          ],
          "font": {
           "color": "#2a3f5f"
          },
          "geo": {
           "bgcolor": "white",
           "lakecolor": "white",
           "landcolor": "#E5ECF6",
           "showlakes": true,
           "showland": true,
           "subunitcolor": "white"
          },
          "hoverlabel": {
           "align": "left"
          },
          "hovermode": "closest",
          "mapbox": {
           "style": "light"
          },
          "paper_bgcolor": "white",
          "plot_bgcolor": "#E5ECF6",
          "polar": {
           "angularaxis": {
            "gridcolor": "white",
            "linecolor": "white",
            "ticks": ""
           },
           "bgcolor": "#E5ECF6",
           "radialaxis": {
            "gridcolor": "white",
            "linecolor": "white",
            "ticks": ""
           }
          },
          "scene": {
           "xaxis": {
            "backgroundcolor": "#E5ECF6",
            "gridcolor": "white",
            "gridwidth": 2,
            "linecolor": "white",
            "showbackground": true,
            "ticks": "",
            "zerolinecolor": "white"
           },
           "yaxis": {
            "backgroundcolor": "#E5ECF6",
            "gridcolor": "white",
            "gridwidth": 2,
            "linecolor": "white",
            "showbackground": true,
            "ticks": "",
            "zerolinecolor": "white"
           },
           "zaxis": {
            "backgroundcolor": "#E5ECF6",
            "gridcolor": "white",
            "gridwidth": 2,
            "linecolor": "white",
            "showbackground": true,
            "ticks": "",
            "zerolinecolor": "white"
           }
          },
          "shapedefaults": {
           "line": {
            "color": "#2a3f5f"
           }
          },
          "ternary": {
           "aaxis": {
            "gridcolor": "white",
            "linecolor": "white",
            "ticks": ""
           },
           "baxis": {
            "gridcolor": "white",
            "linecolor": "white",
            "ticks": ""
           },
           "bgcolor": "#E5ECF6",
           "caxis": {
            "gridcolor": "white",
            "linecolor": "white",
            "ticks": ""
           }
          },
          "title": {
           "x": 0.05
          },
          "xaxis": {
           "automargin": true,
           "gridcolor": "white",
           "linecolor": "white",
           "ticks": "",
           "title": {
            "standoff": 15
           },
           "zerolinecolor": "white",
           "zerolinewidth": 2
          },
          "yaxis": {
           "automargin": true,
           "gridcolor": "white",
           "linecolor": "white",
           "ticks": "",
           "title": {
            "standoff": 15
           },
           "zerolinecolor": "white",
           "zerolinewidth": 2
          }
         }
        },
        "title": {
         "font": {
          "size": 16
         },
         "text": "3D UMAP: 651 Entities"
        },
        "width": 900
       }
      }
     },
     "metadata": {},
     "output_type": "display_data"
    },
    {
     "name": "stdout",
     "output_type": "stream",
     "text": [
      "✓ 3D UMAP visualization created!\n",
      "• Rotate, zoom, and explore the 3D embedding space\n",
      "• Look for clusters that might be hidden in 2D views\n",
      "• Click and drag to rotate the view\n"
     ]
    }
   ],
   "source": [
    "# 3D UMAP Visualization - Even more detail!\n",
    "print(\"Creating 3D UMAP visualization...\")\n",
    "print(\"3D can reveal structure that's hidden in 2D projections\")\n",
    "\n",
    "# Create 3D UMAP\n",
    "umap_3d = umap.UMAP(\n",
    "    n_components=3,\n",
    "    n_neighbors=15,\n",
    "    min_dist=0.1,\n",
    "    metric='cosine',\n",
    "    random_state=42\n",
    ")\n",
    "\n",
    "embeddings_umap_3d = umap_3d.fit_transform(embeddings_scaled)\n",
    "\n",
    "# Create 3D interactive plot\n",
    "fig_3d = px.scatter_3d(\n",
    "    x=embeddings_umap_3d[:, 0],\n",
    "    y=embeddings_umap_3d[:, 1], \n",
    "    z=embeddings_umap_3d[:, 2],\n",
    "    color=entity_types_array,\n",
    "    title=f'3D UMAP: {len(embeddings_umap_3d)} Entities',\n",
    "    labels={'x': 'UMAP1', 'y': 'UMAP2', 'z': 'UMAP3', 'color': 'Entity Type'},\n",
    "    hover_data=[entity_ids],\n",
    "    width=900,\n",
    "    height=700\n",
    ")\n",
    "\n",
    "fig_3d.update_traces(\n",
    "    marker_size=3,\n",
    "    marker_line_width=0.5,\n",
    "    marker_line_color='white'\n",
    ")\n",
    "\n",
    "fig_3d.update_layout(\n",
    "    title_font_size=16,\n",
    "    scene=dict(\n",
    "        xaxis_title='UMAP Dimension 1',\n",
    "        yaxis_title='UMAP Dimension 2', \n",
    "        zaxis_title='UMAP Dimension 3'\n",
    "    )\n",
    ")\n",
    "\n",
    "fig_3d.show()\n",
    "\n",
    "print(\"✓ 3D UMAP visualization created!\")\n",
    "print(\"• Rotate, zoom, and explore the 3D embedding space\")\n",
    "print(\"• Look for clusters that might be hidden in 2D views\")\n",
    "print(\"• Click and drag to rotate the view\")\n"
   ]
  },
  {
   "cell_type": "code",
   "execution_count": 17,
   "id": "c6c8679b",
   "metadata": {},
   "outputs": [
    {
     "name": "stdout",
     "output_type": "stream",
     "text": [
      "Creating 3D UMAP visualization...\n",
      "3D can reveal structure that's hidden in 2D projections\n"
     ]
    },
    {
     "data": {
      "application/vnd.plotly.v1+json": {
       "config": {
        "plotlyServerURL": "https://plot.ly"
       },
       "data": [
        {
         "customdata": [
          [
           "1f30a9ba-1c63-4404-bbf3-b422e25d915c"
          ],
          [
           "a8e63b3a-1978-498a-82b2-b515e1cca856"
          ],
          [
           "c2cc9e71-ba87-4803-8870-c43dc9bcec3c"
          ],
          [
           "b8de0258-581e-4757-84f3-cb4a3889c7e3"
          ],
          [
           "f371fbd6-48f7-4965-a14b-3e1e57bd1099"
          ],
          [
           "5184c423-f8b6-49b9-9a0d-3b1f1993e168"
          ],
          [
           "4819c79e-3b67-42d5-a7c7-1e207e7a68f8"
          ],
          [
           "b9dd013a-1fe0-40d0-96b2-17da8f53a50f"
          ],
          [
           "ec0dc8d7-3f08-46cb-b8c7-f177f33aa15c"
          ],
          [
           "4ccceb9f-24d0-4e01-a203-ed8a428e1f9a"
          ],
          [
           "421e5a43-50d0-4dac-9434-dabc3887b71b"
          ],
          [
           "44df580f-5783-4f12-bb57-f45a930c4d16"
          ],
          [
           "837dfc8a-879b-4147-ab03-7eb8ffcb6e9f"
          ],
          [
           "51fa4fc1-5de5-465a-90c9-f9600fe6739c"
          ],
          [
           "03da0711-05ec-41a7-b8c4-6a6e5439e6f7"
          ],
          [
           "ebf54184-450e-451a-826e-cca1f45c43fc"
          ],
          [
           "d9c8eaab-9867-459c-af96-765274d8a3f8"
          ],
          [
           "12ea37bd-0e9a-44d5-9f24-2379b7e31677"
          ],
          [
           "38ab6e7c-490f-49a6-8600-01e105a852d8"
          ],
          [
           "d2d9cf2b-4da2-467a-9320-9dae625961b9"
          ],
          [
           "29761674-4f11-4904-a3bf-43ef59e40e1f"
          ],
          [
           "b91e6ce0-ba34-4571-a31d-bc7fa30cfaa1"
          ],
          [
           "d568c0a2-b9aa-4883-bdc3-c35a5a78dd74"
          ],
          [
           "231d4b0f-4b72-4421-a25b-6c328f43b7ce"
          ],
          [
           "e0112a59-d6cf-489c-8ac1-8450a54d16f6"
          ],
          [
           "d070c17a-757b-4c20-9461-d38cba9a5981"
          ],
          [
           "5f9ad383-f027-4e8b-be3b-8f5d45757ec3"
          ],
          [
           "f7b5eaee-99ee-4b62-8552-d0222a401304"
          ],
          [
           "ee710523-709d-4766-b6be-f3543af7e313"
          ],
          [
           "ada66118-b867-4b79-bb36-c30c5b767b35"
          ],
          [
           "d64c6956-b6c6-434d-a360-0fc7d74264a5"
          ],
          [
           "158f42aa-7f84-44e4-b41e-6591189f83b1"
          ],
          [
           "3fd2505c-d926-4902-aff9-f035dfd2e60e"
          ],
          [
           "dc920139-cdf6-4b73-9cc3-2633c45e6d53"
          ],
          [
           "c94d62c2-b2e2-4422-a93f-b9b0bad3ebee"
          ],
          [
           "dfd0cf41-75a2-4f78-95e6-ea0ac7350314"
          ],
          [
           "b7dbadc3-291c-40fc-b5a5-cd510a6227d4"
          ],
          [
           "1dc24441-5f24-4d3e-af07-c74e7e1d0877"
          ],
          [
           "6e51f199-a555-4733-98f8-c2d33b96ac67"
          ],
          [
           "0e11a27e-16f0-49f9-a088-7152e4202516"
          ],
          [
           "85a04481-81de-44bb-b3a3-5ca80b6619f6"
          ],
          [
           "a6494279-def7-4277-b835-76d4136746de"
          ],
          [
           "c37db90c-357a-42f7-95b5-ef2a901fe200"
          ],
          [
           "03952642-6675-48e9-9da3-62d9b2770d3d"
          ],
          [
           "fcd5b1e4-b288-45d2-a98d-ae97dc43c9fa"
          ],
          [
           "ef78c280-7f17-4aea-8d70-2b827aab8343"
          ],
          [
           "dac9fefc-d869-42fe-8019-d8bdac75a1c5"
          ],
          [
           "1555ff37-6fca-417a-a4d6-3b6f9677e0e8"
          ],
          [
           "e1d5dcdd-491c-44aa-9b90-495f794e4c06"
          ],
          [
           "520c74ae-6eab-43da-bf31-1ddca09d55b3"
          ],
          [
           "742c50ce-a998-4a9d-96ef-0bbf674f0e0d"
          ],
          [
           "e9d254c6-cc8e-4e85-b0e1-924754c9b765"
          ],
          [
           "e19d8ef5-a112-48d3-aaeb-2c106e561eeb"
          ],
          [
           "39a1de5a-9146-4f9c-bd45-434395894655"
          ],
          [
           "2688d59e-530a-42c8-83bd-8a8bb9dbd031"
          ],
          [
           "bce544b1-c19b-471f-ab48-c0da533df0d9"
          ],
          [
           "c6d41be1-085c-4f67-b3e9-4d35f589f0b4"
          ],
          [
           "e2cc8f3d-adf8-4d79-a9f7-67af98bb8dc4"
          ],
          [
           "d8c49bfa-bb56-4344-984f-7fe3c9811f0b"
          ],
          [
           "806ead96-31db-48ec-977e-80d414aa10f9"
          ],
          [
           "14a99959-cada-4c5d-9516-3118a1dacfab"
          ],
          [
           "05a9f78f-0ccb-40e7-921a-8f3aacd55ea3"
          ],
          [
           "d665a41a-c6c3-4c9e-9b5a-4acdf15531a4"
          ],
          [
           "f4f4eaea-0f54-4650-af2e-1d99b7d7089c"
          ],
          [
           "66d74ba6-1d89-43e7-9102-4746b613d623"
          ],
          [
           "ce245c72-62b0-4ef3-b280-a25c4053a40d"
          ],
          [
           "3f28673a-05ad-4779-8461-0b8dfa4f0b07"
          ],
          [
           "48332b82-5437-41f4-86bd-dc71bb8cc659"
          ],
          [
           "fdad68e4-5740-4658-8751-0f27ab9aea8a"
          ],
          [
           "0f39d45c-4c65-4833-b92d-a7a57cdb8b49"
          ],
          [
           "33129398-ecdb-4ddf-b65a-b61793815ee8"
          ],
          [
           "517c8de0-252b-4a01-9d73-85a60fc3fb1d"
          ],
          [
           "30c505de-944e-4237-b78f-5dec9fac6ac7"
          ],
          [
           "af4806af-d578-4bec-8d19-d92cfa09321c"
          ],
          [
           "c51fb6fc-79cb-4c8f-b9ce-3710ccae251c"
          ],
          [
           "6c28b379-7c64-4281-a485-b302926b4bde"
          ],
          [
           "034b88cb-a916-4ff3-8a7b-8f44137eba4d"
          ],
          [
           "a98c7ff0-9322-4f14-bd7a-fa8b9f28dd5e"
          ],
          [
           "e5ecb756-339a-45ac-880b-b2c198b028a0"
          ],
          [
           "4b9ff345-b3f7-42cc-b696-d7cdcd565bb0"
          ],
          [
           "3d67266e-751e-491e-83cf-4c841a281df3"
          ],
          [
           "3f66111e-f2a7-4491-9686-0cb7678f7384"
          ],
          [
           "c5436380-e1fb-449f-b24f-d10b49457f3c"
          ],
          [
           "fbb1e885-fe33-4b73-9240-3fe6c505b793"
          ],
          [
           "45d246d1-a193-4c23-aecb-0dbe68df9771"
          ],
          [
           "734da7f3-eae2-4523-9e11-8847bc20f80c"
          ],
          [
           "866f114e-c5e7-402e-93f7-f6124e5437c5"
          ],
          [
           "5ce8b175-3ef8-41ed-bcce-536080d05ada"
          ],
          [
           "16c1addf-fb37-4f64-8897-90c76f7a7611"
          ],
          [
           "aa33027c-b7f5-4c88-83aa-a2e9466f5832"
          ],
          [
           "a9d46657-3b9b-4863-b891-4d1e0c49e183"
          ],
          [
           "276228dc-708b-4911-ac4e-59ba2f85f8ec"
          ],
          [
           "9a2df6a7-569a-4f2c-bf18-8689e9406e8d"
          ],
          [
           "e1c62fd8-96c0-4e55-8885-bc5ee80fbb67"
          ],
          [
           "aa3b58c8-c309-461a-a01e-2c987ef4f2fd"
          ],
          [
           "34db27e9-e928-4336-8953-b47b375c7805"
          ],
          [
           "5d15e54d-e350-4184-8da3-e202a3e3af50"
          ],
          [
           "1db733b8-5b33-426d-aea8-679b5ff867c3"
          ],
          [
           "d8745ae3-8b42-42ab-af3b-1f2547ad5589"
          ],
          [
           "a179bf41-176e-4498-9428-07ec4657625b"
          ],
          [
           "e1c77446-1830-4360-87e0-5b82a2938c45"
          ],
          [
           "4e5d474a-3ee6-48da-bdc0-9b28518364b2"
          ],
          [
           "4ab34280-d9d4-44b9-80ce-5281888b4b27"
          ],
          [
           "fe18b622-a5a4-448c-8eab-321b8b56b46b"
          ],
          [
           "889ec452-c64f-49c9-b9f0-5bec54798e0c"
          ],
          [
           "2771a176-25f4-413f-b21a-6367758bebcd"
          ],
          [
           "d15e4513-dd86-412a-a68e-ec6217c2f0b7"
          ],
          [
           "4d55c7ec-c787-4c2b-9cad-997345184962"
          ],
          [
           "bf244130-0b88-4683-ba6e-953263e43845"
          ],
          [
           "2696f01a-ca56-417e-955b-d501887e54a6"
          ],
          [
           "d581547f-d974-4112-9742-9282fe75375b"
          ],
          [
           "90762d0e-be87-402c-99fe-f60d5d9d5341"
          ],
          [
           "2a3f34c4-f54c-43e9-9178-9dbdb00d2d09"
          ],
          [
           "aa1d979e-ec6f-48d3-946c-5f011a706f18"
          ],
          [
           "70a4db5a-b9d7-43f6-9c74-dd0de13102f9"
          ],
          [
           "19b0ad8b-4cea-448a-8a51-0abd6a3f1225"
          ],
          [
           "1f81046d-3a3a-4ac9-8ba9-3c465c76e892"
          ],
          [
           "f8c95b2a-f645-4d96-98f5-74e8b707c05d"
          ],
          [
           "9cd74183-5a58-4a1e-88d4-938e18a0a1dd"
          ],
          [
           "30eb0119-1bcf-455c-a7d3-81e27e3af026"
          ],
          [
           "1a818c90-17e4-401d-a05f-f88a019923fd"
          ],
          [
           "21ec3ae6-3940-4315-b60b-ddd074c6a7e5"
          ],
          [
           "75eca45c-11a3-4fad-a57a-e247bc67ba30"
          ],
          [
           "db49df8d-62ac-43d7-99f9-a640e568d87e"
          ],
          [
           "262367a2-47c4-4f11-9c26-5b3c5d54940c"
          ],
          [
           "1e05ca79-27b0-402c-8514-22f319271ee9"
          ],
          [
           "3213dd47-d046-4ecc-ba0a-3b7284dc6dba"
          ],
          [
           "52a864cf-930f-438d-9e4b-3a9ae3981980"
          ],
          [
           "6d3dae01-e978-4650-b25b-0ce615d39423"
          ],
          [
           "8590d133-faf9-49f5-881f-dde598297f43"
          ],
          [
           "a58c17fd-00c3-4f73-a423-32aaf879eee6"
          ],
          [
           "27113f30-106c-4701-a660-37863acc6e5e"
          ],
          [
           "ce7f8096-ea30-4946-a6fa-d6bbaaa247bb"
          ],
          [
           "3fce959a-d661-46ea-ab19-7743d2096a07"
          ],
          [
           "de560b93-5628-4a20-8806-5f1335e6936a"
          ],
          [
           "fc4275ff-5ac7-4b89-91de-874fa6cd16fb"
          ],
          [
           "f59a3f82-963d-4c68-b5ef-19480264f6d7"
          ],
          [
           "820f9e63-224b-4df1-9bf6-a8991f2975f6"
          ],
          [
           "fda556e3-06ff-409d-b2c3-5c1f46fd0511"
          ],
          [
           "01d691fe-430f-4c11-adc2-cc94e04ff3ac"
          ],
          [
           "f1b626f2-905a-4ded-afd5-bfe2430a299d"
          ],
          [
           "5ac27e11-0154-410a-aaae-04db15c57434"
          ],
          [
           "03be2c7d-6600-49e5-8d6b-d1de35ef8a87"
          ],
          [
           "6590c005-516f-485f-a2b8-495cc9ebe3de"
          ],
          [
           "9075f765-8b77-4ab9-8fa3-87eb6f3fb26e"
          ]
         ],
         "hovertemplate": "Entity Type=view<br>UMAP1=%{x}<br>UMAP2=%{y}<br>UMAP3=%{z}<br>hover_data_0=%{customdata[0]}<extra></extra>",
         "legendgroup": "view",
         "marker": {
          "color": "#636efa",
          "line": {
           "color": "white",
           "width": 0.5
          },
          "size": 3,
          "symbol": "circle"
         },
         "mode": "markers",
         "name": "view",
         "scene": "scene",
         "showlegend": true,
         "type": "scatter3d",
         "x": [
          14.842942,
          2.4048948,
          15.074718,
          2.0540154,
          14.896409,
          15.042748,
          2.1195495,
          -6.35866,
          -6.3769307,
          14.925397,
          1.9706388,
          2.2248094,
          2.0772476,
          5.892488,
          15.139765,
          1.8861315,
          5.351831,
          2.0145993,
          5.438972,
          2.0263045,
          5.8978033,
          2.258086,
          2.06016,
          1.9945012,
          5.6538987,
          5.4087114,
          1.9860603,
          15.077584,
          14.899407,
          1.9182614,
          5.366009,
          15.20754,
          2.0022736,
          5.4606266,
          1.9357231,
          5.4105268,
          2.0468128,
          1.9503653,
          2.2160513,
          2.1535277,
          2.1841278,
          6.085922,
          14.966823,
          14.799287,
          2.1433804,
          16.179914,
          5.0422044,
          2.1135228,
          2.0481384,
          5.7575326,
          5.363783,
          5.104744,
          2.4762409,
          5.049034,
          14.466532,
          2.446959,
          5.3581953,
          4.915286,
          2.2145972,
          5.0888224,
          14.552432,
          5.251041,
          5.0368576,
          14.359828,
          2.4766512,
          2.3365166,
          2.3558848,
          5.2684135,
          5.1853175,
          2.2925231,
          5.618099,
          14.427365,
          2.2134836,
          2.1932511,
          1.9791048,
          14.166585,
          15.125273,
          1.5987486,
          2.5336099,
          1.7728168,
          1.8174099,
          14.292206,
          1.9785342,
          1.8069569,
          1.7637727,
          14.864509,
          -6.4044437,
          5.786686,
          6.0082893,
          2.1385484,
          14.442865,
          6.2791467,
          14.789322,
          14.440464,
          14.567799,
          14.481182,
          14.798782,
          14.414844,
          2.0136375,
          14.444945,
          6.189271,
          5.7890706,
          1.6056137,
          14.737632,
          14.443248,
          6.2328987,
          1.6443106,
          14.814974,
          6.209186,
          15.476249,
          14.496939,
          1.8722333,
          2.0229042,
          14.622539,
          1.8515313,
          6.38892,
          2.3179584,
          6.0336957,
          1.5053244,
          6.309486,
          6.177247,
          2.0507083,
          2.1024823,
          6.2686257,
          2.0579755,
          6.2450314,
          2.1821856,
          2.310947,
          15.401799,
          15.436988,
          0.6467166,
          15.250926,
          15.399642,
          14.743109,
          15.006453,
          2.217511,
          0.5571108,
          15.429019,
          15.086903,
          14.637516,
          15.236677,
          15.439953,
          2.174984,
          2.4385037,
          0.592748
         ],
         "y": [
          8.02281,
          17.643847,
          8.26588,
          17.671202,
          8.120958,
          8.078652,
          17.531387,
          -0.33150747,
          -0.34976706,
          8.227499,
          17.54523,
          17.672087,
          17.325466,
          0.17654921,
          8.377692,
          17.314405,
          -0.13212655,
          17.615984,
          0.051859073,
          17.584417,
          0.35679623,
          17.464289,
          17.409327,
          17.311867,
          0.111839615,
          0.08370828,
          17.377386,
          8.155138,
          7.94951,
          17.586477,
          0.3916195,
          8.073926,
          17.418232,
          0.19576664,
          17.50202,
          0.3820816,
          17.745592,
          17.465538,
          17.630247,
          17.373709,
          17.442236,
          -0.09044357,
          8.005053,
          8.026275,
          17.425266,
          7.648802,
          -0.13072255,
          17.388916,
          17.802694,
          0.9666527,
          0.36545044,
          -0.42266265,
          17.682596,
          -0.14066201,
          7.9790235,
          17.752085,
          0.6349354,
          -0.004847913,
          17.409662,
          -0.2771586,
          7.7451816,
          0.08347164,
          0.07047725,
          7.7795978,
          17.855583,
          18.028063,
          17.814981,
          0.5989854,
          -0.20004119,
          17.761787,
          0.49904066,
          7.9973645,
          18.029585,
          17.789263,
          18.094635,
          8.382906,
          7.8242803,
          17.449886,
          17.62718,
          17.631617,
          17.835976,
          7.916471,
          17.91342,
          17.887291,
          17.932323,
          7.600908,
          -0.37725785,
          0.3245456,
          -0.24749577,
          17.670256,
          8.000848,
          -0.50762415,
          7.9134126,
          8.084459,
          7.8284435,
          8.039206,
          7.73654,
          8.514982,
          17.8773,
          8.277487,
          0.115451455,
          -0.47539324,
          17.601286,
          8.647782,
          8.386088,
          0.2758867,
          17.766857,
          8.825386,
          0.3004651,
          8.272839,
          8.513943,
          17.411892,
          18.16058,
          8.741174,
          17.183249,
          0.046753164,
          17.161457,
          -0.58765644,
          17.844393,
          -0.44506544,
          -0.458326,
          17.247044,
          16.978619,
          0.38284943,
          17.083555,
          -0.44334936,
          16.991743,
          17.277311,
          8.170509,
          7.9018583,
          -7.3555446,
          8.4346,
          8.482201,
          8.869393,
          8.2838745,
          17.967264,
          -7.445104,
          8.713893,
          8.715453,
          8.640404,
          8.579132,
          8.627457,
          17.442558,
          17.300266,
          -7.4094377
         ],
         "z": [
          -6.0926237,
          3.3097293,
          -5.784958,
          3.2492108,
          -5.9973617,
          -5.947316,
          3.1546404,
          0.31282014,
          0.2945572,
          -5.9827394,
          3.4704318,
          3.3174822,
          3.2952228,
          16.14256,
          -6.222908,
          3.2553737,
          16.099068,
          3.0598595,
          16.544664,
          2.9807427,
          16.481071,
          2.976244,
          2.8891647,
          3.100798,
          16.648136,
          16.41177,
          3.1383023,
          -6.337584,
          -6.431394,
          3.2235646,
          16.391853,
          -6.022358,
          3.36344,
          16.630817,
          3.0287476,
          16.171272,
          2.8969414,
          2.8527234,
          2.9325411,
          3.1316147,
          3.0763624,
          16.547705,
          -6.505248,
          -6.417265,
          3.2483795,
          -4.5959363,
          16.66653,
          2.8601992,
          3.0815184,
          16.080145,
          15.746276,
          15.731144,
          3.2084646,
          15.877706,
          -6.4116907,
          3.258486,
          16.15862,
          15.66479,
          3.490302,
          15.776918,
          -6.137997,
          15.823214,
          15.474378,
          -5.803899,
          2.9073546,
          3.0784547,
          3.4704845,
          15.942551,
          16.078497,
          3.6028206,
          15.596278,
          -5.529732,
          3.4166076,
          3.4515827,
          3.5362282,
          -5.7610083,
          -5.527964,
          3.1104937,
          3.5643184,
          3.5865183,
          2.480898,
          -6.017874,
          3.4016385,
          3.544927,
          3.3397174,
          -5.5492325,
          0.2670695,
          15.912433,
          15.558506,
          3.67614,
          -5.776847,
          15.853464,
          -5.506852,
          -5.595346,
          -5.4823217,
          -5.737899,
          -5.9988775,
          -5.8823957,
          3.4469442,
          -5.8363466,
          15.591524,
          15.595041,
          3.0330575,
          -5.719056,
          -5.755212,
          15.749906,
          3.0606554,
          -5.8702297,
          15.815098,
          -5.6155577,
          -5.654112,
          3.6934516,
          3.1346123,
          -5.8210316,
          2.9853868,
          15.630323,
          3.4994493,
          15.736665,
          3.2277648,
          16.19348,
          15.817807,
          3.6127975,
          3.1930847,
          16.028826,
          3.3688352,
          16.425163,
          3.04172,
          3.6475306,
          -5.7668104,
          -5.7799406,
          0.749298,
          -5.5718637,
          -6.051702,
          -6.222711,
          -5.410258,
          2.711571,
          0.83902043,
          -6.000795,
          -6.141471,
          -6.235899,
          -6.413741,
          -6.187724,
          3.737654,
          3.4366167,
          0.80335045
         ]
        },
        {
         "customdata": [
          [
           "2e292dd6-cea9-412e-8765-0550c1645d1e"
          ],
          [
           "b91138ec-671c-4244-8b91-19dcde18ebb8"
          ],
          [
           "ba7d859b-60f7-47f2-a5f9-1a18b97e3da6"
          ],
          [
           "aafc34ae-1cf9-4989-b0f4-dc277d225071"
          ],
          [
           "a944a6ee-d794-40bf-9a05-d1ca62b1f0a9"
          ],
          [
           "d0c42f87-cca3-4b7b-a268-386dbc68f89d"
          ],
          [
           "fcf9c8f8-31dd-412b-b92b-21214346d6b0"
          ],
          [
           "dff7b2c3-6a6d-42ed-8efd-621f39f6c386"
          ],
          [
           "9444189e-5f1a-41f5-acc7-49cad4e3dd98"
          ],
          [
           "ae7cf913-2b48-423d-81f4-c9ce06df4cf6"
          ],
          [
           "673d57f6-4f7c-4520-80d5-110fd765a1e6"
          ],
          [
           "704bef79-21c3-4aa1-9ea1-25b6f9ed65a2"
          ],
          [
           "cd43e7bf-f76f-4fa3-ac0f-7629600a6814"
          ],
          [
           "eeee96b9-759d-45d1-8d97-dbba38802388"
          ],
          [
           "c2869821-8700-4005-bf13-324d6079fce7"
          ],
          [
           "0dce7537-3313-4667-a2c9-c1d5c437f8c7"
          ],
          [
           "450cb2bf-6120-457e-a19c-8b45e1582b25"
          ],
          [
           "568a1356-a526-4333-83fd-fe560d525a5c"
          ],
          [
           "2b1ec6cd-b780-40be-b1b8-a3412d31348a"
          ],
          [
           "d16cf533-2768-4809-ab14-8173e251fa89"
          ],
          [
           "a02be019-84e5-40df-8dcc-cfc91a27e905"
          ],
          [
           "b401a8c3-fa42-48a9-9f5e-426c4b11c7fe"
          ],
          [
           "a05f3ecf-9c18-4171-9dc0-ceba09d97cb9"
          ],
          [
           "23a40556-4da2-46d5-9924-daf743a5b25f"
          ],
          [
           "2e4eba5a-95b9-4513-a9a3-92343b8d5818"
          ],
          [
           "95f19830-3b91-4d8e-83c4-b0cd446a62e3"
          ],
          [
           "8c2578af-816b-44f7-8d4b-138d8da6a79f"
          ],
          [
           "7bd6e904-39d1-4c10-ba78-784a38c40160"
          ],
          [
           "cbbe09b2-0ec2-4cef-8c2a-fbee6d8495db"
          ],
          [
           "f2d5ce3b-2aa9-4e99-91c3-21fc6417766f"
          ],
          [
           "34bc6f34-a499-4c93-a2a0-c1907a9ad586"
          ],
          [
           "968411d9-b1c0-4859-8cac-875fb0124233"
          ],
          [
           "984b1d04-7810-4e35-8854-ab337d766492"
          ],
          [
           "e2401684-8e87-4117-951c-c4e8a79651f9"
          ],
          [
           "b1572e54-06e2-4c21-9283-37d275edb8a1"
          ],
          [
           "e0c086a0-a62b-4423-b034-28630084a5e3"
          ],
          [
           "051c3da0-ef67-4c9c-a841-3874d3216544"
          ],
          [
           "00f61952-8a82-4653-b6ea-ade998a218d4"
          ],
          [
           "886e7e01-30a3-46c3-a592-d5a85c50a4a6"
          ],
          [
           "600244ed-3262-485b-b755-84b529f7af29"
          ],
          [
           "93a984ef-4693-45ea-bb88-7d88555bdea8"
          ],
          [
           "89117ff2-f38e-4038-9e89-92860897fb2a"
          ],
          [
           "cfc2f9fe-59a4-4530-b322-8bb9f4097721"
          ],
          [
           "1f9be3b9-1c7d-4d39-aaf6-058ae1e56d7d"
          ],
          [
           "3d1b00fc-c9c4-4b71-a2a5-2a87eb2dfcf0"
          ],
          [
           "f6040893-dac5-43b7-b92d-675b2deefb9d"
          ],
          [
           "f84dd08c-9087-446a-9fcc-e7749367506d"
          ],
          [
           "7621852c-c7c5-44c4-ac19-9e2f2a6e43ca"
          ],
          [
           "73479401-b260-4b1a-945a-cd4fc8d9b835"
          ],
          [
           "8b5f7869-7df5-4b7e-a8e8-06a059242771"
          ],
          [
           "26d4b6c3-70a9-4415-8cab-0c3209556fb7"
          ],
          [
           "ec49db9a-489a-4259-a57d-bef40e2a497f"
          ],
          [
           "38bf4c4a-9366-4cfc-ba42-c12fbe322ad5"
          ],
          [
           "ee08a4f2-92a2-4fa3-9dc6-cfedeccb6853"
          ],
          [
           "ecbec8a2-c42f-47b8-a7dd-4fabb4fd2b8c"
          ],
          [
           "17a8a485-bda5-4d1e-ae0e-65268cdd8cac"
          ],
          [
           "240fbcac-a44b-418b-ba2b-d651eb9c1124"
          ],
          [
           "d3401a9f-c52b-4255-a6e8-e79552a2b3c6"
          ],
          [
           "983fc2d4-7973-4a58-9bf1-b30bf6651f12"
          ],
          [
           "b259ad41-34a8-411c-9912-83fda689cc99"
          ],
          [
           "43d9cec1-7f19-46f7-8aa1-3d5ffd86a473"
          ],
          [
           "82f477e3-a691-4fb9-8f87-56339225a32f"
          ],
          [
           "7a659f09-e515-4392-b52d-d8e4feea1797"
          ],
          [
           "57bf8025-304b-4611-8ea2-05a058d3ec80"
          ],
          [
           "c7504160-aa8b-457f-b818-293810c27aef"
          ],
          [
           "2814c1c5-0d90-4238-8a60-0054babe9aa1"
          ],
          [
           "e2c93ad8-517f-4a5d-8951-a794d994cf53"
          ],
          [
           "3508ed99-064d-42be-ab50-e34ccb20ea08"
          ],
          [
           "d969e257-a85b-45c1-869c-faaf2902e174"
          ],
          [
           "63ee463d-4e12-4cac-a99f-a0c6546a4d76"
          ],
          [
           "d0997af8-30e1-4c8e-9a72-323d57b2537a"
          ],
          [
           "fe8023c9-89d9-4dc7-b3f3-fb8fae119b21"
          ],
          [
           "d3ed73c3-ab3f-40d6-ba2d-f87d49f474ec"
          ],
          [
           "66f72728-57ad-409a-a273-d6a73e672db3"
          ],
          [
           "6745c19e-55f6-470a-8c70-50b421e1f857"
          ],
          [
           "cbafb089-e294-426e-a8e3-a6730adbda74"
          ],
          [
           "9c060a5d-964f-4512-adc8-4f9dc5dcfa87"
          ],
          [
           "a9705e46-f439-4769-95e2-9c768df9a696"
          ],
          [
           "822cb93b-7308-4090-a666-e2b36c5ac94a"
          ],
          [
           "2c8ed5dd-9a21-4f0e-b30d-158237c3be56"
          ],
          [
           "509d45b1-223b-42de-a06e-31bd14269eb4"
          ],
          [
           "bf9285a0-cade-4ea4-9a83-469060f2ae75"
          ],
          [
           "7a6a94c7-0b8b-4dc7-99d6-bdbb723d7f7a"
          ],
          [
           "acc9d3a8-1ba4-4aae-95ff-2c1f37b182b8"
          ],
          [
           "be4093a7-02bc-4bba-be96-048507100032"
          ],
          [
           "dc591be2-4da5-480a-b6d2-c13a87107023"
          ],
          [
           "a04474c1-6b33-4650-a33e-2b322f1fe0f4"
          ],
          [
           "3d1db8ab-4f88-40ef-be56-2b63000a4640"
          ],
          [
           "a3864c2d-53d8-49a5-9cd0-1386f1ebde63"
          ],
          [
           "a4397aca-8e7b-4a10-b583-1362098a6b4d"
          ],
          [
           "2cdca649-ac48-446c-8bac-afb0863d4f65"
          ],
          [
           "894284c6-4af6-4b86-b1bf-ea53a78f44ed"
          ],
          [
           "d4aea957-defd-4803-a7d8-2a083d8516cb"
          ],
          [
           "77ee5738-fa06-48df-ba1f-0dda185dc3bb"
          ],
          [
           "fb022c6b-2abd-43ef-a8d0-792a24e7b4fb"
          ],
          [
           "17ab8fc5-ac9c-4b52-bb48-c91afc6414a6"
          ],
          [
           "fe64149b-bd9a-4045-989c-d50ff263efd9"
          ],
          [
           "f60a34b6-6ec1-477b-a945-4e9cd5efdb60"
          ],
          [
           "d2fca464-8010-40e7-b9e0-0db9482525ee"
          ],
          [
           "52fd56c2-a5c5-431a-a2ad-e3f48ed0920c"
          ],
          [
           "6c9ce5ed-d3af-4787-9492-0eda4f986978"
          ],
          [
           "c3c0462d-8c18-4227-8448-48b420402e37"
          ],
          [
           "aaa0475c-6802-463c-b67c-aa4b92be4706"
          ],
          [
           "9225d849-a118-4241-8cc3-660a477671aa"
          ],
          [
           "9c8b38b9-422e-41c7-9821-55bf248aa736"
          ],
          [
           "8ad1a368-24cc-4f96-ab14-71b15c39b0fc"
          ],
          [
           "b3199927-9431-44cf-9dfb-49f926915fe0"
          ],
          [
           "d25c859c-eba0-4664-a12f-05d126d79216"
          ],
          [
           "8aded30f-7e95-41af-a1e5-149c3998f9c7"
          ],
          [
           "aa802203-8010-4576-93b7-214ed44ba56a"
          ],
          [
           "6d47a8fc-83fc-44aa-98ce-8b68964f2762"
          ],
          [
           "79fd1a3f-9010-4983-91d9-04d1f4f2a110"
          ],
          [
           "b4602a96-da19-4679-85f3-9a919e321230"
          ],
          [
           "b363608d-7b26-45f6-b347-428fda21a322"
          ],
          [
           "80e2df11-41a5-4728-8f2d-f951c30d82f0"
          ],
          [
           "4a686878-7e36-4ea4-80a4-b727294a7284"
          ],
          [
           "d8cca264-5aed-4a0f-80ad-48c4237c8256"
          ],
          [
           "7e958f43-406c-448d-b6ec-e93337ce0620"
          ],
          [
           "375b79e0-9c4e-4695-b17e-7278e0842f84"
          ],
          [
           "1010655a-4d14-4bd2-9aff-455c08eb829f"
          ],
          [
           "b13e61cd-7f9b-4b0c-b9f0-5680d120cb68"
          ],
          [
           "630f26d4-d8d9-4351-9400-6a21dcf40f2c"
          ],
          [
           "be9fae38-1f14-4899-976b-b84ea7333037"
          ],
          [
           "f05a28a1-4724-4cc3-aef7-6551d2242cf0"
          ],
          [
           "f07581f8-f943-42d2-90fd-2eb69cda2147"
          ],
          [
           "997a4b92-63f9-48a2-9268-0631cd5c18cc"
          ],
          [
           "44faa970-3ab7-4fa3-aff1-4b8f15d4b4c5"
          ],
          [
           "75abcc01-4d90-4570-aa2b-f4d2b9ce73dc"
          ],
          [
           "a5d96389-9b6b-4ca9-a218-e0413bb7364e"
          ],
          [
           "97353558-2c8a-40b4-8f61-c7298098eb3a"
          ],
          [
           "6a23314c-2fa0-4a2a-ba37-05755174b0b3"
          ],
          [
           "abaaeb96-4da2-4d78-ae60-014ceccf7f7f"
          ],
          [
           "1b1c3ef6-b44a-4677-95fe-144551c79ac9"
          ],
          [
           "f2ed0163-b35c-41e5-8114-f8c1fd0a0e58"
          ],
          [
           "1bf02a1d-56c8-413b-b70b-29642d7ed3fd"
          ],
          [
           "d85781ed-49da-4c30-b875-09c4cf6e4a28"
          ],
          [
           "c4eed01d-5b0a-4cdc-a950-fc1eb2ab7ea9"
          ],
          [
           "5980a805-e928-4530-b2d6-95bf1c4996e4"
          ],
          [
           "66cbb616-d1d2-4415-a5e7-3663739a05cd"
          ],
          [
           "77a9e829-d519-4cad-ab4f-460851843079"
          ],
          [
           "6ddb9795-1eb0-4a14-988c-02a8c3286234"
          ],
          [
           "734e4f12-53dd-4548-b141-8fd8f2fb46e8"
          ],
          [
           "fb3d453d-5f73-40af-865e-967aa438d981"
          ],
          [
           "76d181a4-087e-43c3-99d8-f4a8c86e5df8"
          ],
          [
           "e3bcd525-f997-4e84-a720-a00372eaa166"
          ],
          [
           "2919bc7c-b5d6-47f1-8a6d-ce20eb0e7da7"
          ],
          [
           "26ef2229-7ff2-4ffb-8ec2-87042175fcb7"
          ],
          [
           "cb417898-855f-4bf6-b3e6-8aa317de37e6"
          ],
          [
           "1575dc92-86eb-4f61-8ea4-eb13de72fafd"
          ],
          [
           "708c7a13-85e8-4905-8075-3027e939f721"
          ],
          [
           "e3552d41-3946-4235-93b9-10f336c84e67"
          ],
          [
           "0a3564da-1f86-4145-98b1-7de5e9c8e03e"
          ],
          [
           "3c35c06b-a62e-4ac1-821a-3a09294ba771"
          ],
          [
           "c4c283c1-aa46-4a06-92f6-afddabf1ccd0"
          ],
          [
           "a9191a18-860e-489d-96b0-979c89704170"
          ],
          [
           "94f4b0fa-85d4-423c-81de-89c048e5c4ee"
          ],
          [
           "4fe439fb-6da8-4252-9546-679df5facf56"
          ],
          [
           "61655071-914d-4ce4-9d16-bbc1fa65d349"
          ],
          [
           "fe05ed14-6ba3-4589-be1b-4b9e779b4f4c"
          ],
          [
           "1c42b6e0-228f-4ab1-9028-f3d5d9bd3fcd"
          ],
          [
           "81abe02f-8b07-4b8d-ab8d-2c8bdafcfae6"
          ],
          [
           "8d38fcde-f194-43e3-af7d-05b4d54ad220"
          ],
          [
           "2e4ee315-dbc9-478f-b624-58d9356f9eb7"
          ],
          [
           "8b62d906-1531-4d86-991b-0b455dce2680"
          ],
          [
           "a1913e99-84c9-4091-8f79-1aca68352f70"
          ],
          [
           "7f8f6aca-0a03-4ebe-aae2-dbfe0c783a92"
          ],
          [
           "88409f0d-a368-423b-b14c-345b73221653"
          ],
          [
           "1a2ee8cd-0ebb-4da6-903c-18942b865e20"
          ],
          [
           "90172502-fc31-49e5-8cf2-29693c1f7e45"
          ],
          [
           "20a57718-f6a7-43c8-bc84-0d2151aa84f2"
          ],
          [
           "e0e93369-6014-4df2-947c-2dcdacf34eeb"
          ],
          [
           "2be45e9a-93cd-44b1-9a13-1fbebaa335da"
          ],
          [
           "559fd265-a341-4412-b19f-bfb378f264ad"
          ],
          [
           "eeef7718-67b3-4549-a714-571c217120aa"
          ],
          [
           "53f51244-11e3-43aa-a555-9f417a8da435"
          ],
          [
           "43a66bde-24a3-4d29-a883-4b30fb701f36"
          ],
          [
           "420f5cc6-0c92-4672-8c05-bb21c07aa62f"
          ],
          [
           "585dc74b-1444-484d-88fc-4effff9d8d44"
          ],
          [
           "b921950e-252e-4fe1-8ff3-ab42e880647f"
          ],
          [
           "062d9b73-3ede-4a10-9f80-ee0d37fd2ddf"
          ],
          [
           "7ad128ff-8fe1-47f9-a197-d0f7dfda0bc1"
          ],
          [
           "37c7db66-4cb6-4e3d-b915-6b7f3bcfe98e"
          ],
          [
           "7bba07a6-78f9-4494-8345-e7eec6aeb9ca"
          ],
          [
           "4be22791-2f62-4d72-82ac-7461a16d9bb9"
          ],
          [
           "698b67d9-2048-4c4a-91bc-2f200c7d7870"
          ],
          [
           "89b949c9-377b-4fe0-843c-73e4d7456c19"
          ],
          [
           "3d8d978c-9fbe-43ee-9dce-faa95953d8d5"
          ],
          [
           "fac69729-fb50-4905-a725-1af817017c67"
          ],
          [
           "7065d4de-b38b-40d6-bead-b0f2575a0633"
          ],
          [
           "9fac2f9c-0e1e-4f09-8a95-ab2ca7facea6"
          ],
          [
           "839f36f0-4edd-4fe2-89cd-3e6e2ab18fe1"
          ],
          [
           "c2085e06-8cb4-42ac-bedf-2ff6d25a8828"
          ],
          [
           "87c4b593-7be4-4331-9f83-9b853cd179a6"
          ],
          [
           "76d53d88-eaa1-48fd-a4cf-5e6ff177a1b5"
          ],
          [
           "38cf4038-d954-42bf-a7a3-517fa94b816d"
          ],
          [
           "b2dba0df-7f64-4854-83e1-619482515a1a"
          ],
          [
           "5a5e9aaf-6766-4a27-85b8-68a22fbd5c44"
          ],
          [
           "7fef6055-b9c1-4dfa-9b14-c7873d8a7f93"
          ],
          [
           "305d7471-d69b-4099-86ae-2ac43cfd0700"
          ],
          [
           "8414dee2-e025-420f-82bc-d8a8d13d1a3c"
          ],
          [
           "9472d2ab-8878-442a-898b-1ea4ec6b59d2"
          ],
          [
           "60e41e0e-a3f6-4364-8693-23dcb60b0c39"
          ],
          [
           "aced4d7e-6fec-4b94-b7e3-72e1ecd3b679"
          ],
          [
           "2fba1d6a-deae-4fb3-aa8b-09d4052a29db"
          ],
          [
           "d37d0d2b-6a65-40af-b8bc-644a2d6e1d15"
          ],
          [
           "d8a1223b-16fe-4ad0-9861-382e0575a524"
          ],
          [
           "0af0bcad-a604-4d09-a1dc-d5d66db08a7d"
          ],
          [
           "cc1fa2f9-51d9-4f4e-b08f-5b2e91e235e4"
          ],
          [
           "0d6e475f-8da5-4f2a-9bd7-4eef475cfee3"
          ],
          [
           "b0636c79-399d-4d40-ab7a-4eefea3de1a0"
          ],
          [
           "89da336a-bec1-44e2-82b7-5cadc9685c04"
          ],
          [
           "3505c065-d9b0-4761-9738-47184627baef"
          ],
          [
           "1aed29e5-a057-4d61-a88d-0f08954e252c"
          ],
          [
           "c906b78f-0b1f-4806-96f2-c8c88ac962f3"
          ],
          [
           "d9e67d07-e509-450f-ac3a-876559390122"
          ],
          [
           "15351ec4-b386-4aff-85b0-310b2d363005"
          ],
          [
           "dd959a25-5121-4025-8a83-a50dd5de0e63"
          ],
          [
           "ef716e24-ef0d-4636-96d4-e502902dbb0d"
          ],
          [
           "71677425-3a99-4312-9b83-dde1aac2877a"
          ],
          [
           "64adf629-38cd-4969-934c-68aff9d935d1"
          ],
          [
           "d5555586-141c-4d91-a5e1-f1f7629634aa"
          ],
          [
           "124de90a-ecd9-4aba-9859-a91bebfc7785"
          ],
          [
           "604b844d-b5dd-4264-856c-9ba478f83407"
          ],
          [
           "fa990943-cdcb-4623-9dcd-322948289cd1"
          ],
          [
           "1b8b1808-c2e4-4b8b-9d0b-cd6f107934c9"
          ],
          [
           "c93c296a-a506-47e4-9d35-82d17550d0e4"
          ],
          [
           "aa9de3c0-42d2-44e5-8777-db3530310d83"
          ],
          [
           "e14c80c0-e8e1-4afd-b182-6d6f0a74f4e9"
          ],
          [
           "5a95fbe1-c5dc-4922-85cb-e7f8cea4d867"
          ],
          [
           "a80266f5-84b3-4ebb-9eca-75a6413d3327"
          ],
          [
           "cc5a384f-95b7-4cc8-af6a-5c856abea5be"
          ],
          [
           "99f218c2-d7b5-44c1-b33d-6cd4d6615a5b"
          ],
          [
           "7a6364e5-71a4-40a4-b50a-3d608e785021"
          ],
          [
           "d4c15a42-58db-40c6-bc33-418a569fda6d"
          ],
          [
           "be517a82-bf69-4a93-b81f-84b955213951"
          ],
          [
           "e142437c-de3a-4964-813d-a89575e155b3"
          ],
          [
           "4e65e33f-8894-47d2-813f-da8e8d3a850f"
          ],
          [
           "75578d52-a37d-4ef8-96cd-2fd145d1afdc"
          ],
          [
           "e7f370c9-0504-4111-b97f-a69ad23edb87"
          ],
          [
           "9ae2ee18-bbb8-4783-bf90-0bb308fab81c"
          ],
          [
           "d877448b-7a2b-4ec9-9801-b6b14d195c0d"
          ],
          [
           "89107a9d-3c78-4de1-aa05-13ce94e505ea"
          ],
          [
           "9cb93349-d6cf-4220-bb06-eb7addeb0622"
          ],
          [
           "f14ecf02-0b50-4ba4-8412-ac50cc32ca69"
          ],
          [
           "a03cec5f-ebd9-45d0-982f-be0c99a6b9ff"
          ],
          [
           "7bb9e999-c5f4-4295-8f87-51680f52c956"
          ],
          [
           "bebb06d7-0d13-4fba-bdf0-0cc9a515c17c"
          ],
          [
           "02113d27-5606-47d7-bd17-38b6e0340f22"
          ],
          [
           "7b562f9e-82e9-48b0-9b95-d972080f36c0"
          ],
          [
           "a18ab06f-51cc-4972-9856-aeba91a6b312"
          ],
          [
           "78e5027b-2cf1-4e83-88fe-e2498bf45e99"
          ],
          [
           "e8a8688b-88e6-4f6e-91e3-76021dc2c2a0"
          ],
          [
           "bcbf3e59-bfc7-412a-9f21-d9ba2fc24e91"
          ],
          [
           "6982aa3d-275a-4203-ad96-7bc0eb5decbd"
          ],
          [
           "74aca2c4-4062-495d-bb32-1096b91a7fb4"
          ],
          [
           "67c44c9c-c14a-49a3-882f-b3e0c148972a"
          ],
          [
           "8ea25fe3-d67d-47ab-afbc-11ba2cefd939"
          ],
          [
           "d55ba570-69b6-476e-8028-3237cb565b74"
          ],
          [
           "d978ef62-66a2-4055-8755-907533582e75"
          ],
          [
           "0a3aa37e-2464-484d-858a-9095c68813c5"
          ],
          [
           "110bc1f1-461a-4f20-abe5-9c3e8a4839af"
          ],
          [
           "3e295313-8223-44ff-94eb-8eb401828546"
          ],
          [
           "eefc4cf6-a56c-4882-be42-568862392f7f"
          ],
          [
           "6fc17e64-1549-46b7-b332-b55b91a04401"
          ],
          [
           "49394988-ebd4-4678-b330-960cd1104bc2"
          ],
          [
           "25d330a4-f293-4b34-8ab5-1ea4d6d559f2"
          ],
          [
           "c09ca625-bb78-421d-ae0f-a77b2a2b0ec0"
          ],
          [
           "2727bab7-b313-40ec-a284-40dc6dc5035d"
          ],
          [
           "dcfff5e3-ebe4-4ceb-81cc-42e1d1074983"
          ],
          [
           "792895dc-da33-41ab-b4d8-70060b618bb1"
          ],
          [
           "93248ec4-da6d-4d79-b3ae-f7f21c32cea9"
          ],
          [
           "da7c9ace-a1b7-4c6c-b031-45a8ecfbd57e"
          ],
          [
           "631389ba-2812-4c3e-997f-527a65f1e259"
          ],
          [
           "419a7d7e-5a76-42ec-9d4a-3556159db329"
          ],
          [
           "13eef679-8ab5-496f-80e0-85fa6626b5ab"
          ],
          [
           "b83f24ba-b35a-4f6e-8a0b-99c10dae8b6d"
          ],
          [
           "1aeca5c9-8f69-45ab-9e75-b35496c94713"
          ],
          [
           "beecaecf-7618-4ce3-9462-a52e8c8e5fea"
          ],
          [
           "99dcc2b0-ee18-40e8-9224-5f3c2976a443"
          ],
          [
           "247713ba-4d2b-4098-9395-dc8ee39aabdb"
          ],
          [
           "56b8815d-cf7f-4bd9-9bcf-1ff7ea2ce2b6"
          ],
          [
           "68b60613-ee35-4d30-b18e-5e3349460f4f"
          ],
          [
           "47f99d57-e92a-4b07-8267-875ba83296a8"
          ],
          [
           "aedec8cd-6779-48f6-8f31-1acbc51ddf47"
          ],
          [
           "eb8e1c9a-d923-4cef-9811-7f6f7484d755"
          ],
          [
           "0f2103ab-8bd5-4a4c-80ed-9718417493be"
          ],
          [
           "848459e9-0ad0-4ff7-a66d-c0471bdb7102"
          ],
          [
           "6f98b377-dc13-4fc1-8360-16f918a7c990"
          ],
          [
           "8e80b0fa-2d20-4259-9f06-ae5086e35c75"
          ],
          [
           "f916d037-3700-4f35-9950-0e7725c2ffb0"
          ],
          [
           "844c71c4-ed01-4cc2-aaa8-51a125828d77"
          ],
          [
           "d051bc00-4f18-41b0-bc42-739e31ec2df6"
          ],
          [
           "ca2fc157-beba-4e1e-b4d9-99a581baea4a"
          ],
          [
           "47782684-4d3a-4f8b-9819-91363d89f49c"
          ],
          [
           "4563217d-f45c-480b-8a13-59d9a0f11a03"
          ],
          [
           "2e792dd6-cb6a-48cf-b6e1-4e88fbaf15ef"
          ],
          [
           "1312c759-8474-47ac-a124-99dd270c1359"
          ],
          [
           "dbaf14de-ce34-4823-8064-4a8b43b64d70"
          ],
          [
           "b7e98a31-a1e5-482a-a52e-05b018adc5de"
          ],
          [
           "26a77c08-7585-45be-aca4-130051c63202"
          ],
          [
           "b818ce1a-c0d3-45d2-931e-44cf874fb536"
          ],
          [
           "3e18d75e-f3b5-41f4-8938-a66b6488b847"
          ],
          [
           "83742962-3e28-47ed-8014-1a29df947d2d"
          ],
          [
           "ca6bd40f-622b-4fb1-8240-4b7a6067b1ad"
          ],
          [
           "a3491453-c84e-4389-8895-55fcaae3ce9c"
          ],
          [
           "62dc9972-6fe9-4f55-a08c-5f71a514648a"
          ],
          [
           "e0574d06-f0be-40fd-ba58-a73f6b0e8d48"
          ],
          [
           "ed063a95-acc6-417b-8473-5d24637a9a49"
          ],
          [
           "e08dde63-97be-4739-823f-523861d984fc"
          ],
          [
           "c38990cd-47be-4f36-a1c4-8e605cc9c736"
          ],
          [
           "025bf059-5841-4349-9f64-00086c585b74"
          ],
          [
           "0a853697-1ff8-44fc-84db-38d848986957"
          ],
          [
           "35ad63b2-8161-471a-a067-62c77f5120b2"
          ],
          [
           "81c2d32a-845d-4a98-925d-cb2e1af2ce68"
          ],
          [
           "9bcd6ff7-82e0-4035-842e-4ed51ef3c2f7"
          ],
          [
           "b96e8f25-3c54-4f90-91ac-1bfdcac73874"
          ],
          [
           "5e2997f1-03b7-4c79-866e-95ca70909066"
          ],
          [
           "047ed220-5b99-4ea6-8e9a-4c91db40fb52"
          ],
          [
           "b3e88fd3-73c3-4ce1-a035-118adc67ec5a"
          ],
          [
           "4b0af827-13e3-4e62-83b4-21655b3ce8a7"
          ],
          [
           "ea97f3e6-ca72-46ea-8566-f3e541276ee5"
          ],
          [
           "3f5d91fc-ac64-443a-b8d5-06ebd7fff7c6"
          ],
          [
           "3b39d8f8-4fcd-4fd1-81a8-40e8117a53f8"
          ],
          [
           "a4dbe725-e2da-468a-ad52-bd1d76c46252"
          ],
          [
           "4289d62b-b094-4b96-9f57-589b8f9a8e81"
          ],
          [
           "0e07241d-295d-403e-bf78-9b89bb4dbd2c"
          ],
          [
           "0a9549a7-fb7c-42ae-8321-091469cbeeb1"
          ],
          [
           "dedb9959-1c25-4a8f-a5df-48f1fd3a3187"
          ],
          [
           "e81678ba-115f-4a54-bdc7-50fbf0582e22"
          ],
          [
           "dfb0bff4-f6b0-43f4-a5a2-58e2dacd8898"
          ],
          [
           "d5d97260-7279-42e2-b943-228c63c39b93"
          ],
          [
           "6878035c-9dac-4181-a78a-165cd93eef3e"
          ],
          [
           "d858686b-7909-447e-8700-3f517f9545b7"
          ],
          [
           "78dea0db-1e07-4ffd-9c88-4ddcdb47f961"
          ],
          [
           "02fa0c31-0867-4937-ade5-2d8cd7c83ac2"
          ],
          [
           "c8b74f3e-4d7b-44dd-a854-512d03152c4d"
          ],
          [
           "addf6994-4378-4c76-bdb7-afb59ba24be1"
          ],
          [
           "0a75c473-3b9d-46c9-a37b-23ec27d48e74"
          ],
          [
           "9f7447f4-3927-4fe4-96e1-569531830692"
          ],
          [
           "555da0b4-3320-4584-b68f-1b2219659c47"
          ],
          [
           "74b5e4ad-2d28-4c63-a1d8-646bebc9c651"
          ],
          [
           "e22870b9-134e-44ca-8a03-24f99cfc8436"
          ],
          [
           "4d9cabd3-6cb7-4e33-8bf9-1d1688742e92"
          ],
          [
           "4387618d-d91a-4f2d-adac-7ec8a8a67c24"
          ],
          [
           "99ca01ac-d9b9-493e-9621-0f277797ae1d"
          ],
          [
           "89a6a75b-187b-4a52-becc-06719cf6a21a"
          ],
          [
           "15bfa255-6518-4a70-b777-868e7ce832cc"
          ],
          [
           "c6305eee-eb3d-4624-a09e-9d3b39b75e96"
          ],
          [
           "d1122251-5fed-4a7b-9b9f-562eeec2386c"
          ],
          [
           "73e9d89b-c41d-436d-8f0b-840837fe25a2"
          ],
          [
           "d635e7ba-8133-4998-aeb1-6f64f4259483"
          ],
          [
           "151406c1-df93-4dd1-8188-44743568cdf5"
          ],
          [
           "8049a960-e7c4-4445-8ebc-ab876a8a8554"
          ],
          [
           "416f5c81-10e1-4834-bfbc-de70a847862d"
          ],
          [
           "dcd764b0-9d04-440d-a976-da16ce8653ad"
          ],
          [
           "15e390d2-5965-4cfd-b0f8-b8f5d48f1534"
          ],
          [
           "a57955f3-24c0-40d5-9fef-70bee29b44cb"
          ],
          [
           "6b9d72ec-19f1-4353-84f3-822525248101"
          ],
          [
           "2a154d56-5156-4d94-9462-cda25cea5936"
          ],
          [
           "a091676c-ef43-4b71-8335-4d1b927c3872"
          ],
          [
           "b53c12bf-e5f8-459a-a260-66549a6c5929"
          ],
          [
           "3863ef5a-54b4-458f-a3dc-93407fbb6926"
          ],
          [
           "7b8c9980-8e03-428e-a05f-1793d1aab1b1"
          ],
          [
           "a2d851b3-83ff-420a-b98d-0ffbb3048f40"
          ],
          [
           "fd67d9d3-a11c-4bcf-b316-43acf452c10c"
          ],
          [
           "01df1a67-3247-4131-9340-0d0ede890dca"
          ],
          [
           "8f436c73-3da7-4e24-87b1-e6eb8050ce41"
          ],
          [
           "d3a8de80-1550-4b15-8400-f3c72fdc97de"
          ],
          [
           "51e46ec3-7be9-4e10-b476-b80817a3979e"
          ],
          [
           "4df7d81f-d2d6-4e1a-b58f-bfaf69d89f75"
          ],
          [
           "5aef4156-277c-4ec3-915a-60f38bb8978f"
          ],
          [
           "f24b5472-8364-4a9e-ae5f-209b1830f928"
          ],
          [
           "8dea741c-c161-4a73-aafe-dd1c9db00582"
          ],
          [
           "01ae4556-8bb2-46d6-a20c-07b1bda0bd03"
          ],
          [
           "35eacf3a-bab1-434e-a7ff-48a7f526ab98"
          ],
          [
           "b1758466-0ac1-470e-8131-d05c294acf46"
          ]
         ],
         "hovertemplate": "Entity Type=<br>UMAP1=%{x}<br>UMAP2=%{y}<br>UMAP3=%{z}<br>hover_data_0=%{customdata[0]}<extra></extra>",
         "legendgroup": "",
         "marker": {
          "color": "#EF553B",
          "line": {
           "color": "white",
           "width": 0.5
          },
          "size": 3,
          "symbol": "circle"
         },
         "mode": "markers",
         "name": "",
         "scene": "scene",
         "showlegend": false,
         "type": "scatter3d",
         "x": [
          15.045114,
          2.150605,
          5.967386,
          2.2620113,
          5.824033,
          16.158138,
          14.92891,
          1.8122838,
          14.925601,
          5.9463882,
          -6.385058,
          14.839956,
          2.06624,
          15.127091,
          14.986582,
          6.096033,
          5.9860964,
          16.319668,
          5.6950893,
          6.0082197,
          15.079497,
          14.900949,
          14.993954,
          14.682871,
          0.50596833,
          -6.323395,
          5.955588,
          5.7939653,
          5.9266357,
          14.902941,
          5.6686935,
          14.632518,
          14.834917,
          16.132193,
          15.146407,
          -6.3763013,
          16.103226,
          16.307034,
          15.224054,
          15.085365,
          16.131746,
          14.776052,
          16.201874,
          16.398327,
          5.874266,
          5.7422566,
          5.7934327,
          5.8013,
          16.26059,
          5.496884,
          5.6304593,
          15.007075,
          14.994602,
          16.212612,
          16.253086,
          5.8072796,
          15.10585,
          15.28565,
          16.295216,
          0.45645678,
          14.977573,
          16.285635,
          5.8901615,
          15.160386,
          5.8042936,
          16.212065,
          5.886021,
          5.646571,
          16.158918,
          16.395617,
          5.95379,
          14.941166,
          16.227222,
          5.818561,
          15.211797,
          14.838282,
          16.1819,
          5.858692,
          0.38934544,
          5.9448457,
          5.7783546,
          5.756765,
          15.088158,
          5.7081347,
          5.686994,
          15.1310835,
          15.270664,
          5.600757,
          6.0882845,
          5.8426547,
          5.654185,
          5.8940988,
          14.911292,
          5.8627234,
          5.97516,
          16.106443,
          5.8394775,
          15.131844,
          5.4805436,
          14.854761,
          5.950976,
          16.286997,
          5.901197,
          0.5224047,
          16.153982,
          16.396683,
          5.547686,
          5.486074,
          16.042702,
          5.8866324,
          5.9603186,
          5.995116,
          5.5765977,
          5.8023667,
          5.576321,
          15.008572,
          5.7413683,
          16.31975,
          14.772292,
          5.838459,
          14.831247,
          5.7020006,
          5.563316,
          5.6363387,
          5.7099795,
          15.004366,
          15.017756,
          5.67087,
          15.188664,
          2.1101878,
          14.864443,
          5.6252847,
          15.12723,
          14.990504,
          5.752955,
          5.339568,
          16.39068,
          15.036877,
          15.015286,
          16.192188,
          15.294892,
          5.748362,
          5.6006827,
          5.479993,
          5.5351005,
          15.1479225,
          16.265062,
          16.228273,
          15.100118,
          14.987319,
          16.480974,
          1.8422859,
          2.1835632,
          16.294207,
          5.5524096,
          2.2796416,
          16.380014,
          5.366452,
          5.523389,
          6.201164,
          15.10176,
          16.144878,
          15.052358,
          16.503834,
          5.3979216,
          6.135815,
          5.72548,
          5.368001,
          16.48598,
          16.317928,
          15.2967415,
          14.720164,
          14.724836,
          14.870728,
          6.073471,
          15.059886,
          15.418378,
          5.822752,
          16.405697,
          5.7198553,
          5.1425323,
          16.229208,
          5.0803413,
          15.397658,
          15.943359,
          14.745283,
          14.515044,
          5.3956647,
          5.6713395,
          6.008048,
          5.2157044,
          4.9320984,
          4.932586,
          14.683813,
          14.563715,
          2.4666471,
          4.9593186,
          15.122865,
          5.872228,
          15.972977,
          6.4948425,
          15.055905,
          4.8936276,
          16.371037,
          5.8982654,
          5.8810453,
          5.810925,
          5.4969335,
          5.4760094,
          6.0664835,
          5.3784604,
          16.369217,
          5.6308823,
          14.70304,
          5.7425766,
          5.2033606,
          5.8935966,
          16.307062,
          16.318867,
          5.71485,
          5.169092,
          2.4922473,
          5.311489,
          5.9372935,
          5.0542207,
          6.1262345,
          5.965059,
          4.979301,
          5.4953895,
          16.4737,
          5.575998,
          16.47511,
          16.32092,
          16.118052,
          16.53147,
          15.202206,
          14.413792,
          5.7921968,
          5.0237017,
          14.5260725,
          5.077718,
          5.001361,
          5.1949053,
          14.963817,
          15.234271,
          5.139067,
          0.5498721,
          5.4878016,
          5.2411194,
          2.4634745,
          2.1268053,
          5.4298477,
          14.810308,
          14.37581,
          2.158346,
          2.4610674,
          2.3786225,
          5.285213,
          2.127935,
          14.334111,
          14.492642,
          14.782724,
          5.2076,
          5.014378,
          0.5558825,
          5.4290466,
          1.8558478,
          5.3416085,
          5.3072257,
          14.907393,
          5.527987,
          5.7128134,
          5.1386538,
          5.7451153,
          14.28176,
          5.4435296,
          5.4570975,
          15.033418,
          16.417751,
          14.453389,
          0.4390118,
          0.45099363,
          2.4895318,
          0.49315932,
          5.376664,
          0.5754079,
          2.253747,
          16.47665,
          5.8382983,
          0.5523621,
          16.480701,
          0.5001437,
          0.44877142,
          5.3660808,
          0.4733618,
          5.9752336,
          14.947902,
          14.423557,
          14.57002,
          5.686844,
          5.719298,
          5.6605854,
          6.04264,
          5.493719,
          14.3637295,
          5.825128,
          6.012554,
          5.6455812,
          2.1393323,
          14.463529,
          2.0982168,
          1.9033055,
          5.988284,
          2.1162863,
          1.7875639,
          14.416558,
          1.7679197,
          5.6288056,
          1.8354415,
          14.635949,
          1.9328978,
          14.353976,
          5.8853664,
          14.795369,
          1.7816263,
          14.913138,
          14.451804,
          14.568537,
          14.715258,
          14.691865,
          14.454367,
          14.327319,
          5.0523353,
          0.41049036,
          0.5203827,
          1.9638371,
          14.675626,
          2.1816337,
          14.536828,
          14.892611,
          14.342078,
          14.937184,
          6.1111026,
          1.6529739,
          1.8712611,
          1.4601723,
          14.302858,
          14.816136,
          15.000065,
          6.410483,
          14.676773,
          14.703199,
          1.6944268,
          6.429373,
          1.7680086,
          5.8997827,
          1.7453336,
          6.4154363,
          6.4792104,
          2.6001167,
          6.4552627,
          6.4218597,
          2.000837,
          2.4303784,
          14.921323,
          0.53264385,
          1.7014707,
          2.1946878,
          15.031427,
          0.6631935,
          15.299622,
          2.5362687,
          1.7239091,
          2.3969107,
          2.225163,
          15.051833
         ],
         "y": [
          8.20976,
          17.834091,
          -0.29056466,
          17.47522,
          0.08069476,
          7.5701284,
          8.559308,
          17.474457,
          8.270866,
          -0.07702065,
          -0.35790345,
          8.235069,
          17.52225,
          8.133516,
          8.29472,
          -0.104261614,
          -0.15666993,
          7.777327,
          0.051547326,
          -0.035324696,
          8.53968,
          8.203267,
          8.330381,
          8.283286,
          -7.495977,
          -0.29650235,
          -0.281357,
          -0.031475652,
          -0.3868733,
          8.31826,
          -0.13994576,
          8.175289,
          8.167126,
          7.4490433,
          8.491007,
          -0.34914127,
          7.6921053,
          7.483178,
          8.231813,
          8.21012,
          7.751298,
          8.44515,
          7.654156,
          7.5206203,
          -0.07647585,
          -0.08931425,
          -0.29197577,
          -0.21835218,
          7.654073,
          -0.28076443,
          -0.05292237,
          8.398479,
          8.244321,
          7.7460213,
          7.609537,
          -0.3155039,
          8.43319,
          8.146737,
          7.668745,
          -7.5453477,
          8.490625,
          7.873954,
          -0.19067957,
          8.286443,
          -0.35173675,
          7.611232,
          -0.061920453,
          0.05602575,
          7.7754354,
          7.727513,
          0.25902003,
          8.394182,
          7.711276,
          -0.13264942,
          7.9936113,
          8.314329,
          7.757864,
          0.33136535,
          -7.6121187,
          0.032487143,
          -0.34446838,
          -0.2648778,
          8.25577,
          -0.27086225,
          -0.19773537,
          8.458534,
          8.264588,
          -0.1600197,
          -0.10900147,
          -0.22683117,
          -0.094154656,
          -0.071409,
          8.066333,
          0.05928602,
          -0.0044226255,
          7.579081,
          -0.2723714,
          8.247704,
          -0.08331335,
          8.366132,
          -0.01062546,
          7.5529094,
          0.03529066,
          -7.4795923,
          7.60815,
          7.7807503,
          -0.13865867,
          -0.09404688,
          7.6426907,
          0.13652529,
          0.12120194,
          0.21992476,
          -0.07111339,
          0.21703966,
          -0.23044981,
          8.315949,
          -0.076328784,
          7.6019607,
          8.492742,
          0.20685567,
          8.285225,
          0.3371796,
          0.13566938,
          0.15890333,
          0.0716877,
          8.286527,
          8.308509,
          0.46857902,
          8.21292,
          17.395319,
          8.1371565,
          -0.020373523,
          8.202495,
          8.266632,
          0.25347376,
          0.10290033,
          7.571446,
          7.9574237,
          8.072059,
          7.5838814,
          7.8778434,
          0.2892839,
          0.42640805,
          0.19277298,
          0.2841802,
          7.87008,
          7.533337,
          7.5642667,
          7.7921414,
          7.787429,
          7.729989,
          17.398428,
          17.425453,
          7.507433,
          0.42065382,
          17.388767,
          7.6366415,
          0.30847105,
          0.45189384,
          0.14574206,
          7.803187,
          7.4876046,
          7.9562736,
          7.6649995,
          0.25432244,
          -0.29322937,
          0.39673004,
          -0.1035935,
          7.667937,
          7.726903,
          7.891622,
          7.8491435,
          8.056471,
          7.9136004,
          -0.20327362,
          7.987948,
          8.319971,
          0.47353423,
          7.446824,
          0.9352413,
          -0.43985105,
          7.4998713,
          0.05464489,
          8.143073,
          7.6242766,
          8.051771,
          8.296746,
          0.9194465,
          -0.05342257,
          0.71384233,
          -0.37419686,
          0.35680276,
          0.3552931,
          8.559865,
          8.087628,
          17.594456,
          0.20662476,
          7.7574267,
          0.75523263,
          7.621259,
          0.28250277,
          7.709576,
          -0.12239571,
          7.5481215,
          0.7354483,
          0.73989606,
          -0.70413053,
          -0.64912945,
          0.88869876,
          0.49295837,
          -0.49133307,
          7.425561,
          0.71462566,
          7.9439936,
          0.74686956,
          0.5860904,
          -0.73361874,
          7.944104,
          7.918584,
          0.70299935,
          -0.41306064,
          17.655622,
          0.7642044,
          0.6616532,
          -0.11039975,
          0.56413794,
          -0.15772796,
          0.03680204,
          0.4719177,
          7.612275,
          -0.719769,
          7.8146625,
          7.9431157,
          7.837217,
          7.808357,
          7.38751,
          7.6932178,
          -0.62013763,
          0.47216034,
          7.964419,
          0.266119,
          0.40170798,
          0.39040715,
          7.3454466,
          7.584094,
          -0.21603677,
          -7.4521112,
          -0.28842065,
          -0.3864954,
          17.702307,
          17.799929,
          0.13962293,
          7.6543927,
          7.9143047,
          17.22646,
          17.452856,
          17.672316,
          -0.54681146,
          17.261784,
          7.6921954,
          7.6272874,
          7.4285665,
          0.5159351,
          -0.0028906115,
          -7.4461427,
          0.33226466,
          17.823309,
          0.25735667,
          0.24165499,
          7.5088573,
          0.56073415,
          0.31165862,
          -0.040785585,
          0.5442028,
          8.067734,
          0.4788977,
          -0.017692244,
          7.6150155,
          7.8846903,
          7.672964,
          -7.5628715,
          -7.5508957,
          17.895283,
          -7.5084977,
          -0.22780195,
          -7.4264774,
          18.018885,
          7.4762034,
          0.100594774,
          -7.449662,
          7.7912636,
          -7.5032997,
          -7.5531926,
          0.22645265,
          -7.528718,
          0.29705754,
          7.520518,
          7.6927924,
          7.7171426,
          0.5643476,
          0.14252734,
          0.3664892,
          0.4285449,
          -0.21084903,
          8.119399,
          0.39086732,
          0.050924126,
          -0.33305195,
          17.8523,
          7.727788,
          18.149998,
          17.653484,
          0.34876478,
          17.686882,
          17.505516,
          8.120942,
          17.879278,
          -0.538725,
          17.955433,
          7.602578,
          18.006748,
          8.163401,
          -0.4064205,
          8.180927,
          17.83566,
          7.885684,
          8.520043,
          7.901867,
          8.335137,
          8.055887,
          8.259571,
          8.197947,
          -0.07093619,
          -7.591584,
          -7.4825754,
          17.5548,
          8.236468,
          18.065907,
          8.591819,
          8.237509,
          8.410284,
          7.885659,
          0.28148264,
          17.609243,
          17.213963,
          17.44854,
          8.479773,
          8.5733185,
          8.459735,
          -0.06666699,
          8.649538,
          8.28772,
          17.236567,
          -0.08852133,
          17.269371,
          -0.62405473,
          17.557991,
          0.1730062,
          0.12922323,
          17.213287,
          -0.1776189,
          0.41003296,
          17.266476,
          17.371254,
          8.488794,
          -7.4695497,
          17.939224,
          17.099503,
          8.778864,
          -7.338948,
          8.434504,
          17.346827,
          17.868896,
          17.637167,
          18.104956,
          8.686291
         ],
         "z": [
          -5.9360375,
          3.0526032,
          16.154135,
          3.203331,
          15.99015,
          -4.920797,
          -5.905972,
          3.239498,
          -6.1311817,
          15.871216,
          0.2864328,
          -5.920575,
          3.2731616,
          -5.918292,
          -5.941604,
          16.061579,
          15.898102,
          -5.028701,
          15.779095,
          16.181046,
          -5.8970447,
          -5.7660384,
          -5.9700046,
          -5.861673,
          0.890258,
          0.34823948,
          16.170372,
          15.79643,
          16.094948,
          -5.745273,
          16.090267,
          -5.8969746,
          -5.9664016,
          -5.0114193,
          -6.1445603,
          0.2951948,
          -4.9926753,
          -5.1012154,
          -5.905961,
          -5.7845287,
          -4.878543,
          -6.167328,
          -5.1617184,
          -5.092289,
          16.285324,
          15.834834,
          16.438162,
          16.328735,
          -4.896892,
          16.259512,
          16.218792,
          -6.0338774,
          -5.9824624,
          -5.124225,
          -4.961113,
          16.36614,
          -6.0845256,
          -6.1094937,
          -5.0928106,
          0.9398362,
          -5.866831,
          -5.0087113,
          16.226862,
          -6.36764,
          16.219633,
          -5.2282243,
          16.119217,
          15.957414,
          -5.139951,
          -5.07469,
          16.0899,
          -5.693723,
          -5.1240926,
          16.301193,
          -6.370439,
          -6.3076425,
          -4.807142,
          16.34332,
          1.0070107,
          16.252728,
          16.3753,
          16.420475,
          -6.414143,
          16.244629,
          15.939525,
          -6.257774,
          -6.220681,
          16.183374,
          16.289312,
          16.48337,
          16.467094,
          16.40513,
          -5.988831,
          16.376114,
          16.44741,
          -5.120893,
          16.71413,
          -6.1019063,
          16.187551,
          -6.284725,
          16.423134,
          -5.0265694,
          16.661882,
          0.87378746,
          -5.1818647,
          -5.019169,
          16.465261,
          16.1028,
          -5.004206,
          16.50764,
          16.396786,
          16.48461,
          16.638186,
          16.642784,
          16.560865,
          -6.222827,
          16.68685,
          -5.127416,
          -6.390618,
          16.46102,
          -6.151759,
          16.507792,
          16.658628,
          16.408087,
          16.47192,
          -6.4660597,
          -6.4324775,
          16.461542,
          -6.079675,
          3.3648822,
          -6.2189765,
          16.577354,
          -6.412612,
          -6.5051627,
          16.62846,
          16.380077,
          -5.200611,
          -6.4400277,
          -6.421909,
          -4.9504585,
          -6.326278,
          16.629866,
          16.486162,
          16.390182,
          16.301033,
          -6.0957956,
          -4.761794,
          -5.0540853,
          -6.3666425,
          -6.121276,
          -5.2705317,
          2.9147708,
          3.1678143,
          -4.8532934,
          16.560892,
          3.010731,
          -4.7274103,
          16.293743,
          16.368008,
          16.315775,
          -6.1893024,
          -4.885806,
          -6.204551,
          -4.8856306,
          15.9765005,
          16.334856,
          15.903251,
          16.509731,
          -4.9166617,
          -4.964006,
          -6.0734415,
          -6.217549,
          -6.1738586,
          -6.419393,
          16.515007,
          -5.7073197,
          -6.0524597,
          16.016073,
          -4.9809833,
          16.360022,
          16.381065,
          -4.6677547,
          16.655947,
          -6.20633,
          -5.167157,
          -6.3687015,
          -6.0487523,
          16.237825,
          15.037163,
          16.524012,
          16.62533,
          16.532324,
          16.400759,
          -6.340041,
          -6.41919,
          3.0757542,
          16.423649,
          -5.9501944,
          16.463623,
          -4.8615766,
          15.857698,
          -6.0801992,
          16.26059,
          -5.043632,
          16.598915,
          16.098783,
          16.589159,
          16.01526,
          16.130064,
          15.353836,
          16.10659,
          -4.660746,
          16.39624,
          -6.759461,
          16.102701,
          16.591059,
          16.160658,
          -5.127559,
          -5.271656,
          16.230324,
          16.149046,
          3.1284602,
          15.999436,
          16.22371,
          16.371767,
          16.355968,
          15.413507,
          16.179539,
          16.094122,
          -5.230688,
          16.105062,
          -5.371652,
          -5.151041,
          -4.908427,
          -5.1353455,
          -6.016695,
          -6.2853994,
          15.559808,
          15.967857,
          -6.570636,
          15.810406,
          15.783837,
          16.13106,
          -6.0643992,
          -5.7817626,
          15.758666,
          0.84632105,
          15.198147,
          15.331535,
          3.2826028,
          3.126014,
          15.401307,
          -6.578826,
          -6.562458,
          3.0500648,
          2.929705,
          2.930319,
          15.630725,
          3.131489,
          -5.812107,
          -6.360221,
          -6.0609574,
          15.985272,
          15.664432,
          0.840299,
          15.419577,
          3.0547554,
          15.267232,
          15.766811,
          -5.848837,
          15.829985,
          15.39453,
          15.67602,
          15.757601,
          -6.302077,
          15.932868,
          15.689922,
          -5.7564816,
          -4.978669,
          -5.866244,
          0.95722723,
          0.94525105,
          3.0594351,
          0.90310174,
          15.751414,
          0.82080615,
          3.1019104,
          -4.9023027,
          15.314053,
          0.8437808,
          -4.948003,
          0.8957517,
          0.94739544,
          15.413468,
          0.9227692,
          15.534064,
          -5.8267636,
          -5.9932356,
          -5.929586,
          15.567403,
          15.194922,
          15.620485,
          15.663859,
          15.261831,
          -6.2525024,
          15.492306,
          15.299316,
          15.433425,
          3.621547,
          -5.6533093,
          3.0520582,
          3.4512734,
          15.611306,
          3.5798213,
          3.4938748,
          -6.1475945,
          2.5437803,
          15.591129,
          3.3942707,
          -5.3663254,
          3.1431677,
          -5.7454877,
          15.6604595,
          -5.3167286,
          3.2651632,
          -5.5867276,
          -5.745456,
          -5.6108413,
          -5.4543467,
          -5.4012156,
          -6.3905916,
          -5.6228824,
          15.83683,
          0.9856611,
          0.87554437,
          3.5704973,
          -5.4064693,
          2.998196,
          -5.928334,
          -5.5382853,
          -6.0119176,
          -5.389913,
          15.716796,
          3.3720818,
          3.322985,
          3.2747743,
          -6.288372,
          -5.4217563,
          -5.36187,
          15.80691,
          -6.0866904,
          -5.4761295,
          3.3097627,
          16.288141,
          3.0835667,
          16.306751,
          3.303726,
          16.224485,
          16.363556,
          2.9527543,
          15.933982,
          16.106613,
          2.8149087,
          2.8269448,
          -5.6127567,
          0.8634852,
          2.60032,
          2.8045273,
          -5.6364903,
          0.73294055,
          -5.665517,
          2.815637,
          2.552888,
          2.7191463,
          2.9017277,
          -5.915715
         ]
        },
        {
         "customdata": [
          [
           "ef6f9412-fbfb-44c6-87a1-6caad9080ef8"
          ],
          [
           "d595bc53-0eeb-4343-b28d-50a345ea6a20"
          ],
          [
           "0992fb4a-573c-44f8-9706-a3df7e5537e1"
          ],
          [
           "e23de37d-2255-4cf9-8837-552bd7c5726f"
          ],
          [
           "8c9a7ff0-6182-419a-a72b-55d928928bf1"
          ],
          [
           "5f5339ed-7ff5-47fb-b631-e272b0452718"
          ],
          [
           "a96a349d-d417-49e7-9ac7-59a7f363aebc"
          ],
          [
           "810500f5-48ee-45cf-8f3f-a2e607ae7127"
          ],
          [
           "f434ad14-6035-4aea-8d40-b945d5a859d4"
          ],
          [
           "38e6b35a-822d-40ff-af19-fecafb82e68e"
          ],
          [
           "0c3cdd26-b269-48ea-9057-572a317fa89d"
          ],
          [
           "bf86757b-a995-437c-a611-9e88858cb1c0"
          ],
          [
           "ee87ec4c-1862-40ae-840a-14b38c677259"
          ],
          [
           "a0c64c48-d24f-4a39-bb35-5811b67467de"
          ],
          [
           "ed561ef3-697b-4d54-abcf-6e7e7dfea706"
          ],
          [
           "d74ad6d1-da71-49b3-b373-384f6334cbb6"
          ],
          [
           "7aad50d3-5f50-4936-b184-6cacac444410"
          ],
          [
           "97bb7a3e-19d7-4284-8fd5-829b46e5dc35"
          ],
          [
           "ba0018f9-cf5b-4c93-bba1-1fb5b30388e4"
          ],
          [
           "52fe6068-2acb-441c-b3b0-80b34a983eac"
          ],
          [
           "cf43b8b9-c8fd-445e-9c2b-c1650500da15"
          ],
          [
           "f8a9aa7e-f2d2-4f1c-a4f3-1ed1c71370dd"
          ],
          [
           "5d1e4da6-d493-469b-b8af-af5fa582f2f2"
          ],
          [
           "4972cf07-614d-4bae-8b69-68022b228776"
          ],
          [
           "be3bd747-fcf5-4a29-a83d-c12389c58cdc"
          ],
          [
           "65837c43-06ce-4d9c-8f76-a26457f9805c"
          ],
          [
           "96620752-1e4b-4207-a2ce-7ab402acaee9"
          ],
          [
           "671be8bb-9dfd-4c88-807e-6fff5cd94430"
          ],
          [
           "4b165525-c166-4ebe-965b-efcb8da5e0ae"
          ],
          [
           "5fd0b825-70d2-4354-af1b-a76fd10b495c"
          ],
          [
           "a25e80d1-957c-4db3-bdc8-3e0ee9608fd5"
          ],
          [
           "58d46df5-0891-482e-97c7-dc8893c12dc6"
          ],
          [
           "d56ce398-c3ad-4e3d-830a-75d5c84c0a91"
          ],
          [
           "9a3c5860-118d-476c-b348-98eeb27d6fc9"
          ],
          [
           "7ff48423-9ccf-4a32-8cee-b876d1b3b68b"
          ],
          [
           "d52ecf30-bc41-479f-ae0f-1a14b8bdda69"
          ],
          [
           "bf78e28c-581f-442a-bd08-51bb2d3a81b4"
          ],
          [
           "b18f9d2a-7749-4445-a985-81cc94873f8a"
          ],
          [
           "6265e046-322c-4a7d-b50f-a476a2041856"
          ],
          [
           "2e90655a-58ec-4ede-b9d9-bde78c8922c4"
          ],
          [
           "e790928b-4573-4fe3-94d7-13f109edfb48"
          ],
          [
           "b0b16f50-bc0f-4703-90d0-a6dc340df4d7"
          ],
          [
           "75e08af7-befa-4632-bf96-2b47e3d92cb5"
          ],
          [
           "d2067519-fc62-44ee-ac0e-26d2b05bb3aa"
          ],
          [
           "922e95fb-e6a4-4f58-8edb-7806c3391430"
          ],
          [
           "01cb3a22-606f-45d5-877d-07ffb3c9db26"
          ],
          [
           "af737a35-deef-46d1-b634-c54ea9ab6762"
          ],
          [
           "e67c0887-f16e-4fd5-aff0-8cb5fe83c319"
          ],
          [
           "cd617a08-7286-485c-9ba7-e08d08c88916"
          ],
          [
           "715a53fe-09fc-487f-bd7c-8cd54b14588c"
          ],
          [
           "9820eaa8-fd9b-4e44-bdf8-4227312c9ab3"
          ],
          [
           "52f0a745-1b2a-4ec3-aaff-b30acd79e586"
          ],
          [
           "c51cd9bb-8a93-497b-a0ee-9b62f33a4756"
          ],
          [
           "25e65e66-d6b3-4c2a-baf1-150eaf1185f0"
          ],
          [
           "4b7eb9e0-f310-42b4-a800-ba79682d36e5"
          ],
          [
           "abe46a71-c9aa-4d19-b29a-b3f4d0711272"
          ],
          [
           "876d46dc-6cca-4391-b6c8-991a08870dd3"
          ],
          [
           "0ff89c72-f368-4a0c-8340-92b6918fa406"
          ],
          [
           "c6b4323a-cbde-456d-9866-aa74c5ec4c63"
          ],
          [
           "125045c6-bc32-4865-bf4f-43a77d10c8e9"
          ],
          [
           "a196b71b-608f-469e-8ade-6a02578ce77f"
          ],
          [
           "e1c962a3-3529-483d-8cf8-935e3d4fa76c"
          ],
          [
           "bdb03a73-da0e-4180-ac67-8a4e01fc1e52"
          ],
          [
           "7736c1dd-9635-47b1-b93f-2e4ad8545902"
          ],
          [
           "4aca5ca9-7ae7-41de-a7f7-146a45bdb2df"
          ],
          [
           "e3eb48db-84be-44a4-b30f-247b1afe98f0"
          ],
          [
           "f0234421-a828-49cf-85e0-190d306989ef"
          ],
          [
           "0bbf57ca-75c1-44be-b6fa-2996dfc9131b"
          ],
          [
           "fcbcd9df-0c1b-40d7-a314-b4ab4cdb9935"
          ],
          [
           "a52015a6-8ed7-499b-ad84-2d77896ef5b6"
          ],
          [
           "a814f7d9-6698-4a9e-9595-3e258156f14b"
          ],
          [
           "30f20892-ca46-4c38-bdb1-3f3e7b5a094d"
          ],
          [
           "d2990966-f101-4c86-88f3-cfd6712c5094"
          ],
          [
           "e423ba83-aa46-4eba-a4d7-8b5c1dc156f4"
          ],
          [
           "73760c93-704d-4535-afe4-0da12c5e2f4e"
          ],
          [
           "268168ee-0ec0-436e-ac03-d3aeb7e38336"
          ],
          [
           "b24e6abe-8d69-46af-976b-eb1bb148e5a7"
          ],
          [
           "0e12f3a1-a606-4299-864c-b3951c4ea7ae"
          ],
          [
           "f45fb47b-61af-4dbd-8ca7-5f2b469a75ef"
          ],
          [
           "41bc0ac5-3cb3-4a5c-bd06-5b082b8633e4"
          ],
          [
           "e0086f91-f2c8-4a5e-908d-743eba8c7e1f"
          ],
          [
           "052253cb-a0ad-4d45-a2fb-20ba5f2e72c1"
          ],
          [
           "9e29e1cb-8664-452f-aa92-fc6a785cee69"
          ],
          [
           "634ab18b-b7b6-4fe5-b661-fba219870752"
          ],
          [
           "8e55d2c1-f312-420d-9261-9f2e8db68d5c"
          ],
          [
           "654d120c-0420-4939-9006-0c151fa0a95a"
          ],
          [
           "06f8e673-d7e0-41a2-b2f0-dc448adce5b3"
          ],
          [
           "4f55e289-800f-4012-b518-331f1632eaac"
          ],
          [
           "b7759f7b-ed40-4b8e-b8a0-68039b9d413d"
          ],
          [
           "fa14d710-5856-41c6-a7c6-9f39fe80a5d9"
          ],
          [
           "4ca38da1-13ba-4cf3-870a-c154b6b2217b"
          ],
          [
           "13f6ae8d-67bb-4dba-a77d-e0864b53d063"
          ],
          [
           "dee79e90-d3ad-4c8e-961c-8a3c1d0cc7cb"
          ],
          [
           "22e19c59-7268-4b6a-9fe7-9e8a4cb1928b"
          ],
          [
           "6aadb57a-d27a-44cc-99b4-c82d2b2e16f2"
          ],
          [
           "f15534b6-d9e5-4316-813d-b55233dcf74b"
          ],
          [
           "a111f636-dc48-475f-b39b-1bae7177cf62"
          ],
          [
           "4e7cf58c-0ce7-4e14-9084-cf6a8db73a4c"
          ],
          [
           "c902eede-19b4-430e-a3b2-1a95048f6995"
          ],
          [
           "f1b76c1c-95e6-46d1-a7ea-004dda840933"
          ],
          [
           "d19b68e1-49c5-4a95-aeec-85be02009a92"
          ],
          [
           "3c662dde-e14b-4a32-b0c8-8cca4baaf626"
          ],
          [
           "5920d79c-17bf-4325-91d4-07e10ce43b20"
          ],
          [
           "d43233fe-c2d3-4a81-b698-810cfb8f934e"
          ],
          [
           "c031d16a-8686-44c0-bd06-7e00859f3846"
          ],
          [
           "c226b236-5567-49fe-98dc-26c65d50397a"
          ],
          [
           "26303b54-c4b1-40a7-a474-deab4915d53d"
          ],
          [
           "1fc09b73-6f51-419f-8a2b-7aa4ad8b5d31"
          ],
          [
           "f8cbd360-f440-45a7-8cb6-03135d1cde51"
          ],
          [
           "00c0b39c-db79-45f3-bfe0-97469a71d085"
          ],
          [
           "25451d5f-ba9d-4a60-aa44-2bc2dfac63a4"
          ],
          [
           "f2bc5b0e-4af2-4881-a748-4771e6f49f8b"
          ],
          [
           "28a975c6-c900-4199-9487-34c4fcf5d0bd"
          ],
          [
           "e1394769-8668-492b-ab15-2ed03d4c41d1"
          ],
          [
           "b3027e23-6f32-4afc-8917-6a5fa7134ed2"
          ],
          [
           "d6451244-6f8c-403b-8c47-026d552decc9"
          ],
          [
           "078eeadd-e677-4ff5-9300-74996699482d"
          ],
          [
           "fdbe8fcf-f1d2-4749-8afb-910dc13ba14a"
          ],
          [
           "78f5bce7-0a31-4acb-9cb7-e1f7d0c7e64b"
          ],
          [
           "01d5b33b-f714-4088-bb36-419ee4738ed1"
          ]
         ],
         "hovertemplate": "Entity Type=document<br>UMAP1=%{x}<br>UMAP2=%{y}<br>UMAP3=%{z}<br>hover_data_0=%{customdata[0]}<extra></extra>",
         "legendgroup": "document",
         "marker": {
          "color": "#00cc96",
          "line": {
           "color": "white",
           "width": 0.5
          },
          "size": 3,
          "symbol": "circle"
         },
         "mode": "markers",
         "name": "document",
         "scene": "scene",
         "showlegend": true,
         "type": "scatter3d",
         "x": [
          2.147933,
          2.1309144,
          2.067619,
          6.0470386,
          5.7833433,
          5.59021,
          5.697205,
          2.3426962,
          5.618916,
          -6.4188046,
          1.850793,
          -6.3605194,
          6.019073,
          5.7303495,
          15.032413,
          14.913076,
          5.516446,
          6.0711155,
          5.8133144,
          1.9559385,
          14.821941,
          5.6887827,
          2.156447,
          5.634584,
          5.746855,
          6.1122084,
          15.133716,
          6.107272,
          5.658774,
          6.068741,
          15.035187,
          15.095333,
          6.0733085,
          5.9989953,
          15.265116,
          6.0638633,
          5.9767504,
          5.616396,
          5.5837517,
          6.022494,
          14.692055,
          15.394708,
          15.297745,
          14.889696,
          5.788228,
          5.6808996,
          15.224801,
          5.780177,
          5.533926,
          1.836244,
          15.171541,
          5.42829,
          1.9296138,
          14.822254,
          14.88952,
          2.2024767,
          14.866589,
          5.2450204,
          14.956793,
          6.2039523,
          2.1536136,
          2.2166717,
          2.29229,
          2.3533204,
          5.7922945,
          2.3279831,
          16.264524,
          5.703292,
          15.996845,
          6.295653,
          16.265503,
          5.3525643,
          15.109265,
          5.2964005,
          5.124417,
          2.282175,
          5.4480906,
          14.76026,
          2.1163576,
          2.3586776,
          14.583712,
          2.3640242,
          4.975572,
          2.20241,
          14.243421,
          14.606764,
          14.176305,
          5.298882,
          2.325846,
          14.778048,
          5.2654176,
          14.529317,
          5.1778107,
          2.5548828,
          2.267973,
          5.721284,
          1.9087145,
          1.8951905,
          2.2249439,
          2.17461,
          5.612285,
          6.0127683,
          5.8125396,
          2.5951064,
          2.440878,
          14.937968,
          14.43595,
          6.0271335,
          14.344654,
          5.5018067,
          1.9347764,
          6.251137,
          1.8498273,
          6.435884,
          14.900333,
          1.7779952,
          1.8310065,
          14.81232,
          15.337872,
          15.374552
         ],
         "y": [
          17.676325,
          17.7556,
          17.601377,
          0.14439899,
          -0.11327294,
          -0.155987,
          0.17615159,
          17.523954,
          0.123848945,
          -0.39160705,
          17.788855,
          -0.33335078,
          -0.005092549,
          -0.17648786,
          8.202441,
          8.429632,
          -0.33447233,
          -0.19366059,
          -0.043762453,
          17.642342,
          8.53975,
          -0.4393854,
          17.532417,
          -0.34171423,
          -0.32012844,
          -0.18480466,
          8.331356,
          0.051785886,
          -0.27807617,
          0.16105466,
          8.502374,
          7.979782,
          0.06639249,
          -0.03188181,
          8.094323,
          0.12964034,
          -0.06302392,
          -0.33408326,
          -0.050205898,
          0.26413742,
          8.36091,
          8.287081,
          7.9221487,
          8.001687,
          -0.20404236,
          -0.09455557,
          8.214368,
          0.17988269,
          0.061161526,
          17.551155,
          8.001281,
          0.10968327,
          17.51031,
          7.9743485,
          8.073418,
          17.457169,
          7.7816434,
          0.22003616,
          7.997792,
          0.14882672,
          17.398315,
          17.63648,
          17.674742,
          17.760262,
          -0.010983935,
          17.315018,
          7.6032147,
          0.94448984,
          7.329941,
          -0.05795446,
          7.3809705,
          0.4735424,
          7.468049,
          0.683927,
          0.14616528,
          17.474384,
          0.785679,
          7.412525,
          17.807238,
          17.42104,
          8.191673,
          17.96992,
          0.023457829,
          17.414238,
          8.233183,
          7.438747,
          8.377034,
          0.18708582,
          17.970531,
          7.7412086,
          0.110924006,
          7.580361,
          -0.27425602,
          17.571844,
          17.722952,
          0.08582589,
          17.973503,
          18.071087,
          17.806204,
          18.005482,
          -0.14269699,
          -0.065180376,
          -0.07831196,
          17.697351,
          17.710663,
          7.645418,
          7.8678164,
          -0.28484315,
          8.528805,
          -0.26685134,
          17.73084,
          -0.5564847,
          17.338032,
          0.41441855,
          8.351407,
          17.937199,
          17.806324,
          8.66327,
          8.22554,
          8.364243
         ],
         "z": [
          3.5227714,
          3.2800345,
          3.4402854,
          15.910468,
          15.881127,
          16.095396,
          15.954842,
          3.1452243,
          15.857059,
          0.2526972,
          2.6698365,
          0.31098276,
          16.105074,
          15.77305,
          -5.7929363,
          -6.0141835,
          16.07674,
          16.073935,
          15.738745,
          3.4339142,
          -5.910692,
          16.114944,
          3.0756774,
          15.952295,
          15.9243355,
          15.814376,
          -5.824326,
          16.048096,
          15.904952,
          16.058184,
          -6.307358,
          -5.788189,
          16.261038,
          16.077131,
          -5.9693117,
          16.063766,
          16.026894,
          16.223534,
          16.274464,
          16.091936,
          -6.271128,
          -6.0770807,
          -6.0175037,
          -5.949695,
          16.545597,
          16.546513,
          -6.0984073,
          16.430687,
          16.32937,
          3.0147874,
          -6.3641067,
          16.484846,
          3.0993385,
          -6.3399034,
          -6.2105656,
          3.2159848,
          -6.315017,
          16.185658,
          -6.420159,
          16.454058,
          2.987499,
          2.9241602,
          3.198842,
          2.951025,
          16.68547,
          3.0372953,
          -5.366404,
          16.296024,
          -5.167401,
          15.39181,
          -5.271646,
          15.679532,
          -6.066915,
          16.114744,
          16.060713,
          3.1160877,
          15.680001,
          -6.297984,
          2.9455829,
          3.2781262,
          -6.724669,
          3.1639555,
          16.10133,
          3.5013363,
          -6.3119287,
          -5.8851905,
          -6.199012,
          15.474189,
          3.3851779,
          -5.788345,
          16.023409,
          -6.3071723,
          15.401115,
          3.433201,
          2.9090312,
          15.366021,
          3.1579154,
          3.3019652,
          3.522623,
          3.3429017,
          15.692083,
          15.585794,
          15.519535,
          3.01631,
          3.5931668,
          -5.592192,
          -5.845757,
          15.417915,
          -5.8036,
          15.50276,
          2.9530623,
          15.868489,
          3.452558,
          15.958053,
          -5.4111238,
          2.5379171,
          2.4758847,
          -6.1310754,
          -6.550083,
          -6.3236156
         ]
        },
        {
         "customdata": [
          [
           "4630d534-3727-4da6-8c57-6eccbc621b10"
          ],
          [
           "f7dca5fb-784c-416c-ac98-d556d6c28a4b"
          ]
         ],
         "hovertemplate": "Entity Type=api_model<br>UMAP1=%{x}<br>UMAP2=%{y}<br>UMAP3=%{z}<br>hover_data_0=%{customdata[0]}<extra></extra>",
         "legendgroup": "api_model",
         "marker": {
          "color": "#ab63fa",
          "line": {
           "color": "white",
           "width": 0.5
          },
          "size": 3,
          "symbol": "circle"
         },
         "mode": "markers",
         "name": "api_model",
         "scene": "scene",
         "showlegend": true,
         "type": "scatter3d",
         "x": [
          -6.360389,
          -6.4581237
         ],
         "y": [
          -0.33321947,
          -0.43093094
         ],
         "z": [
          0.31109285,
          0.21338971
         ]
        },
        {
         "customdata": [
          [
           "340dca8d-ebee-4d1e-8c11-6804b0b9f2c0"
          ]
         ],
         "hovertemplate": "Entity Type=training_session<br>UMAP1=%{x}<br>UMAP2=%{y}<br>UMAP3=%{z}<br>hover_data_0=%{customdata[0]}<extra></extra>",
         "legendgroup": "training_session",
         "marker": {
          "color": "#FFA15A",
          "line": {
           "color": "white",
           "width": 0.5
          },
          "size": 3,
          "symbol": "circle"
         },
         "mode": "markers",
         "name": "training_session",
         "scene": "scene",
         "showlegend": true,
         "type": "scatter3d",
         "x": [
          -6.3831673
         ],
         "y": [
          -0.35603574
         ],
         "z": [
          0.28830978
         ]
        },
        {
         "customdata": [
          [
           "c71c42ff-2f52-460f-97f8-c96b19b2e1ad"
          ],
          [
           "34a231b8-11b8-4212-aa20-242af3442284"
          ],
          [
           "717cb0b0-6baa-4f2c-b9b7-a5896b726b75"
          ],
          [
           "6cf316a2-5544-45cc-bae6-863f0fceb3ed"
          ],
          [
           "819712ce-bcce-4eb3-8ac1-47b66a9ae091"
          ],
          [
           "d8feb99d-668d-4f12-8066-0af53685916d"
          ]
         ],
         "hovertemplate": "Entity Type=recipe<br>UMAP1=%{x}<br>UMAP2=%{y}<br>UMAP3=%{z}<br>hover_data_0=%{customdata[0]}<extra></extra>",
         "legendgroup": "recipe",
         "marker": {
          "color": "#19d3f3",
          "line": {
           "color": "white",
           "width": 0.5
          },
          "size": 3,
          "symbol": "circle"
         },
         "mode": "markers",
         "name": "recipe",
         "scene": "scene",
         "showlegend": true,
         "type": "scatter3d",
         "x": [
          5.8789496,
          2.0045152,
          15.119858,
          15.15568,
          1.9595424,
          2.5907533
         ],
         "y": [
          -0.006442389,
          17.667593,
          8.682326,
          7.983235,
          17.634024,
          17.305998
         ],
         "z": [
          15.970059,
          3.0387154,
          -5.5994234,
          -5.525182,
          3.7939909,
          3.381517
         ]
        },
        {
         "customdata": [
          [
           "6b2a7ebb-7369-4a95-ac8a-cabdbd95a93e"
          ]
         ],
         "hovertemplate": "Entity Type=meal_plan<br>UMAP1=%{x}<br>UMAP2=%{y}<br>UMAP3=%{z}<br>hover_data_0=%{customdata[0]}<extra></extra>",
         "legendgroup": "meal_plan",
         "marker": {
          "color": "#FF6692",
          "line": {
           "color": "white",
           "width": 0.5
          },
          "size": 3,
          "symbol": "circle"
         },
         "mode": "markers",
         "name": "meal_plan",
         "scene": "scene",
         "showlegend": true,
         "type": "scatter3d",
         "x": [
          0.50983214
         ],
         "y": [
          -7.49215
         ],
         "z": [
          0.88637435
         ]
        }
       ],
       "layout": {
        "height": 700,
        "legend": {
         "title": {
          "text": "Entity Type"
         },
         "tracegroupgap": 0
        },
        "scene": {
         "domain": {
          "x": [
           0,
           1
          ],
          "y": [
           0,
           1
          ]
         },
         "xaxis": {
          "title": {
           "text": "UMAP Dimension 1"
          }
         },
         "yaxis": {
          "title": {
           "text": "UMAP Dimension 2"
          }
         },
         "zaxis": {
          "title": {
           "text": "UMAP Dimension 3"
          }
         }
        },
        "template": {
         "data": {
          "bar": [
           {
            "error_x": {
             "color": "#2a3f5f"
            },
            "error_y": {
             "color": "#2a3f5f"
            },
            "marker": {
             "line": {
              "color": "#E5ECF6",
              "width": 0.5
             },
             "pattern": {
              "fillmode": "overlay",
              "size": 10,
              "solidity": 0.2
             }
            },
            "type": "bar"
           }
          ],
          "barpolar": [
           {
            "marker": {
             "line": {
              "color": "#E5ECF6",
              "width": 0.5
             },
             "pattern": {
              "fillmode": "overlay",
              "size": 10,
              "solidity": 0.2
             }
            },
            "type": "barpolar"
           }
          ],
          "carpet": [
           {
            "aaxis": {
             "endlinecolor": "#2a3f5f",
             "gridcolor": "white",
             "linecolor": "white",
             "minorgridcolor": "white",
             "startlinecolor": "#2a3f5f"
            },
            "baxis": {
             "endlinecolor": "#2a3f5f",
             "gridcolor": "white",
             "linecolor": "white",
             "minorgridcolor": "white",
             "startlinecolor": "#2a3f5f"
            },
            "type": "carpet"
           }
          ],
          "choropleth": [
           {
            "colorbar": {
             "outlinewidth": 0,
             "ticks": ""
            },
            "type": "choropleth"
           }
          ],
          "contour": [
           {
            "colorbar": {
             "outlinewidth": 0,
             "ticks": ""
            },
            "colorscale": [
             [
              0,
              "#0d0887"
             ],
             [
              0.1111111111111111,
              "#46039f"
             ],
             [
              0.2222222222222222,
              "#7201a8"
             ],
             [
              0.3333333333333333,
              "#9c179e"
             ],
             [
              0.4444444444444444,
              "#bd3786"
             ],
             [
              0.5555555555555556,
              "#d8576b"
             ],
             [
              0.6666666666666666,
              "#ed7953"
             ],
             [
              0.7777777777777778,
              "#fb9f3a"
             ],
             [
              0.8888888888888888,
              "#fdca26"
             ],
             [
              1,
              "#f0f921"
             ]
            ],
            "type": "contour"
           }
          ],
          "contourcarpet": [
           {
            "colorbar": {
             "outlinewidth": 0,
             "ticks": ""
            },
            "type": "contourcarpet"
           }
          ],
          "heatmap": [
           {
            "colorbar": {
             "outlinewidth": 0,
             "ticks": ""
            },
            "colorscale": [
             [
              0,
              "#0d0887"
             ],
             [
              0.1111111111111111,
              "#46039f"
             ],
             [
              0.2222222222222222,
              "#7201a8"
             ],
             [
              0.3333333333333333,
              "#9c179e"
             ],
             [
              0.4444444444444444,
              "#bd3786"
             ],
             [
              0.5555555555555556,
              "#d8576b"
             ],
             [
              0.6666666666666666,
              "#ed7953"
             ],
             [
              0.7777777777777778,
              "#fb9f3a"
             ],
             [
              0.8888888888888888,
              "#fdca26"
             ],
             [
              1,
              "#f0f921"
             ]
            ],
            "type": "heatmap"
           }
          ],
          "heatmapgl": [
           {
            "colorbar": {
             "outlinewidth": 0,
             "ticks": ""
            },
            "colorscale": [
             [
              0,
              "#0d0887"
             ],
             [
              0.1111111111111111,
              "#46039f"
             ],
             [
              0.2222222222222222,
              "#7201a8"
             ],
             [
              0.3333333333333333,
              "#9c179e"
             ],
             [
              0.4444444444444444,
              "#bd3786"
             ],
             [
              0.5555555555555556,
              "#d8576b"
             ],
             [
              0.6666666666666666,
              "#ed7953"
             ],
             [
              0.7777777777777778,
              "#fb9f3a"
             ],
             [
              0.8888888888888888,
              "#fdca26"
             ],
             [
              1,
              "#f0f921"
             ]
            ],
            "type": "heatmapgl"
           }
          ],
          "histogram": [
           {
            "marker": {
             "pattern": {
              "fillmode": "overlay",
              "size": 10,
              "solidity": 0.2
             }
            },
            "type": "histogram"
           }
          ],
          "histogram2d": [
           {
            "colorbar": {
             "outlinewidth": 0,
             "ticks": ""
            },
            "colorscale": [
             [
              0,
              "#0d0887"
             ],
             [
              0.1111111111111111,
              "#46039f"
             ],
             [
              0.2222222222222222,
              "#7201a8"
             ],
             [
              0.3333333333333333,
              "#9c179e"
             ],
             [
              0.4444444444444444,
              "#bd3786"
             ],
             [
              0.5555555555555556,
              "#d8576b"
             ],
             [
              0.6666666666666666,
              "#ed7953"
             ],
             [
              0.7777777777777778,
              "#fb9f3a"
             ],
             [
              0.8888888888888888,
              "#fdca26"
             ],
             [
              1,
              "#f0f921"
             ]
            ],
            "type": "histogram2d"
           }
          ],
          "histogram2dcontour": [
           {
            "colorbar": {
             "outlinewidth": 0,
             "ticks": ""
            },
            "colorscale": [
             [
              0,
              "#0d0887"
             ],
             [
              0.1111111111111111,
              "#46039f"
             ],
             [
              0.2222222222222222,
              "#7201a8"
             ],
             [
              0.3333333333333333,
              "#9c179e"
             ],
             [
              0.4444444444444444,
              "#bd3786"
             ],
             [
              0.5555555555555556,
              "#d8576b"
             ],
             [
              0.6666666666666666,
              "#ed7953"
             ],
             [
              0.7777777777777778,
              "#fb9f3a"
             ],
             [
              0.8888888888888888,
              "#fdca26"
             ],
             [
              1,
              "#f0f921"
             ]
            ],
            "type": "histogram2dcontour"
           }
          ],
          "mesh3d": [
           {
            "colorbar": {
             "outlinewidth": 0,
             "ticks": ""
            },
            "type": "mesh3d"
           }
          ],
          "parcoords": [
           {
            "line": {
             "colorbar": {
              "outlinewidth": 0,
              "ticks": ""
             }
            },
            "type": "parcoords"
           }
          ],
          "pie": [
           {
            "automargin": true,
            "type": "pie"
           }
          ],
          "scatter": [
           {
            "fillpattern": {
             "fillmode": "overlay",
             "size": 10,
             "solidity": 0.2
            },
            "type": "scatter"
           }
          ],
          "scatter3d": [
           {
            "line": {
             "colorbar": {
              "outlinewidth": 0,
              "ticks": ""
             }
            },
            "marker": {
             "colorbar": {
              "outlinewidth": 0,
              "ticks": ""
             }
            },
            "type": "scatter3d"
           }
          ],
          "scattercarpet": [
           {
            "marker": {
             "colorbar": {
              "outlinewidth": 0,
              "ticks": ""
             }
            },
            "type": "scattercarpet"
           }
          ],
          "scattergeo": [
           {
            "marker": {
             "colorbar": {
              "outlinewidth": 0,
              "ticks": ""
             }
            },
            "type": "scattergeo"
           }
          ],
          "scattergl": [
           {
            "marker": {
             "colorbar": {
              "outlinewidth": 0,
              "ticks": ""
             }
            },
            "type": "scattergl"
           }
          ],
          "scattermapbox": [
           {
            "marker": {
             "colorbar": {
              "outlinewidth": 0,
              "ticks": ""
             }
            },
            "type": "scattermapbox"
           }
          ],
          "scatterpolar": [
           {
            "marker": {
             "colorbar": {
              "outlinewidth": 0,
              "ticks": ""
             }
            },
            "type": "scatterpolar"
           }
          ],
          "scatterpolargl": [
           {
            "marker": {
             "colorbar": {
              "outlinewidth": 0,
              "ticks": ""
             }
            },
            "type": "scatterpolargl"
           }
          ],
          "scatterternary": [
           {
            "marker": {
             "colorbar": {
              "outlinewidth": 0,
              "ticks": ""
             }
            },
            "type": "scatterternary"
           }
          ],
          "surface": [
           {
            "colorbar": {
             "outlinewidth": 0,
             "ticks": ""
            },
            "colorscale": [
             [
              0,
              "#0d0887"
             ],
             [
              0.1111111111111111,
              "#46039f"
             ],
             [
              0.2222222222222222,
              "#7201a8"
             ],
             [
              0.3333333333333333,
              "#9c179e"
             ],
             [
              0.4444444444444444,
              "#bd3786"
             ],
             [
              0.5555555555555556,
              "#d8576b"
             ],
             [
              0.6666666666666666,
              "#ed7953"
             ],
             [
              0.7777777777777778,
              "#fb9f3a"
             ],
             [
              0.8888888888888888,
              "#fdca26"
             ],
             [
              1,
              "#f0f921"
             ]
            ],
            "type": "surface"
           }
          ],
          "table": [
           {
            "cells": {
             "fill": {
              "color": "#EBF0F8"
             },
             "line": {
              "color": "white"
             }
            },
            "header": {
             "fill": {
              "color": "#C8D4E3"
             },
             "line": {
              "color": "white"
             }
            },
            "type": "table"
           }
          ]
         },
         "layout": {
          "annotationdefaults": {
           "arrowcolor": "#2a3f5f",
           "arrowhead": 0,
           "arrowwidth": 1
          },
          "autotypenumbers": "strict",
          "coloraxis": {
           "colorbar": {
            "outlinewidth": 0,
            "ticks": ""
           }
          },
          "colorscale": {
           "diverging": [
            [
             0,
             "#8e0152"
            ],
            [
             0.1,
             "#c51b7d"
            ],
            [
             0.2,
             "#de77ae"
            ],
            [
             0.3,
             "#f1b6da"
            ],
            [
             0.4,
             "#fde0ef"
            ],
            [
             0.5,
             "#f7f7f7"
            ],
            [
             0.6,
             "#e6f5d0"
            ],
            [
             0.7,
             "#b8e186"
            ],
            [
             0.8,
             "#7fbc41"
            ],
            [
             0.9,
             "#4d9221"
            ],
            [
             1,
             "#276419"
            ]
           ],
           "sequential": [
            [
             0,
             "#0d0887"
            ],
            [
             0.1111111111111111,
             "#46039f"
            ],
            [
             0.2222222222222222,
             "#7201a8"
            ],
            [
             0.3333333333333333,
             "#9c179e"
            ],
            [
             0.4444444444444444,
             "#bd3786"
            ],
            [
             0.5555555555555556,
             "#d8576b"
            ],
            [
             0.6666666666666666,
             "#ed7953"
            ],
            [
             0.7777777777777778,
             "#fb9f3a"
            ],
            [
             0.8888888888888888,
             "#fdca26"
            ],
            [
             1,
             "#f0f921"
            ]
           ],
           "sequentialminus": [
            [
             0,
             "#0d0887"
            ],
            [
             0.1111111111111111,
             "#46039f"
            ],
            [
             0.2222222222222222,
             "#7201a8"
            ],
            [
             0.3333333333333333,
             "#9c179e"
            ],
            [
             0.4444444444444444,
             "#bd3786"
            ],
            [
             0.5555555555555556,
             "#d8576b"
            ],
            [
             0.6666666666666666,
             "#ed7953"
            ],
            [
             0.7777777777777778,
             "#fb9f3a"
            ],
            [
             0.8888888888888888,
             "#fdca26"
            ],
            [
             1,
             "#f0f921"
            ]
           ]
          },
          "colorway": [
           "#636efa",
           "#EF553B",
           "#00cc96",
           "#ab63fa",
           "#FFA15A",
           "#19d3f3",
           "#FF6692",
           "#B6E880",
           "#FF97FF",
           "#FECB52"
          ],
          "font": {
           "color": "#2a3f5f"
          },
          "geo": {
           "bgcolor": "white",
           "lakecolor": "white",
           "landcolor": "#E5ECF6",
           "showlakes": true,
           "showland": true,
           "subunitcolor": "white"
          },
          "hoverlabel": {
           "align": "left"
          },
          "hovermode": "closest",
          "mapbox": {
           "style": "light"
          },
          "paper_bgcolor": "white",
          "plot_bgcolor": "#E5ECF6",
          "polar": {
           "angularaxis": {
            "gridcolor": "white",
            "linecolor": "white",
            "ticks": ""
           },
           "bgcolor": "#E5ECF6",
           "radialaxis": {
            "gridcolor": "white",
            "linecolor": "white",
            "ticks": ""
           }
          },
          "scene": {
           "xaxis": {
            "backgroundcolor": "#E5ECF6",
            "gridcolor": "white",
            "gridwidth": 2,
            "linecolor": "white",
            "showbackground": true,
            "ticks": "",
            "zerolinecolor": "white"
           },
           "yaxis": {
            "backgroundcolor": "#E5ECF6",
            "gridcolor": "white",
            "gridwidth": 2,
            "linecolor": "white",
            "showbackground": true,
            "ticks": "",
            "zerolinecolor": "white"
           },
           "zaxis": {
            "backgroundcolor": "#E5ECF6",
            "gridcolor": "white",
            "gridwidth": 2,
            "linecolor": "white",
            "showbackground": true,
            "ticks": "",
            "zerolinecolor": "white"
           }
          },
          "shapedefaults": {
           "line": {
            "color": "#2a3f5f"
           }
          },
          "ternary": {
           "aaxis": {
            "gridcolor": "white",
            "linecolor": "white",
            "ticks": ""
           },
           "baxis": {
            "gridcolor": "white",
            "linecolor": "white",
            "ticks": ""
           },
           "bgcolor": "#E5ECF6",
           "caxis": {
            "gridcolor": "white",
            "linecolor": "white",
            "ticks": ""
           }
          },
          "title": {
           "x": 0.05
          },
          "xaxis": {
           "automargin": true,
           "gridcolor": "white",
           "linecolor": "white",
           "ticks": "",
           "title": {
            "standoff": 15
           },
           "zerolinecolor": "white",
           "zerolinewidth": 2
          },
          "yaxis": {
           "automargin": true,
           "gridcolor": "white",
           "linecolor": "white",
           "ticks": "",
           "title": {
            "standoff": 15
           },
           "zerolinecolor": "white",
           "zerolinewidth": 2
          }
         }
        },
        "title": {
         "font": {
          "size": 16
         },
         "text": "3D UMAP: 651 Entities"
        },
        "width": 900
       }
      }
     },
     "metadata": {},
     "output_type": "display_data"
    },
    {
     "name": "stdout",
     "output_type": "stream",
     "text": [
      "✓ 3D UMAP visualization created!\n",
      "• Rotate, zoom, and explore the 3D embedding space\n",
      "• Look for clusters that might be hidden in 2D views\n",
      "• Click and drag to rotate the view\n"
     ]
    }
   ],
   "source": [
    "# 3D UMAP Visualization - Even more detail!\n",
    "print(\"Creating 3D UMAP visualization...\")\n",
    "print(\"3D can reveal structure that's hidden in 2D projections\")\n",
    "\n",
    "# Create 3D UMAP\n",
    "umap_3d = umap.UMAP(\n",
    "    n_components=3,\n",
    "    n_neighbors=15,\n",
    "    min_dist=0.1,\n",
    "    metric='cosine',\n",
    "    random_state=42\n",
    ")\n",
    "\n",
    "embeddings_umap_3d = umap_3d.fit_transform(embeddings_scaled)\n",
    "\n",
    "# Create 3D interactive plot\n",
    "fig_3d = px.scatter_3d(\n",
    "    x=embeddings_umap_3d[:, 0],\n",
    "    y=embeddings_umap_3d[:, 1], \n",
    "    z=embeddings_umap_3d[:, 2],\n",
    "    color=entity_types_array,\n",
    "    title=f'3D UMAP: {len(embeddings_umap_3d)} Entities',\n",
    "    labels={'x': 'UMAP1', 'y': 'UMAP2', 'z': 'UMAP3', 'color': 'Entity Type'},\n",
    "    hover_data=[entity_ids],\n",
    "    width=900,\n",
    "    height=700\n",
    ")\n",
    "\n",
    "fig_3d.update_traces(\n",
    "    marker_size=3,\n",
    "    marker_line_width=0.5,\n",
    "    marker_line_color='white'\n",
    ")\n",
    "\n",
    "fig_3d.update_layout(\n",
    "    title_font_size=16,\n",
    "    scene=dict(\n",
    "        xaxis_title='UMAP Dimension 1',\n",
    "        yaxis_title='UMAP Dimension 2', \n",
    "        zaxis_title='UMAP Dimension 3'\n",
    "    )\n",
    ")\n",
    "\n",
    "fig_3d.show()\n",
    "\n",
    "print(\"✓ 3D UMAP visualization created!\")\n",
    "print(\"• Rotate, zoom, and explore the 3D embedding space\")\n",
    "print(\"• Look for clusters that might be hidden in 2D views\")\n",
    "print(\"• Click and drag to rotate the view\")\n"
   ]
  },
  {
   "cell_type": "code",
   "execution_count": 18,
   "id": "f54ddda0",
   "metadata": {},
   "outputs": [
    {
     "name": "stdout",
     "output_type": "stream",
     "text": [
      "Creating 3D UMAP visualization...\n",
      "3D can reveal structure that's hidden in 2D projections\n"
     ]
    },
    {
     "data": {
      "application/vnd.plotly.v1+json": {
       "config": {
        "plotlyServerURL": "https://plot.ly"
       },
       "data": [
        {
         "customdata": [
          [
           "1f30a9ba-1c63-4404-bbf3-b422e25d915c"
          ],
          [
           "a8e63b3a-1978-498a-82b2-b515e1cca856"
          ],
          [
           "c2cc9e71-ba87-4803-8870-c43dc9bcec3c"
          ],
          [
           "b8de0258-581e-4757-84f3-cb4a3889c7e3"
          ],
          [
           "f371fbd6-48f7-4965-a14b-3e1e57bd1099"
          ],
          [
           "5184c423-f8b6-49b9-9a0d-3b1f1993e168"
          ],
          [
           "4819c79e-3b67-42d5-a7c7-1e207e7a68f8"
          ],
          [
           "b9dd013a-1fe0-40d0-96b2-17da8f53a50f"
          ],
          [
           "ec0dc8d7-3f08-46cb-b8c7-f177f33aa15c"
          ],
          [
           "4ccceb9f-24d0-4e01-a203-ed8a428e1f9a"
          ],
          [
           "421e5a43-50d0-4dac-9434-dabc3887b71b"
          ],
          [
           "44df580f-5783-4f12-bb57-f45a930c4d16"
          ],
          [
           "837dfc8a-879b-4147-ab03-7eb8ffcb6e9f"
          ],
          [
           "51fa4fc1-5de5-465a-90c9-f9600fe6739c"
          ],
          [
           "03da0711-05ec-41a7-b8c4-6a6e5439e6f7"
          ],
          [
           "ebf54184-450e-451a-826e-cca1f45c43fc"
          ],
          [
           "d9c8eaab-9867-459c-af96-765274d8a3f8"
          ],
          [
           "12ea37bd-0e9a-44d5-9f24-2379b7e31677"
          ],
          [
           "38ab6e7c-490f-49a6-8600-01e105a852d8"
          ],
          [
           "d2d9cf2b-4da2-467a-9320-9dae625961b9"
          ],
          [
           "29761674-4f11-4904-a3bf-43ef59e40e1f"
          ],
          [
           "b91e6ce0-ba34-4571-a31d-bc7fa30cfaa1"
          ],
          [
           "d568c0a2-b9aa-4883-bdc3-c35a5a78dd74"
          ],
          [
           "231d4b0f-4b72-4421-a25b-6c328f43b7ce"
          ],
          [
           "e0112a59-d6cf-489c-8ac1-8450a54d16f6"
          ],
          [
           "d070c17a-757b-4c20-9461-d38cba9a5981"
          ],
          [
           "5f9ad383-f027-4e8b-be3b-8f5d45757ec3"
          ],
          [
           "f7b5eaee-99ee-4b62-8552-d0222a401304"
          ],
          [
           "ee710523-709d-4766-b6be-f3543af7e313"
          ],
          [
           "ada66118-b867-4b79-bb36-c30c5b767b35"
          ],
          [
           "d64c6956-b6c6-434d-a360-0fc7d74264a5"
          ],
          [
           "158f42aa-7f84-44e4-b41e-6591189f83b1"
          ],
          [
           "3fd2505c-d926-4902-aff9-f035dfd2e60e"
          ],
          [
           "dc920139-cdf6-4b73-9cc3-2633c45e6d53"
          ],
          [
           "c94d62c2-b2e2-4422-a93f-b9b0bad3ebee"
          ],
          [
           "dfd0cf41-75a2-4f78-95e6-ea0ac7350314"
          ],
          [
           "b7dbadc3-291c-40fc-b5a5-cd510a6227d4"
          ],
          [
           "1dc24441-5f24-4d3e-af07-c74e7e1d0877"
          ],
          [
           "6e51f199-a555-4733-98f8-c2d33b96ac67"
          ],
          [
           "0e11a27e-16f0-49f9-a088-7152e4202516"
          ],
          [
           "85a04481-81de-44bb-b3a3-5ca80b6619f6"
          ],
          [
           "a6494279-def7-4277-b835-76d4136746de"
          ],
          [
           "c37db90c-357a-42f7-95b5-ef2a901fe200"
          ],
          [
           "03952642-6675-48e9-9da3-62d9b2770d3d"
          ],
          [
           "fcd5b1e4-b288-45d2-a98d-ae97dc43c9fa"
          ],
          [
           "ef78c280-7f17-4aea-8d70-2b827aab8343"
          ],
          [
           "dac9fefc-d869-42fe-8019-d8bdac75a1c5"
          ],
          [
           "1555ff37-6fca-417a-a4d6-3b6f9677e0e8"
          ],
          [
           "e1d5dcdd-491c-44aa-9b90-495f794e4c06"
          ],
          [
           "520c74ae-6eab-43da-bf31-1ddca09d55b3"
          ],
          [
           "742c50ce-a998-4a9d-96ef-0bbf674f0e0d"
          ],
          [
           "e9d254c6-cc8e-4e85-b0e1-924754c9b765"
          ],
          [
           "e19d8ef5-a112-48d3-aaeb-2c106e561eeb"
          ],
          [
           "39a1de5a-9146-4f9c-bd45-434395894655"
          ],
          [
           "2688d59e-530a-42c8-83bd-8a8bb9dbd031"
          ],
          [
           "bce544b1-c19b-471f-ab48-c0da533df0d9"
          ],
          [
           "c6d41be1-085c-4f67-b3e9-4d35f589f0b4"
          ],
          [
           "e2cc8f3d-adf8-4d79-a9f7-67af98bb8dc4"
          ],
          [
           "d8c49bfa-bb56-4344-984f-7fe3c9811f0b"
          ],
          [
           "806ead96-31db-48ec-977e-80d414aa10f9"
          ],
          [
           "14a99959-cada-4c5d-9516-3118a1dacfab"
          ],
          [
           "05a9f78f-0ccb-40e7-921a-8f3aacd55ea3"
          ],
          [
           "d665a41a-c6c3-4c9e-9b5a-4acdf15531a4"
          ],
          [
           "f4f4eaea-0f54-4650-af2e-1d99b7d7089c"
          ],
          [
           "66d74ba6-1d89-43e7-9102-4746b613d623"
          ],
          [
           "ce245c72-62b0-4ef3-b280-a25c4053a40d"
          ],
          [
           "3f28673a-05ad-4779-8461-0b8dfa4f0b07"
          ],
          [
           "48332b82-5437-41f4-86bd-dc71bb8cc659"
          ],
          [
           "fdad68e4-5740-4658-8751-0f27ab9aea8a"
          ],
          [
           "0f39d45c-4c65-4833-b92d-a7a57cdb8b49"
          ],
          [
           "33129398-ecdb-4ddf-b65a-b61793815ee8"
          ],
          [
           "517c8de0-252b-4a01-9d73-85a60fc3fb1d"
          ],
          [
           "30c505de-944e-4237-b78f-5dec9fac6ac7"
          ],
          [
           "af4806af-d578-4bec-8d19-d92cfa09321c"
          ],
          [
           "c51fb6fc-79cb-4c8f-b9ce-3710ccae251c"
          ],
          [
           "6c28b379-7c64-4281-a485-b302926b4bde"
          ],
          [
           "034b88cb-a916-4ff3-8a7b-8f44137eba4d"
          ],
          [
           "a98c7ff0-9322-4f14-bd7a-fa8b9f28dd5e"
          ],
          [
           "e5ecb756-339a-45ac-880b-b2c198b028a0"
          ],
          [
           "4b9ff345-b3f7-42cc-b696-d7cdcd565bb0"
          ],
          [
           "3d67266e-751e-491e-83cf-4c841a281df3"
          ],
          [
           "3f66111e-f2a7-4491-9686-0cb7678f7384"
          ],
          [
           "c5436380-e1fb-449f-b24f-d10b49457f3c"
          ],
          [
           "fbb1e885-fe33-4b73-9240-3fe6c505b793"
          ],
          [
           "45d246d1-a193-4c23-aecb-0dbe68df9771"
          ],
          [
           "734da7f3-eae2-4523-9e11-8847bc20f80c"
          ],
          [
           "866f114e-c5e7-402e-93f7-f6124e5437c5"
          ],
          [
           "5ce8b175-3ef8-41ed-bcce-536080d05ada"
          ],
          [
           "16c1addf-fb37-4f64-8897-90c76f7a7611"
          ],
          [
           "aa33027c-b7f5-4c88-83aa-a2e9466f5832"
          ],
          [
           "a9d46657-3b9b-4863-b891-4d1e0c49e183"
          ],
          [
           "276228dc-708b-4911-ac4e-59ba2f85f8ec"
          ],
          [
           "9a2df6a7-569a-4f2c-bf18-8689e9406e8d"
          ],
          [
           "e1c62fd8-96c0-4e55-8885-bc5ee80fbb67"
          ],
          [
           "aa3b58c8-c309-461a-a01e-2c987ef4f2fd"
          ],
          [
           "34db27e9-e928-4336-8953-b47b375c7805"
          ],
          [
           "5d15e54d-e350-4184-8da3-e202a3e3af50"
          ],
          [
           "1db733b8-5b33-426d-aea8-679b5ff867c3"
          ],
          [
           "d8745ae3-8b42-42ab-af3b-1f2547ad5589"
          ],
          [
           "a179bf41-176e-4498-9428-07ec4657625b"
          ],
          [
           "e1c77446-1830-4360-87e0-5b82a2938c45"
          ],
          [
           "4e5d474a-3ee6-48da-bdc0-9b28518364b2"
          ],
          [
           "4ab34280-d9d4-44b9-80ce-5281888b4b27"
          ],
          [
           "fe18b622-a5a4-448c-8eab-321b8b56b46b"
          ],
          [
           "889ec452-c64f-49c9-b9f0-5bec54798e0c"
          ],
          [
           "2771a176-25f4-413f-b21a-6367758bebcd"
          ],
          [
           "d15e4513-dd86-412a-a68e-ec6217c2f0b7"
          ],
          [
           "4d55c7ec-c787-4c2b-9cad-997345184962"
          ],
          [
           "bf244130-0b88-4683-ba6e-953263e43845"
          ],
          [
           "2696f01a-ca56-417e-955b-d501887e54a6"
          ],
          [
           "d581547f-d974-4112-9742-9282fe75375b"
          ],
          [
           "90762d0e-be87-402c-99fe-f60d5d9d5341"
          ],
          [
           "2a3f34c4-f54c-43e9-9178-9dbdb00d2d09"
          ],
          [
           "aa1d979e-ec6f-48d3-946c-5f011a706f18"
          ],
          [
           "70a4db5a-b9d7-43f6-9c74-dd0de13102f9"
          ],
          [
           "19b0ad8b-4cea-448a-8a51-0abd6a3f1225"
          ],
          [
           "1f81046d-3a3a-4ac9-8ba9-3c465c76e892"
          ],
          [
           "f8c95b2a-f645-4d96-98f5-74e8b707c05d"
          ],
          [
           "9cd74183-5a58-4a1e-88d4-938e18a0a1dd"
          ],
          [
           "30eb0119-1bcf-455c-a7d3-81e27e3af026"
          ],
          [
           "1a818c90-17e4-401d-a05f-f88a019923fd"
          ],
          [
           "21ec3ae6-3940-4315-b60b-ddd074c6a7e5"
          ],
          [
           "75eca45c-11a3-4fad-a57a-e247bc67ba30"
          ],
          [
           "db49df8d-62ac-43d7-99f9-a640e568d87e"
          ],
          [
           "262367a2-47c4-4f11-9c26-5b3c5d54940c"
          ],
          [
           "1e05ca79-27b0-402c-8514-22f319271ee9"
          ],
          [
           "3213dd47-d046-4ecc-ba0a-3b7284dc6dba"
          ],
          [
           "52a864cf-930f-438d-9e4b-3a9ae3981980"
          ],
          [
           "6d3dae01-e978-4650-b25b-0ce615d39423"
          ],
          [
           "8590d133-faf9-49f5-881f-dde598297f43"
          ],
          [
           "a58c17fd-00c3-4f73-a423-32aaf879eee6"
          ],
          [
           "27113f30-106c-4701-a660-37863acc6e5e"
          ],
          [
           "ce7f8096-ea30-4946-a6fa-d6bbaaa247bb"
          ],
          [
           "3fce959a-d661-46ea-ab19-7743d2096a07"
          ],
          [
           "de560b93-5628-4a20-8806-5f1335e6936a"
          ],
          [
           "fc4275ff-5ac7-4b89-91de-874fa6cd16fb"
          ],
          [
           "f59a3f82-963d-4c68-b5ef-19480264f6d7"
          ],
          [
           "820f9e63-224b-4df1-9bf6-a8991f2975f6"
          ],
          [
           "fda556e3-06ff-409d-b2c3-5c1f46fd0511"
          ],
          [
           "01d691fe-430f-4c11-adc2-cc94e04ff3ac"
          ],
          [
           "f1b626f2-905a-4ded-afd5-bfe2430a299d"
          ],
          [
           "5ac27e11-0154-410a-aaae-04db15c57434"
          ],
          [
           "03be2c7d-6600-49e5-8d6b-d1de35ef8a87"
          ],
          [
           "6590c005-516f-485f-a2b8-495cc9ebe3de"
          ],
          [
           "9075f765-8b77-4ab9-8fa3-87eb6f3fb26e"
          ]
         ],
         "hovertemplate": "Entity Type=view<br>UMAP1=%{x}<br>UMAP2=%{y}<br>UMAP3=%{z}<br>hover_data_0=%{customdata[0]}<extra></extra>",
         "legendgroup": "view",
         "marker": {
          "color": "#636efa",
          "line": {
           "color": "white",
           "width": 0.5
          },
          "size": 3,
          "symbol": "circle"
         },
         "mode": "markers",
         "name": "view",
         "scene": "scene",
         "showlegend": true,
         "type": "scatter3d",
         "x": [
          14.842942,
          2.4048948,
          15.074718,
          2.0540154,
          14.896409,
          15.042748,
          2.1195495,
          -6.35866,
          -6.3769307,
          14.925397,
          1.9706388,
          2.2248094,
          2.0772476,
          5.892488,
          15.139765,
          1.8861315,
          5.351831,
          2.0145993,
          5.438972,
          2.0263045,
          5.8978033,
          2.258086,
          2.06016,
          1.9945012,
          5.6538987,
          5.4087114,
          1.9860603,
          15.077584,
          14.899407,
          1.9182614,
          5.366009,
          15.20754,
          2.0022736,
          5.4606266,
          1.9357231,
          5.4105268,
          2.0468128,
          1.9503653,
          2.2160513,
          2.1535277,
          2.1841278,
          6.085922,
          14.966823,
          14.799287,
          2.1433804,
          16.179914,
          5.0422044,
          2.1135228,
          2.0481384,
          5.7575326,
          5.363783,
          5.104744,
          2.4762409,
          5.049034,
          14.466532,
          2.446959,
          5.3581953,
          4.915286,
          2.2145972,
          5.0888224,
          14.552432,
          5.251041,
          5.0368576,
          14.359828,
          2.4766512,
          2.3365166,
          2.3558848,
          5.2684135,
          5.1853175,
          2.2925231,
          5.618099,
          14.427365,
          2.2134836,
          2.1932511,
          1.9791048,
          14.166585,
          15.125273,
          1.5987486,
          2.5336099,
          1.7728168,
          1.8174099,
          14.292206,
          1.9785342,
          1.8069569,
          1.7637727,
          14.864509,
          -6.4044437,
          5.786686,
          6.0082893,
          2.1385484,
          14.442865,
          6.2791467,
          14.789322,
          14.440464,
          14.567799,
          14.481182,
          14.798782,
          14.414844,
          2.0136375,
          14.444945,
          6.189271,
          5.7890706,
          1.6056137,
          14.737632,
          14.443248,
          6.2328987,
          1.6443106,
          14.814974,
          6.209186,
          15.476249,
          14.496939,
          1.8722333,
          2.0229042,
          14.622539,
          1.8515313,
          6.38892,
          2.3179584,
          6.0336957,
          1.5053244,
          6.309486,
          6.177247,
          2.0507083,
          2.1024823,
          6.2686257,
          2.0579755,
          6.2450314,
          2.1821856,
          2.310947,
          15.401799,
          15.436988,
          0.6467166,
          15.250926,
          15.399642,
          14.743109,
          15.006453,
          2.217511,
          0.5571108,
          15.429019,
          15.086903,
          14.637516,
          15.236677,
          15.439953,
          2.174984,
          2.4385037,
          0.592748
         ],
         "y": [
          8.02281,
          17.643847,
          8.26588,
          17.671202,
          8.120958,
          8.078652,
          17.531387,
          -0.33150747,
          -0.34976706,
          8.227499,
          17.54523,
          17.672087,
          17.325466,
          0.17654921,
          8.377692,
          17.314405,
          -0.13212655,
          17.615984,
          0.051859073,
          17.584417,
          0.35679623,
          17.464289,
          17.409327,
          17.311867,
          0.111839615,
          0.08370828,
          17.377386,
          8.155138,
          7.94951,
          17.586477,
          0.3916195,
          8.073926,
          17.418232,
          0.19576664,
          17.50202,
          0.3820816,
          17.745592,
          17.465538,
          17.630247,
          17.373709,
          17.442236,
          -0.09044357,
          8.005053,
          8.026275,
          17.425266,
          7.648802,
          -0.13072255,
          17.388916,
          17.802694,
          0.9666527,
          0.36545044,
          -0.42266265,
          17.682596,
          -0.14066201,
          7.9790235,
          17.752085,
          0.6349354,
          -0.004847913,
          17.409662,
          -0.2771586,
          7.7451816,
          0.08347164,
          0.07047725,
          7.7795978,
          17.855583,
          18.028063,
          17.814981,
          0.5989854,
          -0.20004119,
          17.761787,
          0.49904066,
          7.9973645,
          18.029585,
          17.789263,
          18.094635,
          8.382906,
          7.8242803,
          17.449886,
          17.62718,
          17.631617,
          17.835976,
          7.916471,
          17.91342,
          17.887291,
          17.932323,
          7.600908,
          -0.37725785,
          0.3245456,
          -0.24749577,
          17.670256,
          8.000848,
          -0.50762415,
          7.9134126,
          8.084459,
          7.8284435,
          8.039206,
          7.73654,
          8.514982,
          17.8773,
          8.277487,
          0.115451455,
          -0.47539324,
          17.601286,
          8.647782,
          8.386088,
          0.2758867,
          17.766857,
          8.825386,
          0.3004651,
          8.272839,
          8.513943,
          17.411892,
          18.16058,
          8.741174,
          17.183249,
          0.046753164,
          17.161457,
          -0.58765644,
          17.844393,
          -0.44506544,
          -0.458326,
          17.247044,
          16.978619,
          0.38284943,
          17.083555,
          -0.44334936,
          16.991743,
          17.277311,
          8.170509,
          7.9018583,
          -7.3555446,
          8.4346,
          8.482201,
          8.869393,
          8.2838745,
          17.967264,
          -7.445104,
          8.713893,
          8.715453,
          8.640404,
          8.579132,
          8.627457,
          17.442558,
          17.300266,
          -7.4094377
         ],
         "z": [
          -6.0926237,
          3.3097293,
          -5.784958,
          3.2492108,
          -5.9973617,
          -5.947316,
          3.1546404,
          0.31282014,
          0.2945572,
          -5.9827394,
          3.4704318,
          3.3174822,
          3.2952228,
          16.14256,
          -6.222908,
          3.2553737,
          16.099068,
          3.0598595,
          16.544664,
          2.9807427,
          16.481071,
          2.976244,
          2.8891647,
          3.100798,
          16.648136,
          16.41177,
          3.1383023,
          -6.337584,
          -6.431394,
          3.2235646,
          16.391853,
          -6.022358,
          3.36344,
          16.630817,
          3.0287476,
          16.171272,
          2.8969414,
          2.8527234,
          2.9325411,
          3.1316147,
          3.0763624,
          16.547705,
          -6.505248,
          -6.417265,
          3.2483795,
          -4.5959363,
          16.66653,
          2.8601992,
          3.0815184,
          16.080145,
          15.746276,
          15.731144,
          3.2084646,
          15.877706,
          -6.4116907,
          3.258486,
          16.15862,
          15.66479,
          3.490302,
          15.776918,
          -6.137997,
          15.823214,
          15.474378,
          -5.803899,
          2.9073546,
          3.0784547,
          3.4704845,
          15.942551,
          16.078497,
          3.6028206,
          15.596278,
          -5.529732,
          3.4166076,
          3.4515827,
          3.5362282,
          -5.7610083,
          -5.527964,
          3.1104937,
          3.5643184,
          3.5865183,
          2.480898,
          -6.017874,
          3.4016385,
          3.544927,
          3.3397174,
          -5.5492325,
          0.2670695,
          15.912433,
          15.558506,
          3.67614,
          -5.776847,
          15.853464,
          -5.506852,
          -5.595346,
          -5.4823217,
          -5.737899,
          -5.9988775,
          -5.8823957,
          3.4469442,
          -5.8363466,
          15.591524,
          15.595041,
          3.0330575,
          -5.719056,
          -5.755212,
          15.749906,
          3.0606554,
          -5.8702297,
          15.815098,
          -5.6155577,
          -5.654112,
          3.6934516,
          3.1346123,
          -5.8210316,
          2.9853868,
          15.630323,
          3.4994493,
          15.736665,
          3.2277648,
          16.19348,
          15.817807,
          3.6127975,
          3.1930847,
          16.028826,
          3.3688352,
          16.425163,
          3.04172,
          3.6475306,
          -5.7668104,
          -5.7799406,
          0.749298,
          -5.5718637,
          -6.051702,
          -6.222711,
          -5.410258,
          2.711571,
          0.83902043,
          -6.000795,
          -6.141471,
          -6.235899,
          -6.413741,
          -6.187724,
          3.737654,
          3.4366167,
          0.80335045
         ]
        },
        {
         "customdata": [
          [
           "2e292dd6-cea9-412e-8765-0550c1645d1e"
          ],
          [
           "b91138ec-671c-4244-8b91-19dcde18ebb8"
          ],
          [
           "ba7d859b-60f7-47f2-a5f9-1a18b97e3da6"
          ],
          [
           "aafc34ae-1cf9-4989-b0f4-dc277d225071"
          ],
          [
           "a944a6ee-d794-40bf-9a05-d1ca62b1f0a9"
          ],
          [
           "d0c42f87-cca3-4b7b-a268-386dbc68f89d"
          ],
          [
           "fcf9c8f8-31dd-412b-b92b-21214346d6b0"
          ],
          [
           "dff7b2c3-6a6d-42ed-8efd-621f39f6c386"
          ],
          [
           "9444189e-5f1a-41f5-acc7-49cad4e3dd98"
          ],
          [
           "ae7cf913-2b48-423d-81f4-c9ce06df4cf6"
          ],
          [
           "673d57f6-4f7c-4520-80d5-110fd765a1e6"
          ],
          [
           "704bef79-21c3-4aa1-9ea1-25b6f9ed65a2"
          ],
          [
           "cd43e7bf-f76f-4fa3-ac0f-7629600a6814"
          ],
          [
           "eeee96b9-759d-45d1-8d97-dbba38802388"
          ],
          [
           "c2869821-8700-4005-bf13-324d6079fce7"
          ],
          [
           "0dce7537-3313-4667-a2c9-c1d5c437f8c7"
          ],
          [
           "450cb2bf-6120-457e-a19c-8b45e1582b25"
          ],
          [
           "568a1356-a526-4333-83fd-fe560d525a5c"
          ],
          [
           "2b1ec6cd-b780-40be-b1b8-a3412d31348a"
          ],
          [
           "d16cf533-2768-4809-ab14-8173e251fa89"
          ],
          [
           "a02be019-84e5-40df-8dcc-cfc91a27e905"
          ],
          [
           "b401a8c3-fa42-48a9-9f5e-426c4b11c7fe"
          ],
          [
           "a05f3ecf-9c18-4171-9dc0-ceba09d97cb9"
          ],
          [
           "23a40556-4da2-46d5-9924-daf743a5b25f"
          ],
          [
           "2e4eba5a-95b9-4513-a9a3-92343b8d5818"
          ],
          [
           "95f19830-3b91-4d8e-83c4-b0cd446a62e3"
          ],
          [
           "8c2578af-816b-44f7-8d4b-138d8da6a79f"
          ],
          [
           "7bd6e904-39d1-4c10-ba78-784a38c40160"
          ],
          [
           "cbbe09b2-0ec2-4cef-8c2a-fbee6d8495db"
          ],
          [
           "f2d5ce3b-2aa9-4e99-91c3-21fc6417766f"
          ],
          [
           "34bc6f34-a499-4c93-a2a0-c1907a9ad586"
          ],
          [
           "968411d9-b1c0-4859-8cac-875fb0124233"
          ],
          [
           "984b1d04-7810-4e35-8854-ab337d766492"
          ],
          [
           "e2401684-8e87-4117-951c-c4e8a79651f9"
          ],
          [
           "b1572e54-06e2-4c21-9283-37d275edb8a1"
          ],
          [
           "e0c086a0-a62b-4423-b034-28630084a5e3"
          ],
          [
           "051c3da0-ef67-4c9c-a841-3874d3216544"
          ],
          [
           "00f61952-8a82-4653-b6ea-ade998a218d4"
          ],
          [
           "886e7e01-30a3-46c3-a592-d5a85c50a4a6"
          ],
          [
           "600244ed-3262-485b-b755-84b529f7af29"
          ],
          [
           "93a984ef-4693-45ea-bb88-7d88555bdea8"
          ],
          [
           "89117ff2-f38e-4038-9e89-92860897fb2a"
          ],
          [
           "cfc2f9fe-59a4-4530-b322-8bb9f4097721"
          ],
          [
           "1f9be3b9-1c7d-4d39-aaf6-058ae1e56d7d"
          ],
          [
           "3d1b00fc-c9c4-4b71-a2a5-2a87eb2dfcf0"
          ],
          [
           "f6040893-dac5-43b7-b92d-675b2deefb9d"
          ],
          [
           "f84dd08c-9087-446a-9fcc-e7749367506d"
          ],
          [
           "7621852c-c7c5-44c4-ac19-9e2f2a6e43ca"
          ],
          [
           "73479401-b260-4b1a-945a-cd4fc8d9b835"
          ],
          [
           "8b5f7869-7df5-4b7e-a8e8-06a059242771"
          ],
          [
           "26d4b6c3-70a9-4415-8cab-0c3209556fb7"
          ],
          [
           "ec49db9a-489a-4259-a57d-bef40e2a497f"
          ],
          [
           "38bf4c4a-9366-4cfc-ba42-c12fbe322ad5"
          ],
          [
           "ee08a4f2-92a2-4fa3-9dc6-cfedeccb6853"
          ],
          [
           "ecbec8a2-c42f-47b8-a7dd-4fabb4fd2b8c"
          ],
          [
           "17a8a485-bda5-4d1e-ae0e-65268cdd8cac"
          ],
          [
           "240fbcac-a44b-418b-ba2b-d651eb9c1124"
          ],
          [
           "d3401a9f-c52b-4255-a6e8-e79552a2b3c6"
          ],
          [
           "983fc2d4-7973-4a58-9bf1-b30bf6651f12"
          ],
          [
           "b259ad41-34a8-411c-9912-83fda689cc99"
          ],
          [
           "43d9cec1-7f19-46f7-8aa1-3d5ffd86a473"
          ],
          [
           "82f477e3-a691-4fb9-8f87-56339225a32f"
          ],
          [
           "7a659f09-e515-4392-b52d-d8e4feea1797"
          ],
          [
           "57bf8025-304b-4611-8ea2-05a058d3ec80"
          ],
          [
           "c7504160-aa8b-457f-b818-293810c27aef"
          ],
          [
           "2814c1c5-0d90-4238-8a60-0054babe9aa1"
          ],
          [
           "e2c93ad8-517f-4a5d-8951-a794d994cf53"
          ],
          [
           "3508ed99-064d-42be-ab50-e34ccb20ea08"
          ],
          [
           "d969e257-a85b-45c1-869c-faaf2902e174"
          ],
          [
           "63ee463d-4e12-4cac-a99f-a0c6546a4d76"
          ],
          [
           "d0997af8-30e1-4c8e-9a72-323d57b2537a"
          ],
          [
           "fe8023c9-89d9-4dc7-b3f3-fb8fae119b21"
          ],
          [
           "d3ed73c3-ab3f-40d6-ba2d-f87d49f474ec"
          ],
          [
           "66f72728-57ad-409a-a273-d6a73e672db3"
          ],
          [
           "6745c19e-55f6-470a-8c70-50b421e1f857"
          ],
          [
           "cbafb089-e294-426e-a8e3-a6730adbda74"
          ],
          [
           "9c060a5d-964f-4512-adc8-4f9dc5dcfa87"
          ],
          [
           "a9705e46-f439-4769-95e2-9c768df9a696"
          ],
          [
           "822cb93b-7308-4090-a666-e2b36c5ac94a"
          ],
          [
           "2c8ed5dd-9a21-4f0e-b30d-158237c3be56"
          ],
          [
           "509d45b1-223b-42de-a06e-31bd14269eb4"
          ],
          [
           "bf9285a0-cade-4ea4-9a83-469060f2ae75"
          ],
          [
           "7a6a94c7-0b8b-4dc7-99d6-bdbb723d7f7a"
          ],
          [
           "acc9d3a8-1ba4-4aae-95ff-2c1f37b182b8"
          ],
          [
           "be4093a7-02bc-4bba-be96-048507100032"
          ],
          [
           "dc591be2-4da5-480a-b6d2-c13a87107023"
          ],
          [
           "a04474c1-6b33-4650-a33e-2b322f1fe0f4"
          ],
          [
           "3d1db8ab-4f88-40ef-be56-2b63000a4640"
          ],
          [
           "a3864c2d-53d8-49a5-9cd0-1386f1ebde63"
          ],
          [
           "a4397aca-8e7b-4a10-b583-1362098a6b4d"
          ],
          [
           "2cdca649-ac48-446c-8bac-afb0863d4f65"
          ],
          [
           "894284c6-4af6-4b86-b1bf-ea53a78f44ed"
          ],
          [
           "d4aea957-defd-4803-a7d8-2a083d8516cb"
          ],
          [
           "77ee5738-fa06-48df-ba1f-0dda185dc3bb"
          ],
          [
           "fb022c6b-2abd-43ef-a8d0-792a24e7b4fb"
          ],
          [
           "17ab8fc5-ac9c-4b52-bb48-c91afc6414a6"
          ],
          [
           "fe64149b-bd9a-4045-989c-d50ff263efd9"
          ],
          [
           "f60a34b6-6ec1-477b-a945-4e9cd5efdb60"
          ],
          [
           "d2fca464-8010-40e7-b9e0-0db9482525ee"
          ],
          [
           "52fd56c2-a5c5-431a-a2ad-e3f48ed0920c"
          ],
          [
           "6c9ce5ed-d3af-4787-9492-0eda4f986978"
          ],
          [
           "c3c0462d-8c18-4227-8448-48b420402e37"
          ],
          [
           "aaa0475c-6802-463c-b67c-aa4b92be4706"
          ],
          [
           "9225d849-a118-4241-8cc3-660a477671aa"
          ],
          [
           "9c8b38b9-422e-41c7-9821-55bf248aa736"
          ],
          [
           "8ad1a368-24cc-4f96-ab14-71b15c39b0fc"
          ],
          [
           "b3199927-9431-44cf-9dfb-49f926915fe0"
          ],
          [
           "d25c859c-eba0-4664-a12f-05d126d79216"
          ],
          [
           "8aded30f-7e95-41af-a1e5-149c3998f9c7"
          ],
          [
           "aa802203-8010-4576-93b7-214ed44ba56a"
          ],
          [
           "6d47a8fc-83fc-44aa-98ce-8b68964f2762"
          ],
          [
           "79fd1a3f-9010-4983-91d9-04d1f4f2a110"
          ],
          [
           "b4602a96-da19-4679-85f3-9a919e321230"
          ],
          [
           "b363608d-7b26-45f6-b347-428fda21a322"
          ],
          [
           "80e2df11-41a5-4728-8f2d-f951c30d82f0"
          ],
          [
           "4a686878-7e36-4ea4-80a4-b727294a7284"
          ],
          [
           "d8cca264-5aed-4a0f-80ad-48c4237c8256"
          ],
          [
           "7e958f43-406c-448d-b6ec-e93337ce0620"
          ],
          [
           "375b79e0-9c4e-4695-b17e-7278e0842f84"
          ],
          [
           "1010655a-4d14-4bd2-9aff-455c08eb829f"
          ],
          [
           "b13e61cd-7f9b-4b0c-b9f0-5680d120cb68"
          ],
          [
           "630f26d4-d8d9-4351-9400-6a21dcf40f2c"
          ],
          [
           "be9fae38-1f14-4899-976b-b84ea7333037"
          ],
          [
           "f05a28a1-4724-4cc3-aef7-6551d2242cf0"
          ],
          [
           "f07581f8-f943-42d2-90fd-2eb69cda2147"
          ],
          [
           "997a4b92-63f9-48a2-9268-0631cd5c18cc"
          ],
          [
           "44faa970-3ab7-4fa3-aff1-4b8f15d4b4c5"
          ],
          [
           "75abcc01-4d90-4570-aa2b-f4d2b9ce73dc"
          ],
          [
           "a5d96389-9b6b-4ca9-a218-e0413bb7364e"
          ],
          [
           "97353558-2c8a-40b4-8f61-c7298098eb3a"
          ],
          [
           "6a23314c-2fa0-4a2a-ba37-05755174b0b3"
          ],
          [
           "abaaeb96-4da2-4d78-ae60-014ceccf7f7f"
          ],
          [
           "1b1c3ef6-b44a-4677-95fe-144551c79ac9"
          ],
          [
           "f2ed0163-b35c-41e5-8114-f8c1fd0a0e58"
          ],
          [
           "1bf02a1d-56c8-413b-b70b-29642d7ed3fd"
          ],
          [
           "d85781ed-49da-4c30-b875-09c4cf6e4a28"
          ],
          [
           "c4eed01d-5b0a-4cdc-a950-fc1eb2ab7ea9"
          ],
          [
           "5980a805-e928-4530-b2d6-95bf1c4996e4"
          ],
          [
           "66cbb616-d1d2-4415-a5e7-3663739a05cd"
          ],
          [
           "77a9e829-d519-4cad-ab4f-460851843079"
          ],
          [
           "6ddb9795-1eb0-4a14-988c-02a8c3286234"
          ],
          [
           "734e4f12-53dd-4548-b141-8fd8f2fb46e8"
          ],
          [
           "fb3d453d-5f73-40af-865e-967aa438d981"
          ],
          [
           "76d181a4-087e-43c3-99d8-f4a8c86e5df8"
          ],
          [
           "e3bcd525-f997-4e84-a720-a00372eaa166"
          ],
          [
           "2919bc7c-b5d6-47f1-8a6d-ce20eb0e7da7"
          ],
          [
           "26ef2229-7ff2-4ffb-8ec2-87042175fcb7"
          ],
          [
           "cb417898-855f-4bf6-b3e6-8aa317de37e6"
          ],
          [
           "1575dc92-86eb-4f61-8ea4-eb13de72fafd"
          ],
          [
           "708c7a13-85e8-4905-8075-3027e939f721"
          ],
          [
           "e3552d41-3946-4235-93b9-10f336c84e67"
          ],
          [
           "0a3564da-1f86-4145-98b1-7de5e9c8e03e"
          ],
          [
           "3c35c06b-a62e-4ac1-821a-3a09294ba771"
          ],
          [
           "c4c283c1-aa46-4a06-92f6-afddabf1ccd0"
          ],
          [
           "a9191a18-860e-489d-96b0-979c89704170"
          ],
          [
           "94f4b0fa-85d4-423c-81de-89c048e5c4ee"
          ],
          [
           "4fe439fb-6da8-4252-9546-679df5facf56"
          ],
          [
           "61655071-914d-4ce4-9d16-bbc1fa65d349"
          ],
          [
           "fe05ed14-6ba3-4589-be1b-4b9e779b4f4c"
          ],
          [
           "1c42b6e0-228f-4ab1-9028-f3d5d9bd3fcd"
          ],
          [
           "81abe02f-8b07-4b8d-ab8d-2c8bdafcfae6"
          ],
          [
           "8d38fcde-f194-43e3-af7d-05b4d54ad220"
          ],
          [
           "2e4ee315-dbc9-478f-b624-58d9356f9eb7"
          ],
          [
           "8b62d906-1531-4d86-991b-0b455dce2680"
          ],
          [
           "a1913e99-84c9-4091-8f79-1aca68352f70"
          ],
          [
           "7f8f6aca-0a03-4ebe-aae2-dbfe0c783a92"
          ],
          [
           "88409f0d-a368-423b-b14c-345b73221653"
          ],
          [
           "1a2ee8cd-0ebb-4da6-903c-18942b865e20"
          ],
          [
           "90172502-fc31-49e5-8cf2-29693c1f7e45"
          ],
          [
           "20a57718-f6a7-43c8-bc84-0d2151aa84f2"
          ],
          [
           "e0e93369-6014-4df2-947c-2dcdacf34eeb"
          ],
          [
           "2be45e9a-93cd-44b1-9a13-1fbebaa335da"
          ],
          [
           "559fd265-a341-4412-b19f-bfb378f264ad"
          ],
          [
           "eeef7718-67b3-4549-a714-571c217120aa"
          ],
          [
           "53f51244-11e3-43aa-a555-9f417a8da435"
          ],
          [
           "43a66bde-24a3-4d29-a883-4b30fb701f36"
          ],
          [
           "420f5cc6-0c92-4672-8c05-bb21c07aa62f"
          ],
          [
           "585dc74b-1444-484d-88fc-4effff9d8d44"
          ],
          [
           "b921950e-252e-4fe1-8ff3-ab42e880647f"
          ],
          [
           "062d9b73-3ede-4a10-9f80-ee0d37fd2ddf"
          ],
          [
           "7ad128ff-8fe1-47f9-a197-d0f7dfda0bc1"
          ],
          [
           "37c7db66-4cb6-4e3d-b915-6b7f3bcfe98e"
          ],
          [
           "7bba07a6-78f9-4494-8345-e7eec6aeb9ca"
          ],
          [
           "4be22791-2f62-4d72-82ac-7461a16d9bb9"
          ],
          [
           "698b67d9-2048-4c4a-91bc-2f200c7d7870"
          ],
          [
           "89b949c9-377b-4fe0-843c-73e4d7456c19"
          ],
          [
           "3d8d978c-9fbe-43ee-9dce-faa95953d8d5"
          ],
          [
           "fac69729-fb50-4905-a725-1af817017c67"
          ],
          [
           "7065d4de-b38b-40d6-bead-b0f2575a0633"
          ],
          [
           "9fac2f9c-0e1e-4f09-8a95-ab2ca7facea6"
          ],
          [
           "839f36f0-4edd-4fe2-89cd-3e6e2ab18fe1"
          ],
          [
           "c2085e06-8cb4-42ac-bedf-2ff6d25a8828"
          ],
          [
           "87c4b593-7be4-4331-9f83-9b853cd179a6"
          ],
          [
           "76d53d88-eaa1-48fd-a4cf-5e6ff177a1b5"
          ],
          [
           "38cf4038-d954-42bf-a7a3-517fa94b816d"
          ],
          [
           "b2dba0df-7f64-4854-83e1-619482515a1a"
          ],
          [
           "5a5e9aaf-6766-4a27-85b8-68a22fbd5c44"
          ],
          [
           "7fef6055-b9c1-4dfa-9b14-c7873d8a7f93"
          ],
          [
           "305d7471-d69b-4099-86ae-2ac43cfd0700"
          ],
          [
           "8414dee2-e025-420f-82bc-d8a8d13d1a3c"
          ],
          [
           "9472d2ab-8878-442a-898b-1ea4ec6b59d2"
          ],
          [
           "60e41e0e-a3f6-4364-8693-23dcb60b0c39"
          ],
          [
           "aced4d7e-6fec-4b94-b7e3-72e1ecd3b679"
          ],
          [
           "2fba1d6a-deae-4fb3-aa8b-09d4052a29db"
          ],
          [
           "d37d0d2b-6a65-40af-b8bc-644a2d6e1d15"
          ],
          [
           "d8a1223b-16fe-4ad0-9861-382e0575a524"
          ],
          [
           "0af0bcad-a604-4d09-a1dc-d5d66db08a7d"
          ],
          [
           "cc1fa2f9-51d9-4f4e-b08f-5b2e91e235e4"
          ],
          [
           "0d6e475f-8da5-4f2a-9bd7-4eef475cfee3"
          ],
          [
           "b0636c79-399d-4d40-ab7a-4eefea3de1a0"
          ],
          [
           "89da336a-bec1-44e2-82b7-5cadc9685c04"
          ],
          [
           "3505c065-d9b0-4761-9738-47184627baef"
          ],
          [
           "1aed29e5-a057-4d61-a88d-0f08954e252c"
          ],
          [
           "c906b78f-0b1f-4806-96f2-c8c88ac962f3"
          ],
          [
           "d9e67d07-e509-450f-ac3a-876559390122"
          ],
          [
           "15351ec4-b386-4aff-85b0-310b2d363005"
          ],
          [
           "dd959a25-5121-4025-8a83-a50dd5de0e63"
          ],
          [
           "ef716e24-ef0d-4636-96d4-e502902dbb0d"
          ],
          [
           "71677425-3a99-4312-9b83-dde1aac2877a"
          ],
          [
           "64adf629-38cd-4969-934c-68aff9d935d1"
          ],
          [
           "d5555586-141c-4d91-a5e1-f1f7629634aa"
          ],
          [
           "124de90a-ecd9-4aba-9859-a91bebfc7785"
          ],
          [
           "604b844d-b5dd-4264-856c-9ba478f83407"
          ],
          [
           "fa990943-cdcb-4623-9dcd-322948289cd1"
          ],
          [
           "1b8b1808-c2e4-4b8b-9d0b-cd6f107934c9"
          ],
          [
           "c93c296a-a506-47e4-9d35-82d17550d0e4"
          ],
          [
           "aa9de3c0-42d2-44e5-8777-db3530310d83"
          ],
          [
           "e14c80c0-e8e1-4afd-b182-6d6f0a74f4e9"
          ],
          [
           "5a95fbe1-c5dc-4922-85cb-e7f8cea4d867"
          ],
          [
           "a80266f5-84b3-4ebb-9eca-75a6413d3327"
          ],
          [
           "cc5a384f-95b7-4cc8-af6a-5c856abea5be"
          ],
          [
           "99f218c2-d7b5-44c1-b33d-6cd4d6615a5b"
          ],
          [
           "7a6364e5-71a4-40a4-b50a-3d608e785021"
          ],
          [
           "d4c15a42-58db-40c6-bc33-418a569fda6d"
          ],
          [
           "be517a82-bf69-4a93-b81f-84b955213951"
          ],
          [
           "e142437c-de3a-4964-813d-a89575e155b3"
          ],
          [
           "4e65e33f-8894-47d2-813f-da8e8d3a850f"
          ],
          [
           "75578d52-a37d-4ef8-96cd-2fd145d1afdc"
          ],
          [
           "e7f370c9-0504-4111-b97f-a69ad23edb87"
          ],
          [
           "9ae2ee18-bbb8-4783-bf90-0bb308fab81c"
          ],
          [
           "d877448b-7a2b-4ec9-9801-b6b14d195c0d"
          ],
          [
           "89107a9d-3c78-4de1-aa05-13ce94e505ea"
          ],
          [
           "9cb93349-d6cf-4220-bb06-eb7addeb0622"
          ],
          [
           "f14ecf02-0b50-4ba4-8412-ac50cc32ca69"
          ],
          [
           "a03cec5f-ebd9-45d0-982f-be0c99a6b9ff"
          ],
          [
           "7bb9e999-c5f4-4295-8f87-51680f52c956"
          ],
          [
           "bebb06d7-0d13-4fba-bdf0-0cc9a515c17c"
          ],
          [
           "02113d27-5606-47d7-bd17-38b6e0340f22"
          ],
          [
           "7b562f9e-82e9-48b0-9b95-d972080f36c0"
          ],
          [
           "a18ab06f-51cc-4972-9856-aeba91a6b312"
          ],
          [
           "78e5027b-2cf1-4e83-88fe-e2498bf45e99"
          ],
          [
           "e8a8688b-88e6-4f6e-91e3-76021dc2c2a0"
          ],
          [
           "bcbf3e59-bfc7-412a-9f21-d9ba2fc24e91"
          ],
          [
           "6982aa3d-275a-4203-ad96-7bc0eb5decbd"
          ],
          [
           "74aca2c4-4062-495d-bb32-1096b91a7fb4"
          ],
          [
           "67c44c9c-c14a-49a3-882f-b3e0c148972a"
          ],
          [
           "8ea25fe3-d67d-47ab-afbc-11ba2cefd939"
          ],
          [
           "d55ba570-69b6-476e-8028-3237cb565b74"
          ],
          [
           "d978ef62-66a2-4055-8755-907533582e75"
          ],
          [
           "0a3aa37e-2464-484d-858a-9095c68813c5"
          ],
          [
           "110bc1f1-461a-4f20-abe5-9c3e8a4839af"
          ],
          [
           "3e295313-8223-44ff-94eb-8eb401828546"
          ],
          [
           "eefc4cf6-a56c-4882-be42-568862392f7f"
          ],
          [
           "6fc17e64-1549-46b7-b332-b55b91a04401"
          ],
          [
           "49394988-ebd4-4678-b330-960cd1104bc2"
          ],
          [
           "25d330a4-f293-4b34-8ab5-1ea4d6d559f2"
          ],
          [
           "c09ca625-bb78-421d-ae0f-a77b2a2b0ec0"
          ],
          [
           "2727bab7-b313-40ec-a284-40dc6dc5035d"
          ],
          [
           "dcfff5e3-ebe4-4ceb-81cc-42e1d1074983"
          ],
          [
           "792895dc-da33-41ab-b4d8-70060b618bb1"
          ],
          [
           "93248ec4-da6d-4d79-b3ae-f7f21c32cea9"
          ],
          [
           "da7c9ace-a1b7-4c6c-b031-45a8ecfbd57e"
          ],
          [
           "631389ba-2812-4c3e-997f-527a65f1e259"
          ],
          [
           "419a7d7e-5a76-42ec-9d4a-3556159db329"
          ],
          [
           "13eef679-8ab5-496f-80e0-85fa6626b5ab"
          ],
          [
           "b83f24ba-b35a-4f6e-8a0b-99c10dae8b6d"
          ],
          [
           "1aeca5c9-8f69-45ab-9e75-b35496c94713"
          ],
          [
           "beecaecf-7618-4ce3-9462-a52e8c8e5fea"
          ],
          [
           "99dcc2b0-ee18-40e8-9224-5f3c2976a443"
          ],
          [
           "247713ba-4d2b-4098-9395-dc8ee39aabdb"
          ],
          [
           "56b8815d-cf7f-4bd9-9bcf-1ff7ea2ce2b6"
          ],
          [
           "68b60613-ee35-4d30-b18e-5e3349460f4f"
          ],
          [
           "47f99d57-e92a-4b07-8267-875ba83296a8"
          ],
          [
           "aedec8cd-6779-48f6-8f31-1acbc51ddf47"
          ],
          [
           "eb8e1c9a-d923-4cef-9811-7f6f7484d755"
          ],
          [
           "0f2103ab-8bd5-4a4c-80ed-9718417493be"
          ],
          [
           "848459e9-0ad0-4ff7-a66d-c0471bdb7102"
          ],
          [
           "6f98b377-dc13-4fc1-8360-16f918a7c990"
          ],
          [
           "8e80b0fa-2d20-4259-9f06-ae5086e35c75"
          ],
          [
           "f916d037-3700-4f35-9950-0e7725c2ffb0"
          ],
          [
           "844c71c4-ed01-4cc2-aaa8-51a125828d77"
          ],
          [
           "d051bc00-4f18-41b0-bc42-739e31ec2df6"
          ],
          [
           "ca2fc157-beba-4e1e-b4d9-99a581baea4a"
          ],
          [
           "47782684-4d3a-4f8b-9819-91363d89f49c"
          ],
          [
           "4563217d-f45c-480b-8a13-59d9a0f11a03"
          ],
          [
           "2e792dd6-cb6a-48cf-b6e1-4e88fbaf15ef"
          ],
          [
           "1312c759-8474-47ac-a124-99dd270c1359"
          ],
          [
           "dbaf14de-ce34-4823-8064-4a8b43b64d70"
          ],
          [
           "b7e98a31-a1e5-482a-a52e-05b018adc5de"
          ],
          [
           "26a77c08-7585-45be-aca4-130051c63202"
          ],
          [
           "b818ce1a-c0d3-45d2-931e-44cf874fb536"
          ],
          [
           "3e18d75e-f3b5-41f4-8938-a66b6488b847"
          ],
          [
           "83742962-3e28-47ed-8014-1a29df947d2d"
          ],
          [
           "ca6bd40f-622b-4fb1-8240-4b7a6067b1ad"
          ],
          [
           "a3491453-c84e-4389-8895-55fcaae3ce9c"
          ],
          [
           "62dc9972-6fe9-4f55-a08c-5f71a514648a"
          ],
          [
           "e0574d06-f0be-40fd-ba58-a73f6b0e8d48"
          ],
          [
           "ed063a95-acc6-417b-8473-5d24637a9a49"
          ],
          [
           "e08dde63-97be-4739-823f-523861d984fc"
          ],
          [
           "c38990cd-47be-4f36-a1c4-8e605cc9c736"
          ],
          [
           "025bf059-5841-4349-9f64-00086c585b74"
          ],
          [
           "0a853697-1ff8-44fc-84db-38d848986957"
          ],
          [
           "35ad63b2-8161-471a-a067-62c77f5120b2"
          ],
          [
           "81c2d32a-845d-4a98-925d-cb2e1af2ce68"
          ],
          [
           "9bcd6ff7-82e0-4035-842e-4ed51ef3c2f7"
          ],
          [
           "b96e8f25-3c54-4f90-91ac-1bfdcac73874"
          ],
          [
           "5e2997f1-03b7-4c79-866e-95ca70909066"
          ],
          [
           "047ed220-5b99-4ea6-8e9a-4c91db40fb52"
          ],
          [
           "b3e88fd3-73c3-4ce1-a035-118adc67ec5a"
          ],
          [
           "4b0af827-13e3-4e62-83b4-21655b3ce8a7"
          ],
          [
           "ea97f3e6-ca72-46ea-8566-f3e541276ee5"
          ],
          [
           "3f5d91fc-ac64-443a-b8d5-06ebd7fff7c6"
          ],
          [
           "3b39d8f8-4fcd-4fd1-81a8-40e8117a53f8"
          ],
          [
           "a4dbe725-e2da-468a-ad52-bd1d76c46252"
          ],
          [
           "4289d62b-b094-4b96-9f57-589b8f9a8e81"
          ],
          [
           "0e07241d-295d-403e-bf78-9b89bb4dbd2c"
          ],
          [
           "0a9549a7-fb7c-42ae-8321-091469cbeeb1"
          ],
          [
           "dedb9959-1c25-4a8f-a5df-48f1fd3a3187"
          ],
          [
           "e81678ba-115f-4a54-bdc7-50fbf0582e22"
          ],
          [
           "dfb0bff4-f6b0-43f4-a5a2-58e2dacd8898"
          ],
          [
           "d5d97260-7279-42e2-b943-228c63c39b93"
          ],
          [
           "6878035c-9dac-4181-a78a-165cd93eef3e"
          ],
          [
           "d858686b-7909-447e-8700-3f517f9545b7"
          ],
          [
           "78dea0db-1e07-4ffd-9c88-4ddcdb47f961"
          ],
          [
           "02fa0c31-0867-4937-ade5-2d8cd7c83ac2"
          ],
          [
           "c8b74f3e-4d7b-44dd-a854-512d03152c4d"
          ],
          [
           "addf6994-4378-4c76-bdb7-afb59ba24be1"
          ],
          [
           "0a75c473-3b9d-46c9-a37b-23ec27d48e74"
          ],
          [
           "9f7447f4-3927-4fe4-96e1-569531830692"
          ],
          [
           "555da0b4-3320-4584-b68f-1b2219659c47"
          ],
          [
           "74b5e4ad-2d28-4c63-a1d8-646bebc9c651"
          ],
          [
           "e22870b9-134e-44ca-8a03-24f99cfc8436"
          ],
          [
           "4d9cabd3-6cb7-4e33-8bf9-1d1688742e92"
          ],
          [
           "4387618d-d91a-4f2d-adac-7ec8a8a67c24"
          ],
          [
           "99ca01ac-d9b9-493e-9621-0f277797ae1d"
          ],
          [
           "89a6a75b-187b-4a52-becc-06719cf6a21a"
          ],
          [
           "15bfa255-6518-4a70-b777-868e7ce832cc"
          ],
          [
           "c6305eee-eb3d-4624-a09e-9d3b39b75e96"
          ],
          [
           "d1122251-5fed-4a7b-9b9f-562eeec2386c"
          ],
          [
           "73e9d89b-c41d-436d-8f0b-840837fe25a2"
          ],
          [
           "d635e7ba-8133-4998-aeb1-6f64f4259483"
          ],
          [
           "151406c1-df93-4dd1-8188-44743568cdf5"
          ],
          [
           "8049a960-e7c4-4445-8ebc-ab876a8a8554"
          ],
          [
           "416f5c81-10e1-4834-bfbc-de70a847862d"
          ],
          [
           "dcd764b0-9d04-440d-a976-da16ce8653ad"
          ],
          [
           "15e390d2-5965-4cfd-b0f8-b8f5d48f1534"
          ],
          [
           "a57955f3-24c0-40d5-9fef-70bee29b44cb"
          ],
          [
           "6b9d72ec-19f1-4353-84f3-822525248101"
          ],
          [
           "2a154d56-5156-4d94-9462-cda25cea5936"
          ],
          [
           "a091676c-ef43-4b71-8335-4d1b927c3872"
          ],
          [
           "b53c12bf-e5f8-459a-a260-66549a6c5929"
          ],
          [
           "3863ef5a-54b4-458f-a3dc-93407fbb6926"
          ],
          [
           "7b8c9980-8e03-428e-a05f-1793d1aab1b1"
          ],
          [
           "a2d851b3-83ff-420a-b98d-0ffbb3048f40"
          ],
          [
           "fd67d9d3-a11c-4bcf-b316-43acf452c10c"
          ],
          [
           "01df1a67-3247-4131-9340-0d0ede890dca"
          ],
          [
           "8f436c73-3da7-4e24-87b1-e6eb8050ce41"
          ],
          [
           "d3a8de80-1550-4b15-8400-f3c72fdc97de"
          ],
          [
           "51e46ec3-7be9-4e10-b476-b80817a3979e"
          ],
          [
           "4df7d81f-d2d6-4e1a-b58f-bfaf69d89f75"
          ],
          [
           "5aef4156-277c-4ec3-915a-60f38bb8978f"
          ],
          [
           "f24b5472-8364-4a9e-ae5f-209b1830f928"
          ],
          [
           "8dea741c-c161-4a73-aafe-dd1c9db00582"
          ],
          [
           "01ae4556-8bb2-46d6-a20c-07b1bda0bd03"
          ],
          [
           "35eacf3a-bab1-434e-a7ff-48a7f526ab98"
          ],
          [
           "b1758466-0ac1-470e-8131-d05c294acf46"
          ]
         ],
         "hovertemplate": "Entity Type=<br>UMAP1=%{x}<br>UMAP2=%{y}<br>UMAP3=%{z}<br>hover_data_0=%{customdata[0]}<extra></extra>",
         "legendgroup": "",
         "marker": {
          "color": "#EF553B",
          "line": {
           "color": "white",
           "width": 0.5
          },
          "size": 3,
          "symbol": "circle"
         },
         "mode": "markers",
         "name": "",
         "scene": "scene",
         "showlegend": false,
         "type": "scatter3d",
         "x": [
          15.045114,
          2.150605,
          5.967386,
          2.2620113,
          5.824033,
          16.158138,
          14.92891,
          1.8122838,
          14.925601,
          5.9463882,
          -6.385058,
          14.839956,
          2.06624,
          15.127091,
          14.986582,
          6.096033,
          5.9860964,
          16.319668,
          5.6950893,
          6.0082197,
          15.079497,
          14.900949,
          14.993954,
          14.682871,
          0.50596833,
          -6.323395,
          5.955588,
          5.7939653,
          5.9266357,
          14.902941,
          5.6686935,
          14.632518,
          14.834917,
          16.132193,
          15.146407,
          -6.3763013,
          16.103226,
          16.307034,
          15.224054,
          15.085365,
          16.131746,
          14.776052,
          16.201874,
          16.398327,
          5.874266,
          5.7422566,
          5.7934327,
          5.8013,
          16.26059,
          5.496884,
          5.6304593,
          15.007075,
          14.994602,
          16.212612,
          16.253086,
          5.8072796,
          15.10585,
          15.28565,
          16.295216,
          0.45645678,
          14.977573,
          16.285635,
          5.8901615,
          15.160386,
          5.8042936,
          16.212065,
          5.886021,
          5.646571,
          16.158918,
          16.395617,
          5.95379,
          14.941166,
          16.227222,
          5.818561,
          15.211797,
          14.838282,
          16.1819,
          5.858692,
          0.38934544,
          5.9448457,
          5.7783546,
          5.756765,
          15.088158,
          5.7081347,
          5.686994,
          15.1310835,
          15.270664,
          5.600757,
          6.0882845,
          5.8426547,
          5.654185,
          5.8940988,
          14.911292,
          5.8627234,
          5.97516,
          16.106443,
          5.8394775,
          15.131844,
          5.4805436,
          14.854761,
          5.950976,
          16.286997,
          5.901197,
          0.5224047,
          16.153982,
          16.396683,
          5.547686,
          5.486074,
          16.042702,
          5.8866324,
          5.9603186,
          5.995116,
          5.5765977,
          5.8023667,
          5.576321,
          15.008572,
          5.7413683,
          16.31975,
          14.772292,
          5.838459,
          14.831247,
          5.7020006,
          5.563316,
          5.6363387,
          5.7099795,
          15.004366,
          15.017756,
          5.67087,
          15.188664,
          2.1101878,
          14.864443,
          5.6252847,
          15.12723,
          14.990504,
          5.752955,
          5.339568,
          16.39068,
          15.036877,
          15.015286,
          16.192188,
          15.294892,
          5.748362,
          5.6006827,
          5.479993,
          5.5351005,
          15.1479225,
          16.265062,
          16.228273,
          15.100118,
          14.987319,
          16.480974,
          1.8422859,
          2.1835632,
          16.294207,
          5.5524096,
          2.2796416,
          16.380014,
          5.366452,
          5.523389,
          6.201164,
          15.10176,
          16.144878,
          15.052358,
          16.503834,
          5.3979216,
          6.135815,
          5.72548,
          5.368001,
          16.48598,
          16.317928,
          15.2967415,
          14.720164,
          14.724836,
          14.870728,
          6.073471,
          15.059886,
          15.418378,
          5.822752,
          16.405697,
          5.7198553,
          5.1425323,
          16.229208,
          5.0803413,
          15.397658,
          15.943359,
          14.745283,
          14.515044,
          5.3956647,
          5.6713395,
          6.008048,
          5.2157044,
          4.9320984,
          4.932586,
          14.683813,
          14.563715,
          2.4666471,
          4.9593186,
          15.122865,
          5.872228,
          15.972977,
          6.4948425,
          15.055905,
          4.8936276,
          16.371037,
          5.8982654,
          5.8810453,
          5.810925,
          5.4969335,
          5.4760094,
          6.0664835,
          5.3784604,
          16.369217,
          5.6308823,
          14.70304,
          5.7425766,
          5.2033606,
          5.8935966,
          16.307062,
          16.318867,
          5.71485,
          5.169092,
          2.4922473,
          5.311489,
          5.9372935,
          5.0542207,
          6.1262345,
          5.965059,
          4.979301,
          5.4953895,
          16.4737,
          5.575998,
          16.47511,
          16.32092,
          16.118052,
          16.53147,
          15.202206,
          14.413792,
          5.7921968,
          5.0237017,
          14.5260725,
          5.077718,
          5.001361,
          5.1949053,
          14.963817,
          15.234271,
          5.139067,
          0.5498721,
          5.4878016,
          5.2411194,
          2.4634745,
          2.1268053,
          5.4298477,
          14.810308,
          14.37581,
          2.158346,
          2.4610674,
          2.3786225,
          5.285213,
          2.127935,
          14.334111,
          14.492642,
          14.782724,
          5.2076,
          5.014378,
          0.5558825,
          5.4290466,
          1.8558478,
          5.3416085,
          5.3072257,
          14.907393,
          5.527987,
          5.7128134,
          5.1386538,
          5.7451153,
          14.28176,
          5.4435296,
          5.4570975,
          15.033418,
          16.417751,
          14.453389,
          0.4390118,
          0.45099363,
          2.4895318,
          0.49315932,
          5.376664,
          0.5754079,
          2.253747,
          16.47665,
          5.8382983,
          0.5523621,
          16.480701,
          0.5001437,
          0.44877142,
          5.3660808,
          0.4733618,
          5.9752336,
          14.947902,
          14.423557,
          14.57002,
          5.686844,
          5.719298,
          5.6605854,
          6.04264,
          5.493719,
          14.3637295,
          5.825128,
          6.012554,
          5.6455812,
          2.1393323,
          14.463529,
          2.0982168,
          1.9033055,
          5.988284,
          2.1162863,
          1.7875639,
          14.416558,
          1.7679197,
          5.6288056,
          1.8354415,
          14.635949,
          1.9328978,
          14.353976,
          5.8853664,
          14.795369,
          1.7816263,
          14.913138,
          14.451804,
          14.568537,
          14.715258,
          14.691865,
          14.454367,
          14.327319,
          5.0523353,
          0.41049036,
          0.5203827,
          1.9638371,
          14.675626,
          2.1816337,
          14.536828,
          14.892611,
          14.342078,
          14.937184,
          6.1111026,
          1.6529739,
          1.8712611,
          1.4601723,
          14.302858,
          14.816136,
          15.000065,
          6.410483,
          14.676773,
          14.703199,
          1.6944268,
          6.429373,
          1.7680086,
          5.8997827,
          1.7453336,
          6.4154363,
          6.4792104,
          2.6001167,
          6.4552627,
          6.4218597,
          2.000837,
          2.4303784,
          14.921323,
          0.53264385,
          1.7014707,
          2.1946878,
          15.031427,
          0.6631935,
          15.299622,
          2.5362687,
          1.7239091,
          2.3969107,
          2.225163,
          15.051833
         ],
         "y": [
          8.20976,
          17.834091,
          -0.29056466,
          17.47522,
          0.08069476,
          7.5701284,
          8.559308,
          17.474457,
          8.270866,
          -0.07702065,
          -0.35790345,
          8.235069,
          17.52225,
          8.133516,
          8.29472,
          -0.104261614,
          -0.15666993,
          7.777327,
          0.051547326,
          -0.035324696,
          8.53968,
          8.203267,
          8.330381,
          8.283286,
          -7.495977,
          -0.29650235,
          -0.281357,
          -0.031475652,
          -0.3868733,
          8.31826,
          -0.13994576,
          8.175289,
          8.167126,
          7.4490433,
          8.491007,
          -0.34914127,
          7.6921053,
          7.483178,
          8.231813,
          8.21012,
          7.751298,
          8.44515,
          7.654156,
          7.5206203,
          -0.07647585,
          -0.08931425,
          -0.29197577,
          -0.21835218,
          7.654073,
          -0.28076443,
          -0.05292237,
          8.398479,
          8.244321,
          7.7460213,
          7.609537,
          -0.3155039,
          8.43319,
          8.146737,
          7.668745,
          -7.5453477,
          8.490625,
          7.873954,
          -0.19067957,
          8.286443,
          -0.35173675,
          7.611232,
          -0.061920453,
          0.05602575,
          7.7754354,
          7.727513,
          0.25902003,
          8.394182,
          7.711276,
          -0.13264942,
          7.9936113,
          8.314329,
          7.757864,
          0.33136535,
          -7.6121187,
          0.032487143,
          -0.34446838,
          -0.2648778,
          8.25577,
          -0.27086225,
          -0.19773537,
          8.458534,
          8.264588,
          -0.1600197,
          -0.10900147,
          -0.22683117,
          -0.094154656,
          -0.071409,
          8.066333,
          0.05928602,
          -0.0044226255,
          7.579081,
          -0.2723714,
          8.247704,
          -0.08331335,
          8.366132,
          -0.01062546,
          7.5529094,
          0.03529066,
          -7.4795923,
          7.60815,
          7.7807503,
          -0.13865867,
          -0.09404688,
          7.6426907,
          0.13652529,
          0.12120194,
          0.21992476,
          -0.07111339,
          0.21703966,
          -0.23044981,
          8.315949,
          -0.076328784,
          7.6019607,
          8.492742,
          0.20685567,
          8.285225,
          0.3371796,
          0.13566938,
          0.15890333,
          0.0716877,
          8.286527,
          8.308509,
          0.46857902,
          8.21292,
          17.395319,
          8.1371565,
          -0.020373523,
          8.202495,
          8.266632,
          0.25347376,
          0.10290033,
          7.571446,
          7.9574237,
          8.072059,
          7.5838814,
          7.8778434,
          0.2892839,
          0.42640805,
          0.19277298,
          0.2841802,
          7.87008,
          7.533337,
          7.5642667,
          7.7921414,
          7.787429,
          7.729989,
          17.398428,
          17.425453,
          7.507433,
          0.42065382,
          17.388767,
          7.6366415,
          0.30847105,
          0.45189384,
          0.14574206,
          7.803187,
          7.4876046,
          7.9562736,
          7.6649995,
          0.25432244,
          -0.29322937,
          0.39673004,
          -0.1035935,
          7.667937,
          7.726903,
          7.891622,
          7.8491435,
          8.056471,
          7.9136004,
          -0.20327362,
          7.987948,
          8.319971,
          0.47353423,
          7.446824,
          0.9352413,
          -0.43985105,
          7.4998713,
          0.05464489,
          8.143073,
          7.6242766,
          8.051771,
          8.296746,
          0.9194465,
          -0.05342257,
          0.71384233,
          -0.37419686,
          0.35680276,
          0.3552931,
          8.559865,
          8.087628,
          17.594456,
          0.20662476,
          7.7574267,
          0.75523263,
          7.621259,
          0.28250277,
          7.709576,
          -0.12239571,
          7.5481215,
          0.7354483,
          0.73989606,
          -0.70413053,
          -0.64912945,
          0.88869876,
          0.49295837,
          -0.49133307,
          7.425561,
          0.71462566,
          7.9439936,
          0.74686956,
          0.5860904,
          -0.73361874,
          7.944104,
          7.918584,
          0.70299935,
          -0.41306064,
          17.655622,
          0.7642044,
          0.6616532,
          -0.11039975,
          0.56413794,
          -0.15772796,
          0.03680204,
          0.4719177,
          7.612275,
          -0.719769,
          7.8146625,
          7.9431157,
          7.837217,
          7.808357,
          7.38751,
          7.6932178,
          -0.62013763,
          0.47216034,
          7.964419,
          0.266119,
          0.40170798,
          0.39040715,
          7.3454466,
          7.584094,
          -0.21603677,
          -7.4521112,
          -0.28842065,
          -0.3864954,
          17.702307,
          17.799929,
          0.13962293,
          7.6543927,
          7.9143047,
          17.22646,
          17.452856,
          17.672316,
          -0.54681146,
          17.261784,
          7.6921954,
          7.6272874,
          7.4285665,
          0.5159351,
          -0.0028906115,
          -7.4461427,
          0.33226466,
          17.823309,
          0.25735667,
          0.24165499,
          7.5088573,
          0.56073415,
          0.31165862,
          -0.040785585,
          0.5442028,
          8.067734,
          0.4788977,
          -0.017692244,
          7.6150155,
          7.8846903,
          7.672964,
          -7.5628715,
          -7.5508957,
          17.895283,
          -7.5084977,
          -0.22780195,
          -7.4264774,
          18.018885,
          7.4762034,
          0.100594774,
          -7.449662,
          7.7912636,
          -7.5032997,
          -7.5531926,
          0.22645265,
          -7.528718,
          0.29705754,
          7.520518,
          7.6927924,
          7.7171426,
          0.5643476,
          0.14252734,
          0.3664892,
          0.4285449,
          -0.21084903,
          8.119399,
          0.39086732,
          0.050924126,
          -0.33305195,
          17.8523,
          7.727788,
          18.149998,
          17.653484,
          0.34876478,
          17.686882,
          17.505516,
          8.120942,
          17.879278,
          -0.538725,
          17.955433,
          7.602578,
          18.006748,
          8.163401,
          -0.4064205,
          8.180927,
          17.83566,
          7.885684,
          8.520043,
          7.901867,
          8.335137,
          8.055887,
          8.259571,
          8.197947,
          -0.07093619,
          -7.591584,
          -7.4825754,
          17.5548,
          8.236468,
          18.065907,
          8.591819,
          8.237509,
          8.410284,
          7.885659,
          0.28148264,
          17.609243,
          17.213963,
          17.44854,
          8.479773,
          8.5733185,
          8.459735,
          -0.06666699,
          8.649538,
          8.28772,
          17.236567,
          -0.08852133,
          17.269371,
          -0.62405473,
          17.557991,
          0.1730062,
          0.12922323,
          17.213287,
          -0.1776189,
          0.41003296,
          17.266476,
          17.371254,
          8.488794,
          -7.4695497,
          17.939224,
          17.099503,
          8.778864,
          -7.338948,
          8.434504,
          17.346827,
          17.868896,
          17.637167,
          18.104956,
          8.686291
         ],
         "z": [
          -5.9360375,
          3.0526032,
          16.154135,
          3.203331,
          15.99015,
          -4.920797,
          -5.905972,
          3.239498,
          -6.1311817,
          15.871216,
          0.2864328,
          -5.920575,
          3.2731616,
          -5.918292,
          -5.941604,
          16.061579,
          15.898102,
          -5.028701,
          15.779095,
          16.181046,
          -5.8970447,
          -5.7660384,
          -5.9700046,
          -5.861673,
          0.890258,
          0.34823948,
          16.170372,
          15.79643,
          16.094948,
          -5.745273,
          16.090267,
          -5.8969746,
          -5.9664016,
          -5.0114193,
          -6.1445603,
          0.2951948,
          -4.9926753,
          -5.1012154,
          -5.905961,
          -5.7845287,
          -4.878543,
          -6.167328,
          -5.1617184,
          -5.092289,
          16.285324,
          15.834834,
          16.438162,
          16.328735,
          -4.896892,
          16.259512,
          16.218792,
          -6.0338774,
          -5.9824624,
          -5.124225,
          -4.961113,
          16.36614,
          -6.0845256,
          -6.1094937,
          -5.0928106,
          0.9398362,
          -5.866831,
          -5.0087113,
          16.226862,
          -6.36764,
          16.219633,
          -5.2282243,
          16.119217,
          15.957414,
          -5.139951,
          -5.07469,
          16.0899,
          -5.693723,
          -5.1240926,
          16.301193,
          -6.370439,
          -6.3076425,
          -4.807142,
          16.34332,
          1.0070107,
          16.252728,
          16.3753,
          16.420475,
          -6.414143,
          16.244629,
          15.939525,
          -6.257774,
          -6.220681,
          16.183374,
          16.289312,
          16.48337,
          16.467094,
          16.40513,
          -5.988831,
          16.376114,
          16.44741,
          -5.120893,
          16.71413,
          -6.1019063,
          16.187551,
          -6.284725,
          16.423134,
          -5.0265694,
          16.661882,
          0.87378746,
          -5.1818647,
          -5.019169,
          16.465261,
          16.1028,
          -5.004206,
          16.50764,
          16.396786,
          16.48461,
          16.638186,
          16.642784,
          16.560865,
          -6.222827,
          16.68685,
          -5.127416,
          -6.390618,
          16.46102,
          -6.151759,
          16.507792,
          16.658628,
          16.408087,
          16.47192,
          -6.4660597,
          -6.4324775,
          16.461542,
          -6.079675,
          3.3648822,
          -6.2189765,
          16.577354,
          -6.412612,
          -6.5051627,
          16.62846,
          16.380077,
          -5.200611,
          -6.4400277,
          -6.421909,
          -4.9504585,
          -6.326278,
          16.629866,
          16.486162,
          16.390182,
          16.301033,
          -6.0957956,
          -4.761794,
          -5.0540853,
          -6.3666425,
          -6.121276,
          -5.2705317,
          2.9147708,
          3.1678143,
          -4.8532934,
          16.560892,
          3.010731,
          -4.7274103,
          16.293743,
          16.368008,
          16.315775,
          -6.1893024,
          -4.885806,
          -6.204551,
          -4.8856306,
          15.9765005,
          16.334856,
          15.903251,
          16.509731,
          -4.9166617,
          -4.964006,
          -6.0734415,
          -6.217549,
          -6.1738586,
          -6.419393,
          16.515007,
          -5.7073197,
          -6.0524597,
          16.016073,
          -4.9809833,
          16.360022,
          16.381065,
          -4.6677547,
          16.655947,
          -6.20633,
          -5.167157,
          -6.3687015,
          -6.0487523,
          16.237825,
          15.037163,
          16.524012,
          16.62533,
          16.532324,
          16.400759,
          -6.340041,
          -6.41919,
          3.0757542,
          16.423649,
          -5.9501944,
          16.463623,
          -4.8615766,
          15.857698,
          -6.0801992,
          16.26059,
          -5.043632,
          16.598915,
          16.098783,
          16.589159,
          16.01526,
          16.130064,
          15.353836,
          16.10659,
          -4.660746,
          16.39624,
          -6.759461,
          16.102701,
          16.591059,
          16.160658,
          -5.127559,
          -5.271656,
          16.230324,
          16.149046,
          3.1284602,
          15.999436,
          16.22371,
          16.371767,
          16.355968,
          15.413507,
          16.179539,
          16.094122,
          -5.230688,
          16.105062,
          -5.371652,
          -5.151041,
          -4.908427,
          -5.1353455,
          -6.016695,
          -6.2853994,
          15.559808,
          15.967857,
          -6.570636,
          15.810406,
          15.783837,
          16.13106,
          -6.0643992,
          -5.7817626,
          15.758666,
          0.84632105,
          15.198147,
          15.331535,
          3.2826028,
          3.126014,
          15.401307,
          -6.578826,
          -6.562458,
          3.0500648,
          2.929705,
          2.930319,
          15.630725,
          3.131489,
          -5.812107,
          -6.360221,
          -6.0609574,
          15.985272,
          15.664432,
          0.840299,
          15.419577,
          3.0547554,
          15.267232,
          15.766811,
          -5.848837,
          15.829985,
          15.39453,
          15.67602,
          15.757601,
          -6.302077,
          15.932868,
          15.689922,
          -5.7564816,
          -4.978669,
          -5.866244,
          0.95722723,
          0.94525105,
          3.0594351,
          0.90310174,
          15.751414,
          0.82080615,
          3.1019104,
          -4.9023027,
          15.314053,
          0.8437808,
          -4.948003,
          0.8957517,
          0.94739544,
          15.413468,
          0.9227692,
          15.534064,
          -5.8267636,
          -5.9932356,
          -5.929586,
          15.567403,
          15.194922,
          15.620485,
          15.663859,
          15.261831,
          -6.2525024,
          15.492306,
          15.299316,
          15.433425,
          3.621547,
          -5.6533093,
          3.0520582,
          3.4512734,
          15.611306,
          3.5798213,
          3.4938748,
          -6.1475945,
          2.5437803,
          15.591129,
          3.3942707,
          -5.3663254,
          3.1431677,
          -5.7454877,
          15.6604595,
          -5.3167286,
          3.2651632,
          -5.5867276,
          -5.745456,
          -5.6108413,
          -5.4543467,
          -5.4012156,
          -6.3905916,
          -5.6228824,
          15.83683,
          0.9856611,
          0.87554437,
          3.5704973,
          -5.4064693,
          2.998196,
          -5.928334,
          -5.5382853,
          -6.0119176,
          -5.389913,
          15.716796,
          3.3720818,
          3.322985,
          3.2747743,
          -6.288372,
          -5.4217563,
          -5.36187,
          15.80691,
          -6.0866904,
          -5.4761295,
          3.3097627,
          16.288141,
          3.0835667,
          16.306751,
          3.303726,
          16.224485,
          16.363556,
          2.9527543,
          15.933982,
          16.106613,
          2.8149087,
          2.8269448,
          -5.6127567,
          0.8634852,
          2.60032,
          2.8045273,
          -5.6364903,
          0.73294055,
          -5.665517,
          2.815637,
          2.552888,
          2.7191463,
          2.9017277,
          -5.915715
         ]
        },
        {
         "customdata": [
          [
           "ef6f9412-fbfb-44c6-87a1-6caad9080ef8"
          ],
          [
           "d595bc53-0eeb-4343-b28d-50a345ea6a20"
          ],
          [
           "0992fb4a-573c-44f8-9706-a3df7e5537e1"
          ],
          [
           "e23de37d-2255-4cf9-8837-552bd7c5726f"
          ],
          [
           "8c9a7ff0-6182-419a-a72b-55d928928bf1"
          ],
          [
           "5f5339ed-7ff5-47fb-b631-e272b0452718"
          ],
          [
           "a96a349d-d417-49e7-9ac7-59a7f363aebc"
          ],
          [
           "810500f5-48ee-45cf-8f3f-a2e607ae7127"
          ],
          [
           "f434ad14-6035-4aea-8d40-b945d5a859d4"
          ],
          [
           "38e6b35a-822d-40ff-af19-fecafb82e68e"
          ],
          [
           "0c3cdd26-b269-48ea-9057-572a317fa89d"
          ],
          [
           "bf86757b-a995-437c-a611-9e88858cb1c0"
          ],
          [
           "ee87ec4c-1862-40ae-840a-14b38c677259"
          ],
          [
           "a0c64c48-d24f-4a39-bb35-5811b67467de"
          ],
          [
           "ed561ef3-697b-4d54-abcf-6e7e7dfea706"
          ],
          [
           "d74ad6d1-da71-49b3-b373-384f6334cbb6"
          ],
          [
           "7aad50d3-5f50-4936-b184-6cacac444410"
          ],
          [
           "97bb7a3e-19d7-4284-8fd5-829b46e5dc35"
          ],
          [
           "ba0018f9-cf5b-4c93-bba1-1fb5b30388e4"
          ],
          [
           "52fe6068-2acb-441c-b3b0-80b34a983eac"
          ],
          [
           "cf43b8b9-c8fd-445e-9c2b-c1650500da15"
          ],
          [
           "f8a9aa7e-f2d2-4f1c-a4f3-1ed1c71370dd"
          ],
          [
           "5d1e4da6-d493-469b-b8af-af5fa582f2f2"
          ],
          [
           "4972cf07-614d-4bae-8b69-68022b228776"
          ],
          [
           "be3bd747-fcf5-4a29-a83d-c12389c58cdc"
          ],
          [
           "65837c43-06ce-4d9c-8f76-a26457f9805c"
          ],
          [
           "96620752-1e4b-4207-a2ce-7ab402acaee9"
          ],
          [
           "671be8bb-9dfd-4c88-807e-6fff5cd94430"
          ],
          [
           "4b165525-c166-4ebe-965b-efcb8da5e0ae"
          ],
          [
           "5fd0b825-70d2-4354-af1b-a76fd10b495c"
          ],
          [
           "a25e80d1-957c-4db3-bdc8-3e0ee9608fd5"
          ],
          [
           "58d46df5-0891-482e-97c7-dc8893c12dc6"
          ],
          [
           "d56ce398-c3ad-4e3d-830a-75d5c84c0a91"
          ],
          [
           "9a3c5860-118d-476c-b348-98eeb27d6fc9"
          ],
          [
           "7ff48423-9ccf-4a32-8cee-b876d1b3b68b"
          ],
          [
           "d52ecf30-bc41-479f-ae0f-1a14b8bdda69"
          ],
          [
           "bf78e28c-581f-442a-bd08-51bb2d3a81b4"
          ],
          [
           "b18f9d2a-7749-4445-a985-81cc94873f8a"
          ],
          [
           "6265e046-322c-4a7d-b50f-a476a2041856"
          ],
          [
           "2e90655a-58ec-4ede-b9d9-bde78c8922c4"
          ],
          [
           "e790928b-4573-4fe3-94d7-13f109edfb48"
          ],
          [
           "b0b16f50-bc0f-4703-90d0-a6dc340df4d7"
          ],
          [
           "75e08af7-befa-4632-bf96-2b47e3d92cb5"
          ],
          [
           "d2067519-fc62-44ee-ac0e-26d2b05bb3aa"
          ],
          [
           "922e95fb-e6a4-4f58-8edb-7806c3391430"
          ],
          [
           "01cb3a22-606f-45d5-877d-07ffb3c9db26"
          ],
          [
           "af737a35-deef-46d1-b634-c54ea9ab6762"
          ],
          [
           "e67c0887-f16e-4fd5-aff0-8cb5fe83c319"
          ],
          [
           "cd617a08-7286-485c-9ba7-e08d08c88916"
          ],
          [
           "715a53fe-09fc-487f-bd7c-8cd54b14588c"
          ],
          [
           "9820eaa8-fd9b-4e44-bdf8-4227312c9ab3"
          ],
          [
           "52f0a745-1b2a-4ec3-aaff-b30acd79e586"
          ],
          [
           "c51cd9bb-8a93-497b-a0ee-9b62f33a4756"
          ],
          [
           "25e65e66-d6b3-4c2a-baf1-150eaf1185f0"
          ],
          [
           "4b7eb9e0-f310-42b4-a800-ba79682d36e5"
          ],
          [
           "abe46a71-c9aa-4d19-b29a-b3f4d0711272"
          ],
          [
           "876d46dc-6cca-4391-b6c8-991a08870dd3"
          ],
          [
           "0ff89c72-f368-4a0c-8340-92b6918fa406"
          ],
          [
           "c6b4323a-cbde-456d-9866-aa74c5ec4c63"
          ],
          [
           "125045c6-bc32-4865-bf4f-43a77d10c8e9"
          ],
          [
           "a196b71b-608f-469e-8ade-6a02578ce77f"
          ],
          [
           "e1c962a3-3529-483d-8cf8-935e3d4fa76c"
          ],
          [
           "bdb03a73-da0e-4180-ac67-8a4e01fc1e52"
          ],
          [
           "7736c1dd-9635-47b1-b93f-2e4ad8545902"
          ],
          [
           "4aca5ca9-7ae7-41de-a7f7-146a45bdb2df"
          ],
          [
           "e3eb48db-84be-44a4-b30f-247b1afe98f0"
          ],
          [
           "f0234421-a828-49cf-85e0-190d306989ef"
          ],
          [
           "0bbf57ca-75c1-44be-b6fa-2996dfc9131b"
          ],
          [
           "fcbcd9df-0c1b-40d7-a314-b4ab4cdb9935"
          ],
          [
           "a52015a6-8ed7-499b-ad84-2d77896ef5b6"
          ],
          [
           "a814f7d9-6698-4a9e-9595-3e258156f14b"
          ],
          [
           "30f20892-ca46-4c38-bdb1-3f3e7b5a094d"
          ],
          [
           "d2990966-f101-4c86-88f3-cfd6712c5094"
          ],
          [
           "e423ba83-aa46-4eba-a4d7-8b5c1dc156f4"
          ],
          [
           "73760c93-704d-4535-afe4-0da12c5e2f4e"
          ],
          [
           "268168ee-0ec0-436e-ac03-d3aeb7e38336"
          ],
          [
           "b24e6abe-8d69-46af-976b-eb1bb148e5a7"
          ],
          [
           "0e12f3a1-a606-4299-864c-b3951c4ea7ae"
          ],
          [
           "f45fb47b-61af-4dbd-8ca7-5f2b469a75ef"
          ],
          [
           "41bc0ac5-3cb3-4a5c-bd06-5b082b8633e4"
          ],
          [
           "e0086f91-f2c8-4a5e-908d-743eba8c7e1f"
          ],
          [
           "052253cb-a0ad-4d45-a2fb-20ba5f2e72c1"
          ],
          [
           "9e29e1cb-8664-452f-aa92-fc6a785cee69"
          ],
          [
           "634ab18b-b7b6-4fe5-b661-fba219870752"
          ],
          [
           "8e55d2c1-f312-420d-9261-9f2e8db68d5c"
          ],
          [
           "654d120c-0420-4939-9006-0c151fa0a95a"
          ],
          [
           "06f8e673-d7e0-41a2-b2f0-dc448adce5b3"
          ],
          [
           "4f55e289-800f-4012-b518-331f1632eaac"
          ],
          [
           "b7759f7b-ed40-4b8e-b8a0-68039b9d413d"
          ],
          [
           "fa14d710-5856-41c6-a7c6-9f39fe80a5d9"
          ],
          [
           "4ca38da1-13ba-4cf3-870a-c154b6b2217b"
          ],
          [
           "13f6ae8d-67bb-4dba-a77d-e0864b53d063"
          ],
          [
           "dee79e90-d3ad-4c8e-961c-8a3c1d0cc7cb"
          ],
          [
           "22e19c59-7268-4b6a-9fe7-9e8a4cb1928b"
          ],
          [
           "6aadb57a-d27a-44cc-99b4-c82d2b2e16f2"
          ],
          [
           "f15534b6-d9e5-4316-813d-b55233dcf74b"
          ],
          [
           "a111f636-dc48-475f-b39b-1bae7177cf62"
          ],
          [
           "4e7cf58c-0ce7-4e14-9084-cf6a8db73a4c"
          ],
          [
           "c902eede-19b4-430e-a3b2-1a95048f6995"
          ],
          [
           "f1b76c1c-95e6-46d1-a7ea-004dda840933"
          ],
          [
           "d19b68e1-49c5-4a95-aeec-85be02009a92"
          ],
          [
           "3c662dde-e14b-4a32-b0c8-8cca4baaf626"
          ],
          [
           "5920d79c-17bf-4325-91d4-07e10ce43b20"
          ],
          [
           "d43233fe-c2d3-4a81-b698-810cfb8f934e"
          ],
          [
           "c031d16a-8686-44c0-bd06-7e00859f3846"
          ],
          [
           "c226b236-5567-49fe-98dc-26c65d50397a"
          ],
          [
           "26303b54-c4b1-40a7-a474-deab4915d53d"
          ],
          [
           "1fc09b73-6f51-419f-8a2b-7aa4ad8b5d31"
          ],
          [
           "f8cbd360-f440-45a7-8cb6-03135d1cde51"
          ],
          [
           "00c0b39c-db79-45f3-bfe0-97469a71d085"
          ],
          [
           "25451d5f-ba9d-4a60-aa44-2bc2dfac63a4"
          ],
          [
           "f2bc5b0e-4af2-4881-a748-4771e6f49f8b"
          ],
          [
           "28a975c6-c900-4199-9487-34c4fcf5d0bd"
          ],
          [
           "e1394769-8668-492b-ab15-2ed03d4c41d1"
          ],
          [
           "b3027e23-6f32-4afc-8917-6a5fa7134ed2"
          ],
          [
           "d6451244-6f8c-403b-8c47-026d552decc9"
          ],
          [
           "078eeadd-e677-4ff5-9300-74996699482d"
          ],
          [
           "fdbe8fcf-f1d2-4749-8afb-910dc13ba14a"
          ],
          [
           "78f5bce7-0a31-4acb-9cb7-e1f7d0c7e64b"
          ],
          [
           "01d5b33b-f714-4088-bb36-419ee4738ed1"
          ]
         ],
         "hovertemplate": "Entity Type=document<br>UMAP1=%{x}<br>UMAP2=%{y}<br>UMAP3=%{z}<br>hover_data_0=%{customdata[0]}<extra></extra>",
         "legendgroup": "document",
         "marker": {
          "color": "#00cc96",
          "line": {
           "color": "white",
           "width": 0.5
          },
          "size": 3,
          "symbol": "circle"
         },
         "mode": "markers",
         "name": "document",
         "scene": "scene",
         "showlegend": true,
         "type": "scatter3d",
         "x": [
          2.147933,
          2.1309144,
          2.067619,
          6.0470386,
          5.7833433,
          5.59021,
          5.697205,
          2.3426962,
          5.618916,
          -6.4188046,
          1.850793,
          -6.3605194,
          6.019073,
          5.7303495,
          15.032413,
          14.913076,
          5.516446,
          6.0711155,
          5.8133144,
          1.9559385,
          14.821941,
          5.6887827,
          2.156447,
          5.634584,
          5.746855,
          6.1122084,
          15.133716,
          6.107272,
          5.658774,
          6.068741,
          15.035187,
          15.095333,
          6.0733085,
          5.9989953,
          15.265116,
          6.0638633,
          5.9767504,
          5.616396,
          5.5837517,
          6.022494,
          14.692055,
          15.394708,
          15.297745,
          14.889696,
          5.788228,
          5.6808996,
          15.224801,
          5.780177,
          5.533926,
          1.836244,
          15.171541,
          5.42829,
          1.9296138,
          14.822254,
          14.88952,
          2.2024767,
          14.866589,
          5.2450204,
          14.956793,
          6.2039523,
          2.1536136,
          2.2166717,
          2.29229,
          2.3533204,
          5.7922945,
          2.3279831,
          16.264524,
          5.703292,
          15.996845,
          6.295653,
          16.265503,
          5.3525643,
          15.109265,
          5.2964005,
          5.124417,
          2.282175,
          5.4480906,
          14.76026,
          2.1163576,
          2.3586776,
          14.583712,
          2.3640242,
          4.975572,
          2.20241,
          14.243421,
          14.606764,
          14.176305,
          5.298882,
          2.325846,
          14.778048,
          5.2654176,
          14.529317,
          5.1778107,
          2.5548828,
          2.267973,
          5.721284,
          1.9087145,
          1.8951905,
          2.2249439,
          2.17461,
          5.612285,
          6.0127683,
          5.8125396,
          2.5951064,
          2.440878,
          14.937968,
          14.43595,
          6.0271335,
          14.344654,
          5.5018067,
          1.9347764,
          6.251137,
          1.8498273,
          6.435884,
          14.900333,
          1.7779952,
          1.8310065,
          14.81232,
          15.337872,
          15.374552
         ],
         "y": [
          17.676325,
          17.7556,
          17.601377,
          0.14439899,
          -0.11327294,
          -0.155987,
          0.17615159,
          17.523954,
          0.123848945,
          -0.39160705,
          17.788855,
          -0.33335078,
          -0.005092549,
          -0.17648786,
          8.202441,
          8.429632,
          -0.33447233,
          -0.19366059,
          -0.043762453,
          17.642342,
          8.53975,
          -0.4393854,
          17.532417,
          -0.34171423,
          -0.32012844,
          -0.18480466,
          8.331356,
          0.051785886,
          -0.27807617,
          0.16105466,
          8.502374,
          7.979782,
          0.06639249,
          -0.03188181,
          8.094323,
          0.12964034,
          -0.06302392,
          -0.33408326,
          -0.050205898,
          0.26413742,
          8.36091,
          8.287081,
          7.9221487,
          8.001687,
          -0.20404236,
          -0.09455557,
          8.214368,
          0.17988269,
          0.061161526,
          17.551155,
          8.001281,
          0.10968327,
          17.51031,
          7.9743485,
          8.073418,
          17.457169,
          7.7816434,
          0.22003616,
          7.997792,
          0.14882672,
          17.398315,
          17.63648,
          17.674742,
          17.760262,
          -0.010983935,
          17.315018,
          7.6032147,
          0.94448984,
          7.329941,
          -0.05795446,
          7.3809705,
          0.4735424,
          7.468049,
          0.683927,
          0.14616528,
          17.474384,
          0.785679,
          7.412525,
          17.807238,
          17.42104,
          8.191673,
          17.96992,
          0.023457829,
          17.414238,
          8.233183,
          7.438747,
          8.377034,
          0.18708582,
          17.970531,
          7.7412086,
          0.110924006,
          7.580361,
          -0.27425602,
          17.571844,
          17.722952,
          0.08582589,
          17.973503,
          18.071087,
          17.806204,
          18.005482,
          -0.14269699,
          -0.065180376,
          -0.07831196,
          17.697351,
          17.710663,
          7.645418,
          7.8678164,
          -0.28484315,
          8.528805,
          -0.26685134,
          17.73084,
          -0.5564847,
          17.338032,
          0.41441855,
          8.351407,
          17.937199,
          17.806324,
          8.66327,
          8.22554,
          8.364243
         ],
         "z": [
          3.5227714,
          3.2800345,
          3.4402854,
          15.910468,
          15.881127,
          16.095396,
          15.954842,
          3.1452243,
          15.857059,
          0.2526972,
          2.6698365,
          0.31098276,
          16.105074,
          15.77305,
          -5.7929363,
          -6.0141835,
          16.07674,
          16.073935,
          15.738745,
          3.4339142,
          -5.910692,
          16.114944,
          3.0756774,
          15.952295,
          15.9243355,
          15.814376,
          -5.824326,
          16.048096,
          15.904952,
          16.058184,
          -6.307358,
          -5.788189,
          16.261038,
          16.077131,
          -5.9693117,
          16.063766,
          16.026894,
          16.223534,
          16.274464,
          16.091936,
          -6.271128,
          -6.0770807,
          -6.0175037,
          -5.949695,
          16.545597,
          16.546513,
          -6.0984073,
          16.430687,
          16.32937,
          3.0147874,
          -6.3641067,
          16.484846,
          3.0993385,
          -6.3399034,
          -6.2105656,
          3.2159848,
          -6.315017,
          16.185658,
          -6.420159,
          16.454058,
          2.987499,
          2.9241602,
          3.198842,
          2.951025,
          16.68547,
          3.0372953,
          -5.366404,
          16.296024,
          -5.167401,
          15.39181,
          -5.271646,
          15.679532,
          -6.066915,
          16.114744,
          16.060713,
          3.1160877,
          15.680001,
          -6.297984,
          2.9455829,
          3.2781262,
          -6.724669,
          3.1639555,
          16.10133,
          3.5013363,
          -6.3119287,
          -5.8851905,
          -6.199012,
          15.474189,
          3.3851779,
          -5.788345,
          16.023409,
          -6.3071723,
          15.401115,
          3.433201,
          2.9090312,
          15.366021,
          3.1579154,
          3.3019652,
          3.522623,
          3.3429017,
          15.692083,
          15.585794,
          15.519535,
          3.01631,
          3.5931668,
          -5.592192,
          -5.845757,
          15.417915,
          -5.8036,
          15.50276,
          2.9530623,
          15.868489,
          3.452558,
          15.958053,
          -5.4111238,
          2.5379171,
          2.4758847,
          -6.1310754,
          -6.550083,
          -6.3236156
         ]
        },
        {
         "customdata": [
          [
           "4630d534-3727-4da6-8c57-6eccbc621b10"
          ],
          [
           "f7dca5fb-784c-416c-ac98-d556d6c28a4b"
          ]
         ],
         "hovertemplate": "Entity Type=api_model<br>UMAP1=%{x}<br>UMAP2=%{y}<br>UMAP3=%{z}<br>hover_data_0=%{customdata[0]}<extra></extra>",
         "legendgroup": "api_model",
         "marker": {
          "color": "#ab63fa",
          "line": {
           "color": "white",
           "width": 0.5
          },
          "size": 3,
          "symbol": "circle"
         },
         "mode": "markers",
         "name": "api_model",
         "scene": "scene",
         "showlegend": true,
         "type": "scatter3d",
         "x": [
          -6.360389,
          -6.4581237
         ],
         "y": [
          -0.33321947,
          -0.43093094
         ],
         "z": [
          0.31109285,
          0.21338971
         ]
        },
        {
         "customdata": [
          [
           "340dca8d-ebee-4d1e-8c11-6804b0b9f2c0"
          ]
         ],
         "hovertemplate": "Entity Type=training_session<br>UMAP1=%{x}<br>UMAP2=%{y}<br>UMAP3=%{z}<br>hover_data_0=%{customdata[0]}<extra></extra>",
         "legendgroup": "training_session",
         "marker": {
          "color": "#FFA15A",
          "line": {
           "color": "white",
           "width": 0.5
          },
          "size": 3,
          "symbol": "circle"
         },
         "mode": "markers",
         "name": "training_session",
         "scene": "scene",
         "showlegend": true,
         "type": "scatter3d",
         "x": [
          -6.3831673
         ],
         "y": [
          -0.35603574
         ],
         "z": [
          0.28830978
         ]
        },
        {
         "customdata": [
          [
           "c71c42ff-2f52-460f-97f8-c96b19b2e1ad"
          ],
          [
           "34a231b8-11b8-4212-aa20-242af3442284"
          ],
          [
           "717cb0b0-6baa-4f2c-b9b7-a5896b726b75"
          ],
          [
           "6cf316a2-5544-45cc-bae6-863f0fceb3ed"
          ],
          [
           "819712ce-bcce-4eb3-8ac1-47b66a9ae091"
          ],
          [
           "d8feb99d-668d-4f12-8066-0af53685916d"
          ]
         ],
         "hovertemplate": "Entity Type=recipe<br>UMAP1=%{x}<br>UMAP2=%{y}<br>UMAP3=%{z}<br>hover_data_0=%{customdata[0]}<extra></extra>",
         "legendgroup": "recipe",
         "marker": {
          "color": "#19d3f3",
          "line": {
           "color": "white",
           "width": 0.5
          },
          "size": 3,
          "symbol": "circle"
         },
         "mode": "markers",
         "name": "recipe",
         "scene": "scene",
         "showlegend": true,
         "type": "scatter3d",
         "x": [
          5.8789496,
          2.0045152,
          15.119858,
          15.15568,
          1.9595424,
          2.5907533
         ],
         "y": [
          -0.006442389,
          17.667593,
          8.682326,
          7.983235,
          17.634024,
          17.305998
         ],
         "z": [
          15.970059,
          3.0387154,
          -5.5994234,
          -5.525182,
          3.7939909,
          3.381517
         ]
        },
        {
         "customdata": [
          [
           "6b2a7ebb-7369-4a95-ac8a-cabdbd95a93e"
          ]
         ],
         "hovertemplate": "Entity Type=meal_plan<br>UMAP1=%{x}<br>UMAP2=%{y}<br>UMAP3=%{z}<br>hover_data_0=%{customdata[0]}<extra></extra>",
         "legendgroup": "meal_plan",
         "marker": {
          "color": "#FF6692",
          "line": {
           "color": "white",
           "width": 0.5
          },
          "size": 3,
          "symbol": "circle"
         },
         "mode": "markers",
         "name": "meal_plan",
         "scene": "scene",
         "showlegend": true,
         "type": "scatter3d",
         "x": [
          0.50983214
         ],
         "y": [
          -7.49215
         ],
         "z": [
          0.88637435
         ]
        }
       ],
       "layout": {
        "height": 700,
        "legend": {
         "title": {
          "text": "Entity Type"
         },
         "tracegroupgap": 0
        },
        "scene": {
         "domain": {
          "x": [
           0,
           1
          ],
          "y": [
           0,
           1
          ]
         },
         "xaxis": {
          "title": {
           "text": "UMAP Dimension 1"
          }
         },
         "yaxis": {
          "title": {
           "text": "UMAP Dimension 2"
          }
         },
         "zaxis": {
          "title": {
           "text": "UMAP Dimension 3"
          }
         }
        },
        "template": {
         "data": {
          "bar": [
           {
            "error_x": {
             "color": "#2a3f5f"
            },
            "error_y": {
             "color": "#2a3f5f"
            },
            "marker": {
             "line": {
              "color": "#E5ECF6",
              "width": 0.5
             },
             "pattern": {
              "fillmode": "overlay",
              "size": 10,
              "solidity": 0.2
             }
            },
            "type": "bar"
           }
          ],
          "barpolar": [
           {
            "marker": {
             "line": {
              "color": "#E5ECF6",
              "width": 0.5
             },
             "pattern": {
              "fillmode": "overlay",
              "size": 10,
              "solidity": 0.2
             }
            },
            "type": "barpolar"
           }
          ],
          "carpet": [
           {
            "aaxis": {
             "endlinecolor": "#2a3f5f",
             "gridcolor": "white",
             "linecolor": "white",
             "minorgridcolor": "white",
             "startlinecolor": "#2a3f5f"
            },
            "baxis": {
             "endlinecolor": "#2a3f5f",
             "gridcolor": "white",
             "linecolor": "white",
             "minorgridcolor": "white",
             "startlinecolor": "#2a3f5f"
            },
            "type": "carpet"
           }
          ],
          "choropleth": [
           {
            "colorbar": {
             "outlinewidth": 0,
             "ticks": ""
            },
            "type": "choropleth"
           }
          ],
          "contour": [
           {
            "colorbar": {
             "outlinewidth": 0,
             "ticks": ""
            },
            "colorscale": [
             [
              0,
              "#0d0887"
             ],
             [
              0.1111111111111111,
              "#46039f"
             ],
             [
              0.2222222222222222,
              "#7201a8"
             ],
             [
              0.3333333333333333,
              "#9c179e"
             ],
             [
              0.4444444444444444,
              "#bd3786"
             ],
             [
              0.5555555555555556,
              "#d8576b"
             ],
             [
              0.6666666666666666,
              "#ed7953"
             ],
             [
              0.7777777777777778,
              "#fb9f3a"
             ],
             [
              0.8888888888888888,
              "#fdca26"
             ],
             [
              1,
              "#f0f921"
             ]
            ],
            "type": "contour"
           }
          ],
          "contourcarpet": [
           {
            "colorbar": {
             "outlinewidth": 0,
             "ticks": ""
            },
            "type": "contourcarpet"
           }
          ],
          "heatmap": [
           {
            "colorbar": {
             "outlinewidth": 0,
             "ticks": ""
            },
            "colorscale": [
             [
              0,
              "#0d0887"
             ],
             [
              0.1111111111111111,
              "#46039f"
             ],
             [
              0.2222222222222222,
              "#7201a8"
             ],
             [
              0.3333333333333333,
              "#9c179e"
             ],
             [
              0.4444444444444444,
              "#bd3786"
             ],
             [
              0.5555555555555556,
              "#d8576b"
             ],
             [
              0.6666666666666666,
              "#ed7953"
             ],
             [
              0.7777777777777778,
              "#fb9f3a"
             ],
             [
              0.8888888888888888,
              "#fdca26"
             ],
             [
              1,
              "#f0f921"
             ]
            ],
            "type": "heatmap"
           }
          ],
          "heatmapgl": [
           {
            "colorbar": {
             "outlinewidth": 0,
             "ticks": ""
            },
            "colorscale": [
             [
              0,
              "#0d0887"
             ],
             [
              0.1111111111111111,
              "#46039f"
             ],
             [
              0.2222222222222222,
              "#7201a8"
             ],
             [
              0.3333333333333333,
              "#9c179e"
             ],
             [
              0.4444444444444444,
              "#bd3786"
             ],
             [
              0.5555555555555556,
              "#d8576b"
             ],
             [
              0.6666666666666666,
              "#ed7953"
             ],
             [
              0.7777777777777778,
              "#fb9f3a"
             ],
             [
              0.8888888888888888,
              "#fdca26"
             ],
             [
              1,
              "#f0f921"
             ]
            ],
            "type": "heatmapgl"
           }
          ],
          "histogram": [
           {
            "marker": {
             "pattern": {
              "fillmode": "overlay",
              "size": 10,
              "solidity": 0.2
             }
            },
            "type": "histogram"
           }
          ],
          "histogram2d": [
           {
            "colorbar": {
             "outlinewidth": 0,
             "ticks": ""
            },
            "colorscale": [
             [
              0,
              "#0d0887"
             ],
             [
              0.1111111111111111,
              "#46039f"
             ],
             [
              0.2222222222222222,
              "#7201a8"
             ],
             [
              0.3333333333333333,
              "#9c179e"
             ],
             [
              0.4444444444444444,
              "#bd3786"
             ],
             [
              0.5555555555555556,
              "#d8576b"
             ],
             [
              0.6666666666666666,
              "#ed7953"
             ],
             [
              0.7777777777777778,
              "#fb9f3a"
             ],
             [
              0.8888888888888888,
              "#fdca26"
             ],
             [
              1,
              "#f0f921"
             ]
            ],
            "type": "histogram2d"
           }
          ],
          "histogram2dcontour": [
           {
            "colorbar": {
             "outlinewidth": 0,
             "ticks": ""
            },
            "colorscale": [
             [
              0,
              "#0d0887"
             ],
             [
              0.1111111111111111,
              "#46039f"
             ],
             [
              0.2222222222222222,
              "#7201a8"
             ],
             [
              0.3333333333333333,
              "#9c179e"
             ],
             [
              0.4444444444444444,
              "#bd3786"
             ],
             [
              0.5555555555555556,
              "#d8576b"
             ],
             [
              0.6666666666666666,
              "#ed7953"
             ],
             [
              0.7777777777777778,
              "#fb9f3a"
             ],
             [
              0.8888888888888888,
              "#fdca26"
             ],
             [
              1,
              "#f0f921"
             ]
            ],
            "type": "histogram2dcontour"
           }
          ],
          "mesh3d": [
           {
            "colorbar": {
             "outlinewidth": 0,
             "ticks": ""
            },
            "type": "mesh3d"
           }
          ],
          "parcoords": [
           {
            "line": {
             "colorbar": {
              "outlinewidth": 0,
              "ticks": ""
             }
            },
            "type": "parcoords"
           }
          ],
          "pie": [
           {
            "automargin": true,
            "type": "pie"
           }
          ],
          "scatter": [
           {
            "fillpattern": {
             "fillmode": "overlay",
             "size": 10,
             "solidity": 0.2
            },
            "type": "scatter"
           }
          ],
          "scatter3d": [
           {
            "line": {
             "colorbar": {
              "outlinewidth": 0,
              "ticks": ""
             }
            },
            "marker": {
             "colorbar": {
              "outlinewidth": 0,
              "ticks": ""
             }
            },
            "type": "scatter3d"
           }
          ],
          "scattercarpet": [
           {
            "marker": {
             "colorbar": {
              "outlinewidth": 0,
              "ticks": ""
             }
            },
            "type": "scattercarpet"
           }
          ],
          "scattergeo": [
           {
            "marker": {
             "colorbar": {
              "outlinewidth": 0,
              "ticks": ""
             }
            },
            "type": "scattergeo"
           }
          ],
          "scattergl": [
           {
            "marker": {
             "colorbar": {
              "outlinewidth": 0,
              "ticks": ""
             }
            },
            "type": "scattergl"
           }
          ],
          "scattermapbox": [
           {
            "marker": {
             "colorbar": {
              "outlinewidth": 0,
              "ticks": ""
             }
            },
            "type": "scattermapbox"
           }
          ],
          "scatterpolar": [
           {
            "marker": {
             "colorbar": {
              "outlinewidth": 0,
              "ticks": ""
             }
            },
            "type": "scatterpolar"
           }
          ],
          "scatterpolargl": [
           {
            "marker": {
             "colorbar": {
              "outlinewidth": 0,
              "ticks": ""
             }
            },
            "type": "scatterpolargl"
           }
          ],
          "scatterternary": [
           {
            "marker": {
             "colorbar": {
              "outlinewidth": 0,
              "ticks": ""
             }
            },
            "type": "scatterternary"
           }
          ],
          "surface": [
           {
            "colorbar": {
             "outlinewidth": 0,
             "ticks": ""
            },
            "colorscale": [
             [
              0,
              "#0d0887"
             ],
             [
              0.1111111111111111,
              "#46039f"
             ],
             [
              0.2222222222222222,
              "#7201a8"
             ],
             [
              0.3333333333333333,
              "#9c179e"
             ],
             [
              0.4444444444444444,
              "#bd3786"
             ],
             [
              0.5555555555555556,
              "#d8576b"
             ],
             [
              0.6666666666666666,
              "#ed7953"
             ],
             [
              0.7777777777777778,
              "#fb9f3a"
             ],
             [
              0.8888888888888888,
              "#fdca26"
             ],
             [
              1,
              "#f0f921"
             ]
            ],
            "type": "surface"
           }
          ],
          "table": [
           {
            "cells": {
             "fill": {
              "color": "#EBF0F8"
             },
             "line": {
              "color": "white"
             }
            },
            "header": {
             "fill": {
              "color": "#C8D4E3"
             },
             "line": {
              "color": "white"
             }
            },
            "type": "table"
           }
          ]
         },
         "layout": {
          "annotationdefaults": {
           "arrowcolor": "#2a3f5f",
           "arrowhead": 0,
           "arrowwidth": 1
          },
          "autotypenumbers": "strict",
          "coloraxis": {
           "colorbar": {
            "outlinewidth": 0,
            "ticks": ""
           }
          },
          "colorscale": {
           "diverging": [
            [
             0,
             "#8e0152"
            ],
            [
             0.1,
             "#c51b7d"
            ],
            [
             0.2,
             "#de77ae"
            ],
            [
             0.3,
             "#f1b6da"
            ],
            [
             0.4,
             "#fde0ef"
            ],
            [
             0.5,
             "#f7f7f7"
            ],
            [
             0.6,
             "#e6f5d0"
            ],
            [
             0.7,
             "#b8e186"
            ],
            [
             0.8,
             "#7fbc41"
            ],
            [
             0.9,
             "#4d9221"
            ],
            [
             1,
             "#276419"
            ]
           ],
           "sequential": [
            [
             0,
             "#0d0887"
            ],
            [
             0.1111111111111111,
             "#46039f"
            ],
            [
             0.2222222222222222,
             "#7201a8"
            ],
            [
             0.3333333333333333,
             "#9c179e"
            ],
            [
             0.4444444444444444,
             "#bd3786"
            ],
            [
             0.5555555555555556,
             "#d8576b"
            ],
            [
             0.6666666666666666,
             "#ed7953"
            ],
            [
             0.7777777777777778,
             "#fb9f3a"
            ],
            [
             0.8888888888888888,
             "#fdca26"
            ],
            [
             1,
             "#f0f921"
            ]
           ],
           "sequentialminus": [
            [
             0,
             "#0d0887"
            ],
            [
             0.1111111111111111,
             "#46039f"
            ],
            [
             0.2222222222222222,
             "#7201a8"
            ],
            [
             0.3333333333333333,
             "#9c179e"
            ],
            [
             0.4444444444444444,
             "#bd3786"
            ],
            [
             0.5555555555555556,
             "#d8576b"
            ],
            [
             0.6666666666666666,
             "#ed7953"
            ],
            [
             0.7777777777777778,
             "#fb9f3a"
            ],
            [
             0.8888888888888888,
             "#fdca26"
            ],
            [
             1,
             "#f0f921"
            ]
           ]
          },
          "colorway": [
           "#636efa",
           "#EF553B",
           "#00cc96",
           "#ab63fa",
           "#FFA15A",
           "#19d3f3",
           "#FF6692",
           "#B6E880",
           "#FF97FF",
           "#FECB52"
          ],
          "font": {
           "color": "#2a3f5f"
          },
          "geo": {
           "bgcolor": "white",
           "lakecolor": "white",
           "landcolor": "#E5ECF6",
           "showlakes": true,
           "showland": true,
           "subunitcolor": "white"
          },
          "hoverlabel": {
           "align": "left"
          },
          "hovermode": "closest",
          "mapbox": {
           "style": "light"
          },
          "paper_bgcolor": "white",
          "plot_bgcolor": "#E5ECF6",
          "polar": {
           "angularaxis": {
            "gridcolor": "white",
            "linecolor": "white",
            "ticks": ""
           },
           "bgcolor": "#E5ECF6",
           "radialaxis": {
            "gridcolor": "white",
            "linecolor": "white",
            "ticks": ""
           }
          },
          "scene": {
           "xaxis": {
            "backgroundcolor": "#E5ECF6",
            "gridcolor": "white",
            "gridwidth": 2,
            "linecolor": "white",
            "showbackground": true,
            "ticks": "",
            "zerolinecolor": "white"
           },
           "yaxis": {
            "backgroundcolor": "#E5ECF6",
            "gridcolor": "white",
            "gridwidth": 2,
            "linecolor": "white",
            "showbackground": true,
            "ticks": "",
            "zerolinecolor": "white"
           },
           "zaxis": {
            "backgroundcolor": "#E5ECF6",
            "gridcolor": "white",
            "gridwidth": 2,
            "linecolor": "white",
            "showbackground": true,
            "ticks": "",
            "zerolinecolor": "white"
           }
          },
          "shapedefaults": {
           "line": {
            "color": "#2a3f5f"
           }
          },
          "ternary": {
           "aaxis": {
            "gridcolor": "white",
            "linecolor": "white",
            "ticks": ""
           },
           "baxis": {
            "gridcolor": "white",
            "linecolor": "white",
            "ticks": ""
           },
           "bgcolor": "#E5ECF6",
           "caxis": {
            "gridcolor": "white",
            "linecolor": "white",
            "ticks": ""
           }
          },
          "title": {
           "x": 0.05
          },
          "xaxis": {
           "automargin": true,
           "gridcolor": "white",
           "linecolor": "white",
           "ticks": "",
           "title": {
            "standoff": 15
           },
           "zerolinecolor": "white",
           "zerolinewidth": 2
          },
          "yaxis": {
           "automargin": true,
           "gridcolor": "white",
           "linecolor": "white",
           "ticks": "",
           "title": {
            "standoff": 15
           },
           "zerolinecolor": "white",
           "zerolinewidth": 2
          }
         }
        },
        "title": {
         "font": {
          "size": 16
         },
         "text": "3D UMAP: 651 Entities"
        },
        "width": 900
       }
      }
     },
     "metadata": {},
     "output_type": "display_data"
    },
    {
     "name": "stdout",
     "output_type": "stream",
     "text": [
      "✓ 3D UMAP visualization created!\n",
      "• Rotate, zoom, and explore the 3D embedding space\n",
      "• Look for clusters that might be hidden in 2D views\n",
      "• Click and drag to rotate the view\n"
     ]
    }
   ],
   "source": [
    "# 3D UMAP Visualization - Even more detail!\n",
    "print(\"Creating 3D UMAP visualization...\")\n",
    "print(\"3D can reveal structure that's hidden in 2D projections\")\n",
    "\n",
    "# Create 3D UMAP\n",
    "umap_3d = umap.UMAP(\n",
    "    n_components=3,\n",
    "    n_neighbors=15,\n",
    "    min_dist=0.1,\n",
    "    metric='cosine',\n",
    "    random_state=42\n",
    ")\n",
    "\n",
    "embeddings_umap_3d = umap_3d.fit_transform(embeddings_scaled)\n",
    "\n",
    "# Create 3D interactive plot\n",
    "fig_3d = px.scatter_3d(\n",
    "    x=embeddings_umap_3d[:, 0],\n",
    "    y=embeddings_umap_3d[:, 1], \n",
    "    z=embeddings_umap_3d[:, 2],\n",
    "    color=entity_types_array,\n",
    "    title=f'3D UMAP: {len(embeddings_umap_3d)} Entities',\n",
    "    labels={'x': 'UMAP1', 'y': 'UMAP2', 'z': 'UMAP3', 'color': 'Entity Type'},\n",
    "    hover_data=[entity_ids],\n",
    "    width=900,\n",
    "    height=700\n",
    ")\n",
    "\n",
    "fig_3d.update_traces(\n",
    "    marker_size=3,\n",
    "    marker_line_width=0.5,\n",
    "    marker_line_color='white'\n",
    ")\n",
    "\n",
    "fig_3d.update_layout(\n",
    "    title_font_size=16,\n",
    "    scene=dict(\n",
    "        xaxis_title='UMAP Dimension 1',\n",
    "        yaxis_title='UMAP Dimension 2', \n",
    "        zaxis_title='UMAP Dimension 3'\n",
    "    )\n",
    ")\n",
    "\n",
    "fig_3d.show()\n",
    "\n",
    "print(\"✓ 3D UMAP visualization created!\")\n",
    "print(\"• Rotate, zoom, and explore the 3D embedding space\")\n",
    "print(\"• Look for clusters that might be hidden in 2D views\")\n",
    "print(\"• Click and drag to rotate the view\")\n"
   ]
  },
  {
   "cell_type": "code",
   "execution_count": 20,
   "id": "7a0b5dbf",
   "metadata": {},
   "outputs": [
    {
     "name": "stdout",
     "output_type": "stream",
     "text": [
      "Creating comparison visualization of all three methods...\n"
     ]
    },
    {
     "ename": "NameError",
     "evalue": "name 'make_subplots' is not defined",
     "output_type": "error",
     "traceback": [
      "\u001b[31m---------------------------------------------------------------------------\u001b[39m",
      "\u001b[31mNameError\u001b[39m                                 Traceback (most recent call last)",
      "\u001b[36mCell\u001b[39m\u001b[36m \u001b[39m\u001b[32mIn[20]\u001b[39m\u001b[32m, line 5\u001b[39m\n\u001b[32m      2\u001b[39m \u001b[38;5;28mprint\u001b[39m(\u001b[33m\"\u001b[39m\u001b[33mCreating comparison visualization of all three methods...\u001b[39m\u001b[33m\"\u001b[39m)\n\u001b[32m      4\u001b[39m \u001b[38;5;66;03m# Create subplots for comparison\u001b[39;00m\n\u001b[32m----> \u001b[39m\u001b[32m5\u001b[39m fig_comparison = \u001b[43mmake_subplots\u001b[49m(\n\u001b[32m      6\u001b[39m     rows=\u001b[32m1\u001b[39m, cols=\u001b[32m3\u001b[39m,\n\u001b[32m      7\u001b[39m     subplot_titles=(\u001b[33m'\u001b[39m\u001b[33mPCA (Linear)\u001b[39m\u001b[33m'\u001b[39m, \u001b[33m'\u001b[39m\u001b[33mUMAP (Non-linear)\u001b[39m\u001b[33m'\u001b[39m, \u001b[33m'\u001b[39m\u001b[33mt-SNE (Local Clusters)\u001b[39m\u001b[33m'\u001b[39m),\n\u001b[32m      8\u001b[39m     horizontal_spacing=\u001b[32m0.1\u001b[39m\n\u001b[32m      9\u001b[39m )\n\u001b[32m     11\u001b[39m \u001b[38;5;66;03m# Get unique entity types for consistent coloring\u001b[39;00m\n\u001b[32m     12\u001b[39m unique_types = df_plot[\u001b[33m'\u001b[39m\u001b[33mentity_type\u001b[39m\u001b[33m'\u001b[39m].unique()\n",
      "\u001b[31mNameError\u001b[39m: name 'make_subplots' is not defined"
     ]
    }
   ],
   "source": [
    "# Side-by-Side Comparison: PCA vs UMAP vs t-SNE\n",
    "print(\"Creating comparison visualization of all three methods...\")\n",
    "\n",
    "# Create subplots for comparison\n",
    "fig_comparison = make_subplots(\n",
    "    rows=1, cols=3,\n",
    "    subplot_titles=('PCA (Linear)', 'UMAP (Non-linear)', 't-SNE (Local Clusters)'),\n",
    "    horizontal_spacing=0.1\n",
    ")\n",
    "\n",
    "# Get unique entity types for consistent coloring\n",
    "unique_types = df_plot['entity_type'].unique()\n",
    "colors = px.colors.qualitative.Set1[:len(unique_types)]\n",
    "color_map = dict(zip(unique_types, colors))\n",
    "\n",
    "# Add PCA plot\n",
    "for i, entity_type in enumerate(unique_types):\n",
    "    mask = df_plot['entity_type'] == entity_type\n",
    "    fig_comparison.add_trace(\n",
    "        go.Scatter(\n",
    "            x=df_plot[mask]['PC1'],\n",
    "            y=df_plot[mask]['PC2'],\n",
    "            mode='markers',\n",
    "            name=entity_type,\n",
    "            marker=dict(color=color_map[entity_type], size=4),\n",
    "            showlegend=(i == 0),  # Only show legend for first trace\n",
    "            legendgroup=entity_type\n",
    "        ),\n",
    "        row=1, col=1\n",
    "    )\n",
    "\n",
    "# Add UMAP plot\n",
    "for i, entity_type in enumerate(unique_types):\n",
    "    mask = df_umap['entity_type'] == entity_type\n",
    "    fig_comparison.add_trace(\n",
    "        go.Scatter(\n",
    "            x=df_umap[mask]['UMAP1'],\n",
    "            y=df_umap[mask]['UMAP2'],\n",
    "            mode='markers',\n",
    "            name=entity_type,\n",
    "            marker=dict(color=color_map[entity_type], size=4),\n",
    "            showlegend=False,\n",
    "            legendgroup=entity_type\n",
    "        ),\n",
    "        row=1, col=2\n",
    "    )\n",
    "\n",
    "# Add t-SNE plot\n",
    "for i, entity_type in enumerate(unique_types):\n",
    "    mask = df_tsne['entity_type'] == entity_type\n",
    "    fig_comparison.add_trace(\n",
    "        go.Scatter(\n",
    "            x=df_tsne[mask]['tSNE1'],\n",
    "            y=df_tsne[mask]['tSNE2'],\n",
    "            mode='markers',\n",
    "            name=entity_type,\n",
    "            marker=dict(color=color_map[entity_type], size=4),\n",
    "            showlegend=False,\n",
    "            legendgroup=entity_type\n",
    "        ),\n",
    "        row=1, col=3\n",
    "    )\n",
    "\n",
    "fig_comparison.update_layout(\n",
    "    title_text=f\"Embedding Visualization Comparison: {len(df_plot)} Entities\",\n",
    "    title_font_size=16,\n",
    "    height=500,\n",
    "    width=1200,\n",
    "    legend=dict(orientation=\"v\", yanchor=\"top\", y=1, xanchor=\"left\", x=1.01)\n",
    ")\n",
    "\n",
    "fig_comparison.show()\n",
    "\n",
    "print(\"✓ Comparison visualization created!\")\n",
    "print(\"• PCA: Shows linear relationships, preserves global structure\")\n",
    "print(\"• UMAP: Better at preserving both local and global structure\")  \n",
    "print(\"• t-SNE: Excellent at revealing tight local clusters\")\n"
   ]
  },
  {
   "cell_type": "code",
   "execution_count": null,
   "id": "63ac74ad",
   "metadata": {},
   "outputs": [],
   "source": [
    "# 3D UMAP Visualization - Even more detail!\n",
    "print(\"Creating 3D UMAP visualization...\")\n",
    "print(\"3D can reveal structure that's hidden in 2D projections\")\n",
    "\n",
    "# Create 3D UMAP\n",
    "umap_3d = umap.UMAP(\n",
    "    n_components=3,\n",
    "    n_neighbors=15,\n",
    "    min_dist=0.1,\n",
    "    metric='cosine',\n",
    "    random_state=42\n",
    ")\n",
    "\n",
    "embeddings_umap_3d = umap_3d.fit_transform(embeddings_scaled)\n",
    "\n",
    "# Create 3D interactive plot\n",
    "fig_3d = px.scatter_3d(\n",
    "    x=embeddings_umap_3d[:, 0],\n",
    "    y=embeddings_umap_3d[:, 1], \n",
    "    z=embeddings_umap_3d[:, 2],\n",
    "    color=entity_types_array,\n",
    "    title=f'3D UMAP: {len(embeddings_umap_3d)} Entities',\n",
    "    labels={'x': 'UMAP1', 'y': 'UMAP2', 'z': 'UMAP3', 'color': 'Entity Type'},\n",
    "    hover_data=[entity_ids],\n",
    "    width=900,\n",
    "    height=700\n",
    ")\n",
    "\n",
    "fig_3d.update_traces(\n",
    "    marker_size=3,\n",
    "    marker_line_width=0.5,\n",
    "    marker_line_color='white'\n",
    ")\n",
    "\n",
    "fig_3d.update_layout(\n",
    "    title_font_size=16,\n",
    "    scene=dict(\n",
    "        xaxis_title='UMAP Dimension 1',\n",
    "        yaxis_title='UMAP Dimension 2', \n",
    "        zaxis_title='UMAP Dimension 3'\n",
    "    )\n",
    ")\n",
    "\n",
    "fig_3d.show()\n",
    "\n",
    "print(\"✓ 3D UMAP visualization created!\")\n",
    "print(\"• Rotate, zoom, and explore the 3D embedding space\")\n",
    "print(\"• Look for clusters that might be hidden in 2D views\")\n",
    "print(\"• Click and drag to rotate the view\")\n"
   ]
  },
  {
   "cell_type": "code",
   "execution_count": null,
   "id": "59296735",
   "metadata": {},
   "outputs": [],
   "source": [
    "# Automatic Cluster Discovery with HDBSCAN\n",
    "print(\"Discovering clusters in the embedding space...\")\n",
    "\n",
    "try:\n",
    "    import hdbscan\n",
    "    print(\"✓ HDBSCAN available\")\n",
    "except ImportError:\n",
    "    print(\"Installing HDBSCAN for cluster discovery...\")\n",
    "    subprocess.check_call([sys.executable, \"-m\", \"pip\", \"install\", \"hdbscan\"])\n",
    "    import hdbscan\n",
    "\n",
    "# Apply HDBSCAN clustering to UMAP results\n",
    "clusterer = hdbscan.HDBSCAN(\n",
    "    min_cluster_size=5,      # Minimum cluster size\n",
    "    min_samples=3,           # Conservative clustering  \n",
    "    metric='euclidean',\n",
    "    cluster_selection_epsilon=0.0\n",
    ")\n",
    "\n",
    "cluster_labels = clusterer.fit_predict(embeddings_umap_2d)\n",
    "\n",
    "# Add cluster information to dataframe\n",
    "df_umap['cluster'] = cluster_labels\n",
    "df_umap['cluster_str'] = ['Noise' if x == -1 else f'Cluster {x}' for x in cluster_labels]\n",
    "\n",
    "# Create visualization with discovered clusters\n",
    "fig_clusters = px.scatter(\n",
    "    df_umap, \n",
    "    x='UMAP1', \n",
    "    y='UMAP2', \n",
    "    color='cluster_str',\n",
    "    symbol='entity_type',\n",
    "    title=f'UMAP + Automatic Clustering: {len(df_umap)} Entities',\n",
    "    hover_data=['entity_id', 'entity_type'],\n",
    "    width=900, \n",
    "    height=700\n",
    ")\n",
    "\n",
    "fig_clusters.update_traces(\n",
    "    marker_size=8,\n",
    "    marker_line_width=1,\n",
    "    marker_line_color='white'\n",
    ")\n",
    "\n",
    "fig_clusters.show()\n",
    "\n",
    "# Analyze clusters\n",
    "n_clusters = len(set(cluster_labels)) - (1 if -1 in cluster_labels else 0)\n",
    "n_noise = list(cluster_labels).count(-1)\n",
    "\n",
    "print(f\"✓ Cluster analysis completed!\")\n",
    "print(f\"• Discovered {n_clusters} distinct clusters\")\n",
    "print(f\"• {n_noise} entities classified as noise/outliers\")\n",
    "print(f\"• {len(cluster_labels) - n_noise} entities in clusters\")\n",
    "\n",
    "print(f\"\\n=== CLUSTER COMPOSITION ===\")\n",
    "for cluster_id in sorted(set(cluster_labels)):\n",
    "    if cluster_id == -1:\n",
    "        continue\n",
    "    mask = df_umap['cluster'] == cluster_id\n",
    "    cluster_entities = df_umap[mask]\n",
    "    entity_type_counts = cluster_entities['entity_type'].value_counts()\n",
    "    print(f\"\\nCluster {cluster_id} ({len(cluster_entities)} entities):\")\n",
    "    for entity_type, count in entity_type_counts.items():\n",
    "        percentage = (count / len(cluster_entities)) * 100\n",
    "        print(f\"  {entity_type}: {count} ({percentage:.1f}%)\")\n"
   ]
  },
  {
   "cell_type": "code",
   "execution_count": null,
   "id": "52a0d7bc",
   "metadata": {},
   "outputs": [],
   "source": [
    "# Summary and Recommendations\n",
    "print(\"=== EMBEDDING VISUALIZATION SUMMARY ===\")\n",
    "print()\n",
    "print(\"🎯 BEST VISUALIZATIONS FOR DIFFERENT PURPOSES:\")\n",
    "print()\n",
    "print(\"1. 📊 UMAP (2D Interactive) - RECOMMENDED FOR MOST CASES\")\n",
    "print(\"   • Best overall balance of local and global structure\")\n",
    "print(\"   • Interactive: hover, zoom, filter by entity type\")\n",
    "print(\"   • Good for exploring relationships between entity types\")\n",
    "print()\n",
    "print(\"2. 🔍 t-SNE - BEST FOR FINDING TIGHT CLUSTERS\")\n",
    "print(\"   • Excellent at revealing local neighborhoods\") \n",
    "print(\"   • Shows which entities are most similar to each other\")\n",
    "print(\"   • May distort global distances\")\n",
    "print()\n",
    "print(\"3. 📈 PCA - GOOD FOR LINEAR RELATIONSHIPS\")\n",
    "print(\"   • Shows linear trends and correlations\")\n",
    "print(\"   • Preserves global structure but may miss non-linear patterns\")\n",
    "print(\"   • Fast and interpretable\")\n",
    "print()\n",
    "print(\"4. 🌟 3D UMAP - BEST FOR DETAILED EXPLORATION\")\n",
    "print(\"   • Reveals structure hidden in 2D projections\")\n",
    "print(\"   • Interactive rotation and exploration\")\n",
    "print(\"   • Can show more complex relationships\")\n",
    "print()\n",
    "print(\"5. 🎯 UMAP + Clustering - BEST FOR AUTOMATIC DISCOVERY\")\n",
    "print(\"   • Automatically finds natural groupings\")\n",
    "print(\"   • Shows both entity types AND discovered clusters\")\n",
    "print(\"   • Great for finding unexpected patterns\")\n",
    "print()\n",
    "print(\"💡 KEY INSIGHTS FROM YOUR DATA:\")\n",
    "print(f\"• {len(embeddings_array)} entities successfully visualized\")\n",
    "print(f\"• {len(unique_types)} entity types with different clustering patterns\")\n",
    "print(f\"• Interactive visualizations allow deep exploration\")\n",
    "print(f\"• Clustering revealed {n_clusters} natural groupings beyond entity types\")\n",
    "print()\n",
    "print(\"🚀 NEXT STEPS YOU COULD EXPLORE:\")\n",
    "print(\"• Analyze why certain entity types cluster together\")\n",
    "print(\"• Investigate outlier entities (those far from their type clusters)\")\n",
    "print(\"• Use cluster assignments for downstream tasks\")\n",
    "print(\"• Try different UMAP parameters (n_neighbors, min_dist) for different views\")\n"
   ]
  },
  {
   "cell_type": "code",
   "execution_count": null,
   "id": "0c71262a",
   "metadata": {},
   "outputs": [],
   "source": [
    "# 3D UMAP Visualization - Even more detail!\n",
    "print(\"Creating 3D UMAP visualization...\")\n",
    "print(\"3D can reveal structure that's hidden in 2D projections\")\n",
    "\n",
    "# Create 3D UMAP\n",
    "umap_3d = umap.UMAP(\n",
    "    n_components=3,\n",
    "    n_neighbors=15,\n",
    "    min_dist=0.1,\n",
    "    metric='cosine',\n",
    "    random_state=42\n",
    ")\n",
    "\n",
    "embeddings_umap_3d = umap_3d.fit_transform(embeddings_scaled)\n",
    "\n",
    "# Create 3D interactive plot\n",
    "fig_3d = px.scatter_3d(\n",
    "    x=embeddings_umap_3d[:, 0],\n",
    "    y=embeddings_umap_3d[:, 1], \n",
    "    z=embeddings_umap_3d[:, 2],\n",
    "    color=entity_types_array,\n",
    "    title=f'3D UMAP: {len(embeddings_umap_3d)} Entities',\n",
    "    labels={'x': 'UMAP1', 'y': 'UMAP2', 'z': 'UMAP3', 'color': 'Entity Type'},\n",
    "    hover_data=[entity_ids],\n",
    "    width=900,\n",
    "    height=700\n",
    ")\n",
    "\n",
    "fig_3d.update_traces(\n",
    "    marker_size=3,\n",
    "    marker_line_width=0.5,\n",
    "    marker_line_color='white'\n",
    ")\n",
    "\n",
    "fig_3d.update_layout(\n",
    "    title_font_size=16,\n",
    "    scene=dict(\n",
    "        xaxis_title='UMAP Dimension 1',\n",
    "        yaxis_title='UMAP Dimension 2', \n",
    "        zaxis_title='UMAP Dimension 3'\n",
    "    )\n",
    ")\n",
    "\n",
    "fig_3d.show()\n",
    "\n",
    "print(\"✓ 3D UMAP visualization created!\")\n",
    "print(\"• Rotate, zoom, and explore the 3D embedding space\")\n",
    "print(\"• Look for clusters that might be hidden in 2D views\")\n",
    "print(\"• Click and drag to rotate the view\")\n"
   ]
  },
  {
   "cell_type": "code",
   "execution_count": null,
   "id": "715f9ca1",
   "metadata": {},
   "outputs": [],
   "source": []
  },
  {
   "cell_type": "code",
   "execution_count": null,
   "id": "5cc84f51",
   "metadata": {},
   "outputs": [],
   "source": []
  },
  {
   "cell_type": "code",
   "execution_count": null,
   "id": "5a65dfbc",
   "metadata": {},
   "outputs": [],
   "source": []
  }
 ],
 "metadata": {
  "kernelspec": {
   "display_name": "TradeLens",
   "language": "python",
   "name": "python3"
  },
  "language_info": {
   "codemirror_mode": {
    "name": "ipython",
    "version": 3
   },
   "file_extension": ".py",
   "mimetype": "text/x-python",
   "name": "python",
   "nbconvert_exporter": "python",
   "pygments_lexer": "ipython3",
   "version": "3.12.3"
  }
 },
 "nbformat": 4,
 "nbformat_minor": 5
}
